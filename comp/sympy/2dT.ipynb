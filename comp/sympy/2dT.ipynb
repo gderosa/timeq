{
 "cells": [
  {
   "cell_type": "code",
   "execution_count": 183,
   "metadata": {},
   "outputs": [],
   "source": [
    "from sympy import *\n",
    "from sympy.physics.matrices import mdft\n",
    "from sympy.physics.quantum import TensorProduct\n",
    "from sympy.physics.quantum.constants import hbar"
   ]
  },
  {
   "cell_type": "code",
   "execution_count": 184,
   "metadata": {},
   "outputs": [],
   "source": [
    "# Remeber this to have LaTeX rendered output in Jupyter\n",
    "init_printing()"
   ]
  },
  {
   "cell_type": "code",
   "execution_count": 196,
   "metadata": {},
   "outputs": [],
   "source": [
    "Delta = Symbol(r'\\Delta', real=True)\n",
    "Omega = Symbol(r'\\Omega', real=True)\n",
    "omega = Symbol(r'\\omega', real=True)\n",
    "psi = Symbol(r'\\psi')"
   ]
  },
  {
   "cell_type": "code",
   "execution_count": 186,
   "metadata": {},
   "outputs": [],
   "source": [
    "Delta = Rational(1,2) # 1/N, N=dimension of H_T"
   ]
  },
  {
   "cell_type": "code",
   "execution_count": 187,
   "metadata": {},
   "outputs": [],
   "source": [
    "F = mdft(2)"
   ]
  },
  {
   "cell_type": "code",
   "execution_count": 188,
   "metadata": {},
   "outputs": [],
   "source": [
    "T = (pi/omega) * Matrix([\n",
    "    [0, 0],\n",
    "    [0, Delta]\n",
    "])"
   ]
  },
  {
   "cell_type": "code",
   "execution_count": 189,
   "metadata": {},
   "outputs": [
    {
     "data": {
      "text/latex": [
       "$$\\left[\\begin{matrix}0 & 0\\\\0 & \\frac{\\pi}{2 \\omega}\\end{matrix}\\right]$$"
      ],
      "text/plain": [
       "⎡0     0    ⎤\n",
       "⎢           ⎥\n",
       "⎢      π    ⎥\n",
       "⎢0  ────────⎥\n",
       "⎣   2⋅\\omega⎦"
      ]
     },
     "execution_count": 189,
     "metadata": {},
     "output_type": "execute_result"
    }
   ],
   "source": [
    "T"
   ]
  },
  {
   "cell_type": "code",
   "execution_count": 190,
   "metadata": {},
   "outputs": [],
   "source": [
    "Omega = (omega**2/(pi*Delta**2))*F*T*(F.adjoint())"
   ]
  },
  {
   "cell_type": "code",
   "execution_count": 191,
   "metadata": {},
   "outputs": [
    {
     "data": {
      "text/latex": [
       "$$\\left[\\begin{matrix}\\omega & - \\omega\\\\- \\omega & \\omega\\end{matrix}\\right]$$"
      ],
      "text/plain": [
       "⎡\\omega   -\\omega⎤\n",
       "⎢                ⎥\n",
       "⎣-\\omega  \\omega ⎦"
      ]
     },
     "execution_count": 191,
     "metadata": {},
     "output_type": "execute_result"
    }
   ],
   "source": [
    "Omega"
   ]
  },
  {
   "cell_type": "code",
   "execution_count": 192,
   "metadata": {},
   "outputs": [],
   "source": [
    "Hs = I*hbar*omega*Matrix([\n",
    "    [0, 1],\n",
    "    [-1,0]\n",
    "])"
   ]
  },
  {
   "cell_type": "code",
   "execution_count": 193,
   "metadata": {},
   "outputs": [],
   "source": [
    "J = TensorProduct(hbar*Omega, eye(2)) + TensorProduct(eye(2), Hs)"
   ]
  },
  {
   "cell_type": "code",
   "execution_count": 194,
   "metadata": {},
   "outputs": [
    {
     "data": {
      "text/latex": [
       "$$\\left[\\begin{matrix}\\hbar \\omega & \\hbar i \\omega & - \\hbar \\omega & 0\\\\- \\hbar i \\omega & \\hbar \\omega & 0 & - \\hbar \\omega\\\\- \\hbar \\omega & 0 & \\hbar \\omega & \\hbar i \\omega\\\\0 & - \\hbar \\omega & - \\hbar i \\omega & \\hbar \\omega\\end{matrix}\\right]$$"
      ],
      "text/plain": [
       "⎡ ℏ⋅\\omega    ℏ⋅ⅈ⋅\\omega   -ℏ⋅\\omega       0     ⎤\n",
       "⎢                                                ⎥\n",
       "⎢-ℏ⋅ⅈ⋅\\omega   ℏ⋅\\omega        0       -ℏ⋅\\omega ⎥\n",
       "⎢                                                ⎥\n",
       "⎢ -ℏ⋅\\omega       0        ℏ⋅\\omega    ℏ⋅ⅈ⋅\\omega⎥\n",
       "⎢                                                ⎥\n",
       "⎣     0       -ℏ⋅\\omega   -ℏ⋅ⅈ⋅\\omega   ℏ⋅\\omega ⎦"
      ]
     },
     "execution_count": 194,
     "metadata": {},
     "output_type": "execute_result"
    }
   ],
   "source": [
    "J"
   ]
  },
  {
   "cell_type": "code",
   "execution_count": 195,
   "metadata": {},
   "outputs": [
    {
     "data": {
      "text/latex": [
       "$$\\left [ \\left ( - \\hbar \\omega, \\quad 1, \\quad \\left [ \\left[\\begin{matrix}- i\\\\1\\\\- i\\\\1\\end{matrix}\\right]\\right ]\\right ), \\quad \\left ( \\hbar \\omega, \\quad 2, \\quad \\left [ \\left[\\begin{matrix}0\\\\- i\\\\1\\\\0\\end{matrix}\\right], \\quad \\left[\\begin{matrix}i\\\\0\\\\0\\\\1\\end{matrix}\\right]\\right ]\\right ), \\quad \\left ( 3 \\hbar \\omega, \\quad 1, \\quad \\left [ \\left[\\begin{matrix}- i\\\\-1\\\\i\\\\1\\end{matrix}\\right]\\right ]\\right )\\right ]$$"
      ],
      "text/plain": [
       "⎡⎛              ⎡⎡-ⅈ⎤⎤⎞  ⎛             ⎡⎡0 ⎤  ⎡ⅈ⎤⎤⎞  ⎛               ⎡⎡-ⅈ⎤⎤⎞⎤\n",
       "⎢⎜              ⎢⎢  ⎥⎥⎟  ⎜             ⎢⎢  ⎥  ⎢ ⎥⎥⎟  ⎜               ⎢⎢  ⎥⎥⎟⎥\n",
       "⎢⎜              ⎢⎢1 ⎥⎥⎟  ⎜             ⎢⎢-ⅈ⎥  ⎢0⎥⎥⎟  ⎜               ⎢⎢-1⎥⎥⎟⎥\n",
       "⎢⎜-ℏ⋅\\omega, 1, ⎢⎢  ⎥⎥⎟, ⎜ℏ⋅\\omega, 2, ⎢⎢  ⎥, ⎢ ⎥⎥⎟, ⎜3⋅ℏ⋅\\omega, 1, ⎢⎢  ⎥⎥⎟⎥\n",
       "⎢⎜              ⎢⎢-ⅈ⎥⎥⎟  ⎜             ⎢⎢1 ⎥  ⎢0⎥⎥⎟  ⎜               ⎢⎢ⅈ ⎥⎥⎟⎥\n",
       "⎢⎜              ⎢⎢  ⎥⎥⎟  ⎜             ⎢⎢  ⎥  ⎢ ⎥⎥⎟  ⎜               ⎢⎢  ⎥⎥⎟⎥\n",
       "⎣⎝              ⎣⎣1 ⎦⎦⎠  ⎝             ⎣⎣0 ⎦  ⎣1⎦⎦⎠  ⎝               ⎣⎣1 ⎦⎦⎠⎦"
      ]
     },
     "execution_count": 195,
     "metadata": {},
     "output_type": "execute_result"
    }
   ],
   "source": [
    "J.eigenvects()"
   ]
  },
  {
   "cell_type": "markdown",
   "metadata": {},
   "source": [
    "## Comparison with ordinary QM "
   ]
  },
  {
   "cell_type": "code",
   "execution_count": 207,
   "metadata": {},
   "outputs": [],
   "source": [
    "def evolve_psi(t, t0, psi0):\n",
    "    return exp(-I*Hs*(t-t0)/hbar)*psi0"
   ]
  },
  {
   "cell_type": "code",
   "execution_count": 210,
   "metadata": {},
   "outputs": [],
   "source": [
    "def evolve_psi_correction(t, t0, eigenJ):\n",
    "    return exp(eigenJ*I*(t-t0)/hbar)"
   ]
  },
  {
   "cell_type": "code",
   "execution_count": 208,
   "metadata": {},
   "outputs": [
    {
     "data": {
      "text/latex": [
       "$$\\left[\\begin{matrix}i\\\\0\\end{matrix}\\right]$$"
      ],
      "text/plain": [
       "⎡ⅈ⎤\n",
       "⎢ ⎥\n",
       "⎣0⎦"
      ]
     },
     "execution_count": 208,
     "metadata": {},
     "output_type": "execute_result"
    }
   ],
   "source": [
    "evolve_psi(t=0, t0=0, psi0=Matrix([I,0]))"
   ]
  },
  {
   "cell_type": "code",
   "execution_count": 212,
   "metadata": {},
   "outputs": [
    {
     "data": {
      "text/latex": [
       "$$\\left[\\begin{matrix}0\\\\1\\end{matrix}\\right]$$"
      ],
      "text/plain": [
       "⎡0⎤\n",
       "⎢ ⎥\n",
       "⎣1⎦"
      ]
     },
     "execution_count": 212,
     "metadata": {},
     "output_type": "execute_result"
    }
   ],
   "source": [
    "evolve_psi(pi/(2*omega), 0, Matrix([I,0])) * evolve_psi_correction(pi/(2*omega), 0, hbar*omega)"
   ]
  },
  {
   "cell_type": "markdown",
   "metadata": {},
   "source": [
    "With the phase correction due to the non-zero eigenvalue of J, there is agreement between PW and ordinary QM."
   ]
  },
  {
   "cell_type": "code",
   "execution_count": null,
   "metadata": {},
   "outputs": [],
   "source": []
  }
 ],
 "metadata": {
  "kernelspec": {
   "display_name": "Python 3",
   "language": "python",
   "name": "python3"
  },
  "language_info": {
   "codemirror_mode": {
    "name": "ipython",
    "version": 3
   },
   "file_extension": ".py",
   "mimetype": "text/x-python",
   "name": "python",
   "nbconvert_exporter": "python",
   "pygments_lexer": "ipython3",
   "version": "3.6.5"
  }
 },
 "nbformat": 4,
 "nbformat_minor": 2
}
