{
 "cells": [
  {
   "cell_type": "code",
   "execution_count": 186,
   "metadata": {},
   "outputs": [],
   "source": [
    "from sympy import *\n",
    "from sympy.physics.matrices import mdft\n",
    "from sympy.physics.quantum import TensorProduct\n",
    "from sympy.physics.quantum.constants import hbar"
   ]
  },
  {
   "cell_type": "code",
   "execution_count": 187,
   "metadata": {},
   "outputs": [],
   "source": [
    "# Remeber this to have LaTeX rendered output in Jupyter\n",
    "init_printing()"
   ]
  },
  {
   "cell_type": "code",
   "execution_count": 188,
   "metadata": {},
   "outputs": [],
   "source": [
    "Delta = Symbol(r'\\Delta', real=True)\n",
    "Omega = Symbol(r'\\Omega', real=True)\n",
    "omega = Symbol(r'\\omega', real=True)"
   ]
  },
  {
   "cell_type": "code",
   "execution_count": 189,
   "metadata": {},
   "outputs": [],
   "source": [
    "Delta = Rational(1, 2)  # 1/N, N=dimension of H_T"
   ]
  },
  {
   "cell_type": "code",
   "execution_count": 190,
   "metadata": {},
   "outputs": [],
   "source": [
    "F = mdft(2)"
   ]
  },
  {
   "cell_type": "code",
   "execution_count": 191,
   "metadata": {},
   "outputs": [],
   "source": [
    "T = (pi/omega) * Matrix([\n",
    "    [0, 0],\n",
    "    [0, Delta]\n",
    "])"
   ]
  },
  {
   "cell_type": "code",
   "execution_count": 192,
   "metadata": {},
   "outputs": [
    {
     "data": {
      "text/latex": [
       "$$\\left[\\begin{matrix}0 & 0\\\\0 & \\frac{\\pi}{2 \\omega}\\end{matrix}\\right]$$"
      ],
      "text/plain": [
       "⎡0     0    ⎤\n",
       "⎢           ⎥\n",
       "⎢      π    ⎥\n",
       "⎢0  ────────⎥\n",
       "⎣   2⋅\\omega⎦"
      ]
     },
     "execution_count": 192,
     "metadata": {},
     "output_type": "execute_result"
    }
   ],
   "source": [
    "T"
   ]
  },
  {
   "cell_type": "code",
   "execution_count": 193,
   "metadata": {},
   "outputs": [],
   "source": [
    "Omega = (omega**2/(pi*Delta**2))*F*T*(F.adjoint())"
   ]
  },
  {
   "cell_type": "code",
   "execution_count": 194,
   "metadata": {},
   "outputs": [
    {
     "data": {
      "text/latex": [
       "$$\\left[\\begin{matrix}\\omega & - \\omega\\\\- \\omega & \\omega\\end{matrix}\\right]$$"
      ],
      "text/plain": [
       "⎡\\omega   -\\omega⎤\n",
       "⎢                ⎥\n",
       "⎣-\\omega  \\omega ⎦"
      ]
     },
     "execution_count": 194,
     "metadata": {},
     "output_type": "execute_result"
    }
   ],
   "source": [
    "Omega"
   ]
  },
  {
   "cell_type": "code",
   "execution_count": 195,
   "metadata": {},
   "outputs": [],
   "source": [
    "Hs = I*hbar*omega*Matrix([\n",
    "    [0, 1],\n",
    "    [-1,0]\n",
    "])"
   ]
  },
  {
   "cell_type": "code",
   "execution_count": 196,
   "metadata": {},
   "outputs": [],
   "source": [
    "J = TensorProduct(hbar*Omega, eye(2)) + TensorProduct(eye(2), Hs)"
   ]
  },
  {
   "cell_type": "code",
   "execution_count": 197,
   "metadata": {},
   "outputs": [
    {
     "data": {
      "text/latex": [
       "$$\\left[\\begin{matrix}\\hbar \\omega & \\hbar i \\omega & - \\hbar \\omega & 0\\\\- \\hbar i \\omega & \\hbar \\omega & 0 & - \\hbar \\omega\\\\- \\hbar \\omega & 0 & \\hbar \\omega & \\hbar i \\omega\\\\0 & - \\hbar \\omega & - \\hbar i \\omega & \\hbar \\omega\\end{matrix}\\right]$$"
      ],
      "text/plain": [
       "⎡ ℏ⋅\\omega    ℏ⋅ⅈ⋅\\omega   -ℏ⋅\\omega       0     ⎤\n",
       "⎢                                                ⎥\n",
       "⎢-ℏ⋅ⅈ⋅\\omega   ℏ⋅\\omega        0       -ℏ⋅\\omega ⎥\n",
       "⎢                                                ⎥\n",
       "⎢ -ℏ⋅\\omega       0        ℏ⋅\\omega    ℏ⋅ⅈ⋅\\omega⎥\n",
       "⎢                                                ⎥\n",
       "⎣     0       -ℏ⋅\\omega   -ℏ⋅ⅈ⋅\\omega   ℏ⋅\\omega ⎦"
      ]
     },
     "execution_count": 197,
     "metadata": {},
     "output_type": "execute_result"
    }
   ],
   "source": [
    "J"
   ]
  },
  {
   "cell_type": "code",
   "execution_count": 198,
   "metadata": {},
   "outputs": [
    {
     "data": {
      "text/latex": [
       "$$\\left [ \\left ( - \\hbar \\omega, \\quad 1, \\quad \\left [ \\left[\\begin{matrix}- i\\\\1\\\\- i\\\\1\\end{matrix}\\right]\\right ]\\right ), \\quad \\left ( \\hbar \\omega, \\quad 2, \\quad \\left [ \\left[\\begin{matrix}0\\\\- i\\\\1\\\\0\\end{matrix}\\right], \\quad \\left[\\begin{matrix}i\\\\0\\\\0\\\\1\\end{matrix}\\right]\\right ]\\right ), \\quad \\left ( 3 \\hbar \\omega, \\quad 1, \\quad \\left [ \\left[\\begin{matrix}- i\\\\-1\\\\i\\\\1\\end{matrix}\\right]\\right ]\\right )\\right ]$$"
      ],
      "text/plain": [
       "⎡⎛              ⎡⎡-ⅈ⎤⎤⎞  ⎛             ⎡⎡0 ⎤  ⎡ⅈ⎤⎤⎞  ⎛               ⎡⎡-ⅈ⎤⎤⎞⎤\n",
       "⎢⎜              ⎢⎢  ⎥⎥⎟  ⎜             ⎢⎢  ⎥  ⎢ ⎥⎥⎟  ⎜               ⎢⎢  ⎥⎥⎟⎥\n",
       "⎢⎜              ⎢⎢1 ⎥⎥⎟  ⎜             ⎢⎢-ⅈ⎥  ⎢0⎥⎥⎟  ⎜               ⎢⎢-1⎥⎥⎟⎥\n",
       "⎢⎜-ℏ⋅\\omega, 1, ⎢⎢  ⎥⎥⎟, ⎜ℏ⋅\\omega, 2, ⎢⎢  ⎥, ⎢ ⎥⎥⎟, ⎜3⋅ℏ⋅\\omega, 1, ⎢⎢  ⎥⎥⎟⎥\n",
       "⎢⎜              ⎢⎢-ⅈ⎥⎥⎟  ⎜             ⎢⎢1 ⎥  ⎢0⎥⎥⎟  ⎜               ⎢⎢ⅈ ⎥⎥⎟⎥\n",
       "⎢⎜              ⎢⎢  ⎥⎥⎟  ⎜             ⎢⎢  ⎥  ⎢ ⎥⎥⎟  ⎜               ⎢⎢  ⎥⎥⎟⎥\n",
       "⎣⎝              ⎣⎣1 ⎦⎦⎠  ⎝             ⎣⎣0 ⎦  ⎣1⎦⎦⎠  ⎝               ⎣⎣1 ⎦⎦⎠⎦"
      ]
     },
     "execution_count": 198,
     "metadata": {},
     "output_type": "execute_result"
    }
   ],
   "source": [
    "J.eigenvects()"
   ]
  }
 ],
 "metadata": {
  "kernelspec": {
   "display_name": "Python 3",
   "language": "python",
   "name": "python3"
  },
  "language_info": {
   "codemirror_mode": {
    "name": "ipython",
    "version": 3
   },
   "file_extension": ".py",
   "mimetype": "text/x-python",
   "name": "python",
   "nbconvert_exporter": "python",
   "pygments_lexer": "ipython3",
   "version": "3.6.5"
  }
 },
 "nbformat": 4,
 "nbformat_minor": 2
}
