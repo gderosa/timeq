{
 "cells": [
  {
   "cell_type": "code",
   "execution_count": 173,
   "metadata": {},
   "outputs": [],
   "source": [
    "from sympy import *\n",
    "from sympy.physics.matrices import mdft\n",
    "from sympy.physics.quantum import TensorProduct\n",
    "from sympy.physics.quantum.constants import hbar"
   ]
  },
  {
   "cell_type": "code",
   "execution_count": 174,
   "metadata": {},
   "outputs": [],
   "source": [
    "# Remeber this to have LaTeX rendered output in Jupyter\n",
    "init_printing()"
   ]
  },
  {
   "cell_type": "code",
   "execution_count": 175,
   "metadata": {},
   "outputs": [],
   "source": [
    "Delta = Symbol(r'\\Delta', real=True)\n",
    "Omega = Symbol(r'\\Omega', real=True)\n",
    "omega = Symbol(r'\\omega', real=True)"
   ]
  },
  {
   "cell_type": "code",
   "execution_count": 176,
   "metadata": {},
   "outputs": [],
   "source": [
    "Delta = Rational(1, 11)"
   ]
  },
  {
   "cell_type": "code",
   "execution_count": 177,
   "metadata": {},
   "outputs": [],
   "source": [
    "F = mdft(2)"
   ]
  },
  {
   "cell_type": "code",
   "execution_count": 178,
   "metadata": {},
   "outputs": [],
   "source": [
    "T = (pi/omega) * Matrix([\n",
    "    [0, 0],\n",
    "    [0, Delta]\n",
    "])"
   ]
  },
  {
   "cell_type": "code",
   "execution_count": 179,
   "metadata": {},
   "outputs": [
    {
     "data": {
      "text/latex": [
       "$$\\left[\\begin{matrix}0 & 0\\\\0 & \\frac{\\pi}{11 \\omega}\\end{matrix}\\right]$$"
      ],
      "text/plain": [
       "⎡0      0    ⎤\n",
       "⎢            ⎥\n",
       "⎢       π    ⎥\n",
       "⎢0  ─────────⎥\n",
       "⎣   11⋅\\omega⎦"
      ]
     },
     "execution_count": 179,
     "metadata": {},
     "output_type": "execute_result"
    }
   ],
   "source": [
    "T"
   ]
  },
  {
   "cell_type": "code",
   "execution_count": 180,
   "metadata": {},
   "outputs": [],
   "source": [
    "Omega = (omega**2/(pi*Delta**2))*F*T*(F.adjoint())"
   ]
  },
  {
   "cell_type": "code",
   "execution_count": 181,
   "metadata": {},
   "outputs": [
    {
     "data": {
      "text/latex": [
       "$$\\left[\\begin{matrix}\\frac{11 \\omega}{2} & - \\frac{11 \\omega}{2}\\\\- \\frac{11 \\omega}{2} & \\frac{11 \\omega}{2}\\end{matrix}\\right]$$"
      ],
      "text/plain": [
       "⎡ 11⋅\\omega   -11⋅\\omega ⎤\n",
       "⎢ ─────────   ───────────⎥\n",
       "⎢     2            2     ⎥\n",
       "⎢                        ⎥\n",
       "⎢-11⋅\\omega    11⋅\\omega ⎥\n",
       "⎢───────────   ───────── ⎥\n",
       "⎣     2            2     ⎦"
      ]
     },
     "execution_count": 181,
     "metadata": {},
     "output_type": "execute_result"
    }
   ],
   "source": [
    "Omega"
   ]
  },
  {
   "cell_type": "code",
   "execution_count": 182,
   "metadata": {},
   "outputs": [],
   "source": [
    "Hs = I*hbar*omega*Matrix([\n",
    "    [0, 1],\n",
    "    [-1,0]\n",
    "])"
   ]
  },
  {
   "cell_type": "code",
   "execution_count": 183,
   "metadata": {},
   "outputs": [],
   "source": [
    "J = TensorProduct(hbar*Omega, eye(2)) + TensorProduct(eye(2), Hs)"
   ]
  },
  {
   "cell_type": "code",
   "execution_count": 184,
   "metadata": {},
   "outputs": [
    {
     "data": {
      "text/latex": [
       "$$\\left[\\begin{matrix}\\frac{11 \\omega}{2} \\hbar & \\hbar i \\omega & - \\frac{11 \\omega}{2} \\hbar & 0\\\\- \\hbar i \\omega & \\frac{11 \\omega}{2} \\hbar & 0 & - \\frac{11 \\omega}{2} \\hbar\\\\- \\frac{11 \\omega}{2} \\hbar & 0 & \\frac{11 \\omega}{2} \\hbar & \\hbar i \\omega\\\\0 & - \\frac{11 \\omega}{2} \\hbar & - \\hbar i \\omega & \\frac{11 \\omega}{2} \\hbar\\end{matrix}\\right]$$"
      ],
      "text/plain": [
       "⎡ 11⋅ℏ⋅\\omega                  -11⋅ℏ⋅\\omega                ⎤\n",
       "⎢ ───────────    ℏ⋅ⅈ⋅\\omega    ─────────────        0      ⎥\n",
       "⎢      2                             2                     ⎥\n",
       "⎢                                                          ⎥\n",
       "⎢                11⋅ℏ⋅\\omega                  -11⋅ℏ⋅\\omega ⎥\n",
       "⎢ -ℏ⋅ⅈ⋅\\omega    ───────────         0        ─────────────⎥\n",
       "⎢                     2                             2      ⎥\n",
       "⎢                                                          ⎥\n",
       "⎢-11⋅ℏ⋅\\omega                   11⋅ℏ⋅\\omega                ⎥\n",
       "⎢─────────────        0         ───────────    ℏ⋅ⅈ⋅\\omega  ⎥\n",
       "⎢      2                             2                     ⎥\n",
       "⎢                                                          ⎥\n",
       "⎢               -11⋅ℏ⋅\\omega                   11⋅ℏ⋅\\omega ⎥\n",
       "⎢      0        ─────────────   -ℏ⋅ⅈ⋅\\omega    ─────────── ⎥\n",
       "⎣                     2                             2      ⎦"
      ]
     },
     "execution_count": 184,
     "metadata": {},
     "output_type": "execute_result"
    }
   ],
   "source": [
    "J"
   ]
  },
  {
   "cell_type": "code",
   "execution_count": 185,
   "metadata": {},
   "outputs": [
    {
     "data": {
      "text/latex": [
       "$$\\left [ \\left ( - \\hbar \\omega, \\quad 1, \\quad \\left [ \\left[\\begin{matrix}- i\\\\1\\\\- i\\\\1\\end{matrix}\\right]\\right ]\\right ), \\quad \\left ( \\hbar \\omega, \\quad 1, \\quad \\left [ \\left[\\begin{matrix}i\\\\1\\\\i\\\\1\\end{matrix}\\right]\\right ]\\right ), \\quad \\left ( 10 \\hbar \\omega, \\quad 1, \\quad \\left [ \\left[\\begin{matrix}i\\\\-1\\\\- i\\\\1\\end{matrix}\\right]\\right ]\\right ), \\quad \\left ( 12 \\hbar \\omega, \\quad 1, \\quad \\left [ \\left[\\begin{matrix}- i\\\\-1\\\\i\\\\1\\end{matrix}\\right]\\right ]\\right )\\right ]$$"
      ],
      "text/plain": [
       "⎡⎛              ⎡⎡-ⅈ⎤⎤⎞  ⎛             ⎡⎡ⅈ⎤⎤⎞  ⎛                ⎡⎡ⅈ ⎤⎤⎞  ⎛    \n",
       "⎢⎜              ⎢⎢  ⎥⎥⎟  ⎜             ⎢⎢ ⎥⎥⎟  ⎜                ⎢⎢  ⎥⎥⎟  ⎜    \n",
       "⎢⎜              ⎢⎢1 ⎥⎥⎟  ⎜             ⎢⎢1⎥⎥⎟  ⎜                ⎢⎢-1⎥⎥⎟  ⎜    \n",
       "⎢⎜-ℏ⋅\\omega, 1, ⎢⎢  ⎥⎥⎟, ⎜ℏ⋅\\omega, 1, ⎢⎢ ⎥⎥⎟, ⎜10⋅ℏ⋅\\omega, 1, ⎢⎢  ⎥⎥⎟, ⎜12⋅ℏ\n",
       "⎢⎜              ⎢⎢-ⅈ⎥⎥⎟  ⎜             ⎢⎢ⅈ⎥⎥⎟  ⎜                ⎢⎢-ⅈ⎥⎥⎟  ⎜    \n",
       "⎢⎜              ⎢⎢  ⎥⎥⎟  ⎜             ⎢⎢ ⎥⎥⎟  ⎜                ⎢⎢  ⎥⎥⎟  ⎜    \n",
       "⎣⎝              ⎣⎣1 ⎦⎦⎠  ⎝             ⎣⎣1⎦⎦⎠  ⎝                ⎣⎣1 ⎦⎦⎠  ⎝    \n",
       "\n",
       "            ⎡⎡-ⅈ⎤⎤⎞⎤\n",
       "            ⎢⎢  ⎥⎥⎟⎥\n",
       "            ⎢⎢-1⎥⎥⎟⎥\n",
       "⋅\\omega, 1, ⎢⎢  ⎥⎥⎟⎥\n",
       "            ⎢⎢ⅈ ⎥⎥⎟⎥\n",
       "            ⎢⎢  ⎥⎥⎟⎥\n",
       "            ⎣⎣1 ⎦⎦⎠⎦"
      ]
     },
     "execution_count": 185,
     "metadata": {},
     "output_type": "execute_result"
    }
   ],
   "source": [
    "J.eigenvects()"
   ]
  }
 ],
 "metadata": {
  "kernelspec": {
   "display_name": "Python 3",
   "language": "python",
   "name": "python3"
  },
  "language_info": {
   "codemirror_mode": {
    "name": "ipython",
    "version": 3
   },
   "file_extension": ".py",
   "mimetype": "text/x-python",
   "name": "python",
   "nbconvert_exporter": "python",
   "pygments_lexer": "ipython3",
   "version": "3.6.5"
  }
 },
 "nbformat": 4,
 "nbformat_minor": 2
}
