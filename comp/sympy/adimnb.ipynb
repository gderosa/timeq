{
 "cells": [
  {
   "cell_type": "code",
   "execution_count": 97,
   "metadata": {},
   "outputs": [],
   "source": [
    "# %load adim.py\n",
    "'''\n",
    "PW adim\n",
    "'''\n",
    "\n",
    "from sympy import *\n",
    "from sympy.abc import delta\n",
    "from sympy.physics.matrices import mdft\n",
    "from sympy.physics.quantum import TensorProduct\n",
    "\n",
    "F = mdft(2)\n",
    "\n",
    "T = Matrix([\n",
    "    [-pi/4 + pi/64, 0],\n",
    "    [0,  pi/4 + pi/64]\n",
    "])\n",
    "\n",
    "Omega = (4/pi)*F*T*(F.adjoint())\n",
    "\n",
    "Hs = I*Matrix([\n",
    "    [0, 1],\n",
    "    [-1,0]\n",
    "])\n",
    "\n",
    "J = TensorProduct(Omega, eye(2)) + TensorProduct(eye(2), Hs)\n",
    "\n",
    "\n",
    "eigensystem = J.eigenvects()\n",
    "\n",
    "eigensystem_s = Hs.eigenvects()"
   ]
  },
  {
   "cell_type": "code",
   "execution_count": 98,
   "metadata": {},
   "outputs": [
    {
     "data": {
      "text/latex": [
       "$$\\left [ \\left ( - \\frac{31}{16}, \\quad 1, \\quad \\left [ \\left[\\begin{matrix}- i\\\\1\\\\- i\\\\1\\end{matrix}\\right]\\right ]\\right ), \\quad \\left ( \\frac{1}{16}, \\quad 2, \\quad \\left [ \\left[\\begin{matrix}0\\\\- i\\\\1\\\\0\\end{matrix}\\right], \\quad \\left[\\begin{matrix}i\\\\0\\\\0\\\\1\\end{matrix}\\right]\\right ]\\right ), \\quad \\left ( \\frac{33}{16}, \\quad 1, \\quad \\left [ \\left[\\begin{matrix}- i\\\\-1\\\\i\\\\1\\end{matrix}\\right]\\right ]\\right )\\right ]$$"
      ],
      "text/plain": [
       "⎡⎛         ⎡⎡-ⅈ⎤⎤⎞  ⎛         ⎡⎡0 ⎤  ⎡ⅈ⎤⎤⎞  ⎛       ⎡⎡-ⅈ⎤⎤⎞⎤\n",
       "⎢⎜         ⎢⎢  ⎥⎥⎟  ⎜         ⎢⎢  ⎥  ⎢ ⎥⎥⎟  ⎜       ⎢⎢  ⎥⎥⎟⎥\n",
       "⎢⎜-31      ⎢⎢1 ⎥⎥⎟  ⎜         ⎢⎢-ⅈ⎥  ⎢0⎥⎥⎟  ⎜33     ⎢⎢-1⎥⎥⎟⎥\n",
       "⎢⎜────, 1, ⎢⎢  ⎥⎥⎟, ⎜1/16, 2, ⎢⎢  ⎥, ⎢ ⎥⎥⎟, ⎜──, 1, ⎢⎢  ⎥⎥⎟⎥\n",
       "⎢⎜ 16      ⎢⎢-ⅈ⎥⎥⎟  ⎜         ⎢⎢1 ⎥  ⎢0⎥⎥⎟  ⎜16     ⎢⎢ⅈ ⎥⎥⎟⎥\n",
       "⎢⎜         ⎢⎢  ⎥⎥⎟  ⎜         ⎢⎢  ⎥  ⎢ ⎥⎥⎟  ⎜       ⎢⎢  ⎥⎥⎟⎥\n",
       "⎣⎝         ⎣⎣1 ⎦⎦⎠  ⎝         ⎣⎣0 ⎦  ⎣1⎦⎦⎠  ⎝       ⎣⎣1 ⎦⎦⎠⎦"
      ]
     },
     "execution_count": 98,
     "metadata": {},
     "output_type": "execute_result"
    }
   ],
   "source": [
    "eigensystem"
   ]
  },
  {
   "cell_type": "code",
   "execution_count": 26,
   "metadata": {},
   "outputs": [
    {
     "data": {
      "text/latex": [
       "$$\\left [ \\left ( -1, \\quad 1, \\quad \\left [ \\left[\\begin{matrix}- i\\\\1\\end{matrix}\\right]\\right ]\\right ), \\quad \\left ( 1, \\quad 1, \\quad \\left [ \\left[\\begin{matrix}i\\\\1\\end{matrix}\\right]\\right ]\\right )\\right ]$$"
      ],
      "text/plain": [
       "⎡⎛       ⎡⎡-ⅈ⎤⎤⎞  ⎛      ⎡⎡ⅈ⎤⎤⎞⎤\n",
       "⎢⎜-1, 1, ⎢⎢  ⎥⎥⎟, ⎜1, 1, ⎢⎢ ⎥⎥⎟⎥\n",
       "⎣⎝       ⎣⎣1 ⎦⎦⎠  ⎝      ⎣⎣1⎦⎦⎠⎦"
      ]
     },
     "execution_count": 26,
     "metadata": {},
     "output_type": "execute_result"
    }
   ],
   "source": [
    "eigensystem_s"
   ]
  },
  {
   "cell_type": "code",
   "execution_count": 39,
   "metadata": {},
   "outputs": [],
   "source": [
    "eigenvect_s = list(map(lambda x: x[2][0].normalized(), \n",
    "                     \n",
    "                     eigensystem_s))"
   ]
  },
  {
   "cell_type": "code",
   "execution_count": 40,
   "metadata": {},
   "outputs": [
    {
     "data": {
      "text/latex": [
       "$$\\left [ \\left[\\begin{matrix}- \\frac{\\sqrt{2} i}{2}\\\\\\frac{\\sqrt{2}}{2}\\end{matrix}\\right], \\quad \\left[\\begin{matrix}\\frac{\\sqrt{2} i}{2}\\\\\\frac{\\sqrt{2}}{2}\\end{matrix}\\right]\\right ]$$"
      ],
      "text/plain": [
       "⎡⎡-√2⋅ⅈ ⎤  ⎡√2⋅ⅈ⎤⎤\n",
       "⎢⎢──────⎥  ⎢────⎥⎥\n",
       "⎢⎢  2   ⎥  ⎢ 2  ⎥⎥\n",
       "⎢⎢      ⎥, ⎢    ⎥⎥\n",
       "⎢⎢  √2  ⎥  ⎢ √2 ⎥⎥\n",
       "⎢⎢  ──  ⎥  ⎢ ── ⎥⎥\n",
       "⎣⎣  2   ⎦  ⎣ 2  ⎦⎦"
      ]
     },
     "execution_count": 40,
     "metadata": {},
     "output_type": "execute_result"
    }
   ],
   "source": [
    "eigenvect_s"
   ]
  },
  {
   "cell_type": "code",
   "execution_count": 102,
   "metadata": {},
   "outputs": [],
   "source": [
    "t = symbols('t')"
   ]
  },
  {
   "cell_type": "code",
   "execution_count": 103,
   "metadata": {},
   "outputs": [],
   "source": [
    "t0 = -pi/4 + pi/64"
   ]
  },
  {
   "cell_type": "code",
   "execution_count": 107,
   "metadata": {},
   "outputs": [],
   "source": [
    "def psi(t): return exp(-I*Hs*(t-t0))*Matrix([I,0])*exp(I*(t-t0)/16)"
   ]
  },
  {
   "cell_type": "code",
   "execution_count": 109,
   "metadata": {},
   "outputs": [
    {
     "data": {
      "text/latex": [
       "$$\\left[\\begin{matrix}0\\\\- i e^{\\frac{i \\pi}{32}}\\end{matrix}\\right]$$"
      ],
      "text/plain": [
       "⎡   0   ⎤\n",
       "⎢       ⎥\n",
       "⎢    ⅈ⋅π⎥\n",
       "⎢    ───⎥\n",
       "⎢     32⎥\n",
       "⎣-ⅈ⋅ℯ   ⎦"
      ]
     },
     "execution_count": 109,
     "metadata": {},
     "output_type": "execute_result"
    }
   ],
   "source": [
    "psi(pi/4 + pi/64)"
   ]
  },
  {
   "cell_type": "code",
   "execution_count": null,
   "metadata": {},
   "outputs": [],
   "source": []
  }
 ],
 "metadata": {
  "kernelspec": {
   "display_name": "Python 3",
   "language": "python",
   "name": "python3"
  },
  "language_info": {
   "codemirror_mode": {
    "name": "ipython",
    "version": 3
   },
   "file_extension": ".py",
   "mimetype": "text/x-python",
   "name": "python",
   "nbconvert_exporter": "python",
   "pygments_lexer": "ipython3",
   "version": "3.6.5"
  }
 },
 "nbformat": 4,
 "nbformat_minor": 2
}
