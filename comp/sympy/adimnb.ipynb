{
 "cells": [
  {
   "cell_type": "code",
   "execution_count": 2,
   "metadata": {},
   "outputs": [],
   "source": [
    "# %load adim.py\n",
    "'''\n",
    "PW adim\n",
    "'''\n",
    "\n",
    "from sympy import *\n",
    "from sympy.abc import delta\n",
    "from sympy.physics.matrices import mdft\n",
    "from sympy.physics.quantum import TensorProduct\n",
    "\n",
    "F = mdft(2)\n",
    "\n",
    "T = Matrix([\n",
    "    [-pi/4 + pi/64, 0],\n",
    "    [0,  pi/4 + pi/64]\n",
    "])\n",
    "\n",
    "Omega = (4/pi)*F*T*(F.adjoint())\n",
    "\n",
    "Hs = I*Matrix([\n",
    "    [0, 1],\n",
    "    [-1,0]\n",
    "])\n",
    "\n",
    "J = TensorProduct(Omega, eye(2)) + TensorProduct(eye(2), Hs)\n",
    "\n",
    "\n",
    "eigensystem = J.eigenvects()\n",
    "\n",
    "eigensystem_s = Hs.eigenvects()"
   ]
  },
  {
   "cell_type": "code",
   "execution_count": null,
   "metadata": {},
   "outputs": [],
   "source": []
  },
  {
   "cell_type": "code",
   "execution_count": 3,
   "metadata": {},
   "outputs": [
    {
     "data": {
      "text/plain": [
       "[(-31/16, 1, [Matrix([\n",
       "   [-I],\n",
       "   [ 1],\n",
       "   [-I],\n",
       "   [ 1]])]), (1/16, 2, [Matrix([\n",
       "   [ 0],\n",
       "   [-I],\n",
       "   [ 1],\n",
       "   [ 0]]), Matrix([\n",
       "   [I],\n",
       "   [0],\n",
       "   [0],\n",
       "   [1]])]), (33/16, 1, [Matrix([\n",
       "   [-I],\n",
       "   [-1],\n",
       "   [ I],\n",
       "   [ 1]])])]"
      ]
     },
     "execution_count": 3,
     "metadata": {},
     "output_type": "execute_result"
    }
   ],
   "source": [
    "eigensystem"
   ]
  },
  {
   "cell_type": "code",
   "execution_count": 4,
   "metadata": {},
   "outputs": [
    {
     "data": {
      "text/plain": [
       "[(-1, 1, [Matrix([\n",
       "   [-I],\n",
       "   [ 1]])]), (1, 1, [Matrix([\n",
       "   [I],\n",
       "   [1]])])]"
      ]
     },
     "execution_count": 4,
     "metadata": {},
     "output_type": "execute_result"
    }
   ],
   "source": [
    "eigensystem_s"
   ]
  },
  {
   "cell_type": "code",
   "execution_count": 5,
   "metadata": {},
   "outputs": [],
   "source": [
    "eigenvect_s = list(map(lambda x: x[2][0].normalized(), \n",
    "                     \n",
    "                     eigensystem_s))"
   ]
  },
  {
   "cell_type": "code",
   "execution_count": 6,
   "metadata": {},
   "outputs": [
    {
     "data": {
      "text/plain": [
       "[Matrix([\n",
       " [-sqrt(2)*I/2],\n",
       " [   sqrt(2)/2]]), Matrix([\n",
       " [sqrt(2)*I/2],\n",
       " [  sqrt(2)/2]])]"
      ]
     },
     "execution_count": 6,
     "metadata": {},
     "output_type": "execute_result"
    }
   ],
   "source": [
    "eigenvect_s"
   ]
  },
  {
   "cell_type": "code",
   "execution_count": 7,
   "metadata": {},
   "outputs": [],
   "source": [
    "t = symbols('t')"
   ]
  },
  {
   "cell_type": "code",
   "execution_count": 8,
   "metadata": {},
   "outputs": [],
   "source": [
    "t0 = -pi/4 + pi/64"
   ]
  },
  {
   "cell_type": "code",
   "execution_count": 9,
   "metadata": {},
   "outputs": [],
   "source": [
    "def psi(t): return exp(-I*Hs*(t-t0))*Matrix([I,0])*exp(I*(t-t0)/16)"
   ]
  },
  {
   "cell_type": "code",
   "execution_count": 10,
   "metadata": {},
   "outputs": [
    {
     "data": {
      "text/plain": [
       "Matrix([\n",
       "[              0],\n",
       "[-I*exp(I*pi/32)]])"
      ]
     },
     "execution_count": 10,
     "metadata": {},
     "output_type": "execute_result"
    }
   ],
   "source": [
    "psi(pi/4 + pi/64)"
   ]
  },
  {
   "cell_type": "code",
   "execution_count": 11,
   "metadata": {},
   "outputs": [
    {
     "data": {
      "text/plain": [
       "Matrix([\n",
       "[              0],\n",
       "[-I*exp(I*pi/32)]])"
      ]
     },
     "execution_count": 11,
     "metadata": {},
     "output_type": "execute_result"
    }
   ],
   "source": [
    "psi(pi/4 + pi/64)"
   ]
  },
  {
   "cell_type": "code",
   "execution_count": null,
   "metadata": {},
   "outputs": [],
   "source": []
  },
  {
   "cell_type": "code",
   "execution_count": null,
   "metadata": {},
   "outputs": [],
   "source": []
  },
  {
   "cell_type": "code",
   "execution_count": null,
   "metadata": {},
   "outputs": [],
   "source": []
  }
 ],
 "metadata": {
  "kernelspec": {
   "display_name": "Python 3",
   "language": "python",
   "name": "python3"
  },
  "language_info": {
   "codemirror_mode": {
    "name": "ipython",
    "version": 3
   },
   "file_extension": ".py",
   "mimetype": "text/x-python",
   "name": "python",
   "nbconvert_exporter": "python",
   "pygments_lexer": "ipython3",
   "version": "3.6.5"
  }
 },
 "nbformat": 4,
 "nbformat_minor": 2
}
