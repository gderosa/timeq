{
 "cells": [
  {
   "cell_type": "markdown",
   "metadata": {},
   "source": [
    "# Analysys of the Moreva et al. experiment"
   ]
  },
  {
   "cell_type": "markdown",
   "metadata": {},
   "source": [
    "\n",
    "\n",
    "## Preliminaries"
   ]
  },
  {
   "cell_type": "code",
   "execution_count": 4,
   "metadata": {},
   "outputs": [],
   "source": [
    "# Symbolic computation\n",
    "from sympy import *\n",
    "from sympy.physics.matrices import mdft\n",
    "from sympy.physics.quantum import TensorProduct\n",
    "from sympy.physics.quantum.constants import hbar"
   ]
  },
  {
   "cell_type": "code",
   "execution_count": 5,
   "metadata": {},
   "outputs": [],
   "source": [
    "# Remeber this to have LaTeX rendered output in Jupyter\n",
    "init_printing()"
   ]
  },
  {
   "cell_type": "markdown",
   "metadata": {},
   "source": [
    "## Computation"
   ]
  },
  {
   "cell_type": "code",
   "execution_count": 3,
   "metadata": {},
   "outputs": [],
   "source": [
    "Omega = Symbol(r'\\Omega')\n",
    "omega = Symbol(r'\\omega', real=True)"
   ]
  },
  {
   "cell_type": "code",
   "execution_count": 4,
   "metadata": {},
   "outputs": [],
   "source": [
    "F = mdft(2)"
   ]
  },
  {
   "cell_type": "code",
   "execution_count": 5,
   "metadata": {},
   "outputs": [],
   "source": [
    "Omega = I*omega*Matrix([\n",
    "    [0, 1],\n",
    "    [-1,0]\n",
    "])"
   ]
  },
  {
   "cell_type": "code",
   "execution_count": 6,
   "metadata": {},
   "outputs": [
    {
     "data": {
      "text/latex": [
       "$$\\left [ \\left ( - \\omega, \\quad 1, \\quad \\left [ \\left[\\begin{matrix}- i\\\\1\\end{matrix}\\right]\\right ]\\right ), \\quad \\left ( \\omega, \\quad 1, \\quad \\left [ \\left[\\begin{matrix}i\\\\1\\end{matrix}\\right]\\right ]\\right )\\right ]$$"
      ],
      "text/plain": [
       "⎡⎛            ⎡⎡-ⅈ⎤⎤⎞  ⎛           ⎡⎡ⅈ⎤⎤⎞⎤\n",
       "⎢⎜-\\omega, 1, ⎢⎢  ⎥⎥⎟, ⎜\\omega, 1, ⎢⎢ ⎥⎥⎟⎥\n",
       "⎣⎝            ⎣⎣1 ⎦⎦⎠  ⎝           ⎣⎣1⎦⎦⎠⎦"
      ]
     },
     "execution_count": 6,
     "metadata": {},
     "output_type": "execute_result"
    }
   ],
   "source": [
    "Omega.eigenvects()"
   ]
  },
  {
   "cell_type": "code",
   "execution_count": 7,
   "metadata": {},
   "outputs": [],
   "source": [
    "T = (pi / (2*omega)**2) * F.adjoint()*Omega*F"
   ]
  },
  {
   "cell_type": "code",
   "execution_count": 8,
   "metadata": {},
   "outputs": [
    {
     "data": {
      "text/latex": [
       "$$\\left[\\begin{matrix}0 & - \\frac{i \\pi}{4 \\omega}\\\\\\frac{i \\pi}{4 \\omega} & 0\\end{matrix}\\right]$$"
      ],
      "text/plain": [
       "⎡           -ⅈ⋅π   ⎤\n",
       "⎢   0      ────────⎥\n",
       "⎢          4⋅\\omega⎥\n",
       "⎢                  ⎥\n",
       "⎢  ⅈ⋅π             ⎥\n",
       "⎢────────     0    ⎥\n",
       "⎣4⋅\\omega          ⎦"
      ]
     },
     "execution_count": 8,
     "metadata": {},
     "output_type": "execute_result"
    }
   ],
   "source": [
    "T"
   ]
  },
  {
   "cell_type": "code",
   "execution_count": 9,
   "metadata": {},
   "outputs": [
    {
     "data": {
      "text/latex": [
       "$$\\left [ \\left ( - \\frac{\\pi}{4 \\omega}, \\quad 1, \\quad \\left [ \\left[\\begin{matrix}i\\\\1\\end{matrix}\\right]\\right ]\\right ), \\quad \\left ( \\frac{\\pi}{4 \\omega}, \\quad 1, \\quad \\left [ \\left[\\begin{matrix}- i\\\\1\\end{matrix}\\right]\\right ]\\right )\\right ]$$"
      ],
      "text/plain": [
       "⎡⎛  -π         ⎡⎡ⅈ⎤⎤⎞  ⎛   π         ⎡⎡-ⅈ⎤⎤⎞⎤\n",
       "⎢⎜────────, 1, ⎢⎢ ⎥⎥⎟, ⎜────────, 1, ⎢⎢  ⎥⎥⎟⎥\n",
       "⎣⎝4⋅\\omega     ⎣⎣1⎦⎦⎠  ⎝4⋅\\omega     ⎣⎣1 ⎦⎦⎠⎦"
      ]
     },
     "execution_count": 9,
     "metadata": {},
     "output_type": "execute_result"
    }
   ],
   "source": [
    "T.eigenvects()"
   ]
  },
  {
   "cell_type": "code",
   "execution_count": 10,
   "metadata": {},
   "outputs": [],
   "source": [
    "T_d = diag(-pi/(4*omega), pi/(4*omega))"
   ]
  },
  {
   "cell_type": "code",
   "execution_count": 11,
   "metadata": {},
   "outputs": [
    {
     "data": {
      "text/latex": [
       "$$\\left[\\begin{matrix}- \\frac{\\pi}{4 \\omega} & 0\\\\0 & \\frac{\\pi}{4 \\omega}\\end{matrix}\\right]$$"
      ],
      "text/plain": [
       "⎡  -π              ⎤\n",
       "⎢────────     0    ⎥\n",
       "⎢4⋅\\omega          ⎥\n",
       "⎢                  ⎥\n",
       "⎢             π    ⎥\n",
       "⎢   0      ────────⎥\n",
       "⎣          4⋅\\omega⎦"
      ]
     },
     "execution_count": 11,
     "metadata": {},
     "output_type": "execute_result"
    }
   ],
   "source": [
    "T_d"
   ]
  },
  {
   "cell_type": "markdown",
   "metadata": {},
   "source": [
    "Check: tis is what we would obtain with matric of cols egeinv"
   ]
  },
  {
   "cell_type": "code",
   "execution_count": 29,
   "metadata": {},
   "outputs": [],
   "source": [
    "R = (1/sqrt(2)) * Matrix([\n",
    "    [I, -I],\n",
    "    [1, 1]\n",
    "])"
   ]
  },
  {
   "cell_type": "code",
   "execution_count": 30,
   "metadata": {},
   "outputs": [
    {
     "data": {
      "text/latex": [
       "$$\\left[\\begin{matrix}- \\frac{\\pi}{4 \\omega} & 0\\\\0 & \\frac{\\pi}{4 \\omega}\\end{matrix}\\right]$$"
      ],
      "text/plain": [
       "⎡  -π              ⎤\n",
       "⎢────────     0    ⎥\n",
       "⎢4⋅\\omega          ⎥\n",
       "⎢                  ⎥\n",
       "⎢             π    ⎥\n",
       "⎢   0      ────────⎥\n",
       "⎣          4⋅\\omega⎦"
      ]
     },
     "execution_count": 30,
     "metadata": {},
     "output_type": "execute_result"
    }
   ],
   "source": [
    "R.adjoint()*T*R"
   ]
  },
  {
   "cell_type": "code",
   "execution_count": 12,
   "metadata": {},
   "outputs": [],
   "source": [
    "Omega_T_d = (pi/((pi/(2*omega))**2))*F*T_d*F.adjoint()"
   ]
  },
  {
   "cell_type": "code",
   "execution_count": 13,
   "metadata": {},
   "outputs": [
    {
     "data": {
      "text/latex": [
       "$$\\left[\\begin{matrix}0 & - \\omega\\\\- \\omega & 0\\end{matrix}\\right]$$"
      ],
      "text/plain": [
       "⎡   0     -\\omega⎤\n",
       "⎢                ⎥\n",
       "⎣-\\omega     0   ⎦"
      ]
     },
     "execution_count": 13,
     "metadata": {},
     "output_type": "execute_result"
    }
   ],
   "source": [
    "Omega_T_d"
   ]
  },
  {
   "cell_type": "code",
   "execution_count": 14,
   "metadata": {},
   "outputs": [],
   "source": [
    "Hs = I*hbar*omega*Matrix([\n",
    "    [0, 1],\n",
    "    [-1,0]\n",
    "])"
   ]
  },
  {
   "cell_type": "code",
   "execution_count": 15,
   "metadata": {},
   "outputs": [
    {
     "data": {
      "image/png": "[encoded data removed]",
      "text/latex": [
       "$$e^{\\frac{i \\pi}{4}}$$"
      ],
      "text/plain": [
       " ⅈ⋅π\n",
       " ───\n",
       "  4 \n",
       "ℯ   "
      ]
     },
     "execution_count": 15,
     "metadata": {},
     "output_type": "execute_result"
    }
   ],
   "source": [
    "simplify(exp(I*pi/4))"
   ]
  },
  {
   "cell_type": "code",
   "execution_count": 16,
   "metadata": {},
   "outputs": [],
   "source": [
    "J = TensorProduct(hbar*Omega_T_d, eye(2)) + TensorProduct(eye(2), Hs)"
   ]
  },
  {
   "cell_type": "code",
   "execution_count": 17,
   "metadata": {},
   "outputs": [
    {
     "data": {
      "text/latex": [
       "$$\\left[\\begin{matrix}0 & \\hbar i \\omega & - \\hbar \\omega & 0\\\\- \\hbar i \\omega & 0 & 0 & - \\hbar \\omega\\\\- \\hbar \\omega & 0 & 0 & \\hbar i \\omega\\\\0 & - \\hbar \\omega & - \\hbar i \\omega & 0\\end{matrix}\\right]$$"
      ],
      "text/plain": [
       "⎡     0       ℏ⋅ⅈ⋅\\omega   -ℏ⋅\\omega       0     ⎤\n",
       "⎢                                                ⎥\n",
       "⎢-ℏ⋅ⅈ⋅\\omega      0            0       -ℏ⋅\\omega ⎥\n",
       "⎢                                                ⎥\n",
       "⎢ -ℏ⋅\\omega       0            0       ℏ⋅ⅈ⋅\\omega⎥\n",
       "⎢                                                ⎥\n",
       "⎣     0       -ℏ⋅\\omega   -ℏ⋅ⅈ⋅\\omega      0     ⎦"
      ]
     },
     "execution_count": 17,
     "metadata": {},
     "output_type": "execute_result"
    }
   ],
   "source": [
    "J"
   ]
  },
  {
   "cell_type": "code",
   "execution_count": 18,
   "metadata": {},
   "outputs": [
    {
     "data": {
      "text/latex": [
       "$$\\left [ \\left ( 0, \\quad 2, \\quad \\left [ \\left[\\begin{matrix}0\\\\- i\\\\1\\\\0\\end{matrix}\\right], \\quad \\left[\\begin{matrix}i\\\\0\\\\0\\\\1\\end{matrix}\\right]\\right ]\\right ), \\quad \\left ( - 2 \\hbar \\omega, \\quad 1, \\quad \\left [ \\left[\\begin{matrix}- i\\\\1\\\\- i\\\\1\\end{matrix}\\right]\\right ]\\right ), \\quad \\left ( 2 \\hbar \\omega, \\quad 1, \\quad \\left [ \\left[\\begin{matrix}- i\\\\-1\\\\i\\\\1\\end{matrix}\\right]\\right ]\\right )\\right ]$$"
      ],
      "text/plain": [
       "⎡⎛      ⎡⎡0 ⎤  ⎡ⅈ⎤⎤⎞  ⎛                ⎡⎡-ⅈ⎤⎤⎞  ⎛               ⎡⎡-ⅈ⎤⎤⎞⎤\n",
       "⎢⎜      ⎢⎢  ⎥  ⎢ ⎥⎥⎟  ⎜                ⎢⎢  ⎥⎥⎟  ⎜               ⎢⎢  ⎥⎥⎟⎥\n",
       "⎢⎜      ⎢⎢-ⅈ⎥  ⎢0⎥⎥⎟  ⎜                ⎢⎢1 ⎥⎥⎟  ⎜               ⎢⎢-1⎥⎥⎟⎥\n",
       "⎢⎜0, 2, ⎢⎢  ⎥, ⎢ ⎥⎥⎟, ⎜-2⋅ℏ⋅\\omega, 1, ⎢⎢  ⎥⎥⎟, ⎜2⋅ℏ⋅\\omega, 1, ⎢⎢  ⎥⎥⎟⎥\n",
       "⎢⎜      ⎢⎢1 ⎥  ⎢0⎥⎥⎟  ⎜                ⎢⎢-ⅈ⎥⎥⎟  ⎜               ⎢⎢ⅈ ⎥⎥⎟⎥\n",
       "⎢⎜      ⎢⎢  ⎥  ⎢ ⎥⎥⎟  ⎜                ⎢⎢  ⎥⎥⎟  ⎜               ⎢⎢  ⎥⎥⎟⎥\n",
       "⎣⎝      ⎣⎣0 ⎦  ⎣1⎦⎦⎠  ⎝                ⎣⎣1 ⎦⎦⎠  ⎝               ⎣⎣1 ⎦⎦⎠⎦"
      ]
     },
     "execution_count": 18,
     "metadata": {},
     "output_type": "execute_result"
    }
   ],
   "source": [
    "J.eigenvects()"
   ]
  },
  {
   "cell_type": "markdown",
   "metadata": {},
   "source": [
    "## Comparison with ordinary QM "
   ]
  },
  {
   "cell_type": "code",
   "execution_count": 19,
   "metadata": {},
   "outputs": [],
   "source": [
    "def evolve_psi(t, t0, psi0):\n",
    "    return exp(-I*Hs*(t-t0)/hbar)*psi0"
   ]
  },
  {
   "cell_type": "code",
   "execution_count": 20,
   "metadata": {},
   "outputs": [],
   "source": [
    "def correction_eigenJ(t, t0, eigenvalue):\n",
    "    return exp(I*eigenvalue*(t-t0)/hbar)"
   ]
  },
  {
   "cell_type": "code",
   "execution_count": 24,
   "metadata": {},
   "outputs": [],
   "source": [
    "def correction_timeshift(t, t0, timeshift):\n",
    "    deltaT = pi/(2*omega)\n",
    "    omega_prime = (pi*timeshift) / (deltaT**2)\n",
    "    return exp(-I*omega_prime*(t-t0))"
   ]
  },
  {
   "cell_type": "code",
   "execution_count": 25,
   "metadata": {},
   "outputs": [
    {
     "data": {
      "text/latex": [
       "$$\\left[\\begin{matrix}1\\\\0\\end{matrix}\\right]$$"
      ],
      "text/plain": [
       "⎡1⎤\n",
       "⎢ ⎥\n",
       "⎣0⎦"
      ]
     },
     "execution_count": 25,
     "metadata": {},
     "output_type": "execute_result"
    }
   ],
   "source": [
    "evolve_psi(\n",
    "    t=pi/(4*omega), t0=-pi/(4*omega), psi0=Matrix([0,-I])) \\\n",
    "* \\\n",
    "correction_timeshift(t=pi/(4*omega), t0=-pi/(4*omega), timeshift=-pi/(4*omega))"
   ]
  },
  {
   "cell_type": "code",
   "execution_count": 26,
   "metadata": {},
   "outputs": [
    {
     "data": {
      "image/png": "[encoded data removed]",
      "text/latex": [
       "$$i$$"
      ],
      "text/plain": [
       "ⅈ"
      ]
     },
     "execution_count": 26,
     "metadata": {},
     "output_type": "execute_result"
    }
   ],
   "source": [
    "correction_timeshift(t=pi/(4*omega), t0=-pi/(4*omega), timeshift=-pi/(4*omega))"
   ]
  },
  {
   "cell_type": "code",
   "execution_count": 10,
   "metadata": {},
   "outputs": [
    {
     "data": {
      "image/png": "[encoded data removed]",
      "text/plain": [
       "<matplotlib.figure.Figure at 0x7fe4651d1c18>"
      ]
     },
     "metadata": {},
     "output_type": "display_data"
    },
    {
     "data": {
      "text/plain": [
       "<sympy.plotting.plot.Plot at 0x7fe4651d1b38>"
      ]
     },
     "execution_count": 10,
     "metadata": {},
     "output_type": "execute_result"
    }
   ],
   "source": [
    "from sympy.plotting import plot3d_parametric_line\n",
    "u = Symbol('u')\n",
    "\n",
    "%matplotlib inline\n",
    "\n",
    "plot3d_parametric_line(cos(u), sin(u), u, (u, -5, 5))\n"
   ]
  },
  {
   "cell_type": "code",
   "execution_count": null,
   "metadata": {},
   "outputs": [],
   "source": []
  }
 ],
 "metadata": {
  "kernelspec": {
   "display_name": "Python 3",
   "language": "python",
   "name": "python3"
  },
  "language_info": {
   "codemirror_mode": {
    "name": "ipython",
    "version": 3
   },
   "file_extension": ".py",
   "mimetype": "text/x-python",
   "name": "python",
   "nbconvert_exporter": "python",
   "pygments_lexer": "ipython3",
   "version": "3.6.5"
  }
 },
 "nbformat": 4,
 "nbformat_minor": 2
}
