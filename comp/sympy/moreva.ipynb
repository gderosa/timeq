{
 "cells": [
  {
   "cell_type": "markdown",
   "metadata": {},
   "source": [
    "# Analysys of the Moreva et al. experiment"
   ]
  },
  {
   "cell_type": "markdown",
   "metadata": {},
   "source": [
    "\n",
    "\n",
    "## Preliminaries"
   ]
  },
  {
   "cell_type": "code",
   "execution_count": 33,
   "metadata": {},
   "outputs": [],
   "source": [
    "# Symbolic computation\n",
    "from sympy import *\n",
    "from sympy.physics.matrices import mdft\n",
    "from sympy.physics.quantum import TensorProduct\n",
    "from sympy.physics.quantum.constants import hbar"
   ]
  },
  {
   "cell_type": "code",
   "execution_count": 34,
   "metadata": {},
   "outputs": [],
   "source": [
    "# Remeber this to have LaTeX rendered output in Jupyter\n",
    "init_printing()"
   ]
  },
  {
   "cell_type": "markdown",
   "metadata": {},
   "source": [
    "## Computation"
   ]
  },
  {
   "cell_type": "code",
   "execution_count": 35,
   "metadata": {},
   "outputs": [],
   "source": [
    "Omega = Symbol(r'\\Omega')\n",
    "omega = Symbol(r'\\omega', real=True)"
   ]
  },
  {
   "cell_type": "code",
   "execution_count": 36,
   "metadata": {},
   "outputs": [],
   "source": [
    "F = mdft(2)"
   ]
  },
  {
   "cell_type": "code",
   "execution_count": 37,
   "metadata": {},
   "outputs": [],
   "source": [
    "Omega = I*omega*Matrix([\n",
    "    [0, 1],\n",
    "    [-1,0]\n",
    "])"
   ]
  },
  {
   "cell_type": "code",
   "execution_count": 38,
   "metadata": {},
   "outputs": [
    {
     "data": {
      "text/latex": [
       "$$\\left [ \\left ( - \\omega, \\quad 1, \\quad \\left [ \\left[\\begin{matrix}- i\\\\1\\end{matrix}\\right]\\right ]\\right ), \\quad \\left ( \\omega, \\quad 1, \\quad \\left [ \\left[\\begin{matrix}i\\\\1\\end{matrix}\\right]\\right ]\\right )\\right ]$$"
      ],
      "text/plain": [
       "⎡⎛            ⎡⎡-ⅈ⎤⎤⎞  ⎛           ⎡⎡ⅈ⎤⎤⎞⎤\n",
       "⎢⎜-\\omega, 1, ⎢⎢  ⎥⎥⎟, ⎜\\omega, 1, ⎢⎢ ⎥⎥⎟⎥\n",
       "⎣⎝            ⎣⎣1 ⎦⎦⎠  ⎝           ⎣⎣1⎦⎦⎠⎦"
      ]
     },
     "execution_count": 38,
     "metadata": {},
     "output_type": "execute_result"
    }
   ],
   "source": [
    "Omega.eigenvects()"
   ]
  },
  {
   "cell_type": "code",
   "execution_count": 39,
   "metadata": {},
   "outputs": [],
   "source": [
    "T = (pi / (2*omega)**2) * F.adjoint()*Omega*F"
   ]
  },
  {
   "cell_type": "code",
   "execution_count": 40,
   "metadata": {},
   "outputs": [
    {
     "data": {
      "text/latex": [
       "$$\\left[\\begin{matrix}0 & - \\frac{i \\pi}{4 \\omega}\\\\\\frac{i \\pi}{4 \\omega} & 0\\end{matrix}\\right]$$"
      ],
      "text/plain": [
       "⎡           -ⅈ⋅π   ⎤\n",
       "⎢   0      ────────⎥\n",
       "⎢          4⋅\\omega⎥\n",
       "⎢                  ⎥\n",
       "⎢  ⅈ⋅π             ⎥\n",
       "⎢────────     0    ⎥\n",
       "⎣4⋅\\omega          ⎦"
      ]
     },
     "execution_count": 40,
     "metadata": {},
     "output_type": "execute_result"
    }
   ],
   "source": [
    "T"
   ]
  },
  {
   "cell_type": "code",
   "execution_count": 41,
   "metadata": {},
   "outputs": [
    {
     "data": {
      "text/latex": [
       "$$\\left [ \\left ( - \\frac{\\pi}{4 \\omega}, \\quad 1, \\quad \\left [ \\left[\\begin{matrix}i\\\\1\\end{matrix}\\right]\\right ]\\right ), \\quad \\left ( \\frac{\\pi}{4 \\omega}, \\quad 1, \\quad \\left [ \\left[\\begin{matrix}- i\\\\1\\end{matrix}\\right]\\right ]\\right )\\right ]$$"
      ],
      "text/plain": [
       "⎡⎛  -π         ⎡⎡ⅈ⎤⎤⎞  ⎛   π         ⎡⎡-ⅈ⎤⎤⎞⎤\n",
       "⎢⎜────────, 1, ⎢⎢ ⎥⎥⎟, ⎜────────, 1, ⎢⎢  ⎥⎥⎟⎥\n",
       "⎣⎝4⋅\\omega     ⎣⎣1⎦⎦⎠  ⎝4⋅\\omega     ⎣⎣1 ⎦⎦⎠⎦"
      ]
     },
     "execution_count": 41,
     "metadata": {},
     "output_type": "execute_result"
    }
   ],
   "source": [
    "T.eigenvects()"
   ]
  },
  {
   "cell_type": "code",
   "execution_count": 42,
   "metadata": {},
   "outputs": [],
   "source": [
    "T_d = diag(-pi/(4*omega), pi/(4*omega))"
   ]
  },
  {
   "cell_type": "code",
   "execution_count": 43,
   "metadata": {},
   "outputs": [
    {
     "data": {
      "text/latex": [
       "$$\\left[\\begin{matrix}- \\frac{\\pi}{4 \\omega} & 0\\\\0 & \\frac{\\pi}{4 \\omega}\\end{matrix}\\right]$$"
      ],
      "text/plain": [
       "⎡  -π              ⎤\n",
       "⎢────────     0    ⎥\n",
       "⎢4⋅\\omega          ⎥\n",
       "⎢                  ⎥\n",
       "⎢             π    ⎥\n",
       "⎢   0      ────────⎥\n",
       "⎣          4⋅\\omega⎦"
      ]
     },
     "execution_count": 43,
     "metadata": {},
     "output_type": "execute_result"
    }
   ],
   "source": [
    "T_d"
   ]
  },
  {
   "cell_type": "markdown",
   "metadata": {},
   "source": [
    "Check: this is what we would obtain with matric of cols egeinv"
   ]
  },
  {
   "cell_type": "code",
   "execution_count": 44,
   "metadata": {},
   "outputs": [],
   "source": [
    "R = (1/sqrt(2)) * Matrix([\n",
    "    [I, -I],\n",
    "    [1, 1]\n",
    "])"
   ]
  },
  {
   "cell_type": "code",
   "execution_count": 45,
   "metadata": {},
   "outputs": [
    {
     "data": {
      "text/latex": [
       "$$\\left[\\begin{matrix}- \\frac{\\pi}{4 \\omega} & 0\\\\0 & \\frac{\\pi}{4 \\omega}\\end{matrix}\\right]$$"
      ],
      "text/plain": [
       "⎡  -π              ⎤\n",
       "⎢────────     0    ⎥\n",
       "⎢4⋅\\omega          ⎥\n",
       "⎢                  ⎥\n",
       "⎢             π    ⎥\n",
       "⎢   0      ────────⎥\n",
       "⎣          4⋅\\omega⎦"
      ]
     },
     "execution_count": 45,
     "metadata": {},
     "output_type": "execute_result"
    }
   ],
   "source": [
    "R.adjoint()*T*R"
   ]
  },
  {
   "cell_type": "code",
   "execution_count": 46,
   "metadata": {},
   "outputs": [],
   "source": [
    "Omega_T_d = (pi/((pi/(2*omega))**2))*F*T_d*F.adjoint()"
   ]
  },
  {
   "cell_type": "code",
   "execution_count": 47,
   "metadata": {},
   "outputs": [
    {
     "data": {
      "text/latex": [
       "$$\\left[\\begin{matrix}0 & - \\omega\\\\- \\omega & 0\\end{matrix}\\right]$$"
      ],
      "text/plain": [
       "⎡   0     -\\omega⎤\n",
       "⎢                ⎥\n",
       "⎣-\\omega     0   ⎦"
      ]
     },
     "execution_count": 47,
     "metadata": {},
     "output_type": "execute_result"
    }
   ],
   "source": [
    "Omega_T_d"
   ]
  },
  {
   "cell_type": "code",
   "execution_count": 48,
   "metadata": {},
   "outputs": [],
   "source": [
    "Hs = I*hbar*omega*Matrix([\n",
    "    [0, 1],\n",
    "    [-1,0]\n",
    "])"
   ]
  },
  {
   "cell_type": "code",
   "execution_count": 49,
   "metadata": {},
   "outputs": [
    {
     "data": {
      "image/png": "[encoded data removed]",
      "text/latex": [
       "$$e^{\\frac{i \\pi}{4}}$$"
      ],
      "text/plain": [
       " ⅈ⋅π\n",
       " ───\n",
       "  4 \n",
       "ℯ   "
      ]
     },
     "execution_count": 49,
     "metadata": {},
     "output_type": "execute_result"
    }
   ],
   "source": [
    "simplify(exp(I*pi/4))"
   ]
  },
  {
   "cell_type": "code",
   "execution_count": 50,
   "metadata": {},
   "outputs": [],
   "source": [
    "J = TensorProduct(hbar*Omega_T_d, eye(2)) + TensorProduct(eye(2), Hs)"
   ]
  },
  {
   "cell_type": "code",
   "execution_count": 51,
   "metadata": {},
   "outputs": [
    {
     "data": {
      "text/latex": [
       "$$\\left[\\begin{matrix}0 & \\hbar i \\omega & - \\hbar \\omega & 0\\\\- \\hbar i \\omega & 0 & 0 & - \\hbar \\omega\\\\- \\hbar \\omega & 0 & 0 & \\hbar i \\omega\\\\0 & - \\hbar \\omega & - \\hbar i \\omega & 0\\end{matrix}\\right]$$"
      ],
      "text/plain": [
       "⎡     0       ℏ⋅ⅈ⋅\\omega   -ℏ⋅\\omega       0     ⎤\n",
       "⎢                                                ⎥\n",
       "⎢-ℏ⋅ⅈ⋅\\omega      0            0       -ℏ⋅\\omega ⎥\n",
       "⎢                                                ⎥\n",
       "⎢ -ℏ⋅\\omega       0            0       ℏ⋅ⅈ⋅\\omega⎥\n",
       "⎢                                                ⎥\n",
       "⎣     0       -ℏ⋅\\omega   -ℏ⋅ⅈ⋅\\omega      0     ⎦"
      ]
     },
     "execution_count": 51,
     "metadata": {},
     "output_type": "execute_result"
    }
   ],
   "source": [
    "J"
   ]
  },
  {
   "cell_type": "code",
   "execution_count": 52,
   "metadata": {},
   "outputs": [
    {
     "data": {
      "text/latex": [
       "$$\\left [ \\left ( 0, \\quad 2, \\quad \\left [ \\left[\\begin{matrix}0\\\\- i\\\\1\\\\0\\end{matrix}\\right], \\quad \\left[\\begin{matrix}i\\\\0\\\\0\\\\1\\end{matrix}\\right]\\right ]\\right ), \\quad \\left ( - 2 \\hbar \\omega, \\quad 1, \\quad \\left [ \\left[\\begin{matrix}- i\\\\1\\\\- i\\\\1\\end{matrix}\\right]\\right ]\\right ), \\quad \\left ( 2 \\hbar \\omega, \\quad 1, \\quad \\left [ \\left[\\begin{matrix}- i\\\\-1\\\\i\\\\1\\end{matrix}\\right]\\right ]\\right )\\right ]$$"
      ],
      "text/plain": [
       "⎡⎛      ⎡⎡0 ⎤  ⎡ⅈ⎤⎤⎞  ⎛                ⎡⎡-ⅈ⎤⎤⎞  ⎛               ⎡⎡-ⅈ⎤⎤⎞⎤\n",
       "⎢⎜      ⎢⎢  ⎥  ⎢ ⎥⎥⎟  ⎜                ⎢⎢  ⎥⎥⎟  ⎜               ⎢⎢  ⎥⎥⎟⎥\n",
       "⎢⎜      ⎢⎢-ⅈ⎥  ⎢0⎥⎥⎟  ⎜                ⎢⎢1 ⎥⎥⎟  ⎜               ⎢⎢-1⎥⎥⎟⎥\n",
       "⎢⎜0, 2, ⎢⎢  ⎥, ⎢ ⎥⎥⎟, ⎜-2⋅ℏ⋅\\omega, 1, ⎢⎢  ⎥⎥⎟, ⎜2⋅ℏ⋅\\omega, 1, ⎢⎢  ⎥⎥⎟⎥\n",
       "⎢⎜      ⎢⎢1 ⎥  ⎢0⎥⎥⎟  ⎜                ⎢⎢-ⅈ⎥⎥⎟  ⎜               ⎢⎢ⅈ ⎥⎥⎟⎥\n",
       "⎢⎜      ⎢⎢  ⎥  ⎢ ⎥⎥⎟  ⎜                ⎢⎢  ⎥⎥⎟  ⎜               ⎢⎢  ⎥⎥⎟⎥\n",
       "⎣⎝      ⎣⎣0 ⎦  ⎣1⎦⎦⎠  ⎝                ⎣⎣1 ⎦⎦⎠  ⎝               ⎣⎣1 ⎦⎦⎠⎦"
      ]
     },
     "execution_count": 52,
     "metadata": {},
     "output_type": "execute_result"
    }
   ],
   "source": [
    "J.eigenvects()"
   ]
  },
  {
   "cell_type": "markdown",
   "metadata": {},
   "source": [
    "## Comparison with ordinary QM "
   ]
  },
  {
   "cell_type": "code",
   "execution_count": 53,
   "metadata": {},
   "outputs": [],
   "source": [
    "def evolve_psi(t, t0, psi0):\n",
    "    return exp(-I*Hs*(t-t0)/hbar)*psi0"
   ]
  },
  {
   "cell_type": "code",
   "execution_count": 54,
   "metadata": {},
   "outputs": [],
   "source": [
    "def correction_eigenJ(t, t0, eigenvalue):\n",
    "    return exp(I*eigenvalue*(t-t0)/hbar)"
   ]
  },
  {
   "cell_type": "code",
   "execution_count": 55,
   "metadata": {},
   "outputs": [],
   "source": [
    "def correction_timeshift(t, t0, timeshift):\n",
    "    deltaT = pi/(2*omega)\n",
    "    omega_prime = (pi*timeshift) / (deltaT**2)\n",
    "    return exp(-I*omega_prime*(t-t0))"
   ]
  },
  {
   "cell_type": "code",
   "execution_count": 75,
   "metadata": {},
   "outputs": [],
   "source": [
    "def psi_fixed(t, t0, psi0, eigenvalue):\n",
    "    return evolve_psi(t, t0, psi0) * correction_eigenJ(t, t0, eigenvalue) * correction_timeshift(t, t0, t0)"
   ]
  },
  {
   "cell_type": "code",
   "execution_count": 76,
   "metadata": {},
   "outputs": [],
   "source": [
    "t = Symbol('t')"
   ]
  },
  {
   "cell_type": "code",
   "execution_count": 82,
   "metadata": {},
   "outputs": [
    {
     "data": {
      "text/latex": [
       "$$\\left[\\begin{matrix}- i \\left(- \\frac{8 i \\omega^{2} \\left(t + \\frac{\\pi}{4 \\omega}\\right)^{2}}{\\left(4 \\omega t + \\pi\\right)^{2}} e^{\\frac{i}{4} \\left(4 \\omega t + \\pi\\right)} - \\frac{2 \\omega e^{- \\frac{i}{4} \\left(4 \\omega t + \\pi\\right)}}{4 \\omega t + \\pi} \\left(t + \\frac{\\pi}{4 \\omega}\\right) \\left(\\frac{4 i \\omega \\left(t + \\frac{\\pi}{4 \\omega}\\right)}{4 \\omega t + \\pi} - 2 i\\right)\\right) e^{i \\omega \\left(t + \\frac{\\pi}{4 \\omega}\\right)}\\\\- i \\left(\\frac{2 \\omega e^{\\frac{i}{4} \\left(4 \\omega t + \\pi\\right)}}{4 \\omega t + \\pi} \\left(t + \\frac{\\pi}{4 \\omega}\\right) + \\frac{i}{2} \\left(\\frac{4 i \\omega \\left(t + \\frac{\\pi}{4 \\omega}\\right)}{4 \\omega t + \\pi} - 2 i\\right) e^{- \\frac{i}{4} \\left(4 \\omega t + \\pi\\right)}\\right) e^{i \\omega \\left(t + \\frac{\\pi}{4 \\omega}\\right)}\\end{matrix}\\right]$$"
      ],
      "text/plain": [
       "⎡   ⎛                               ⅈ⋅(4⋅\\omega⋅t + π)                        \n",
       "⎢   ⎜                            2  ──────────────────                        \n",
       "⎢   ⎜            2 ⎛       π    ⎞           4                     ⎛       π   \n",
       "⎢   ⎜  8⋅ⅈ⋅\\omega ⋅⎜t + ────────⎟ ⋅ℯ                     2⋅\\omega⋅⎜t + ───────\n",
       "⎢   ⎜              ⎝    4⋅\\omega⎠                                 ⎝    4⋅\\omeg\n",
       "⎢-ⅈ⋅⎜- ─────────────────────────────────────────────── - ─────────────────────\n",
       "⎢   ⎜                                 2                                       \n",
       "⎢   ⎝                 (4⋅\\omega⋅t + π)                                        \n",
       "⎢                                                                             \n",
       "⎢                 ⎛                         ⅈ⋅(4⋅\\omega⋅t + π)     ⎛          \n",
       "⎢                 ⎜                         ──────────────────     ⎜4⋅ⅈ⋅\\omega\n",
       "⎢                 ⎜         ⎛       π    ⎞          4              ⎜          \n",
       "⎢                 ⎜2⋅\\omega⋅⎜t + ────────⎟⋅ℯ                     ⅈ⋅⎜──────────\n",
       "⎢                 ⎜         ⎝    4⋅\\omega⎠                         ⎝      4⋅\\o\n",
       "⎢              -ⅈ⋅⎜─────────────────────────────────────────── + ─────────────\n",
       "⎣                 ⎝               4⋅\\omega⋅t + π                              \n",
       "\n",
       "   ⎛           ⎛       π    ⎞      ⎞  -ⅈ⋅(4⋅\\omega⋅t + π) ⎞                   \n",
       "   ⎜4⋅ⅈ⋅\\omega⋅⎜t + ────────⎟      ⎟  ────────────────────⎟                   \n",
       " ⎞ ⎜           ⎝    4⋅\\omega⎠      ⎟           4          ⎟           ⎛       \n",
       "─⎟⋅⎜───────────────────────── - 2⋅ⅈ⎟⋅ℯ                    ⎟  ⅈ⋅\\omega⋅⎜t + ───\n",
       "a⎠ ⎝      4⋅\\omega⋅t + π           ⎠                      ⎟           ⎝    4⋅\\\n",
       "──────────────────────────────────────────────────────────⎟⋅ℯ                 \n",
       "            4⋅\\omega⋅t + π                                ⎟                   \n",
       "                                                          ⎠                   \n",
       "                                                                              \n",
       " ⎛       π    ⎞      ⎞  -ⅈ⋅(4⋅\\omega⋅t + π) ⎞                                 \n",
       "⋅⎜t + ────────⎟      ⎟  ────────────────────⎟                                 \n",
       " ⎝    4⋅\\omega⎠      ⎟           4          ⎟           ⎛       π    ⎞        \n",
       "─────────────── - 2⋅ⅈ⎟⋅ℯ                    ⎟  ⅈ⋅\\omega⋅⎜t + ────────⎟        \n",
       "mega⋅t + π           ⎠                      ⎟           ⎝    4⋅\\omega⎠        \n",
       "────────────────────────────────────────────⎟⋅ℯ                               \n",
       "               2                            ⎠                                 \n",
       "\n",
       "      ⎤\n",
       "      ⎥\n",
       "π    ⎞⎥\n",
       "─────⎟⎥\n",
       "omega⎠⎥\n",
       "      ⎥\n",
       "      ⎥\n",
       "      ⎥\n",
       "      ⎥\n",
       "      ⎥\n",
       "      ⎥\n",
       "      ⎥\n",
       "      ⎥\n",
       "      ⎥\n",
       "      ⎥\n",
       "      ⎦"
      ]
     },
     "execution_count": 82,
     "metadata": {},
     "output_type": "execute_result"
    }
   ],
   "source": [
    "psi_fixed(t, -pi/(4*omega), Matrix([0, -I]), 0).subs({'omega': 1})\n",
    "    "
   ]
  },
  {
   "cell_type": "code",
   "execution_count": null,
   "metadata": {},
   "outputs": [],
   "source": []
  },
  {
   "cell_type": "code",
   "execution_count": null,
   "metadata": {},
   "outputs": [],
   "source": []
  },
  {
   "cell_type": "code",
   "execution_count": 58,
   "metadata": {},
   "outputs": [],
   "source": [
    " psi_fixed_np_h_re = lambdify(t, re(psi_fixed(t, -pi/(4*omega)).subs({omega: 1})[0]), 'numpy') "
   ]
  },
  {
   "cell_type": "code",
   "execution_count": 59,
   "metadata": {},
   "outputs": [],
   "source": [
    " psi_fixed_np_h_im = lambdify(t, im(psi_fixed(t, -pi/(4*omega)).subs({omega: 1})[0]), 'numpy') "
   ]
  },
  {
   "cell_type": "code",
   "execution_count": 60,
   "metadata": {},
   "outputs": [
    {
     "data": {
      "image/png": "[encoded data removed]",
      "text/latex": [
       "$$0.7071067811865475$$"
      ],
      "text/plain": [
       "0.7071067811865475"
      ]
     },
     "execution_count": 60,
     "metadata": {},
     "output_type": "execute_result"
    }
   ],
   "source": [
    "psi_fixed_np_h_re(0)"
   ]
  },
  {
   "cell_type": "code",
   "execution_count": 68,
   "metadata": {},
   "outputs": [
    {
     "data": {
      "image/png": "[encoded data removed]",
      "text/plain": [
       "<matplotlib.figure.Figure at 0x7fbf490afb70>"
      ]
     },
     "metadata": {},
     "output_type": "display_data"
    }
   ],
   "source": [
    "import matplotlib as mpl\n",
    "from mpl_toolkits.mplot3d import Axes3D\n",
    "import numpy as np\n",
    "import matplotlib.pyplot as plt\n",
    "\n",
    "mpl.rcParams['legend.fontsize'] = 10\n",
    "\n",
    "fig = plt.figure()\n",
    "ax = fig.gca(projection='3d')\n",
    "\n",
    "# Prepare arrays x, y, z\n",
    "z = np.linspace(-np.pi/4, np.pi/4, 100)\n",
    "x = np.cos(4*z)\n",
    "y = np.sin(4*z)\n",
    "zero = z - z\n",
    "\n",
    "ax.plot(x, y, z, label='parametric curve')\n",
    "ax.plot(zero, zero, z, label='zero')\n",
    "\n",
    "ax.legend()\n",
    "\n",
    "plt.show()\n"
   ]
  },
  {
   "cell_type": "code",
   "execution_count": null,
   "metadata": {},
   "outputs": [],
   "source": []
  }
 ],
 "metadata": {
  "kernelspec": {
   "display_name": "Python 3",
   "language": "python",
   "name": "python3"
  },
  "language_info": {
   "codemirror_mode": {
    "name": "ipython",
    "version": 3
   },
   "file_extension": ".py",
   "mimetype": "text/x-python",
   "name": "python",
   "nbconvert_exporter": "python",
   "pygments_lexer": "ipython3",
   "version": "3.6.5"
  }
 },
 "nbformat": 4,
 "nbformat_minor": 2
}
