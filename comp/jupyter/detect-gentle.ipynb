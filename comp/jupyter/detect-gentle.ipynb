{
 "cells": [
  {
   "cell_type": "markdown",
   "metadata": {},
   "source": [
    "## Detector model: Kiukas / Ruschhaupt / Schmidt / Werner"
   ]
  },
  {
   "cell_type": "code",
   "execution_count": 1,
   "metadata": {},
   "outputs": [],
   "source": [
    "from sympy import *\n",
    "#from sympy.physics.matrices import mdft\n",
    "from sympy.physics.quantum import TensorProduct\n",
    "from sympy.functions.special.delta_functions import Heaviside\n",
    "from sympy.physics.quantum.dagger import Dagger\n",
    "\n",
    "from sympy.stats import ContinuousRV, variance, std\n",
    "\n",
    "from sympy.plotting import plot, plot3d_parametric_line\n",
    "\n",
    "import numpy as np\n",
    "\n",
    "import scipy.integrate\n",
    "\n",
    "import matplotlib\n",
    "import matplotlib.pyplot as plt\n",
    "\n",
    "# matplotlib.rcParams['text.usetex'] = False\n",
    "\n",
    "# https://matplotlib.org/gallery/mplot3d/lines3d.html?highlight=parametric\n",
    "# This import registers the 3D projection, but is otherwise unused.\n",
    "from mpl_toolkits.mplot3d import Axes3D  # noqa: F401 unused import"
   ]
  },
  {
   "cell_type": "code",
   "execution_count": 2,
   "metadata": {},
   "outputs": [],
   "source": [
    "init_printing ()"
   ]
  },
  {
   "cell_type": "code",
   "execution_count": 3,
   "metadata": {},
   "outputs": [],
   "source": [
    "gamma = Symbol('gamma', real=True, positive=True)\n",
    "t = Symbol('t', real=True)\n",
    "tprime = Symbol('t\\'', real=True)\n",
    "omega = Symbol('omega', real=True)\n",
    "nu = Symbol('nu', real=True)"
   ]
  },
  {
   "cell_type": "code",
   "execution_count": 4,
   "metadata": {},
   "outputs": [],
   "source": [
    "GAMMA = Rational(1, 1000)\n",
    "GAMMA_n = np.float(GAMMA)"
   ]
  },
  {
   "cell_type": "code",
   "execution_count": 5,
   "metadata": {},
   "outputs": [],
   "source": [
    "def D(_gamma):\n",
    "    return Rational(1, 2) * Matrix([\n",
    "        [0, 0],\n",
    "        [0, _gamma]\n",
    "    ])"
   ]
  },
  {
   "cell_type": "code",
   "execution_count": 6,
   "metadata": {},
   "outputs": [],
   "source": [
    "H = Matrix ([\n",
    "[0, 1] ,\n",
    "[1, 0]\n",
    "])"
   ]
  },
  {
   "cell_type": "code",
   "execution_count": 7,
   "metadata": {},
   "outputs": [
    {
     "data": {
      "image/png": "[encoded data removed]",
      "text/latex": [
       "$$\\left [ \\left ( -1, \\quad 1, \\quad \\left [ \\left[\\begin{matrix}-1\\\\1\\end{matrix}\\right]\\right ]\\right ), \\quad \\left ( 1, \\quad 1, \\quad \\left [ \\left[\\begin{matrix}1\\\\1\\end{matrix}\\right]\\right ]\\right )\\right ]$$"
      ],
      "text/plain": [
       "⎡⎛       ⎡⎡-1⎤⎤⎞  ⎛      ⎡⎡1⎤⎤⎞⎤\n",
       "⎢⎜-1, 1, ⎢⎢  ⎥⎥⎟, ⎜1, 1, ⎢⎢ ⎥⎥⎟⎥\n",
       "⎣⎝       ⎣⎣1 ⎦⎦⎠  ⎝      ⎣⎣1⎦⎦⎠⎦"
      ]
     },
     "execution_count": 7,
     "metadata": {},
     "output_type": "execute_result"
    }
   ],
   "source": [
    "H.eigenvects()"
   ]
  },
  {
   "cell_type": "markdown",
   "metadata": {},
   "source": [
    "It's manually seen that $\\langle H \\rangle = 0$ and $\\langle H^2 \\rangle = 1$, therefore $\\sigma_{H} = 1$."
   ]
  },
  {
   "cell_type": "code",
   "execution_count": 8,
   "metadata": {},
   "outputs": [],
   "source": [
    "def K(_gamma):\n",
    "    return H - I*D(_gamma)"
   ]
  },
  {
   "cell_type": "code",
   "execution_count": 9,
   "metadata": {},
   "outputs": [],
   "source": [
    "def B(_gamma):\n",
    "    return lambda t: exp(-I*K(_gamma)*t)"
   ]
  },
  {
   "cell_type": "code",
   "execution_count": 10,
   "metadata": {},
   "outputs": [],
   "source": [
    "def U():\n",
    "    return lambda t: exp(-I*H*t)"
   ]
  },
  {
   "cell_type": "code",
   "execution_count": 11,
   "metadata": {},
   "outputs": [],
   "source": [
    "def non_unitary_psi(_t, _gamma=GAMMA):\n",
    "    return B(_gamma)(_t) * Matrix([1,0])"
   ]
  },
  {
   "cell_type": "code",
   "execution_count": 12,
   "metadata": {},
   "outputs": [],
   "source": [
    "def unitary_psi(_t):\n",
    "    return U()(_t) * Matrix([1,0])"
   ]
  },
  {
   "cell_type": "code",
   "execution_count": 13,
   "metadata": {},
   "outputs": [
    {
     "data": {
      "image/png": "[encoded data removed]",
      "text/latex": [
       "$$\\left[\\begin{matrix}- \\frac{i e^{t \\left(- \\frac{\\gamma}{4} + \\frac{\\sqrt{\\gamma - 4} \\sqrt{\\gamma + 4}}{4}\\right)}}{\\left(- \\frac{\\gamma}{4} + \\frac{\\sqrt{\\gamma - 4} \\sqrt{\\gamma + 4}}{4}\\right) \\left(- \\frac{i}{- \\frac{\\gamma}{4} + \\frac{\\sqrt{\\gamma - 4} \\sqrt{\\gamma + 4}}{4}} + \\frac{i}{- \\frac{\\gamma}{4} - \\frac{\\sqrt{\\gamma - 4} \\sqrt{\\gamma + 4}}{4}}\\right)} + \\frac{i e^{t \\left(- \\frac{\\gamma}{4} - \\frac{\\sqrt{\\gamma - 4} \\sqrt{\\gamma + 4}}{4}\\right)}}{\\left(- \\frac{\\gamma}{4} - \\frac{\\sqrt{\\gamma - 4} \\sqrt{\\gamma + 4}}{4}\\right) \\left(- \\frac{i}{- \\frac{\\gamma}{4} + \\frac{\\sqrt{\\gamma - 4} \\sqrt{\\gamma + 4}}{4}} + \\frac{i}{- \\frac{\\gamma}{4} - \\frac{\\sqrt{\\gamma - 4} \\sqrt{\\gamma + 4}}{4}}\\right)}\\\\- \\frac{e^{t \\left(- \\frac{\\gamma}{4} - \\frac{\\sqrt{\\gamma - 4} \\sqrt{\\gamma + 4}}{4}\\right)}}{- \\frac{i}{- \\frac{\\gamma}{4} + \\frac{\\sqrt{\\gamma - 4} \\sqrt{\\gamma + 4}}{4}} + \\frac{i}{- \\frac{\\gamma}{4} - \\frac{\\sqrt{\\gamma - 4} \\sqrt{\\gamma + 4}}{4}}} + \\frac{e^{t \\left(- \\frac{\\gamma}{4} + \\frac{\\sqrt{\\gamma - 4} \\sqrt{\\gamma + 4}}{4}\\right)}}{- \\frac{i}{- \\frac{\\gamma}{4} + \\frac{\\sqrt{\\gamma - 4} \\sqrt{\\gamma + 4}}{4}} + \\frac{i}{- \\frac{\\gamma}{4} - \\frac{\\sqrt{\\gamma - 4} \\sqrt{\\gamma + 4}}{4}}}\\end{matrix}\\right]$$"
      ],
      "text/plain": [
       "⎡                                  ⎛        _______   _______⎞                \n",
       "⎢                                  ⎜  γ   ╲╱ γ - 4 ⋅╲╱ γ + 4 ⎟                \n",
       "⎢                                t⋅⎜- ─ + ───────────────────⎟                \n",
       "⎢                                  ⎝  4            4         ⎠                \n",
       "⎢                             ⅈ⋅ℯ                                             \n",
       "⎢- ───────────────────────────────────────────────────────────────────────────\n",
       "⎢  ⎛        _______   _______⎞                                                \n",
       "⎢  ⎜  γ   ╲╱ γ - 4 ⋅╲╱ γ + 4 ⎟ ⎛              ⅈ                           ⅈ   \n",
       "⎢  ⎜- ─ + ───────────────────⎟⋅⎜- ───────────────────────── + ────────────────\n",
       "⎢  ⎝  4            4         ⎠ ⎜          _______   _______           _______ \n",
       "⎢                              ⎜    γ   ╲╱ γ - 4 ⋅╲╱ γ + 4      γ   ╲╱ γ - 4 ⋅\n",
       "⎢                              ⎜  - ─ + ───────────────────   - ─ - ──────────\n",
       "⎢                              ⎝    4            4              4            4\n",
       "⎢                                                                             \n",
       "⎢                                                ⎛        _______   _______⎞  \n",
       "⎢                                                ⎜  γ   ╲╱ γ - 4 ⋅╲╱ γ + 4 ⎟  \n",
       "⎢                                              t⋅⎜- ─ - ───────────────────⎟  \n",
       "⎢                                                ⎝  4            4         ⎠  \n",
       "⎢                                             ℯ                               \n",
       "⎢                              - ─────────────────────────────────────────────\n",
       "⎢                                              ⅈ                           ⅈ  \n",
       "⎢                                - ───────────────────────── + ───────────────\n",
       "⎢                                          _______   _______           _______\n",
       "⎢                                    γ   ╲╱ γ - 4 ⋅╲╱ γ + 4      γ   ╲╱ γ - 4 \n",
       "⎢                                  - ─ + ───────────────────   - ─ - ─────────\n",
       "⎣                                    4            4              4            \n",
       "\n",
       "                                             ⎛        _______   _______⎞      \n",
       "                                             ⎜  γ   ╲╱ γ - 4 ⋅╲╱ γ + 4 ⎟      \n",
       "                                           t⋅⎜- ─ - ───────────────────⎟      \n",
       "                                             ⎝  4            4         ⎠      \n",
       "                                        ⅈ⋅ℯ                                   \n",
       "────────── + ─────────────────────────────────────────────────────────────────\n",
       "             ⎛        _______   _______⎞                                      \n",
       "         ⎞   ⎜  γ   ╲╱ γ - 4 ⋅╲╱ γ + 4 ⎟ ⎛              ⅈ                     \n",
       "─────────⎟   ⎜- ─ - ───────────────────⎟⋅⎜- ───────────────────────── + ──────\n",
       "  _______⎟   ⎝  4            4         ⎠ ⎜          _______   _______         \n",
       "╲╱ γ + 4 ⎟                               ⎜    γ   ╲╱ γ - 4 ⋅╲╱ γ + 4      γ   \n",
       "─────────⎟                               ⎜  - ─ + ───────────────────   - ─ - \n",
       "         ⎠                               ⎝    4            4              4   \n",
       "                                                                              \n",
       "                             ⎛        _______   _______⎞                      \n",
       "                             ⎜  γ   ╲╱ γ - 4 ⋅╲╱ γ + 4 ⎟                      \n",
       "                           t⋅⎜- ─ + ───────────────────⎟                      \n",
       "                             ⎝  4            4         ⎠                      \n",
       "                          ℯ                                                   \n",
       "────────── + ───────────────────────────────────────────────────────          \n",
       "                           ⅈ                           ⅈ                      \n",
       "──────────   - ───────────────────────── + ─────────────────────────          \n",
       "   _______             _______   _______           _______   _______          \n",
       "⋅╲╱ γ + 4        γ   ╲╱ γ - 4 ⋅╲╱ γ + 4      γ   ╲╱ γ - 4 ⋅╲╱ γ + 4           \n",
       "──────────     - ─ + ───────────────────   - ─ - ───────────────────          \n",
       "4                4            4              4            4                   \n",
       "\n",
       "                    ⎤\n",
       "                    ⎥\n",
       "                    ⎥\n",
       "                    ⎥\n",
       "                    ⎥\n",
       "────────────────────⎥\n",
       "                    ⎥\n",
       "      ⅈ            ⎞⎥\n",
       "───────────────────⎟⎥\n",
       "  _______   _______⎟⎥\n",
       "╲╱ γ - 4 ⋅╲╱ γ + 4 ⎟⎥\n",
       "───────────────────⎟⎥\n",
       "         4         ⎠⎥\n",
       "                    ⎥\n",
       "                    ⎥\n",
       "                    ⎥\n",
       "                    ⎥\n",
       "                    ⎥\n",
       "                    ⎥\n",
       "                    ⎥\n",
       "                    ⎥\n",
       "                    ⎥\n",
       "                    ⎥\n",
       "                    ⎥\n",
       "                    ⎥\n",
       "                    ⎦"
      ]
     },
     "execution_count": 13,
     "metadata": {},
     "output_type": "execute_result"
    }
   ],
   "source": [
    "non_unitary_psi(t, gamma)"
   ]
  },
  {
   "cell_type": "code",
   "execution_count": 14,
   "metadata": {},
   "outputs": [
    {
     "data": {
      "image/png": "[encoded data removed]",
      "text/plain": [
       "<Figure size 432x288 with 1 Axes>"
      ]
     },
     "metadata": {
      "needs_background": "light"
     },
     "output_type": "display_data"
    },
    {
     "data": {
      "text/plain": [
       "<sympy.plotting.plot.Plot at 0x7faea8140ba8>"
      ]
     },
     "execution_count": 14,
     "metadata": {},
     "output_type": "execute_result"
    }
   ],
   "source": [
    "plot(re(non_unitary_psi(t)[0]), (t, 0, 100), line_color='r')"
   ]
  },
  {
   "cell_type": "code",
   "execution_count": 15,
   "metadata": {},
   "outputs": [
    {
     "data": {
      "image/png": "[encoded data removed]",
      "text/plain": [
       "<Figure size 432x288 with 1 Axes>"
      ]
     },
     "metadata": {
      "needs_background": "light"
     },
     "output_type": "display_data"
    },
    {
     "data": {
      "text/plain": [
       "<sympy.plotting.plot.Plot at 0x7faea7993dd8>"
      ]
     },
     "execution_count": 15,
     "metadata": {},
     "output_type": "execute_result"
    }
   ],
   "source": [
    "plot(im(non_unitary_psi(t)[1]), (t, 0, 100), line_color='b')"
   ]
  },
  {
   "cell_type": "code",
   "execution_count": 16,
   "metadata": {},
   "outputs": [],
   "source": [
    "def lossy_norm(_t, _gamma=GAMMA):\n",
    "    psi = B(_gamma)(_t) * Matrix([1,0])\n",
    "    return abs(psi[0])**2 + abs(psi[1])**2"
   ]
  },
  {
   "cell_type": "code",
   "execution_count": 17,
   "metadata": {},
   "outputs": [
    {
     "data": {
      "image/png": "[encoded data removed]",
      "text/latex": [
       "$$\\left|{- \\frac{e^{t \\left(- \\frac{\\gamma}{4} - \\frac{\\sqrt{\\gamma - 4} \\sqrt{\\gamma + 4}}{4}\\right)}}{- \\frac{i}{- \\frac{\\gamma}{4} + \\frac{\\sqrt{\\gamma - 4} \\sqrt{\\gamma + 4}}{4}} + \\frac{i}{- \\frac{\\gamma}{4} - \\frac{\\sqrt{\\gamma - 4} \\sqrt{\\gamma + 4}}{4}}} + \\frac{e^{t \\left(- \\frac{\\gamma}{4} + \\frac{\\sqrt{\\gamma - 4} \\sqrt{\\gamma + 4}}{4}\\right)}}{- \\frac{i}{- \\frac{\\gamma}{4} + \\frac{\\sqrt{\\gamma - 4} \\sqrt{\\gamma + 4}}{4}} + \\frac{i}{- \\frac{\\gamma}{4} - \\frac{\\sqrt{\\gamma - 4} \\sqrt{\\gamma + 4}}{4}}}}\\right|^{2} + \\left|{- \\frac{i e^{t \\left(- \\frac{\\gamma}{4} + \\frac{\\sqrt{\\gamma - 4} \\sqrt{\\gamma + 4}}{4}\\right)}}{\\left(- \\frac{\\gamma}{4} + \\frac{\\sqrt{\\gamma - 4} \\sqrt{\\gamma + 4}}{4}\\right) \\left(- \\frac{i}{- \\frac{\\gamma}{4} + \\frac{\\sqrt{\\gamma - 4} \\sqrt{\\gamma + 4}}{4}} + \\frac{i}{- \\frac{\\gamma}{4} - \\frac{\\sqrt{\\gamma - 4} \\sqrt{\\gamma + 4}}{4}}\\right)} + \\frac{i e^{t \\left(- \\frac{\\gamma}{4} - \\frac{\\sqrt{\\gamma - 4} \\sqrt{\\gamma + 4}}{4}\\right)}}{\\left(- \\frac{\\gamma}{4} - \\frac{\\sqrt{\\gamma - 4} \\sqrt{\\gamma + 4}}{4}\\right) \\left(- \\frac{i}{- \\frac{\\gamma}{4} + \\frac{\\sqrt{\\gamma - 4} \\sqrt{\\gamma + 4}}{4}} + \\frac{i}{- \\frac{\\gamma}{4} - \\frac{\\sqrt{\\gamma - 4} \\sqrt{\\gamma + 4}}{4}}\\right)}}\\right|^{2}$$"
      ],
      "text/plain": [
       "                                                                              \n",
       "│                  ⎛        _______   _______⎞                               ⎛\n",
       "│                  ⎜  γ   ╲╱ γ - 4 ⋅╲╱ γ + 4 ⎟                               ⎜\n",
       "│                t⋅⎜- ─ - ───────────────────⎟                             t⋅⎜\n",
       "│                  ⎝  4            4         ⎠                               ⎝\n",
       "│               ℯ                                                         ℯ   \n",
       "│- ─────────────────────────────────────────────────────── + ─────────────────\n",
       "│                ⅈ                           ⅈ                             ⅈ  \n",
       "│  - ───────────────────────── + ─────────────────────────   - ───────────────\n",
       "│            _______   _______           _______   _______             _______\n",
       "│      γ   ╲╱ γ - 4 ⋅╲╱ γ + 4      γ   ╲╱ γ - 4 ⋅╲╱ γ + 4        γ   ╲╱ γ - 4 \n",
       "│    - ─ + ───────────────────   - ─ - ───────────────────     - ─ + ─────────\n",
       "│      4            4              4            4                4            \n",
       "                                                                              \n",
       "\n",
       "                                       2                                      \n",
       "        _______   _______⎞            │    │                                  \n",
       "  γ   ╲╱ γ - 4 ⋅╲╱ γ + 4 ⎟            │    │                                  \n",
       "- ─ + ───────────────────⎟            │    │                                t⋅\n",
       "  4            4         ⎠            │    │                                  \n",
       "                                      │    │                             ⅈ⋅ℯ  \n",
       "──────────────────────────────────────│  + │- ────────────────────────────────\n",
       "                         ⅈ            │    │  ⎛        _______   _______⎞     \n",
       "────────── + ─────────────────────────│    │  ⎜  γ   ╲╱ γ - 4 ⋅╲╱ γ + 4 ⎟ ⎛   \n",
       "   _______           _______   _______│    │  ⎜- ─ + ───────────────────⎟⋅⎜- ─\n",
       "⋅╲╱ γ + 4      γ   ╲╱ γ - 4 ⋅╲╱ γ + 4 │    │  ⎝  4            4         ⎠ ⎜   \n",
       "──────────   - ─ - ───────────────────│    │                              ⎜   \n",
       "4              4            4         │    │                              ⎜  -\n",
       "                                           │                              ⎝   \n",
       "\n",
       "                                                                              \n",
       "⎛        _______   _______⎞                                                   \n",
       "⎜  γ   ╲╱ γ - 4 ⋅╲╱ γ + 4 ⎟                                                   \n",
       "⎜- ─ + ───────────────────⎟                                                   \n",
       "⎝  4            4         ⎠                                                   \n",
       "                                                                              \n",
       "───────────────────────────────────────────────────── + ──────────────────────\n",
       "                                                        ⎛        _______   ___\n",
       "           ⅈ                           ⅈ            ⎞   ⎜  γ   ╲╱ γ - 4 ⋅╲╱ γ \n",
       "──────────────────────── + ─────────────────────────⎟   ⎜- ─ - ───────────────\n",
       "       _______   _______           _______   _______⎟   ⎝  4            4     \n",
       " γ   ╲╱ γ - 4 ⋅╲╱ γ + 4      γ   ╲╱ γ - 4 ⋅╲╱ γ + 4 ⎟                         \n",
       " ─ + ───────────────────   - ─ - ───────────────────⎟                         \n",
       " 4            4              4            4         ⎠                         \n",
       "\n",
       "                                                                2\n",
       "          ⎛        _______   _______⎞                          │ \n",
       "          ⎜  γ   ╲╱ γ - 4 ⋅╲╱ γ + 4 ⎟                          │ \n",
       "        t⋅⎜- ─ - ───────────────────⎟                          │ \n",
       "          ⎝  4            4         ⎠                          │ \n",
       "     ⅈ⋅ℯ                                                       │ \n",
       "───────────────────────────────────────────────────────────────│ \n",
       "____⎞                                                          │ \n",
       "+ 4 ⎟ ⎛              ⅈ                           ⅈ            ⎞│ \n",
       "────⎟⋅⎜- ───────────────────────── + ─────────────────────────⎟│ \n",
       "    ⎠ ⎜          _______   _______           _______   _______⎟│ \n",
       "      ⎜    γ   ╲╱ γ - 4 ⋅╲╱ γ + 4      γ   ╲╱ γ - 4 ⋅╲╱ γ + 4 ⎟│ \n",
       "      ⎜  - ─ + ───────────────────   - ─ - ───────────────────⎟│ \n",
       "      ⎝    4            4              4            4         ⎠│ "
      ]
     },
     "execution_count": 17,
     "metadata": {},
     "output_type": "execute_result"
    }
   ],
   "source": [
    "lossy_norm(t, gamma)"
   ]
  },
  {
   "cell_type": "code",
   "execution_count": 18,
   "metadata": {},
   "outputs": [],
   "source": [
    "_non_unitary_psi_n = lambdify(t, non_unitary_psi(t), \"numpy\")"
   ]
  },
  {
   "cell_type": "code",
   "execution_count": 19,
   "metadata": {},
   "outputs": [],
   "source": [
    "def non_unitary_psi_n(_t):\n",
    "    return _non_unitary_psi_n(_t).T[0]"
   ]
  },
  {
   "cell_type": "code",
   "execution_count": 20,
   "metadata": {},
   "outputs": [
    {
     "data": {
      "image/png": "[encoded data removed]",
      "text/latex": [
       "$$\\left[\\begin{matrix}0.540377588627299 + 1.01 \\cdot 10^{-17} i\\\\1.09 \\cdot 10^{-17} - 0.84126065276464 i\\end{matrix}\\right]$$"
      ],
      "text/plain": [
       "⎡0.540377588627299 + 1.01e-17⋅ⅈ⎤\n",
       "⎢                              ⎥\n",
       "⎣1.09e-17 - 0.84126065276464⋅ⅈ ⎦"
      ]
     },
     "execution_count": 20,
     "metadata": {},
     "output_type": "execute_result"
    }
   ],
   "source": [
    "N(non_unitary_psi(1.0))"
   ]
  },
  {
   "cell_type": "code",
   "execution_count": 21,
   "metadata": {},
   "outputs": [
    {
     "data": {
      "text/plain": [
       "array([0.54037759+0.j        , 0.        -0.84126065j])"
      ]
     },
     "execution_count": 21,
     "metadata": {},
     "output_type": "execute_result"
    }
   ],
   "source": [
    "non_unitary_psi_n(1.0)"
   ]
  },
  {
   "cell_type": "code",
   "execution_count": 22,
   "metadata": {},
   "outputs": [],
   "source": [
    "_lossy_norm_n = lambdify(t, lossy_norm(t), \"numpy\")\n",
    "def lossy_norm_n(_t):\n",
    "    # prevent a warning, even if we know it's real\n",
    "    return np.real(_lossy_norm_n(_t))"
   ]
  },
  {
   "cell_type": "code",
   "execution_count": 23,
   "metadata": {},
   "outputs": [
    {
     "data": {
      "image/png": "[encoded data removed]",
      "text/latex": [
       "$$0.979955189306936 + 2.0 \\cdot 10^{-24} i$$"
      ],
      "text/plain": [
       "0.979955189306936 + 0.e-24⋅ⅈ"
      ]
     },
     "execution_count": 23,
     "metadata": {},
     "output_type": "execute_result"
    }
   ],
   "source": [
    "N(lossy_norm(40))"
   ]
  },
  {
   "cell_type": "code",
   "execution_count": 24,
   "metadata": {},
   "outputs": [
    {
     "data": {
      "image/png": "[encoded data removed]",
      "text/latex": [
       "$$0.9799551893069367$$"
      ],
      "text/plain": [
       "0.9799551893069367"
      ]
     },
     "execution_count": 24,
     "metadata": {},
     "output_type": "execute_result"
    }
   ],
   "source": [
    "lossy_norm_n(40)"
   ]
  },
  {
   "cell_type": "code",
   "execution_count": 25,
   "metadata": {},
   "outputs": [
    {
     "data": {
      "image/png": "[encoded data removed]",
      "text/plain": [
       "<Figure size 432x288 with 1 Axes>"
      ]
     },
     "metadata": {
      "needs_background": "light"
     },
     "output_type": "display_data"
    },
    {
     "data": {
      "text/plain": [
       "<sympy.plotting.plot.Plot at 0x7faea783ec50>"
      ]
     },
     "execution_count": 25,
     "metadata": {},
     "output_type": "execute_result"
    }
   ],
   "source": [
    "plot(lossy_norm(t),(t, 0, 2*pi), line_color='g')"
   ]
  },
  {
   "cell_type": "code",
   "execution_count": 26,
   "metadata": {},
   "outputs": [],
   "source": [
    "def prob_0_unitary(t):\n",
    "    return abs(unitary_psi(t)[0]**2)"
   ]
  },
  {
   "cell_type": "code",
   "execution_count": 27,
   "metadata": {},
   "outputs": [],
   "source": [
    "def prob_1_unitary(t):\n",
    "    return abs(unitary_psi(t)[1]**2)"
   ]
  },
  {
   "cell_type": "code",
   "execution_count": 28,
   "metadata": {},
   "outputs": [],
   "source": [
    "X = np.linspace(1e-6, 2*np.pi, 1000)  # avoid singularity in t=0"
   ]
  },
  {
   "cell_type": "code",
   "execution_count": 29,
   "metadata": {},
   "outputs": [],
   "source": [
    "Y = lossy_norm_n(X)"
   ]
  },
  {
   "cell_type": "code",
   "execution_count": 30,
   "metadata": {},
   "outputs": [
    {
     "data": {
      "text/plain": [
       "[<matplotlib.lines.Line2D at 0x7faea7f7add8>]"
      ]
     },
     "execution_count": 30,
     "metadata": {},
     "output_type": "execute_result"
    },
    {
     "data": {
      "image/png": "[encoded data removed]",
      "text/plain": [
       "<Figure size 432x288 with 1 Axes>"
      ]
     },
     "metadata": {
      "needs_background": "light"
     },
     "output_type": "display_data"
    }
   ],
   "source": [
    "plt.plot(X, -np.gradient(Y, X), 'm')"
   ]
  },
  {
   "cell_type": "code",
   "execution_count": 31,
   "metadata": {},
   "outputs": [],
   "source": [
    "# we have set gamma = 2*sqrt(2)\n",
    "def hatpsi(_t, _gamma=GAMMA):\n",
    "    return \\\n",
    "        Heaviside(_t) * \\\n",
    "        Matrix([\n",
    "            [0, 0],\n",
    "            [0, sqrt(_gamma)]\n",
    "        ]) * \\\n",
    "        non_unitary_psi(_t, _gamma)\n",
    "        \n",
    "def hatpsi_n(_t):\n",
    "    return \\\n",
    "        np.heaviside(_t, 0) * \\\n",
    "        np.array([\n",
    "            [0, 0],\n",
    "            [0, np.sqrt(GAMMA_n)]\n",
    "        ]) @ \\\n",
    "        non_unitary_psi_n(_t)\n",
    "        \n",
    "        \n",
    "    "
   ]
  },
  {
   "cell_type": "code",
   "execution_count": 32,
   "metadata": {},
   "outputs": [],
   "source": [
    "def hatpsisquarednorm(_t, _gamma=GAMMA):\n",
    "    return simplify(\n",
    "        abs(hatpsi(_t, _gamma)[0])**sympify(2) + abs(hatpsi(_t, _gamma)[1])**sympify(2)\n",
    "    )\n",
    "\n",
    "def hatpsisquarednorm_n(_t):\n",
    "    return abs(hatpsi_n(_t)[0]**2) + abs(hatpsi_n(_t)[1]**2)"
   ]
  },
  {
   "cell_type": "code",
   "execution_count": 33,
   "metadata": {},
   "outputs": [
    {
     "data": {
      "text/plain": [
       "array([0.33059909+5.55111512e-17j, 0.        -9.43527103e-01j])"
      ]
     },
     "execution_count": 33,
     "metadata": {},
     "output_type": "execute_result"
    }
   ],
   "source": [
    "non_unitary_psi_n(1.234)"
   ]
  },
  {
   "cell_type": "code",
   "execution_count": 34,
   "metadata": {},
   "outputs": [
    {
     "data": {
      "image/png": "[encoded data removed]",
      "text/latex": [
       "$$\\frac{\\gamma e^{- \\gamma t} \\left|{\\frac{\\left(\\gamma - \\sqrt{\\gamma - 4} \\sqrt{\\gamma + 4}\\right) \\left(\\gamma + \\sqrt{\\gamma - 4} \\sqrt{\\gamma + 4}\\right) \\left(e^{\\frac{t \\left(\\gamma - \\sqrt{\\gamma - 4} \\sqrt{\\gamma + 4}\\right)}{4}} - e^{\\frac{t \\left(\\gamma + \\sqrt{\\gamma - 4} \\sqrt{\\gamma + 4}\\right)}{4}}\\right) \\theta\\left(t\\right)}{\\sqrt{\\gamma - 4}}}\\right|^{2}}{64 \\left(\\gamma + 4\\right)}$$"
      ],
      "text/plain": [
       "                                                                              \n",
       "        │                                                    ⎛   ⎛      ______\n",
       "        │                                                    ⎜ t⋅⎝γ - ╲╱ γ - 4\n",
       "        │                                                    ⎜ ───────────────\n",
       "        │⎛      _______   _______⎞ ⎛      _______   _______⎞ ⎜              4 \n",
       "   -γ⋅t │⎝γ - ╲╱ γ - 4 ⋅╲╱ γ + 4 ⎠⋅⎝γ + ╲╱ γ - 4 ⋅╲╱ γ + 4 ⎠⋅⎝ℯ               \n",
       "γ⋅ℯ    ⋅│─────────────────────────────────────────────────────────────────────\n",
       "        │                                                            _______  \n",
       "        │                                                          ╲╱ γ - 4   \n",
       "──────────────────────────────────────────────────────────────────────────────\n",
       "                                                                64⋅(γ + 4)    \n",
       "\n",
       "                                                          2\n",
       "_   _______⎞      ⎛      _______   _______⎞⎞             │ \n",
       " ⋅╲╱ γ + 4 ⎠    t⋅⎝γ + ╲╱ γ - 4 ⋅╲╱ γ + 4 ⎠⎟             │ \n",
       "────────────    ───────────────────────────⎟             │ \n",
       "                             4             ⎟             │ \n",
       "             - ℯ                           ⎠⋅Heaviside(t)│ \n",
       "─────────────────────────────────────────────────────────│ \n",
       "                                                         │ \n",
       "                                                         │ \n",
       "───────────────────────────────────────────────────────────\n",
       "                                                           "
      ]
     },
     "execution_count": 34,
     "metadata": {},
     "output_type": "execute_result"
    }
   ],
   "source": [
    "hatpsisquarednorm(t, _gamma=gamma)"
   ]
  },
  {
   "cell_type": "code",
   "execution_count": 35,
   "metadata": {},
   "outputs": [],
   "source": [
    "def prob_0_hatpsi(_t):\n",
    "    return abs(hatpsi(_t)[0]**2) / (abs(hatpsi(_t)[0]**2) + abs(hatpsi(_t)[1]**2))"
   ]
  },
  {
   "cell_type": "code",
   "execution_count": 36,
   "metadata": {},
   "outputs": [],
   "source": [
    "def prob_1_hatpsi(_t):\n",
    "    return abs(hatpsi(_t)[1]**2) / (abs(hatpsi(_t)[0]**2) + abs(hatpsi(_t)[1]**2))"
   ]
  },
  {
   "cell_type": "code",
   "execution_count": 37,
   "metadata": {},
   "outputs": [
    {
     "data": {
      "image/png": "[encoded data removed]",
      "text/plain": [
       "<Figure size 432x288 with 1 Axes>"
      ]
     },
     "metadata": {
      "needs_background": "light"
     },
     "output_type": "display_data"
    },
    {
     "data": {
      "text/plain": [
       "<sympy.plotting.plot.Plot at 0x7faea78210f0>"
      ]
     },
     "execution_count": 37,
     "metadata": {},
     "output_type": "execute_result"
    }
   ],
   "source": [
    "plot( abs(hatpsi(t)[1]**2), (t, -2, 2*pi), line_color='b')"
   ]
  },
  {
   "cell_type": "code",
   "execution_count": 38,
   "metadata": {},
   "outputs": [
    {
     "data": {
      "image/png": "[encoded data removed]",
      "text/latex": [
       "$$0.000707719485889989$$"
      ],
      "text/plain": [
       "0.000707719485889989"
      ]
     },
     "execution_count": 38,
     "metadata": {},
     "output_type": "execute_result"
    }
   ],
   "source": [
    "hatpsisquarednorm(1.0)"
   ]
  },
  {
   "cell_type": "code",
   "execution_count": 39,
   "metadata": {},
   "outputs": [
    {
     "data": {
      "image/png": "[encoded data removed]",
      "text/latex": [
       "$$0.0007077194858899885$$"
      ],
      "text/plain": [
       "0.0007077194858899885"
      ]
     },
     "execution_count": 39,
     "metadata": {},
     "output_type": "execute_result"
    }
   ],
   "source": [
    "hatpsisquarednorm_n(1.0)"
   ]
  },
  {
   "cell_type": "code",
   "execution_count": 40,
   "metadata": {},
   "outputs": [],
   "source": [
    "# Need to integrate numerically\n",
    "bayesian_denominator_nonpw = scipy.integrate.quad(hatpsisquarednorm_n, 0, 2*np.pi)[0]"
   ]
  },
  {
   "cell_type": "code",
   "execution_count": 41,
   "metadata": {},
   "outputs": [
    {
     "data": {
      "image/png": "[encoded data removed]",
      "text/plain": [
       "<Figure size 432x288 with 1 Axes>"
      ]
     },
     "metadata": {
      "needs_background": "light"
     },
     "output_type": "display_data"
    },
    {
     "data": {
      "text/plain": [
       "<sympy.plotting.plot.Plot at 0x7faea76eea20>"
      ]
     },
     "execution_count": 41,
     "metadata": {},
     "output_type": "execute_result"
    }
   ],
   "source": [
    "plot( abs(hatpsi(t)[1]**2)/bayesian_denominator_nonpw, (t, -2, 2*pi), line_color='y')"
   ]
  },
  {
   "cell_type": "code",
   "execution_count": 42,
   "metadata": {},
   "outputs": [],
   "source": [
    "\n",
    "\n",
    "#### TODO: Fourier transform...\n",
    "\n",
    "\n",
    "# TODO: switch to numeric and use FFT \n",
    "# https://docs.scipy.org/doc/numpy-1.15.0/reference/routines.fft.html#real-and-hermitian-transforms\n",
    "# The below takes ages to complete\n",
    "\n",
    "\n",
    "#def fhatpsi1(_nu):\n",
    "#    return fourier_transform(hatpsi(t)[1], t, _nu)"
   ]
  },
  {
   "cell_type": "code",
   "execution_count": 43,
   "metadata": {},
   "outputs": [],
   "source": [
    "#plot(abs(fhatpsi1(nu))**2, (nu, -1, 1), line_color='#bbbbbb')"
   ]
  },
  {
   "cell_type": "markdown",
   "metadata": {},
   "source": [
    "> The above Fourier transform is defined in frequency (\\nu) not angular frequency (\\omega),\n",
    "therefore needs rescaling."
   ]
  },
  {
   "cell_type": "code",
   "execution_count": 44,
   "metadata": {},
   "outputs": [],
   "source": [
    "#def fhatpsiomega(_omega):\n",
    "#    return fhatpsi1(_omega/(2*pi)) / sqrt((2*pi))"
   ]
  },
  {
   "cell_type": "code",
   "execution_count": 45,
   "metadata": {},
   "outputs": [],
   "source": [
    "#plot(abs(fhatpsiomega(omega))**2, (omega, -2*pi, 2*pi), line_color='magenta')"
   ]
  },
  {
   "cell_type": "code",
   "execution_count": 46,
   "metadata": {},
   "outputs": [],
   "source": [
    "# graphical comparison with a normalized gaussian\n",
    "#sigma = 1.0\n",
    "#plot((1/(sqrt(2*pi)*sigma)) * exp(-omega**2/(2*(sigma)**2)), (omega, -2*pi, 2*pi), line_color='magenta')"
   ]
  },
  {
   "cell_type": "markdown",
   "metadata": {},
   "source": [
    "## (Discrete) Page-Wootters model"
   ]
  },
  {
   "cell_type": "code",
   "execution_count": 47,
   "metadata": {},
   "outputs": [],
   "source": [
    "from scipy.linalg import dft, norm, expm\n",
    "from scipy import stats"
   ]
  },
  {
   "cell_type": "code",
   "execution_count": 48,
   "metadata": {},
   "outputs": [],
   "source": [
    "T = np.diag(np.arange(0,32)) * np.pi / 16"
   ]
  },
  {
   "cell_type": "code",
   "execution_count": 49,
   "metadata": {},
   "outputs": [],
   "source": [
    "# The NumPy Fourier matrix is the conjugate of Mathematica's one,\n",
    "# hence the trailing .conj() \n",
    "F = dft(32, scale='sqrtn').conj()"
   ]
  },
  {
   "cell_type": "code",
   "execution_count": 50,
   "metadata": {},
   "outputs": [],
   "source": [
    "F_dagger = F.conj().T"
   ]
  },
  {
   "cell_type": "code",
   "execution_count": 51,
   "metadata": {},
   "outputs": [],
   "source": [
    "Omega = F @ T @ F_dagger * 16 / np.pi"
   ]
  },
  {
   "cell_type": "code",
   "execution_count": 52,
   "metadata": {},
   "outputs": [],
   "source": [
    "oeigenvalues, oeigenvectors = np.linalg.eig(Omega)"
   ]
  },
  {
   "cell_type": "code",
   "execution_count": 53,
   "metadata": {},
   "outputs": [
    {
     "data": {
      "text/plain": [
       "array([-0.-0.j, 31.-0.j,  1.-0.j, 30.+0.j,  2.+0.j, 29.+0.j,  3.+0.j,\n",
       "       28.-0.j,  4.+0.j, 27.+0.j,  5.-0.j, 26.-0.j,  6.-0.j, 25.-0.j,\n",
       "        7.+0.j,  8.-0.j, 24.+0.j,  9.-0.j, 23.-0.j, 10.-0.j, 22.-0.j,\n",
       "       11.-0.j, 21.-0.j, 12.-0.j, 13.-0.j, 20.-0.j, 14.-0.j, 15.-0.j,\n",
       "       19.-0.j, 16.+0.j, 17.-0.j, 18.-0.j])"
      ]
     },
     "execution_count": 53,
     "metadata": {},
     "output_type": "execute_result"
    }
   ],
   "source": [
    "np.round(oeigenvalues)"
   ]
  },
  {
   "cell_type": "code",
   "execution_count": 54,
   "metadata": {},
   "outputs": [],
   "source": [
    "H = np.array([\n",
    "    [0, 1],\n",
    "    [1, 0]\n",
    "])"
   ]
  },
  {
   "cell_type": "code",
   "execution_count": 55,
   "metadata": {},
   "outputs": [],
   "source": [
    "#D = np.array([\n",
    "#    [0, 0],\n",
    "#    [0, np.sqrt(2)]\n",
    "#])"
   ]
  },
  {
   "cell_type": "code",
   "execution_count": 56,
   "metadata": {},
   "outputs": [],
   "source": [
    "#K = H - 1j*D"
   ]
  },
  {
   "cell_type": "code",
   "execution_count": 57,
   "metadata": {},
   "outputs": [],
   "source": [
    "#K"
   ]
  },
  {
   "cell_type": "code",
   "execution_count": 58,
   "metadata": {},
   "outputs": [],
   "source": [
    "J = np.kron(Omega, np.eye(2)) + np.kron(np.eye(32), H)"
   ]
  },
  {
   "cell_type": "code",
   "execution_count": 59,
   "metadata": {},
   "outputs": [],
   "source": [
    "eigenvalues, eigenvectors = np.linalg.eig(J)"
   ]
  },
  {
   "cell_type": "code",
   "execution_count": 60,
   "metadata": {},
   "outputs": [],
   "source": [
    "EnergyCorrectionMatrices = np.zeros((64, 64, 64), np.complex)\n",
    "for n in range(64):\n",
    "    EnergyCorrectionMatrices[n] = np.kron(\n",
    "        expm(-1j*eigenvalues[n]*T),\n",
    "        np.eye(2)\n",
    "    )\n",
    "# TODO: DRY\n",
    "EnergyCorrectionMatricesT = np.zeros((64, 32, 32), np.complex)\n",
    "for n in range(64):\n",
    "    EnergyCorrectionMatricesT[n] = expm(-1j*eigenvalues[n]*T)\n"
   ]
  },
  {
   "cell_type": "code",
   "execution_count": 61,
   "metadata": {},
   "outputs": [],
   "source": [
    "def history_vector(eigenindex):\n",
    "    # Needs matrix transposition \".T\" (different convention as opposed to Mathematica)\n",
    "    eigenvector = eigenvectors.T[eigenindex]\n",
    "    return EnergyCorrectionMatrices[eigenindex] @ eigenvector\n",
    "\n",
    "# \"unflatten\" the history_vector v into a a sequence of qubit component pairs\n",
    "def reshape(v):\n",
    "    return np.reshape(v, (-1,2))\n",
    "\n",
    "# also make the first component real\n",
    "def normalize_initial(v):\n",
    "    vout = np.zeros(64, np.complex)\n",
    "    # A phase factor to make it real\n",
    "    vout = v * np.exp(-1j * np.angle(v[0]))\n",
    "    # And a factor to normalize the initial state\n",
    "    vout = vout / sqrt(\n",
    "        np.abs(vout[0]**2) + np.abs(vout[1]**2)\n",
    "    )\n",
    "    return vout"
   ]
  },
  {
   "cell_type": "code",
   "execution_count": 62,
   "metadata": {},
   "outputs": [],
   "source": [
    "# Find the best linear combination to obtain |0> as initial state\n",
    "def find_best():\n",
    "    max_prob0 = 0\n",
    "    max_prob0_i = 0\n",
    "    max_prob0_j = 0\n",
    "    for i in range(32):\n",
    "        for j in range(32):\n",
    "            qbi = reshape(history_vector(i))\n",
    "            qbj = reshape(history_vector(j))\n",
    "            qbit_hist = qbi + qbj\n",
    "            prob0 = np.abs(qbit_hist[0][0]**2) / (\n",
    "                np.abs(qbit_hist[0][0]**2) + np.abs(qbit_hist[0][1]**2)\n",
    "            )\n",
    "            if prob0 > max_prob0:\n",
    "                max_prob0 = prob0\n",
    "                max_prob0_i = i\n",
    "                max_prob0_j = j\n",
    "    print (max_prob0_i, max_prob0_j, max_prob0)\n",
    "    return (max_prob0_i, max_prob0_j)\n",
    "    "
   ]
  },
  {
   "cell_type": "code",
   "execution_count": 63,
   "metadata": {},
   "outputs": [
    {
     "name": "stdout",
     "output_type": "stream",
     "text": [
      "4 4 1.0\n"
     ]
    }
   ],
   "source": [
    "# start with |0> as close as possible\n",
    "i, j = find_best()\n",
    "qbhistvec = normalize_initial(history_vector(i) + history_vector(j))\n",
    "qbhist = reshape(qbhistvec) "
   ]
  },
  {
   "cell_type": "code",
   "execution_count": 64,
   "metadata": {},
   "outputs": [],
   "source": [
    "qbhist = qbhist.astype(complex)"
   ]
  },
  {
   "cell_type": "markdown",
   "metadata": {},
   "source": [
    "Consitently with \"odinary QM\" findings, the component along |0> stays purely real, and the component along |1> stays purely imaginary."
   ]
  },
  {
   "cell_type": "code",
   "execution_count": 65,
   "metadata": {},
   "outputs": [],
   "source": [
    "# Fill data for plotting\n",
    "times = np.arange(0, 2*np.pi, np.pi/16)\n",
    "norms = np.zeros(32)\n",
    "probs0 = np.zeros(32)\n",
    "probs1 = np.zeros(32)\n",
    "# Components 0 are pure real, componets 1 are pure imag\n",
    "real_parts0 = np.real(qbhist.T[0])\n",
    "imag_parts0 = np.imag(qbhist.T[0])\n",
    "real_parts1 = np.real(qbhist.T[1])\n",
    "imag_parts1 = np.imag(qbhist.T[1])\n",
    "\n",
    "for i in range(0, 32):\n",
    "    norms[i] = (np.abs(qbhist[i][0]**2) + np.abs(qbhist[i][1]**2))\n",
    "    probs0[i] = np.abs(qbhist[i][0]**2) / (\n",
    "        np.abs(qbhist[i][0]**2) + np.abs(qbhist[i][1]**2) )\n",
    "    probs1[i] = np.abs(qbhist[i][1]**2) / (\n",
    "        np.abs(qbhist[i][0]**2) + np.abs(qbhist[i][1]**2) )"
   ]
  },
  {
   "cell_type": "code",
   "execution_count": 66,
   "metadata": {},
   "outputs": [
    {
     "data": {
      "text/plain": [
       "[<matplotlib.lines.Line2D at 0x7faea61b75f8>]"
      ]
     },
     "execution_count": 66,
     "metadata": {},
     "output_type": "execute_result"
    },
    {
     "data": {
      "image/png": "[encoded data removed]",
      "text/plain": [
       "<Figure size 432x288 with 1 Axes>"
      ]
     },
     "metadata": {
      "needs_background": "light"
     },
     "output_type": "display_data"
    }
   ],
   "source": [
    "plt.plot(times, norms/norms[0], 'g^')"
   ]
  },
  {
   "cell_type": "code",
   "execution_count": 67,
   "metadata": {},
   "outputs": [
    {
     "data": {
      "text/plain": [
       "[<matplotlib.lines.Line2D at 0x7faea610af28>]"
      ]
     },
     "execution_count": 67,
     "metadata": {},
     "output_type": "execute_result"
    },
    {
     "data": {
      "image/png": "[encoded data removed]",
      "text/plain": [
       "<Figure size 432x288 with 1 Axes>"
      ]
     },
     "metadata": {
      "needs_background": "light"
     },
     "output_type": "display_data"
    }
   ],
   "source": [
    "plt.plot(times, probs0, 'rs')"
   ]
  },
  {
   "cell_type": "code",
   "execution_count": 68,
   "metadata": {},
   "outputs": [
    {
     "data": {
      "text/plain": [
       "[<matplotlib.lines.Line2D at 0x7faea60ed2e8>]"
      ]
     },
     "execution_count": 68,
     "metadata": {},
     "output_type": "execute_result"
    },
    {
     "data": {
      "image/png": "[encoded data removed]",
      "text/plain": [
       "<Figure size 432x288 with 1 Axes>"
      ]
     },
     "metadata": {
      "needs_background": "light"
     },
     "output_type": "display_data"
    }
   ],
   "source": [
    "plt.plot(times, probs1, 'bs')"
   ]
  },
  {
   "cell_type": "code",
   "execution_count": 69,
   "metadata": {},
   "outputs": [
    {
     "data": {
      "text/plain": [
       "[<matplotlib.lines.Line2D at 0x7faea6047668>]"
      ]
     },
     "execution_count": 69,
     "metadata": {},
     "output_type": "execute_result"
    },
    {
     "data": {
      "image/png": "[encoded data removed]",
      "text/plain": [
       "<Figure size 432x288 with 1 Axes>"
      ]
     },
     "metadata": {
      "needs_background": "light"
     },
     "output_type": "display_data"
    }
   ],
   "source": [
    "plt.plot(times, real_parts0, 'rs')"
   ]
  },
  {
   "cell_type": "code",
   "execution_count": 70,
   "metadata": {},
   "outputs": [
    {
     "data": {
      "text/plain": [
       "<matplotlib.collections.PathCollection at 0x7faea6026748>"
      ]
     },
     "execution_count": 70,
     "metadata": {},
     "output_type": "execute_result"
    },
    {
     "data": {
      "image/png": "[encoded data removed]",
      "text/plain": [
       "<Figure size 432x288 with 1 Axes>"
      ]
     },
     "metadata": {
      "needs_background": "light"
     },
     "output_type": "display_data"
    }
   ],
   "source": [
    "plt.scatter(times, imag_parts0, color='0.75', marker='s')"
   ]
  },
  {
   "cell_type": "code",
   "execution_count": 71,
   "metadata": {},
   "outputs": [
    {
     "data": {
      "text/plain": [
       "<matplotlib.collections.PathCollection at 0x7faea5f81e48>"
      ]
     },
     "execution_count": 71,
     "metadata": {},
     "output_type": "execute_result"
    },
    {
     "data": {
      "image/png": "[encoded data removed]",
      "text/plain": [
       "<Figure size 432x288 with 1 Axes>"
      ]
     },
     "metadata": {
      "needs_background": "light"
     },
     "output_type": "display_data"
    }
   ],
   "source": [
    "plt.scatter(times, real_parts1, color='0.75', marker='s')"
   ]
  },
  {
   "cell_type": "code",
   "execution_count": 72,
   "metadata": {},
   "outputs": [
    {
     "data": {
      "text/plain": [
       "[<matplotlib.lines.Line2D at 0x7faea5f64390>]"
      ]
     },
     "execution_count": 72,
     "metadata": {},
     "output_type": "execute_result"
    },
    {
     "data": {
      "image/png": "[encoded data removed]",
      "text/plain": [
       "<Figure size 432x288 with 1 Axes>"
      ]
     },
     "metadata": {
      "needs_background": "light"
     },
     "output_type": "display_data"
    }
   ],
   "source": [
    "plt.plot(times, imag_parts1, 'bs')"
   ]
  },
  {
   "cell_type": "markdown",
   "metadata": {},
   "source": [
    "## TOA prob as in Maccone/Sacha arXiv:1810.12869\n",
    "_Adapted from $\\S$ \"Time of arbitrary event\"._"
   ]
  },
  {
   "cell_type": "markdown",
   "metadata": {},
   "source": [
    "\\begin{equation}\n",
    "    p(t|1) = \\frac{\\left|\\psi(1|t)\\right|^2}{\\int_0^\\mathcal{T} dt \\left|\\psi(1|t)\\right|^2} = \n",
    "    \\frac{\n",
    "        \\left| {}_{T}\\langle n | \\otimes {}_{S}\\langle 1 | \\Psi \\rangle\\rangle \\right|^2\n",
    "    }{\n",
    "        %\\frac{\\mathcal{T}}{N}\n",
    "        \\sum_{n'=0}^{N-1} \\left| {}_{T}\\langle n' | \\otimes {}_{S}\\langle 1 | \\Psi \\rangle\\rangle \\right|^2\n",
    "    }\n",
    "\\end{equation}"
   ]
  },
  {
   "cell_type": "markdown",
   "metadata": {},
   "source": [
    "Where:\n",
    "\n",
    "* $\\psi(1|t) = \\langle 1 | \\psi(t) \\rangle = {}_{T}\\langle n | \\otimes {}_{S}\\langle 1 | \\Psi \\rangle\\rangle$\n",
    "* $t = \\frac{2\\pi}{N} n$ and ${}_{T}\\langle n |$ is the corresponding time eigenstate.\n",
    "* We fix period $\\mathcal{T}=2\\pi$\n",
    "    i.e. period of a Rabi oscillation for $H = \\hbar\\omega\\begin{pmatrix}0&1\\\\1&0\\end{pmatrix}$\n",
    "    and $\\hbar = \\omega = 1$."
   ]
  },
  {
   "cell_type": "code",
   "execution_count": 73,
   "metadata": {},
   "outputs": [],
   "source": [
    "qbhistvec =  qbhistvec.astype(complex)\n",
    "qbhistvec_normalized = qbhistvec / np.linalg.norm(qbhistvec)"
   ]
  },
  {
   "cell_type": "code",
   "execution_count": 74,
   "metadata": {},
   "outputs": [],
   "source": [
    "def t_eigenstate(n):\n",
    "    v = np.zeros(32, dtype=np.complex)\n",
    "    v[n] = 1\n",
    "    return v"
   ]
  },
  {
   "cell_type": "code",
   "execution_count": 75,
   "metadata": {},
   "outputs": [
    {
     "data": {
      "text/plain": [
       "array([0.+0.j, 0.+0.j, 1.+0.j, 0.+0.j, 0.+0.j, 0.+0.j, 0.+0.j, 0.+0.j,\n",
       "       0.+0.j, 0.+0.j, 0.+0.j, 0.+0.j, 0.+0.j, 0.+0.j, 0.+0.j, 0.+0.j,\n",
       "       0.+0.j, 0.+0.j, 0.+0.j, 0.+0.j, 0.+0.j, 0.+0.j, 0.+0.j, 0.+0.j,\n",
       "       0.+0.j, 0.+0.j, 0.+0.j, 0.+0.j, 0.+0.j, 0.+0.j, 0.+0.j, 0.+0.j])"
      ]
     },
     "execution_count": 75,
     "metadata": {},
     "output_type": "execute_result"
    }
   ],
   "source": [
    "t_eigenstate(n=2)"
   ]
  },
  {
   "cell_type": "code",
   "execution_count": 76,
   "metadata": {},
   "outputs": [],
   "source": [
    "qubit1 = np.array([0, 1])"
   ]
  },
  {
   "cell_type": "code",
   "execution_count": 77,
   "metadata": {},
   "outputs": [],
   "source": [
    "def tn_ox_1(n):\n",
    "    return np.kron(t_eigenstate(n), qubit1)"
   ]
  },
  {
   "cell_type": "code",
   "execution_count": 78,
   "metadata": {},
   "outputs": [],
   "source": [
    "def joint_prob(n):\n",
    "    return np.abs(tn_ox_1(n) @ qbhistvec_normalized)**2"
   ]
  },
  {
   "cell_type": "code",
   "execution_count": 111,
   "metadata": {},
   "outputs": [],
   "source": [
    "X = np.arange(32)\n",
    "iterable = (joint_prob(n) for n in X)\n",
    "Y = np.fromiter(iterable, float)"
   ]
  },
  {
   "cell_type": "code",
   "execution_count": 112,
   "metadata": {},
   "outputs": [],
   "source": [
    "X = X * (2*np.pi/32)\n",
    "Y = Y / (2*np.pi/32)"
   ]
  },
  {
   "cell_type": "code",
   "execution_count": 113,
   "metadata": {},
   "outputs": [],
   "source": [
    "bayes_denominator = np.sum(Y * (2*np.pi/32))\n",
    "Y = Y / bayes_denominator"
   ]
  },
  {
   "cell_type": "code",
   "execution_count": 114,
   "metadata": {},
   "outputs": [
    {
     "data": {
      "text/plain": [
       "[<matplotlib.lines.Line2D at 0x7faea5af5be0>]"
      ]
     },
     "execution_count": 114,
     "metadata": {},
     "output_type": "execute_result"
    },
    {
     "data": {
      "image/png": "[encoded data removed]",
      "text/plain": [
       "<Figure size 432x288 with 1 Axes>"
      ]
     },
     "metadata": {
      "needs_background": "light"
     },
     "output_type": "display_data"
    }
   ],
   "source": [
    "plt.plot(X, Y, 'ys')"
   ]
  },
  {
   "cell_type": "code",
   "execution_count": 82,
   "metadata": {},
   "outputs": [
    {
     "data": {
      "image/png": "[encoded data removed]",
      "text/latex": [
       "$$1.0$$"
      ],
      "text/plain": [
       "1.0"
      ]
     },
     "execution_count": 82,
     "metadata": {},
     "output_type": "execute_result"
    }
   ],
   "source": [
    "np.sum(Y)"
   ]
  },
  {
   "cell_type": "code",
   "execution_count": null,
   "metadata": {},
   "outputs": [],
   "source": []
  }
 ],
 "metadata": {
  "kernelspec": {
   "display_name": "Python 3",
   "language": "python",
   "name": "python3"
  },
  "language_info": {
   "codemirror_mode": {
    "name": "ipython",
    "version": 3
   },
   "file_extension": ".py",
   "mimetype": "text/x-python",
   "name": "python",
   "nbconvert_exporter": "python",
   "pygments_lexer": "ipython3",
   "version": "3.7.1"
  }
 },
 "nbformat": 4,
 "nbformat_minor": 2
}
