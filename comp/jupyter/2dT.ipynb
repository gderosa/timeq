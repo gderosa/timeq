{
 "cells": [
  {
   "cell_type": "code",
   "execution_count": 2,
   "metadata": {},
   "outputs": [],
   "source": [
    "from sympy import *\n",
    "from sympy.physics.matrices import mdft\n",
    "from sympy.physics.quantum import TensorProduct\n",
    "from sympy.physics.quantum.constants import hbar"
   ]
  },
  {
   "cell_type": "code",
   "execution_count": 3,
   "metadata": {},
   "outputs": [],
   "source": [
    "# Remeber this to have LaTeX rendered output in Jupyter\n",
    "init_printing()"
   ]
  },
  {
   "cell_type": "code",
   "execution_count": 4,
   "metadata": {},
   "outputs": [],
   "source": [
    "Delta = Symbol(r'\\Delta', real=True)\n",
    "delta = Symbol(r'\\delta', real=True)\n",
    "Omega = Symbol(r'\\Omega')\n",
    "omega = Symbol(r'\\omega', real=True)"
   ]
  },
  {
   "cell_type": "code",
   "execution_count": 25,
   "metadata": {},
   "outputs": [],
   "source": [
    "hbar = 1"
   ]
  },
  {
   "cell_type": "code",
   "execution_count": 26,
   "metadata": {},
   "outputs": [],
   "source": [
    "Delta = Rational(1,2) # 1/N, N=dimension of H_T"
   ]
  },
  {
   "cell_type": "code",
   "execution_count": 27,
   "metadata": {},
   "outputs": [],
   "source": [
    "delta = 0.0001"
   ]
  },
  {
   "cell_type": "code",
   "execution_count": 28,
   "metadata": {},
   "outputs": [],
   "source": [
    "F = mdft(2)"
   ]
  },
  {
   "cell_type": "code",
   "execution_count": 29,
   "metadata": {},
   "outputs": [],
   "source": [
    "T = (pi/omega) * Matrix([\n",
    "    [delta, 0],\n",
    "    [0, Delta+delta]\n",
    "])"
   ]
  },
  {
   "cell_type": "code",
   "execution_count": 30,
   "metadata": {},
   "outputs": [
    {
     "data": {
      "text/latex": [
       "$$\\left[\\begin{matrix}\\frac{0.0001 \\pi}{\\omega} & 0\\\\0 & \\frac{0.5001 \\pi}{\\omega}\\end{matrix}\\right]$$"
      ],
      "text/plain": [
       "⎡0.0001⋅π          ⎤\n",
       "⎢────────     0    ⎥\n",
       "⎢ \\omega           ⎥\n",
       "⎢                  ⎥\n",
       "⎢          0.5001⋅π⎥\n",
       "⎢   0      ────────⎥\n",
       "⎣           \\omega ⎦"
      ]
     },
     "execution_count": 30,
     "metadata": {},
     "output_type": "execute_result"
    }
   ],
   "source": [
    "T"
   ]
  },
  {
   "cell_type": "code",
   "execution_count": 31,
   "metadata": {},
   "outputs": [],
   "source": [
    "Omega = (omega**2/(pi*Delta**2))*F*T*(F.adjoint())"
   ]
  },
  {
   "cell_type": "code",
   "execution_count": 32,
   "metadata": {},
   "outputs": [
    {
     "data": {
      "text/latex": [
       "$$\\left[\\begin{matrix}1.0004 \\omega & - 1.0 \\omega\\\\- 1.0 \\omega & 1.0004 \\omega\\end{matrix}\\right]$$"
      ],
      "text/plain": [
       "⎡1.0004⋅\\omega   -1.0⋅\\omega ⎤\n",
       "⎢                            ⎥\n",
       "⎣ -1.0⋅\\omega   1.0004⋅\\omega⎦"
      ]
     },
     "execution_count": 32,
     "metadata": {},
     "output_type": "execute_result"
    }
   ],
   "source": [
    "Omega"
   ]
  },
  {
   "cell_type": "code",
   "execution_count": 33,
   "metadata": {},
   "outputs": [],
   "source": [
    "Hs = I*hbar*omega*Matrix([\n",
    "    [0, 1],\n",
    "    [-1,0]\n",
    "])"
   ]
  },
  {
   "cell_type": "code",
   "execution_count": 34,
   "metadata": {},
   "outputs": [],
   "source": [
    "J = TensorProduct(hbar*Omega, eye(2)) + TensorProduct(eye(2), Hs)"
   ]
  },
  {
   "cell_type": "code",
   "execution_count": 35,
   "metadata": {},
   "outputs": [
    {
     "data": {
      "text/latex": [
       "$$\\left[\\begin{matrix}1.0004 \\omega & i \\omega & - 1.0 \\omega & 0\\\\- i \\omega & 1.0004 \\omega & 0 & - 1.0 \\omega\\\\- 1.0 \\omega & 0 & 1.0004 \\omega & i \\omega\\\\0 & - 1.0 \\omega & - i \\omega & 1.0004 \\omega\\end{matrix}\\right]$$"
      ],
      "text/plain": [
       "⎡1.0004⋅\\omega    ⅈ⋅\\omega      -1.0⋅\\omega         0      ⎤\n",
       "⎢                                                          ⎥\n",
       "⎢  -ⅈ⋅\\omega    1.0004⋅\\omega        0         -1.0⋅\\omega ⎥\n",
       "⎢                                                          ⎥\n",
       "⎢ -1.0⋅\\omega         0        1.0004⋅\\omega    ⅈ⋅\\omega   ⎥\n",
       "⎢                                                          ⎥\n",
       "⎣      0         -1.0⋅\\omega     -ⅈ⋅\\omega    1.0004⋅\\omega⎦"
      ]
     },
     "execution_count": 35,
     "metadata": {},
     "output_type": "execute_result"
    }
   ],
   "source": [
    "J"
   ]
  },
  {
   "cell_type": "code",
   "execution_count": 36,
   "metadata": {},
   "outputs": [
    {
     "data": {
      "text/latex": [
       "$$\\left [ \\left ( - 0.9996 \\omega, \\quad 1, \\quad \\left [ \\left[\\begin{matrix}- 1.0 i\\\\1.0\\\\- 1.0 i\\\\1.0\\end{matrix}\\right]\\right ]\\right ), \\quad \\left ( 1.0004 \\omega, \\quad 2, \\quad \\left [ \\left[\\begin{matrix}0\\\\- 1.0 i\\\\1.0\\\\0\\end{matrix}\\right], \\quad \\left[\\begin{matrix}1.0 i\\\\0\\\\0\\\\1.0\\end{matrix}\\right]\\right ]\\right ), \\quad \\left ( 3.0004 \\omega, \\quad 1, \\quad \\left [ \\left[\\begin{matrix}- 1.0 i\\\\-1.0\\\\1.0 i\\\\1.0\\end{matrix}\\right]\\right ]\\right )\\right ]$$"
      ],
      "text/plain": [
       "⎡⎛                   ⎡⎡-1.0⋅ⅈ⎤⎤⎞  ⎛                  ⎡⎡  0   ⎤  ⎡1.0⋅ⅈ⎤⎤⎞  ⎛  \n",
       "⎢⎜                   ⎢⎢      ⎥⎥⎟  ⎜                  ⎢⎢      ⎥  ⎢     ⎥⎥⎟  ⎜  \n",
       "⎢⎜                   ⎢⎢ 1.0  ⎥⎥⎟  ⎜                  ⎢⎢-1.0⋅ⅈ⎥  ⎢  0  ⎥⎥⎟  ⎜  \n",
       "⎢⎜-0.9996⋅\\omega, 1, ⎢⎢      ⎥⎥⎟, ⎜1.0004⋅\\omega, 2, ⎢⎢      ⎥, ⎢     ⎥⎥⎟, ⎜3.\n",
       "⎢⎜                   ⎢⎢-1.0⋅ⅈ⎥⎥⎟  ⎜                  ⎢⎢ 1.0  ⎥  ⎢  0  ⎥⎥⎟  ⎜  \n",
       "⎢⎜                   ⎢⎢      ⎥⎥⎟  ⎜                  ⎢⎢      ⎥  ⎢     ⎥⎥⎟  ⎜  \n",
       "⎣⎝                   ⎣⎣ 1.0  ⎦⎦⎠  ⎝                  ⎣⎣  0   ⎦  ⎣ 1.0 ⎦⎦⎠  ⎝  \n",
       "\n",
       "                ⎡⎡-1.0⋅ⅈ⎤⎤⎞⎤\n",
       "                ⎢⎢      ⎥⎥⎟⎥\n",
       "                ⎢⎢ -1.0 ⎥⎥⎟⎥\n",
       "0004⋅\\omega, 1, ⎢⎢      ⎥⎥⎟⎥\n",
       "                ⎢⎢1.0⋅ⅈ ⎥⎥⎟⎥\n",
       "                ⎢⎢      ⎥⎥⎟⎥\n",
       "                ⎣⎣ 1.0  ⎦⎦⎠⎦"
      ]
     },
     "execution_count": 36,
     "metadata": {},
     "output_type": "execute_result"
    }
   ],
   "source": [
    "J.eigenvects()"
   ]
  },
  {
   "cell_type": "markdown",
   "metadata": {},
   "source": [
    "## Comparison with ordinary QM "
   ]
  },
  {
   "cell_type": "code",
   "execution_count": 14,
   "metadata": {},
   "outputs": [],
   "source": [
    "def evolve_psi(t, t0, psi0):\n",
    "    return exp(-I*Hs*(t-t0)/hbar)*psi0"
   ]
  },
  {
   "cell_type": "code",
   "execution_count": 15,
   "metadata": {},
   "outputs": [],
   "source": [
    "def evolve_psi_correction(t, t0, eigenJ):\n",
    "    return exp(eigenJ*I*(t-t0)/hbar)"
   ]
  },
  {
   "cell_type": "code",
   "execution_count": 16,
   "metadata": {},
   "outputs": [
    {
     "data": {
      "text/latex": [
       "$$\\left[\\begin{matrix}i\\\\0\\end{matrix}\\right]$$"
      ],
      "text/plain": [
       "⎡ⅈ⎤\n",
       "⎢ ⎥\n",
       "⎣0⎦"
      ]
     },
     "execution_count": 16,
     "metadata": {},
     "output_type": "execute_result"
    }
   ],
   "source": [
    "evolve_psi(t=0, t0=0, psi0=Matrix([I,0]))"
   ]
  },
  {
   "cell_type": "code",
   "execution_count": 17,
   "metadata": {},
   "outputs": [
    {
     "data": {
      "text/latex": [
       "$$\\left[\\begin{matrix}0\\\\1\\end{matrix}\\right]$$"
      ],
      "text/plain": [
       "⎡0⎤\n",
       "⎢ ⎥\n",
       "⎣1⎦"
      ]
     },
     "execution_count": 17,
     "metadata": {},
     "output_type": "execute_result"
    }
   ],
   "source": [
    "evolve_psi(pi/(2*omega), 0, Matrix([I,0])) * evolve_psi_correction(pi/(2*omega), 0, hbar*omega)"
   ]
  },
  {
   "cell_type": "markdown",
   "metadata": {},
   "source": [
    "With the phase correction due to the non-zero eigenvalue of J, there is agreement between PW and ordinary QM."
   ]
  }
 ],
 "metadata": {
  "kernelspec": {
   "display_name": "Python 3",
   "language": "python",
   "name": "python3"
  },
  "language_info": {
   "codemirror_mode": {
    "name": "ipython",
    "version": 3
   },
   "file_extension": ".py",
   "mimetype": "text/x-python",
   "name": "python",
   "nbconvert_exporter": "python",
   "pygments_lexer": "ipython3",
   "version": "3.6.5"
  }
 },
 "nbformat": 4,
 "nbformat_minor": 2
}
