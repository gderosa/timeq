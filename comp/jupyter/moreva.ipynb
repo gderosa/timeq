{
 "cells": [
  {
   "cell_type": "markdown",
   "metadata": {},
   "source": [
    "\n",
    "# Analysys of the Moreva et al. experiment\n"
   ]
  },
  {
   "cell_type": "markdown",
   "metadata": {},
   "source": [
    "\n",
    "\n",
    "## Preliminaries"
   ]
  },
  {
   "cell_type": "code",
   "execution_count": 1,
   "metadata": {},
   "outputs": [],
   "source": [
    "# Symbolic computation\n",
    "from sympy import *\n",
    "from sympy.physics.matrices import mdft\n",
    "from sympy.physics.quantum import TensorProduct\n",
    "from sympy.physics.quantum.constants import hbar"
   ]
  },
  {
   "cell_type": "code",
   "execution_count": 2,
   "metadata": {},
   "outputs": [],
   "source": [
    "# Remeber this to have LaTeX rendered output in Jupyter\n",
    "init_printing()"
   ]
  },
  {
   "cell_type": "markdown",
   "metadata": {},
   "source": [
    "## Computation"
   ]
  },
  {
   "cell_type": "code",
   "execution_count": 3,
   "metadata": {},
   "outputs": [],
   "source": [
    "Omega = Symbol(r'\\Omega')\n",
    "omega = Symbol(r'\\omega', real=True)"
   ]
  },
  {
   "cell_type": "code",
   "execution_count": 4,
   "metadata": {},
   "outputs": [],
   "source": [
    "F = mdft(2)"
   ]
  },
  {
   "cell_type": "code",
   "execution_count": 5,
   "metadata": {},
   "outputs": [],
   "source": [
    "Omega = I*omega*Matrix([\n",
    "    [0, 1],\n",
    "    [-1,0]\n",
    "])"
   ]
  },
  {
   "cell_type": "code",
   "execution_count": 6,
   "metadata": {},
   "outputs": [
    {
     "data": {
      "text/latex": [
       "$$\\left [ \\left ( - \\omega, \\quad 1, \\quad \\left [ \\left[\\begin{matrix}- i\\\\1\\end{matrix}\\right]\\right ]\\right ), \\quad \\left ( \\omega, \\quad 1, \\quad \\left [ \\left[\\begin{matrix}i\\\\1\\end{matrix}\\right]\\right ]\\right )\\right ]$$"
      ],
      "text/plain": [
       "⎡⎛            ⎡⎡-ⅈ⎤⎤⎞  ⎛           ⎡⎡ⅈ⎤⎤⎞⎤\n",
       "⎢⎜-\\omega, 1, ⎢⎢  ⎥⎥⎟, ⎜\\omega, 1, ⎢⎢ ⎥⎥⎟⎥\n",
       "⎣⎝            ⎣⎣1 ⎦⎦⎠  ⎝           ⎣⎣1⎦⎦⎠⎦"
      ]
     },
     "execution_count": 6,
     "metadata": {},
     "output_type": "execute_result"
    }
   ],
   "source": [
    "Omega.eigenvects()"
   ]
  },
  {
   "cell_type": "code",
   "execution_count": 7,
   "metadata": {},
   "outputs": [],
   "source": [
    "T = (pi / (2*omega)**2) * F.adjoint()*Omega*F"
   ]
  },
  {
   "cell_type": "code",
   "execution_count": 8,
   "metadata": {},
   "outputs": [
    {
     "data": {
      "text/latex": [
       "$$\\left[\\begin{matrix}0 & - \\frac{i \\pi}{4 \\omega}\\\\\\frac{i \\pi}{4 \\omega} & 0\\end{matrix}\\right]$$"
      ],
      "text/plain": [
       "⎡           -ⅈ⋅π   ⎤\n",
       "⎢   0      ────────⎥\n",
       "⎢          4⋅\\omega⎥\n",
       "⎢                  ⎥\n",
       "⎢  ⅈ⋅π             ⎥\n",
       "⎢────────     0    ⎥\n",
       "⎣4⋅\\omega          ⎦"
      ]
     },
     "execution_count": 8,
     "metadata": {},
     "output_type": "execute_result"
    }
   ],
   "source": [
    "T"
   ]
  },
  {
   "cell_type": "code",
   "execution_count": 9,
   "metadata": {},
   "outputs": [
    {
     "data": {
      "text/latex": [
       "$$\\left [ \\left ( - \\frac{\\pi}{4 \\omega}, \\quad 1, \\quad \\left [ \\left[\\begin{matrix}i\\\\1\\end{matrix}\\right]\\right ]\\right ), \\quad \\left ( \\frac{\\pi}{4 \\omega}, \\quad 1, \\quad \\left [ \\left[\\begin{matrix}- i\\\\1\\end{matrix}\\right]\\right ]\\right )\\right ]$$"
      ],
      "text/plain": [
       "⎡⎛  -π         ⎡⎡ⅈ⎤⎤⎞  ⎛   π         ⎡⎡-ⅈ⎤⎤⎞⎤\n",
       "⎢⎜────────, 1, ⎢⎢ ⎥⎥⎟, ⎜────────, 1, ⎢⎢  ⎥⎥⎟⎥\n",
       "⎣⎝4⋅\\omega     ⎣⎣1⎦⎦⎠  ⎝4⋅\\omega     ⎣⎣1 ⎦⎦⎠⎦"
      ]
     },
     "execution_count": 9,
     "metadata": {},
     "output_type": "execute_result"
    }
   ],
   "source": [
    "T.eigenvects()"
   ]
  },
  {
   "cell_type": "code",
   "execution_count": 10,
   "metadata": {},
   "outputs": [],
   "source": [
    "T_d = diag(-pi/(4*omega), pi/(4*omega))"
   ]
  },
  {
   "cell_type": "code",
   "execution_count": 11,
   "metadata": {},
   "outputs": [
    {
     "data": {
      "text/latex": [
       "$$\\left[\\begin{matrix}- \\frac{\\pi}{4 \\omega} & 0\\\\0 & \\frac{\\pi}{4 \\omega}\\end{matrix}\\right]$$"
      ],
      "text/plain": [
       "⎡  -π              ⎤\n",
       "⎢────────     0    ⎥\n",
       "⎢4⋅\\omega          ⎥\n",
       "⎢                  ⎥\n",
       "⎢             π    ⎥\n",
       "⎢   0      ────────⎥\n",
       "⎣          4⋅\\omega⎦"
      ]
     },
     "execution_count": 11,
     "metadata": {},
     "output_type": "execute_result"
    }
   ],
   "source": [
    "T_d"
   ]
  },
  {
   "cell_type": "markdown",
   "metadata": {},
   "source": [
    "Check: this is what we would obtain with matric of cols egeinv"
   ]
  },
  {
   "cell_type": "code",
   "execution_count": 12,
   "metadata": {},
   "outputs": [],
   "source": [
    "R = (1/sqrt(2)) * Matrix([\n",
    "    [I, -I],\n",
    "    [1, 1]\n",
    "])"
   ]
  },
  {
   "cell_type": "code",
   "execution_count": 13,
   "metadata": {},
   "outputs": [
    {
     "data": {
      "text/latex": [
       "$$\\left[\\begin{matrix}- \\frac{\\pi}{4 \\omega} & 0\\\\0 & \\frac{\\pi}{4 \\omega}\\end{matrix}\\right]$$"
      ],
      "text/plain": [
       "⎡  -π              ⎤\n",
       "⎢────────     0    ⎥\n",
       "⎢4⋅\\omega          ⎥\n",
       "⎢                  ⎥\n",
       "⎢             π    ⎥\n",
       "⎢   0      ────────⎥\n",
       "⎣          4⋅\\omega⎦"
      ]
     },
     "execution_count": 13,
     "metadata": {},
     "output_type": "execute_result"
    }
   ],
   "source": [
    "R.adjoint()*T*R"
   ]
  },
  {
   "cell_type": "code",
   "execution_count": 14,
   "metadata": {},
   "outputs": [],
   "source": [
    "Omega_T_d = (pi/((pi/(2*omega))**2))*F*T_d*F.adjoint()"
   ]
  },
  {
   "cell_type": "code",
   "execution_count": 15,
   "metadata": {},
   "outputs": [
    {
     "data": {
      "text/latex": [
       "$$\\left[\\begin{matrix}0 & - \\omega\\\\- \\omega & 0\\end{matrix}\\right]$$"
      ],
      "text/plain": [
       "⎡   0     -\\omega⎤\n",
       "⎢                ⎥\n",
       "⎣-\\omega     0   ⎦"
      ]
     },
     "execution_count": 15,
     "metadata": {},
     "output_type": "execute_result"
    }
   ],
   "source": [
    "Omega_T_d"
   ]
  },
  {
   "cell_type": "code",
   "execution_count": 16,
   "metadata": {},
   "outputs": [],
   "source": [
    "Hs = I*hbar*omega*Matrix([\n",
    "    [0, 1],\n",
    "    [-1,0]\n",
    "])"
   ]
  },
  {
   "cell_type": "code",
   "execution_count": 18,
   "metadata": {},
   "outputs": [],
   "source": [
    "J = TensorProduct(hbar*Omega_T_d, eye(2)) + TensorProduct(eye(2), Hs)"
   ]
  },
  {
   "cell_type": "code",
   "execution_count": 19,
   "metadata": {},
   "outputs": [
    {
     "data": {
      "text/latex": [
       "$$\\left[\\begin{matrix}0 & \\hbar i \\omega & - \\hbar \\omega & 0\\\\- \\hbar i \\omega & 0 & 0 & - \\hbar \\omega\\\\- \\hbar \\omega & 0 & 0 & \\hbar i \\omega\\\\0 & - \\hbar \\omega & - \\hbar i \\omega & 0\\end{matrix}\\right]$$"
      ],
      "text/plain": [
       "⎡     0       ℏ⋅ⅈ⋅\\omega   -ℏ⋅\\omega       0     ⎤\n",
       "⎢                                                ⎥\n",
       "⎢-ℏ⋅ⅈ⋅\\omega      0            0       -ℏ⋅\\omega ⎥\n",
       "⎢                                                ⎥\n",
       "⎢ -ℏ⋅\\omega       0            0       ℏ⋅ⅈ⋅\\omega⎥\n",
       "⎢                                                ⎥\n",
       "⎣     0       -ℏ⋅\\omega   -ℏ⋅ⅈ⋅\\omega      0     ⎦"
      ]
     },
     "execution_count": 19,
     "metadata": {},
     "output_type": "execute_result"
    }
   ],
   "source": [
    "J"
   ]
  },
  {
   "cell_type": "code",
   "execution_count": 20,
   "metadata": {},
   "outputs": [
    {
     "data": {
      "text/latex": [
       "$$\\left [ \\left ( 0, \\quad 2, \\quad \\left [ \\left[\\begin{matrix}0\\\\- i\\\\1\\\\0\\end{matrix}\\right], \\quad \\left[\\begin{matrix}i\\\\0\\\\0\\\\1\\end{matrix}\\right]\\right ]\\right ), \\quad \\left ( - 2 \\hbar \\omega, \\quad 1, \\quad \\left [ \\left[\\begin{matrix}- i\\\\1\\\\- i\\\\1\\end{matrix}\\right]\\right ]\\right ), \\quad \\left ( 2 \\hbar \\omega, \\quad 1, \\quad \\left [ \\left[\\begin{matrix}- i\\\\-1\\\\i\\\\1\\end{matrix}\\right]\\right ]\\right )\\right ]$$"
      ],
      "text/plain": [
       "⎡⎛      ⎡⎡0 ⎤  ⎡ⅈ⎤⎤⎞  ⎛                ⎡⎡-ⅈ⎤⎤⎞  ⎛               ⎡⎡-ⅈ⎤⎤⎞⎤\n",
       "⎢⎜      ⎢⎢  ⎥  ⎢ ⎥⎥⎟  ⎜                ⎢⎢  ⎥⎥⎟  ⎜               ⎢⎢  ⎥⎥⎟⎥\n",
       "⎢⎜      ⎢⎢-ⅈ⎥  ⎢0⎥⎥⎟  ⎜                ⎢⎢1 ⎥⎥⎟  ⎜               ⎢⎢-1⎥⎥⎟⎥\n",
       "⎢⎜0, 2, ⎢⎢  ⎥, ⎢ ⎥⎥⎟, ⎜-2⋅ℏ⋅\\omega, 1, ⎢⎢  ⎥⎥⎟, ⎜2⋅ℏ⋅\\omega, 1, ⎢⎢  ⎥⎥⎟⎥\n",
       "⎢⎜      ⎢⎢1 ⎥  ⎢0⎥⎥⎟  ⎜                ⎢⎢-ⅈ⎥⎥⎟  ⎜               ⎢⎢ⅈ ⎥⎥⎟⎥\n",
       "⎢⎜      ⎢⎢  ⎥  ⎢ ⎥⎥⎟  ⎜                ⎢⎢  ⎥⎥⎟  ⎜               ⎢⎢  ⎥⎥⎟⎥\n",
       "⎣⎝      ⎣⎣0 ⎦  ⎣1⎦⎦⎠  ⎝                ⎣⎣1 ⎦⎦⎠  ⎝               ⎣⎣1 ⎦⎦⎠⎦"
      ]
     },
     "execution_count": 20,
     "metadata": {},
     "output_type": "execute_result"
    }
   ],
   "source": [
    "J.eigenvects()"
   ]
  },
  {
   "cell_type": "markdown",
   "metadata": {},
   "source": [
    "## Ordinary quantum theory"
   ]
  },
  {
   "cell_type": "code",
   "execution_count": 25,
   "metadata": {},
   "outputs": [],
   "source": [
    "t = Symbol('t')\n",
    "t0 = Symbol('t_0')"
   ]
  },
  {
   "cell_type": "code",
   "execution_count": 26,
   "metadata": {},
   "outputs": [
    {
     "data": {
      "text/latex": [
       "$$\\left[\\begin{matrix}\\frac{1}{2} e^{i \\omega \\left(t - t_{0}\\right)} + \\frac{1}{2} e^{- i \\omega \\left(t - t_{0}\\right)} & - \\frac{i}{2} e^{i \\omega \\left(t - t_{0}\\right)} + \\frac{i}{2} e^{- i \\omega \\left(t - t_{0}\\right)}\\\\\\frac{i}{2} e^{i \\omega \\left(t - t_{0}\\right)} - \\frac{i}{2} e^{- i \\omega \\left(t - t_{0}\\right)} & \\frac{1}{2} e^{i \\omega \\left(t - t_{0}\\right)} + \\frac{1}{2} e^{- i \\omega \\left(t - t_{0}\\right)}\\end{matrix}\\right]$$"
      ],
      "text/plain": [
       "⎡   ⅈ⋅\\omega⋅(t - t₀)    -ⅈ⋅\\omega⋅(t - t₀)         ⅈ⋅\\omega⋅(t - t₀)      -ⅈ⋅\n",
       "⎢  ℯ                    ℯ                        ⅈ⋅ℯ                    ⅈ⋅ℯ   \n",
       "⎢  ────────────────── + ───────────────────    - ──────────────────── + ──────\n",
       "⎢          2                     2                        2                   \n",
       "⎢                                                                             \n",
       "⎢   ⅈ⋅\\omega⋅(t - t₀)      -ⅈ⋅\\omega⋅(t - t₀)      ⅈ⋅\\omega⋅(t - t₀)    -ⅈ⋅\\om\n",
       "⎢ⅈ⋅ℯ                    ⅈ⋅ℯ                       ℯ                    ℯ      \n",
       "⎢──────────────────── - ─────────────────────     ────────────────── + ───────\n",
       "⎣         2                       2                       2                   \n",
       "\n",
       "\\omega⋅(t - t₀)⎤\n",
       "               ⎥\n",
       "───────────────⎥\n",
       "    2          ⎥\n",
       "               ⎥\n",
       "ega⋅(t - t₀)   ⎥\n",
       "               ⎥\n",
       "────────────   ⎥\n",
       "  2            ⎦"
      ]
     },
     "execution_count": 26,
     "metadata": {},
     "output_type": "execute_result"
    }
   ],
   "source": [
    "exp(-I*Hs*(t-t0)/hbar)"
   ]
  },
  {
   "cell_type": "code",
   "execution_count": 28,
   "metadata": {},
   "outputs": [
    {
     "data": {
      "text/latex": [
       "$$\\left[\\begin{matrix}- i \\left(- \\frac{i}{2} e^{i \\omega \\left(t - t_{0}\\right)} + \\frac{i}{2} e^{- i \\omega \\left(t - t_{0}\\right)}\\right)\\\\- i \\left(\\frac{1}{2} e^{i \\omega \\left(t - t_{0}\\right)} + \\frac{1}{2} e^{- i \\omega \\left(t - t_{0}\\right)}\\right)\\end{matrix}\\right]$$"
      ],
      "text/plain": [
       "⎡   ⎛     ⅈ⋅\\omega⋅(t - t₀)      -ⅈ⋅\\omega⋅(t - t₀)⎞⎤\n",
       "⎢   ⎜  ⅈ⋅ℯ                    ⅈ⋅ℯ                  ⎟⎥\n",
       "⎢-ⅈ⋅⎜- ──────────────────── + ─────────────────────⎟⎥\n",
       "⎢   ⎝           2                       2          ⎠⎥\n",
       "⎢                                                   ⎥\n",
       "⎢      ⎛ ⅈ⋅\\omega⋅(t - t₀)    -ⅈ⋅\\omega⋅(t - t₀)⎞   ⎥\n",
       "⎢      ⎜ℯ                    ℯ                  ⎟   ⎥\n",
       "⎢   -ⅈ⋅⎜────────────────── + ───────────────────⎟   ⎥\n",
       "⎣      ⎝        2                     2         ⎠   ⎦"
      ]
     },
     "execution_count": 28,
     "metadata": {},
     "output_type": "execute_result"
    }
   ],
   "source": [
    "exp(-I*Hs*(t-t0)/hbar) * Matrix([0, -I])"
   ]
  },
  {
   "cell_type": "code",
   "execution_count": 29,
   "metadata": {},
   "outputs": [
    {
     "data": {
      "text/latex": [
       "$$\\left[\\begin{matrix}- i\\\\0\\end{matrix}\\right]$$"
      ],
      "text/plain": [
       "⎡-ⅈ⎤\n",
       "⎢  ⎥\n",
       "⎣0 ⎦"
      ]
     },
     "execution_count": 29,
     "metadata": {},
     "output_type": "execute_result"
    }
   ],
   "source": [
    "(exp(-I*Hs*(t-t0)/hbar) * Matrix([0, -I])).subs({t: pi/(4*omega), t0: -pi/(4*omega)})"
   ]
  },
  {
   "cell_type": "markdown",
   "metadata": {},
   "source": [
    "There is consistency in predicting the probability (square modulus), but not probability amplitute: at $t=\\frac{\\pi}{4\\omega}$ P-W finds $(1, 0)$ instead of $(-i, 0)$. But the Rabi oscillation in terms of probability from 100% $\\left|V\\right>$ at $t=t_0=-\\frac{\\pi}{4\\omega}$, to 100% $\\left|H\\right>$ at $t=\\frac{\\pi}{4\\omega}$ is correctly predicted."
   ]
  }
 ],
 "metadata": {
  "celltoolbar": "Raw Cell Format",
  "kernelspec": {
   "display_name": "Python 3",
   "language": "python",
   "name": "python3"
  },
  "language_info": {
   "codemirror_mode": {
    "name": "ipython",
    "version": 3
   },
   "file_extension": ".py",
   "mimetype": "text/x-python",
   "name": "python",
   "nbconvert_exporter": "python",
   "pygments_lexer": "ipython3",
   "version": "3.6.5"
  }
 },
 "nbformat": 4,
 "nbformat_minor": 2
}
