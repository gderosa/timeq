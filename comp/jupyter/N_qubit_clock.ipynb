{
 "cells": [
  {
   "cell_type": "code",
   "execution_count": 2,
   "metadata": {},
   "outputs": [],
   "source": [
    "from sympy import *\n",
    "from sympy.physics.matrices import mdft\n",
    "from sympy.physics.quantum.dagger import Dagger\n",
    "from IPython.display import display, Math, Latex"
   ]
  },
  {
   "cell_type": "code",
   "execution_count": 3,
   "metadata": {},
   "outputs": [],
   "source": [
    "N = 4"
   ]
  },
  {
   "cell_type": "code",
   "execution_count": 4,
   "metadata": {},
   "outputs": [],
   "source": [
    "T = diag(*map(lambda k: 2*pi*k/N, range(N)))"
   ]
  },
  {
   "cell_type": "code",
   "execution_count": 5,
   "metadata": {},
   "outputs": [],
   "source": [
    "F = mdft(N)"
   ]
  },
  {
   "cell_type": "code",
   "execution_count": 6,
   "metadata": {},
   "outputs": [],
   "source": [
    "Omega = simplify(F * T * Dagger(F) * 2/pi)"
   ]
  },
  {
   "cell_type": "markdown",
   "metadata": {},
   "source": [
    "\\begin{equation}\n",
    "\\frac{1}{2}\n",
    "\\end{equation}"
   ]
  },
  {
   "cell_type": "code",
   "execution_count": 12,
   "metadata": {},
   "outputs": [
    {
     "name": "stdout",
     "output_type": "stream",
     "text": [
      "\\left[\\begin{matrix}\\frac{3}{2} & - \\frac{1}{2} - \\frac{i}{2} & - \\frac{1}{2} & - \\frac{1}{2} + \\frac{i}{2}\\\\- \\frac{1}{2} + \\frac{i}{2} & \\frac{3}{2} & - \\frac{1}{2} - \\frac{i}{2} & - \\frac{1}{2}\\\\- \\frac{1}{2} & - \\frac{1}{2} + \\frac{i}{2} & \\frac{3}{2} & - \\frac{1}{2} - \\frac{i}{2}\\\\- \\frac{1}{2} - \\frac{i}{2} & - \\frac{1}{2} & - \\frac{1}{2} + \\frac{i}{2} & \\frac{3}{2}\\end{matrix}\\right]\n"
     ]
    }
   ],
   "source": [
    "print(latex(Omega))"
   ]
  },
  {
   "cell_type": "markdown",
   "metadata": {},
   "source": [
    "\\left[\\begin{matrix}\\frac{3}{2} & - \\frac{1}{2} - \\frac{i}{2} & - \\frac{1}{2} & - \\frac{1}{2} + \\frac{i}{2}\\\\- \\frac{1}{2} + \\frac{i}{2} & \\frac{3}{2} & - \\frac{1}{2} - \\frac{i}{2} & - \\frac{1}{2}\\\\- \\frac{1}{2} & - \\frac{1}{2} + \\frac{i}{2} & \\frac{3}{2} & - \\frac{1}{2} - \\frac{i}{2}\\\\- \\frac{1}{2} - \\frac{i}{2} & - \\frac{1}{2} & - \\frac{1}{2} + \\frac{i}{2} & \\frac{3}{2}\\end{matrix}\\right]\n",
    "\n"
   ]
  },
  {
   "cell_type": "code",
   "execution_count": null,
   "metadata": {},
   "outputs": [],
   "source": []
  }
 ],
 "metadata": {
  "kernelspec": {
   "display_name": "Python 3",
   "language": "python",
   "name": "python3"
  },
  "language_info": {
   "codemirror_mode": {
    "name": "ipython",
    "version": 3
   },
   "file_extension": ".py",
   "mimetype": "text/x-python",
   "name": "python",
   "nbconvert_exporter": "python",
   "pygments_lexer": "ipython3",
   "version": "3.6.4"
  }
 },
 "nbformat": 4,
 "nbformat_minor": 2
}
