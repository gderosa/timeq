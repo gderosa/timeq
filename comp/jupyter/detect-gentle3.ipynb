{
 "cells": [
  {
   "cell_type": "markdown",
   "metadata": {},
   "source": [
    "## Detector model: 3-level system"
   ]
  },
  {
   "cell_type": "code",
   "execution_count": 1,
   "metadata": {},
   "outputs": [],
   "source": [
    "from sympy import *\n",
    "#from sympy.physics.matrices import mdft\n",
    "from sympy.physics.quantum import TensorProduct\n",
    "from sympy.functions.special.delta_functions import Heaviside\n",
    "from sympy.physics.quantum.dagger import Dagger\n",
    "\n",
    "from sympy.stats import ContinuousRV, variance, std\n",
    "\n",
    "from sympy.plotting import plot, plot3d_parametric_line\n",
    "\n",
    "import numpy as np\n",
    "\n",
    "import scipy.integrate\n",
    "\n",
    "import matplotlib\n",
    "import matplotlib.pyplot as plt\n",
    "\n",
    "# matplotlib.rcParams['text.usetex'] = False\n",
    "\n",
    "# https://matplotlib.org/gallery/mplot3d/lines3d.html?highlight=parametric\n",
    "# This import registers the 3D projection, but is otherwise unused.\n",
    "from mpl_toolkits.mplot3d import Axes3D  # noqa: F401 unused import"
   ]
  },
  {
   "cell_type": "code",
   "execution_count": 2,
   "metadata": {},
   "outputs": [],
   "source": [
    "from IPython.display import display, Latex #, Math"
   ]
  },
  {
   "cell_type": "code",
   "execution_count": 3,
   "metadata": {},
   "outputs": [],
   "source": [
    "init_printing ()"
   ]
  },
  {
   "cell_type": "code",
   "execution_count": 4,
   "metadata": {},
   "outputs": [],
   "source": [
    "gamma = Symbol('gamma', real=True, positive=True)\n",
    "t = Symbol('t', real=True)\n",
    "tprime = Symbol('t\\'', real=True)\n",
    "omega = Symbol('omega', real=True)\n",
    "nu = Symbol('nu', real=True)"
   ]
  },
  {
   "cell_type": "code",
   "execution_count": 5,
   "metadata": {},
   "outputs": [],
   "source": [
    "H = Matrix ([\n",
    "    [0, 1, 0],\n",
    "    [1, 0, 1],\n",
    "    [0, 1, 0]\n",
    "])"
   ]
  },
  {
   "cell_type": "code",
   "execution_count": 6,
   "metadata": {},
   "outputs": [
    {
     "data": {
      "text/latex": [
       "$$\\left [ \\left ( 0, \\quad 1, \\quad \\left [ \\left[\\begin{matrix}-1\\\\0\\\\1\\end{matrix}\\right]\\right ]\\right ), \\quad \\left ( - \\sqrt{2}, \\quad 1, \\quad \\left [ \\left[\\begin{matrix}1\\\\- \\sqrt{2}\\\\1\\end{matrix}\\right]\\right ]\\right ), \\quad \\left ( \\sqrt{2}, \\quad 1, \\quad \\left [ \\left[\\begin{matrix}1\\\\\\sqrt{2}\\\\1\\end{matrix}\\right]\\right ]\\right )\\right ]$$"
      ],
      "text/plain": [
       "⎡⎛      ⎡⎡-1⎤⎤⎞  ⎛        ⎡⎡ 1 ⎤⎤⎞  ⎛       ⎡⎡1 ⎤⎤⎞⎤\n",
       "⎢⎜      ⎢⎢  ⎥⎥⎟  ⎜        ⎢⎢   ⎥⎥⎟  ⎜       ⎢⎢  ⎥⎥⎟⎥\n",
       "⎢⎜0, 1, ⎢⎢0 ⎥⎥⎟, ⎜-√2, 1, ⎢⎢-√2⎥⎥⎟, ⎜√2, 1, ⎢⎢√2⎥⎥⎟⎥\n",
       "⎢⎜      ⎢⎢  ⎥⎥⎟  ⎜        ⎢⎢   ⎥⎥⎟  ⎜       ⎢⎢  ⎥⎥⎟⎥\n",
       "⎣⎝      ⎣⎣1 ⎦⎦⎠  ⎝        ⎣⎣ 1 ⎦⎦⎠  ⎝       ⎣⎣1 ⎦⎦⎠⎦"
      ]
     },
     "execution_count": 6,
     "metadata": {},
     "output_type": "execute_result"
    }
   ],
   "source": [
    "H.eigenvects()"
   ]
  },
  {
   "cell_type": "code",
   "execution_count": 7,
   "metadata": {},
   "outputs": [],
   "source": [
    "U_t = exp(-I*H*t)"
   ]
  },
  {
   "cell_type": "code",
   "execution_count": 55,
   "metadata": {},
   "outputs": [
    {
     "data": {
      "text/latex": [
       "$$\\left[\\begin{matrix}\\frac{\\sqrt{2}}{2}\\\\\\frac{1}{2} + \\frac{i}{2}\\\\0\\end{matrix}\\right]$$"
      ],
      "text/plain": [
       "⎡ √2  ⎤\n",
       "⎢ ──  ⎥\n",
       "⎢ 2   ⎥\n",
       "⎢     ⎥\n",
       "⎢1   ⅈ⎥\n",
       "⎢─ + ─⎥\n",
       "⎢2   2⎥\n",
       "⎢     ⎥\n",
       "⎣  0  ⎦"
      ]
     },
     "execution_count": 55,
     "metadata": {},
     "output_type": "execute_result"
    }
   ],
   "source": [
    "psi_0 = Matrix([1, (1+I)/sqrt(2), 0])/sqrt(2)\n",
    "psi_0"
   ]
  },
  {
   "cell_type": "code",
   "execution_count": 56,
   "metadata": {},
   "outputs": [],
   "source": [
    "unitary_psi_t = U_t @ psi_0"
   ]
  },
  {
   "cell_type": "code",
   "execution_count": 57,
   "metadata": {},
   "outputs": [
    {
     "data": {
      "text/latex": [
       "$$\\left[\\begin{matrix}\\left(\\frac{1}{2} + \\frac{i}{2}\\right) \\left(- \\frac{\\sqrt{2}}{4} e^{\\sqrt{2} i t} + \\frac{\\sqrt{2}}{4} e^{- \\sqrt{2} i t}\\right) + \\frac{\\sqrt{2}}{2} \\left(\\frac{1}{4} e^{\\sqrt{2} i t} + \\frac{1}{2} + \\frac{1}{4} e^{- \\sqrt{2} i t}\\right)\\\\\\frac{\\sqrt{2}}{2} \\left(- \\frac{\\sqrt{2}}{4} e^{\\sqrt{2} i t} + \\frac{\\sqrt{2}}{4} e^{- \\sqrt{2} i t}\\right) + \\left(\\frac{1}{2} + \\frac{i}{2}\\right) \\left(\\frac{1}{2} e^{\\sqrt{2} i t} + \\frac{1}{2} e^{- \\sqrt{2} i t}\\right)\\\\\\left(\\frac{1}{2} + \\frac{i}{2}\\right) \\left(- \\frac{\\sqrt{2}}{4} e^{\\sqrt{2} i t} + \\frac{\\sqrt{2}}{4} e^{- \\sqrt{2} i t}\\right) + \\frac{\\sqrt{2}}{2} \\left(\\frac{1}{4} e^{\\sqrt{2} i t} - \\frac{1}{2} + \\frac{1}{4} e^{- \\sqrt{2} i t}\\right)\\end{matrix}\\right]$$"
      ],
      "text/plain": [
       "⎡                                          ⎛ √2⋅ⅈ⋅t        -√2⋅ⅈ⋅t⎞⎤\n",
       "⎢                                          ⎜ℯ         1   ℯ       ⎟⎥\n",
       "⎢        ⎛      √2⋅ⅈ⋅t       -√2⋅ⅈ⋅t⎞   √2⋅⎜─────── + ─ + ────────⎟⎥\n",
       "⎢⎛1   ⅈ⎞ ⎜  √2⋅ℯ         √2⋅ℯ       ⎟      ⎝   4      2      4    ⎠⎥\n",
       "⎢⎜─ + ─⎟⋅⎜- ────────── + ───────────⎟ + ───────────────────────────⎥\n",
       "⎢⎝2   2⎠ ⎝      4             4     ⎠                2             ⎥\n",
       "⎢                                                                  ⎥\n",
       "⎢     ⎛      √2⋅ⅈ⋅t       -√2⋅ⅈ⋅t⎞                                 ⎥\n",
       "⎢     ⎜  √2⋅ℯ         √2⋅ℯ       ⎟                                 ⎥\n",
       "⎢  √2⋅⎜- ────────── + ───────────⎟           ⎛ √2⋅ⅈ⋅t    -√2⋅ⅈ⋅t⎞  ⎥\n",
       "⎢     ⎝      4             4     ⎠   ⎛1   ⅈ⎞ ⎜ℯ         ℯ       ⎟  ⎥\n",
       "⎢  ─────────────────────────────── + ⎜─ + ─⎟⋅⎜─────── + ────────⎟  ⎥\n",
       "⎢                 2                  ⎝2   2⎠ ⎝   2         2    ⎠  ⎥\n",
       "⎢                                                                  ⎥\n",
       "⎢                                          ⎛ √2⋅ⅈ⋅t        -√2⋅ⅈ⋅t⎞⎥\n",
       "⎢                                          ⎜ℯ         1   ℯ       ⎟⎥\n",
       "⎢        ⎛      √2⋅ⅈ⋅t       -√2⋅ⅈ⋅t⎞   √2⋅⎜─────── - ─ + ────────⎟⎥\n",
       "⎢⎛1   ⅈ⎞ ⎜  √2⋅ℯ         √2⋅ℯ       ⎟      ⎝   4      2      4    ⎠⎥\n",
       "⎢⎜─ + ─⎟⋅⎜- ────────── + ───────────⎟ + ───────────────────────────⎥\n",
       "⎣⎝2   2⎠ ⎝      4             4     ⎠                2             ⎦"
      ]
     },
     "execution_count": 57,
     "metadata": {},
     "output_type": "execute_result"
    }
   ],
   "source": [
    "unitary_psi_t"
   ]
  },
  {
   "cell_type": "code",
   "execution_count": 58,
   "metadata": {},
   "outputs": [],
   "source": [
    "prob_t = Matrix([0, 0, 0])\n",
    "for i in 0, 1, 2:\n",
    "    prob_t[i] = abs(unitary_psi_t[i])**2"
   ]
  },
  {
   "cell_type": "code",
   "execution_count": 59,
   "metadata": {},
   "outputs": [
    {
     "data": {
      "text/latex": [
       "$$\\left[\\begin{matrix}- \\frac{1}{32} e^{2 \\sqrt{2} i t} - \\frac{i}{16} e^{2 \\sqrt{2} i t} + \\frac{1}{8} e^{\\sqrt{2} i t} - \\frac{i}{8} e^{\\sqrt{2} i t} + \\frac{5}{16} + \\frac{1}{8} e^{- \\sqrt{2} i t} + \\frac{i}{8} e^{- \\sqrt{2} i t} - \\frac{1}{32} e^{- 2 \\sqrt{2} i t} + \\frac{i}{16} e^{- 2 \\sqrt{2} i t}\\\\\\frac{1}{16} e^{2 \\sqrt{2} i t} + \\frac{i}{8} e^{2 \\sqrt{2} i t} + \\frac{3}{8} + \\frac{1}{16} e^{- 2 \\sqrt{2} i t} - \\frac{i}{8} e^{- 2 \\sqrt{2} i t}\\\\- \\frac{1}{32} e^{2 \\sqrt{2} i t} - \\frac{i}{16} e^{2 \\sqrt{2} i t} - \\frac{1}{8} e^{\\sqrt{2} i t} + \\frac{i}{8} e^{\\sqrt{2} i t} + \\frac{5}{16} - \\frac{1}{8} e^{- \\sqrt{2} i t} - \\frac{i}{8} e^{- \\sqrt{2} i t} - \\frac{1}{32} e^{- 2 \\sqrt{2} i t} + \\frac{i}{16} e^{- 2 \\sqrt{2} i t}\\end{matrix}\\right]$$"
      ],
      "text/plain": [
       "⎡   2⋅√2⋅ⅈ⋅t      2⋅√2⋅ⅈ⋅t    √2⋅ⅈ⋅t      √2⋅ⅈ⋅t         -√2⋅ⅈ⋅t      -√2⋅ⅈ⋅t \n",
       "⎢  ℯ           ⅈ⋅ℯ           ℯ         ⅈ⋅ℯ         5    ℯ          ⅈ⋅ℯ        \n",
       "⎢- ───────── - ─────────── + ─────── - ───────── + ── + ──────── + ────────── \n",
       "⎢      32           16          8          8       16      8           8      \n",
       "⎢                                                                             \n",
       "⎢                         2⋅√2⋅ⅈ⋅t      2⋅√2⋅ⅈ⋅t        -2⋅√2⋅ⅈ⋅t      -2⋅√2⋅ⅈ\n",
       "⎢                        ℯ           ⅈ⋅ℯ           3   ℯ            ⅈ⋅ℯ       \n",
       "⎢                        ───────── + ─────────── + ─ + ────────── - ──────────\n",
       "⎢                            16           8        8       16            8    \n",
       "⎢                                                                             \n",
       "⎢   2⋅√2⋅ⅈ⋅t      2⋅√2⋅ⅈ⋅t    √2⋅ⅈ⋅t      √2⋅ⅈ⋅t         -√2⋅ⅈ⋅t      -√2⋅ⅈ⋅t \n",
       "⎢  ℯ           ⅈ⋅ℯ           ℯ         ⅈ⋅ℯ         5    ℯ          ⅈ⋅ℯ        \n",
       "⎢- ───────── - ─────────── - ─────── + ───────── + ── - ──────── - ────────── \n",
       "⎣      32           16          8          8       16      8           8      \n",
       "\n",
       "   -2⋅√2⋅ⅈ⋅t      -2⋅√2⋅ⅈ⋅t⎤\n",
       "  ℯ            ⅈ⋅ℯ         ⎥\n",
       "- ────────── + ────────────⎥\n",
       "      32            16     ⎥\n",
       "                           ⎥\n",
       "⋅t                         ⎥\n",
       "                           ⎥\n",
       "──                         ⎥\n",
       "                           ⎥\n",
       "                           ⎥\n",
       "   -2⋅√2⋅ⅈ⋅t      -2⋅√2⋅ⅈ⋅t⎥\n",
       "  ℯ            ⅈ⋅ℯ         ⎥\n",
       "- ────────── + ────────────⎥\n",
       "      32            16     ⎦"
      ]
     },
     "execution_count": 59,
     "metadata": {},
     "output_type": "execute_result"
    }
   ],
   "source": [
    "prob_t"
   ]
  },
  {
   "cell_type": "code",
   "execution_count": 60,
   "metadata": {},
   "outputs": [
    {
     "data": {
      "image/png": "[encoded data removed]",
      "text/latex": [
       "$$1$$"
      ],
      "text/plain": [
       "1"
      ]
     },
     "execution_count": 60,
     "metadata": {},
     "output_type": "execute_result"
    }
   ],
   "source": [
    "simplify(\n",
    "    prob_t[0] + prob_t[1] + prob_t[2]\n",
    ")"
   ]
  },
  {
   "cell_type": "code",
   "execution_count": 61,
   "metadata": {},
   "outputs": [],
   "source": [
    "unitary_psi_n = lambdify(t, unitary_psi_t, 'numpy')\n",
    "_prob_n = lambdify(t, prob_t, 'numpy')\n",
    "def prob_n(_t):\n",
    "    return np.real(_prob_n(_t))"
   ]
  },
  {
   "cell_type": "code",
   "execution_count": 62,
   "metadata": {},
   "outputs": [],
   "source": [
    "def phase_color(_z):\n",
    "    return np.imag(_z) # np.sin(np.angle(_z))"
   ]
  },
  {
   "cell_type": "markdown",
   "metadata": {},
   "source": [
    "#### Complex argument color code\n",
    "* <span style=\"color: #fe0\">__Yellow__</span> (or generally the \"highest\"): imaginary, positive\n",
    "* <span style=\"color: #086\">__Green__ </span> (or generally the \"midrange\"): real\n",
    "* <span style=\"color: #408\">__Purple__</span> (or generally the \"lowest\"): imaginary, negative"
   ]
  },
  {
   "cell_type": "code",
   "execution_count": 63,
   "metadata": {},
   "outputs": [],
   "source": [
    "TMIN, TMAX = 0, 2*pi/sqrt(2)\n",
    "TMIN_N, TMAX_N = float(TMIN), float(TMAX)"
   ]
  },
  {
   "cell_type": "code",
   "execution_count": 64,
   "metadata": {},
   "outputs": [],
   "source": [
    "# Demo\n",
    "#pl = plot(\n",
    "#    ( re(exp(I*t)), (t, 0, 4*pi) ),\n",
    "#    ( im(exp(I*t)), (t, 0, 4*pi) ),\n",
    "#    show=False,\n",
    "#    adaptive=False\n",
    "#)\n",
    "## Need the numeric version to customize color function\n",
    "#pl[0].line_color = lambda _t: phase_color( 1+ np.exp(1j*_t) )\n",
    "#pl[1].line_color = pl[0].line_color\n",
    "##pl.show()"
   ]
  },
  {
   "cell_type": "code",
   "execution_count": 170,
   "metadata": {},
   "outputs": [
    {
     "data": {
      "image/png": "[encoded data removed]",
      "text/plain": [
       "<Figure size 432x288 with 1 Axes>"
      ]
     },
     "metadata": {},
     "output_type": "display_data"
    },
    {
     "data": {
      "image/png": "[encoded data removed]",
      "text/plain": [
       "<Figure size 432x288 with 1 Axes>"
      ]
     },
     "metadata": {},
     "output_type": "display_data"
    },
    {
     "data": {
      "image/png": "[encoded data removed]",
      "text/plain": [
       "<Figure size 432x288 with 1 Axes>"
      ]
     },
     "metadata": {},
     "output_type": "display_data"
    }
   ],
   "source": [
    "# sym_colors = ['r', 'g', 'b']\n",
    "for i in 0, 1, 2:\n",
    "    pl = plot(\n",
    "        prob_t[i],\n",
    "        (t, TMIN, TMAX),\n",
    "        adaptive=False, nb_of_points=1000, show=False)\n",
    "    # Need the numeric version to customize color function\n",
    "    pl[0].line_color = lambda _t: phase_color( unitary_psi_n(_t)[i] )\n",
    "    #pl[0].line_color = sym_colors[i]\n",
    "    pl.axis_center = (0, 0)\n",
    "    pl.show()"
   ]
  },
  {
   "cell_type": "code",
   "execution_count": 66,
   "metadata": {},
   "outputs": [],
   "source": [
    "times = np.linspace(TMIN_N, TMAX_N, num=1000)"
   ]
  },
  {
   "cell_type": "code",
   "execution_count": 67,
   "metadata": {},
   "outputs": [],
   "source": [
    "probs = np.zeros((3, 1000))"
   ]
  },
  {
   "cell_type": "code",
   "execution_count": 68,
   "metadata": {},
   "outputs": [
    {
     "data": {
      "text/plain": [
       "array([[0., 0., 0., ..., 0., 0., 0.],\n",
       "       [0., 0., 0., ..., 0., 0., 0.],\n",
       "       [0., 0., 0., ..., 0., 0., 0.]])"
      ]
     },
     "execution_count": 68,
     "metadata": {},
     "output_type": "execute_result"
    }
   ],
   "source": [
    "probs"
   ]
  },
  {
   "cell_type": "code",
   "execution_count": 69,
   "metadata": {},
   "outputs": [],
   "source": [
    "for i in 0, 1, 2:\n",
    "    probs[i] = prob_n(times)[i]"
   ]
  },
  {
   "cell_type": "code",
   "execution_count": null,
   "metadata": {},
   "outputs": [],
   "source": []
  },
  {
   "cell_type": "code",
   "execution_count": 248,
   "metadata": {},
   "outputs": [],
   "source": [
    "UNISYM = {\n",
    "    'psi': u'\\u03C8',\n",
    "    '^2' : u'\\u00B2'\n",
    "}\n",
    "PROB_LABELS     = ['', '', '']\n",
    "PROB_AMP_LABELS = ['', '', '']\n",
    "                \n",
    "for i in 0, 1, 2:\n",
    "    PROB_AMP_LABELS[i] = '<' + str(i) + '|' + UNISYM['psi'] + '>'\n",
    "    PROB_LABELS[i]     = '|' + PROB_AMP_LABELS[i] + '|' + UNISYM['^2']"
   ]
  },
  {
   "cell_type": "markdown",
   "metadata": {},
   "source": [
    "https://matplotlib.org/gallery/lines_bars_and_markers/stackplot_demo.html#sphx-glr-gallery-lines-bars-and-markers-stackplot-demo-py"
   ]
  },
  {
   "cell_type": "code",
   "execution_count": 157,
   "metadata": {},
   "outputs": [],
   "source": [
    "prob_stack = np.vstack(probs)"
   ]
  },
  {
   "cell_type": "code",
   "execution_count": 238,
   "metadata": {},
   "outputs": [
    {
     "data": {
      "image/png": "[encoded data removed]",
      "text/plain": [
       "<Figure size 432x288 with 1 Axes>"
      ]
     },
     "metadata": {},
     "output_type": "display_data"
    }
   ],
   "source": [
    "labels = PROB_LABELS\n",
    "colors = [\"#cc1111\", \"#33aa33\", \"#1111cc\"]\n",
    "\n",
    "fig, ax = plt.subplots()\n",
    "ax.stackplot(times, probs[0], probs[1], probs[2], labels=labels, colors=colors)\n",
    "ax.legend(loc='lower left')\n",
    "plt.show()"
   ]
  },
  {
   "cell_type": "code",
   "execution_count": 159,
   "metadata": {},
   "outputs": [],
   "source": [
    "rgbs = []\n",
    "for i in range(1000):\n",
    "    rgbs.append(\n",
    "        (\n",
    "            probs[0][i],\n",
    "            probs[1][i],\n",
    "            probs[2][i]\n",
    "        )\n",
    "    )"
   ]
  },
  {
   "cell_type": "code",
   "execution_count": 168,
   "metadata": {},
   "outputs": [
    {
     "data": {
      "text/plain": [
       "<matplotlib.legend.Legend at 0x7f768b6be438>"
      ]
     },
     "execution_count": 168,
     "metadata": {},
     "output_type": "execute_result"
    },
    {
     "data": {
      "image/png": "[encoded data removed]",
      "text/plain": [
       "<Figure size 432x288 with 1 Axes>"
      ]
     },
     "metadata": {},
     "output_type": "display_data"
    }
   ],
   "source": [
    "plt.close()\n",
    "fig, ax = plt.subplots()\n",
    "ax.set_xlabel('t')\n",
    "ax.scatter(times, np.zeros(1000),\n",
    "            c=rgbs, marker='|', s=12000)\n",
    "\n",
    "# \"virtual\", don't really want to show, only for legend\n",
    "_c = ['r', 'g', 'b']\n",
    "for i in 0, 1, 2:\n",
    "    ax.plot(\n",
    "        times, probs[i],\n",
    "        c=_c[i], linewidth=0.75,\n",
    "    )\n",
    "    \n",
    "ax.legend(\n",
    "    PROB_LABELS,\n",
    "    loc='lower left'\n",
    ")"
   ]
  },
  {
   "cell_type": "markdown",
   "metadata": {},
   "source": [
    "## Complex potential (detection by absorption)"
   ]
  },
  {
   "cell_type": "markdown",
   "metadata": {},
   "source": [
    "Need to switch everything to numeric."
   ]
  },
  {
   "cell_type": "code",
   "execution_count": null,
   "metadata": {},
   "outputs": [],
   "source": [
    "H = np.array([\n",
    "    [0, 1, 0],\n",
    "    [1, 0, 1],\n",
    "    [0, 1, 0]\n",
    "], dtype=np.complex)"
   ]
  },
  {
   "cell_type": "code",
   "execution_count": 29,
   "metadata": {},
   "outputs": [
    {
     "data": {
      "text/plain": [
       "float"
      ]
     },
     "execution_count": 29,
     "metadata": {},
     "output_type": "execute_result"
    }
   ],
   "source": [
    "np.float(TMAX).__class__\n"
   ]
  },
  {
   "cell_type": "code",
   "execution_count": null,
   "metadata": {},
   "outputs": [],
   "source": []
  }
 ],
 "metadata": {
  "kernelspec": {
   "display_name": "Python 3",
   "language": "python",
   "name": "python3"
  },
  "language_info": {
   "codemirror_mode": {
    "name": "ipython",
    "version": 3
   },
   "file_extension": ".py",
   "mimetype": "text/x-python",
   "name": "python",
   "nbconvert_exporter": "python",
   "pygments_lexer": "ipython3",
   "version": "3.6.7"
  }
 },
 "nbformat": 4,
 "nbformat_minor": 2
}
