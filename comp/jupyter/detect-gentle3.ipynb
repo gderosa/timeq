{
 "cells": [
  {
   "cell_type": "markdown",
   "metadata": {},
   "source": [
    "## Detector model: Kiukas / Ruschhaupt / Schmidt / Werner"
   ]
  },
  {
   "cell_type": "code",
   "execution_count": 432,
   "metadata": {},
   "outputs": [],
   "source": [
    "from sympy import *\n",
    "#from sympy.physics.matrices import mdft\n",
    "from sympy.physics.quantum import TensorProduct\n",
    "from sympy.functions.special.delta_functions import Heaviside\n",
    "from sympy.physics.quantum.dagger import Dagger\n",
    "\n",
    "from sympy.stats import ContinuousRV, variance, std\n",
    "\n",
    "from sympy.plotting import plot, plot3d_parametric_line\n",
    "\n",
    "import numpy as np\n",
    "\n",
    "import scipy.integrate\n",
    "\n",
    "import matplotlib\n",
    "import matplotlib.pyplot as plt\n",
    "\n",
    "# matplotlib.rcParams['text.usetex'] = False\n",
    "\n",
    "# https://matplotlib.org/gallery/mplot3d/lines3d.html?highlight=parametric\n",
    "# This import registers the 3D projection, but is otherwise unused.\n",
    "from mpl_toolkits.mplot3d import Axes3D  # noqa: F401 unused import"
   ]
  },
  {
   "cell_type": "code",
   "execution_count": 433,
   "metadata": {},
   "outputs": [],
   "source": [
    "from IPython.display import display, Latex #, Math"
   ]
  },
  {
   "cell_type": "code",
   "execution_count": 434,
   "metadata": {},
   "outputs": [],
   "source": [
    "init_printing ()"
   ]
  },
  {
   "cell_type": "code",
   "execution_count": 435,
   "metadata": {},
   "outputs": [],
   "source": [
    "gamma = Symbol('gamma', real=True, positive=True)\n",
    "t = Symbol('t', real=True)\n",
    "tprime = Symbol('t\\'', real=True)\n",
    "omega = Symbol('omega', real=True)\n",
    "nu = Symbol('nu', real=True)"
   ]
  },
  {
   "cell_type": "code",
   "execution_count": 436,
   "metadata": {},
   "outputs": [],
   "source": [
    "H = Matrix ([\n",
    "    [0, 1, 0],\n",
    "    [1, 0, 1],\n",
    "    [0, 1, 0]\n",
    "])"
   ]
  },
  {
   "cell_type": "code",
   "execution_count": 437,
   "metadata": {},
   "outputs": [
    {
     "data": {
      "text/latex": [
       "$$\\left [ \\left ( 0, \\quad 1, \\quad \\left [ \\left[\\begin{matrix}-1\\\\0\\\\1\\end{matrix}\\right]\\right ]\\right ), \\quad \\left ( - \\sqrt{2}, \\quad 1, \\quad \\left [ \\left[\\begin{matrix}1\\\\- \\sqrt{2}\\\\1\\end{matrix}\\right]\\right ]\\right ), \\quad \\left ( \\sqrt{2}, \\quad 1, \\quad \\left [ \\left[\\begin{matrix}1\\\\\\sqrt{2}\\\\1\\end{matrix}\\right]\\right ]\\right )\\right ]$$"
      ],
      "text/plain": [
       "⎡⎛      ⎡⎡-1⎤⎤⎞  ⎛        ⎡⎡ 1 ⎤⎤⎞  ⎛       ⎡⎡1 ⎤⎤⎞⎤\n",
       "⎢⎜      ⎢⎢  ⎥⎥⎟  ⎜        ⎢⎢   ⎥⎥⎟  ⎜       ⎢⎢  ⎥⎥⎟⎥\n",
       "⎢⎜0, 1, ⎢⎢0 ⎥⎥⎟, ⎜-√2, 1, ⎢⎢-√2⎥⎥⎟, ⎜√2, 1, ⎢⎢√2⎥⎥⎟⎥\n",
       "⎢⎜      ⎢⎢  ⎥⎥⎟  ⎜        ⎢⎢   ⎥⎥⎟  ⎜       ⎢⎢  ⎥⎥⎟⎥\n",
       "⎣⎝      ⎣⎣1 ⎦⎦⎠  ⎝        ⎣⎣ 1 ⎦⎦⎠  ⎝       ⎣⎣1 ⎦⎦⎠⎦"
      ]
     },
     "execution_count": 437,
     "metadata": {},
     "output_type": "execute_result"
    }
   ],
   "source": [
    "H.eigenvects()"
   ]
  },
  {
   "cell_type": "code",
   "execution_count": 438,
   "metadata": {},
   "outputs": [],
   "source": [
    "U_t = exp(-I*H*t)"
   ]
  },
  {
   "cell_type": "code",
   "execution_count": 439,
   "metadata": {},
   "outputs": [
    {
     "data": {
      "text/latex": [
       "$$\\left[\\begin{matrix}\\frac{\\sqrt{2}}{2}\\\\\\frac{1}{2} + \\frac{i}{2}\\\\0\\end{matrix}\\right]$$"
      ],
      "text/plain": [
       "⎡ √2  ⎤\n",
       "⎢ ──  ⎥\n",
       "⎢ 2   ⎥\n",
       "⎢     ⎥\n",
       "⎢1   ⅈ⎥\n",
       "⎢─ + ─⎥\n",
       "⎢2   2⎥\n",
       "⎢     ⎥\n",
       "⎣  0  ⎦"
      ]
     },
     "execution_count": 439,
     "metadata": {},
     "output_type": "execute_result"
    }
   ],
   "source": [
    "psi_0 = Matrix([1, (1+I)/sqrt(2), 0])/sqrt(2)\n",
    "psi_0"
   ]
  },
  {
   "cell_type": "code",
   "execution_count": 440,
   "metadata": {},
   "outputs": [],
   "source": [
    "unitary_psi_t = U_t @ psi_0"
   ]
  },
  {
   "cell_type": "code",
   "execution_count": 441,
   "metadata": {},
   "outputs": [
    {
     "data": {
      "text/latex": [
       "$$\\left[\\begin{matrix}\\left(\\frac{1}{2} + \\frac{i}{2}\\right) \\left(- \\frac{\\sqrt{2}}{4} e^{\\sqrt{2} i t} + \\frac{\\sqrt{2}}{4} e^{- \\sqrt{2} i t}\\right) + \\frac{\\sqrt{2}}{2} \\left(\\frac{1}{4} e^{\\sqrt{2} i t} + \\frac{1}{2} + \\frac{1}{4} e^{- \\sqrt{2} i t}\\right)\\\\\\frac{\\sqrt{2}}{2} \\left(- \\frac{\\sqrt{2}}{4} e^{\\sqrt{2} i t} + \\frac{\\sqrt{2}}{4} e^{- \\sqrt{2} i t}\\right) + \\left(\\frac{1}{2} + \\frac{i}{2}\\right) \\left(\\frac{1}{2} e^{\\sqrt{2} i t} + \\frac{1}{2} e^{- \\sqrt{2} i t}\\right)\\\\\\left(\\frac{1}{2} + \\frac{i}{2}\\right) \\left(- \\frac{\\sqrt{2}}{4} e^{\\sqrt{2} i t} + \\frac{\\sqrt{2}}{4} e^{- \\sqrt{2} i t}\\right) + \\frac{\\sqrt{2}}{2} \\left(\\frac{1}{4} e^{\\sqrt{2} i t} - \\frac{1}{2} + \\frac{1}{4} e^{- \\sqrt{2} i t}\\right)\\end{matrix}\\right]$$"
      ],
      "text/plain": [
       "⎡                                          ⎛ √2⋅ⅈ⋅t        -√2⋅ⅈ⋅t⎞⎤\n",
       "⎢                                          ⎜ℯ         1   ℯ       ⎟⎥\n",
       "⎢        ⎛      √2⋅ⅈ⋅t       -√2⋅ⅈ⋅t⎞   √2⋅⎜─────── + ─ + ────────⎟⎥\n",
       "⎢⎛1   ⅈ⎞ ⎜  √2⋅ℯ         √2⋅ℯ       ⎟      ⎝   4      2      4    ⎠⎥\n",
       "⎢⎜─ + ─⎟⋅⎜- ────────── + ───────────⎟ + ───────────────────────────⎥\n",
       "⎢⎝2   2⎠ ⎝      4             4     ⎠                2             ⎥\n",
       "⎢                                                                  ⎥\n",
       "⎢     ⎛      √2⋅ⅈ⋅t       -√2⋅ⅈ⋅t⎞                                 ⎥\n",
       "⎢     ⎜  √2⋅ℯ         √2⋅ℯ       ⎟                                 ⎥\n",
       "⎢  √2⋅⎜- ────────── + ───────────⎟           ⎛ √2⋅ⅈ⋅t    -√2⋅ⅈ⋅t⎞  ⎥\n",
       "⎢     ⎝      4             4     ⎠   ⎛1   ⅈ⎞ ⎜ℯ         ℯ       ⎟  ⎥\n",
       "⎢  ─────────────────────────────── + ⎜─ + ─⎟⋅⎜─────── + ────────⎟  ⎥\n",
       "⎢                 2                  ⎝2   2⎠ ⎝   2         2    ⎠  ⎥\n",
       "⎢                                                                  ⎥\n",
       "⎢                                          ⎛ √2⋅ⅈ⋅t        -√2⋅ⅈ⋅t⎞⎥\n",
       "⎢                                          ⎜ℯ         1   ℯ       ⎟⎥\n",
       "⎢        ⎛      √2⋅ⅈ⋅t       -√2⋅ⅈ⋅t⎞   √2⋅⎜─────── - ─ + ────────⎟⎥\n",
       "⎢⎛1   ⅈ⎞ ⎜  √2⋅ℯ         √2⋅ℯ       ⎟      ⎝   4      2      4    ⎠⎥\n",
       "⎢⎜─ + ─⎟⋅⎜- ────────── + ───────────⎟ + ───────────────────────────⎥\n",
       "⎣⎝2   2⎠ ⎝      4             4     ⎠                2             ⎦"
      ]
     },
     "execution_count": 441,
     "metadata": {},
     "output_type": "execute_result"
    }
   ],
   "source": [
    "unitary_psi_t"
   ]
  },
  {
   "cell_type": "code",
   "execution_count": 442,
   "metadata": {},
   "outputs": [],
   "source": [
    "prob_t = Matrix([0, 0, 0])\n",
    "for i in 0, 1, 2:\n",
    "    prob_t[i] = abs(unitary_psi_t[i])**2"
   ]
  },
  {
   "cell_type": "code",
   "execution_count": 443,
   "metadata": {},
   "outputs": [
    {
     "data": {
      "text/latex": [
       "$$\\left[\\begin{matrix}- \\frac{1}{32} e^{2 \\sqrt{2} i t} - \\frac{i}{16} e^{2 \\sqrt{2} i t} + \\frac{1}{8} e^{\\sqrt{2} i t} - \\frac{i}{8} e^{\\sqrt{2} i t} + \\frac{5}{16} + \\frac{1}{8} e^{- \\sqrt{2} i t} + \\frac{i}{8} e^{- \\sqrt{2} i t} - \\frac{1}{32} e^{- 2 \\sqrt{2} i t} + \\frac{i}{16} e^{- 2 \\sqrt{2} i t}\\\\\\frac{1}{16} e^{2 \\sqrt{2} i t} + \\frac{i}{8} e^{2 \\sqrt{2} i t} + \\frac{3}{8} + \\frac{1}{16} e^{- 2 \\sqrt{2} i t} - \\frac{i}{8} e^{- 2 \\sqrt{2} i t}\\\\- \\frac{1}{32} e^{2 \\sqrt{2} i t} - \\frac{i}{16} e^{2 \\sqrt{2} i t} - \\frac{1}{8} e^{\\sqrt{2} i t} + \\frac{i}{8} e^{\\sqrt{2} i t} + \\frac{5}{16} - \\frac{1}{8} e^{- \\sqrt{2} i t} - \\frac{i}{8} e^{- \\sqrt{2} i t} - \\frac{1}{32} e^{- 2 \\sqrt{2} i t} + \\frac{i}{16} e^{- 2 \\sqrt{2} i t}\\end{matrix}\\right]$$"
      ],
      "text/plain": [
       "⎡   2⋅√2⋅ⅈ⋅t      2⋅√2⋅ⅈ⋅t    √2⋅ⅈ⋅t      √2⋅ⅈ⋅t         -√2⋅ⅈ⋅t      -√2⋅ⅈ⋅t \n",
       "⎢  ℯ           ⅈ⋅ℯ           ℯ         ⅈ⋅ℯ         5    ℯ          ⅈ⋅ℯ        \n",
       "⎢- ───────── - ─────────── + ─────── - ───────── + ── + ──────── + ────────── \n",
       "⎢      32           16          8          8       16      8           8      \n",
       "⎢                                                                             \n",
       "⎢                         2⋅√2⋅ⅈ⋅t      2⋅√2⋅ⅈ⋅t        -2⋅√2⋅ⅈ⋅t      -2⋅√2⋅ⅈ\n",
       "⎢                        ℯ           ⅈ⋅ℯ           3   ℯ            ⅈ⋅ℯ       \n",
       "⎢                        ───────── + ─────────── + ─ + ────────── - ──────────\n",
       "⎢                            16           8        8       16            8    \n",
       "⎢                                                                             \n",
       "⎢   2⋅√2⋅ⅈ⋅t      2⋅√2⋅ⅈ⋅t    √2⋅ⅈ⋅t      √2⋅ⅈ⋅t         -√2⋅ⅈ⋅t      -√2⋅ⅈ⋅t \n",
       "⎢  ℯ           ⅈ⋅ℯ           ℯ         ⅈ⋅ℯ         5    ℯ          ⅈ⋅ℯ        \n",
       "⎢- ───────── - ─────────── - ─────── + ───────── + ── - ──────── - ────────── \n",
       "⎣      32           16          8          8       16      8           8      \n",
       "\n",
       "   -2⋅√2⋅ⅈ⋅t      -2⋅√2⋅ⅈ⋅t⎤\n",
       "  ℯ            ⅈ⋅ℯ         ⎥\n",
       "- ────────── + ────────────⎥\n",
       "      32            16     ⎥\n",
       "                           ⎥\n",
       "⋅t                         ⎥\n",
       "                           ⎥\n",
       "──                         ⎥\n",
       "                           ⎥\n",
       "                           ⎥\n",
       "   -2⋅√2⋅ⅈ⋅t      -2⋅√2⋅ⅈ⋅t⎥\n",
       "  ℯ            ⅈ⋅ℯ         ⎥\n",
       "- ────────── + ────────────⎥\n",
       "      32            16     ⎦"
      ]
     },
     "execution_count": 443,
     "metadata": {},
     "output_type": "execute_result"
    }
   ],
   "source": [
    "prob_t"
   ]
  },
  {
   "cell_type": "code",
   "execution_count": 444,
   "metadata": {},
   "outputs": [
    {
     "data": {
      "image/png": "[encoded data removed]",
      "text/latex": [
       "$$1$$"
      ],
      "text/plain": [
       "1"
      ]
     },
     "execution_count": 444,
     "metadata": {},
     "output_type": "execute_result"
    }
   ],
   "source": [
    "simplify(\n",
    "    prob_t[0] + prob_t[1] + prob_t[2]\n",
    ")"
   ]
  },
  {
   "cell_type": "code",
   "execution_count": 553,
   "metadata": {},
   "outputs": [],
   "source": [
    "unitary_psi_n = lambdify(t, unitary_psi_t, 'numpy')\n",
    "_prob_n = lambdify(t, prob_t, 'numpy')\n",
    "def prob_n(_t):\n",
    "    return np.real(_prob_n(_t))"
   ]
  },
  {
   "cell_type": "code",
   "execution_count": 500,
   "metadata": {},
   "outputs": [],
   "source": [
    "def phase_color(_z):\n",
    "    return np.imag(_z) # np.sin(np.angle(_z))"
   ]
  },
  {
   "cell_type": "markdown",
   "metadata": {},
   "source": [
    "#### Complex argument color code\n",
    "* <span style=\"color: #fe0\">__Yellow__</span> (or generally the \"highest\"): imaginary, positive\n",
    "* <span style=\"color: #086\">__Green__ </span> (or generally the \"midrange\"): real\n",
    "* <span style=\"color: #408\">__Purple__</span> (or generally the \"lowest\"): imaginary, negative"
   ]
  },
  {
   "cell_type": "code",
   "execution_count": 674,
   "metadata": {},
   "outputs": [],
   "source": [
    "# Demo\n",
    "pl = plot(\n",
    "    ( re(exp(I*t)), (t, 0, 4*pi) ),\n",
    "    ( im(exp(I*t)), (t, 0, 4*pi) ),\n",
    "    show=False,\n",
    "    adaptive=False\n",
    ")\n",
    "# Need the numeric version to customize color function\n",
    "pl[0].line_color = lambda _t: phase_color( 1+ np.exp(1j*_t) )\n",
    "pl[1].line_color = pl[0].line_color\n",
    "#pl.show()"
   ]
  },
  {
   "cell_type": "code",
   "execution_count": 502,
   "metadata": {},
   "outputs": [
    {
     "data": {
      "image/png": "[encoded data removed]",
      "text/plain": [
       "<Figure size 432x288 with 1 Axes>"
      ]
     },
     "metadata": {},
     "output_type": "display_data"
    },
    {
     "data": {
      "image/png": "[encoded data removed]",
      "text/plain": [
       "<Figure size 432x288 with 1 Axes>"
      ]
     },
     "metadata": {},
     "output_type": "display_data"
    },
    {
     "data": {
      "image/png": "[encoded data removed]",
      "text/plain": [
       "<Figure size 432x288 with 1 Axes>"
      ]
     },
     "metadata": {},
     "output_type": "display_data"
    }
   ],
   "source": [
    "for i in 0, 1, 2:\n",
    "    pl = plot(prob_t[i], (t, 0, 2*pi/sqrt(2)), adaptive=False, show=False)\n",
    "    # Need the numeric version to customize color function\n",
    "    pl[0].line_color = lambda _t: phase_color( unitary_psi_n(_t)[i] )\n",
    "    pl.axis_center = (0, 0)\n",
    "    pl.show()"
   ]
  },
  {
   "cell_type": "code",
   "execution_count": null,
   "metadata": {},
   "outputs": [],
   "source": []
  },
  {
   "cell_type": "code",
   "execution_count": 514,
   "metadata": {},
   "outputs": [],
   "source": [
    "times = np.linspace(0, 2 * np.pi / np.sqrt(2), num=1000)"
   ]
  },
  {
   "cell_type": "code",
   "execution_count": 579,
   "metadata": {},
   "outputs": [],
   "source": [
    "probs = np.zeros((3, 1000))"
   ]
  },
  {
   "cell_type": "code",
   "execution_count": 580,
   "metadata": {},
   "outputs": [],
   "source": [
    "for i in 0, 1, 2:\n",
    "    probs[i] = prob_n(times)[i][0]"
   ]
  },
  {
   "cell_type": "markdown",
   "metadata": {},
   "source": [
    "https://matplotlib.org/gallery/lines_bars_and_markers/stackplot_demo.html#sphx-glr-gallery-lines-bars-and-markers-stackplot-demo-py"
   ]
  },
  {
   "cell_type": "code",
   "execution_count": 583,
   "metadata": {},
   "outputs": [],
   "source": [
    "prob_stack = np.vstack(probs)"
   ]
  },
  {
   "cell_type": "code",
   "execution_count": 701,
   "metadata": {},
   "outputs": [],
   "source": [
    "labels = [\"|0>\", \"|1>\", \"|2>\"]\n",
    "colors = [\"#dd3333\", \"#33dd44\", \"#4444ff\"]"
   ]
  },
  {
   "cell_type": "code",
   "execution_count": 702,
   "metadata": {},
   "outputs": [
    {
     "data": {
      "image/png": "[encoded data removed]",
      "text/plain": [
       "<Figure size 432x288 with 1 Axes>"
      ]
     },
     "metadata": {},
     "output_type": "display_data"
    }
   ],
   "source": [
    "fig, ax = plt.subplots()\n",
    "ax.stackplot(times, y[0], y[1], y[2], labels=labels, colors=colors)\n",
    "ax.legend(loc='lower left')\n",
    "plt.show()"
   ]
  },
  {
   "cell_type": "code",
   "execution_count": 587,
   "metadata": {},
   "outputs": [],
   "source": [
    "#fig, ax = plt.subplots()\n",
    "#ax.stackplot(times, prob_stack)\n",
    "#plt.show()"
   ]
  },
  {
   "cell_type": "code",
   "execution_count": null,
   "metadata": {},
   "outputs": [],
   "source": []
  }
 ],
 "metadata": {
  "kernelspec": {
   "display_name": "Python 3",
   "language": "python",
   "name": "python3"
  },
  "language_info": {
   "codemirror_mode": {
    "name": "ipython",
    "version": 3
   },
   "file_extension": ".py",
   "mimetype": "text/x-python",
   "name": "python",
   "nbconvert_exporter": "python",
   "pygments_lexer": "ipython3",
   "version": "3.6.7"
  }
 },
 "nbformat": 4,
 "nbformat_minor": 2
}
