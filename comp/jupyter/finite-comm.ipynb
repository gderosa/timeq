{
 "cells": [
  {
   "cell_type": "code",
   "execution_count": 9,
   "id": "cbe3ac10",
   "metadata": {},
   "outputs": [],
   "source": [
    "import numpy as np\n",
    "from scipy.linalg import dft, norm, expm, det, inv\n"
   ]
  },
  {
   "cell_type": "code",
   "execution_count": 10,
   "id": "b167d94d",
   "metadata": {},
   "outputs": [],
   "source": [
    "N = 4"
   ]
  },
  {
   "cell_type": "code",
   "execution_count": 11,
   "id": "0c382fb0",
   "metadata": {},
   "outputs": [],
   "source": [
    "T = np.diag(np.arange(N))"
   ]
  },
  {
   "cell_type": "code",
   "execution_count": 12,
   "id": "0e2966f4",
   "metadata": {},
   "outputs": [],
   "source": [
    "F = dft(N, scale='sqrtn').conj()"
   ]
  },
  {
   "cell_type": "code",
   "execution_count": 13,
   "id": "a54a20e5",
   "metadata": {},
   "outputs": [],
   "source": [
    "F_dagger = F.conj().T"
   ]
  },
  {
   "cell_type": "code",
   "execution_count": 14,
   "id": "c86e74fc",
   "metadata": {},
   "outputs": [],
   "source": [
    "Omega = F @ T @ F_dagger * 2*np.pi * N / N**2"
   ]
  },
  {
   "cell_type": "code",
   "execution_count": 15,
   "id": "28b21a52",
   "metadata": {},
   "outputs": [],
   "source": [
    "comm = (T @ Omega) - (Omega @ T)"
   ]
  },
  {
   "cell_type": "code",
   "execution_count": 16,
   "id": "02d09e5f",
   "metadata": {},
   "outputs": [
    {
     "data": {
      "text/plain": [
       "array([[ 0.        +0.00000000e+00j,  0.78539816-7.85398163e-01j,\n",
       "         1.57079633+5.77101208e-16j,  2.35619449+2.35619449e+00j],\n",
       "       [-0.78539816-7.85398163e-01j,  0.        +0.00000000e+00j,\n",
       "         0.78539816-7.85398163e-01j,  1.57079633+5.77101208e-16j],\n",
       "       [-1.57079633+5.77101208e-16j, -0.78539816-7.85398163e-01j,\n",
       "         0.        +0.00000000e+00j,  0.78539816-7.85398163e-01j],\n",
       "       [-2.35619449+2.35619449e+00j, -1.57079633+5.77101208e-16j,\n",
       "        -0.78539816-7.85398163e-01j,  0.        +0.00000000e+00j]])"
      ]
     },
     "execution_count": 16,
     "metadata": {},
     "output_type": "execute_result"
    }
   ],
   "source": [
    "comm"
   ]
  },
  {
   "cell_type": "code",
   "execution_count": 19,
   "id": "37701216",
   "metadata": {},
   "outputs": [
    {
     "data": {
      "text/plain": [
       "array([[ 0.  +0.j  ,  0.79-0.79j,  1.57+0.j  ,  2.36+2.36j],\n",
       "       [-0.79-0.79j,  0.  +0.j  ,  0.79-0.79j,  1.57+0.j  ],\n",
       "       [-1.57+0.j  , -0.79-0.79j,  0.  +0.j  ,  0.79-0.79j],\n",
       "       [-2.36+2.36j, -1.57+0.j  , -0.79-0.79j,  0.  +0.j  ]])"
      ]
     },
     "execution_count": 19,
     "metadata": {},
     "output_type": "execute_result"
    }
   ],
   "source": [
    "np.round(comm, 2)"
   ]
  },
  {
   "cell_type": "markdown",
   "id": "f4c7baa7",
   "metadata": {},
   "source": [
    "The commutator is *not* a constant in finite-domensional Hilbert spaces, where &ldquo;canonically conjugate&rdquo; operators are obtaineded via DFT instead of differentiation."
   ]
  },
  {
   "cell_type": "code",
   "execution_count": null,
   "id": "8637c6a4",
   "metadata": {},
   "outputs": [],
   "source": []
  }
 ],
 "metadata": {
  "kernelspec": {
   "display_name": "Python 3",
   "language": "python",
   "name": "python3"
  },
  "language_info": {
   "codemirror_mode": {
    "name": "ipython",
    "version": 3
   },
   "file_extension": ".py",
   "mimetype": "text/x-python",
   "name": "python",
   "nbconvert_exporter": "python",
   "pygments_lexer": "ipython3",
   "version": "3.8.8"
  }
 },
 "nbformat": 4,
 "nbformat_minor": 5
}
