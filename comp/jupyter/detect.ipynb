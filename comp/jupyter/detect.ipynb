{
 "cells": [
  {
   "cell_type": "markdown",
   "metadata": {},
   "source": [
    "## Detector model: Kiukas et al."
   ]
  },
  {
   "cell_type": "code",
   "execution_count": 71,
   "metadata": {},
   "outputs": [],
   "source": [
    "from sympy import *\n",
    "# from sympy.physics.matrices import mdft\n",
    "# from sympy.physics.quantum import TensorProduct\n",
    "from sympy.physics.quantum.dagger import Dagger\n",
    "from sympy.plotting import plot"
   ]
  },
  {
   "cell_type": "code",
   "execution_count": 72,
   "metadata": {},
   "outputs": [],
   "source": [
    "gamma = Symbol('gamma')\n",
    "t = Symbol('t')"
   ]
  },
  {
   "cell_type": "code",
   "execution_count": 73,
   "metadata": {},
   "outputs": [],
   "source": [
    "def D(_gamma):\n",
    "    return Rational(1, 2) * Matrix([\n",
    "        [0, 0],\n",
    "        [0, _gamma]\n",
    "    ])"
   ]
  },
  {
   "cell_type": "code",
   "execution_count": 74,
   "metadata": {},
   "outputs": [],
   "source": [
    "H = Matrix ([\n",
    "[0, 1] ,\n",
    "[1, 0]\n",
    "])"
   ]
  },
  {
   "cell_type": "code",
   "execution_count": 75,
   "metadata": {},
   "outputs": [],
   "source": [
    "init_printing ()\n"
   ]
  },
  {
   "cell_type": "code",
   "execution_count": 76,
   "metadata": {},
   "outputs": [
    {
     "data": {
      "text/latex": [
       "$$\\left[\\begin{matrix}0 & 1\\\\1 & 0\\end{matrix}\\right]$$"
      ],
      "text/plain": [
       "⎡0  1⎤\n",
       "⎢    ⎥\n",
       "⎣1  0⎦"
      ]
     },
     "execution_count": 76,
     "metadata": {},
     "output_type": "execute_result"
    }
   ],
   "source": [
    "H"
   ]
  },
  {
   "cell_type": "code",
   "execution_count": 77,
   "metadata": {},
   "outputs": [
    {
     "data": {
      "text/latex": [
       "$$\\left [ \\left ( -1, \\quad 1, \\quad \\left [ \\left[\\begin{matrix}-1\\\\1\\end{matrix}\\right]\\right ]\\right ), \\quad \\left ( 1, \\quad 1, \\quad \\left [ \\left[\\begin{matrix}1\\\\1\\end{matrix}\\right]\\right ]\\right )\\right ]$$"
      ],
      "text/plain": [
       "⎡⎛       ⎡⎡-1⎤⎤⎞  ⎛      ⎡⎡1⎤⎤⎞⎤\n",
       "⎢⎜-1, 1, ⎢⎢  ⎥⎥⎟, ⎜1, 1, ⎢⎢ ⎥⎥⎟⎥\n",
       "⎣⎝       ⎣⎣1 ⎦⎦⎠  ⎝      ⎣⎣1⎦⎦⎠⎦"
      ]
     },
     "execution_count": 77,
     "metadata": {},
     "output_type": "execute_result"
    }
   ],
   "source": [
    "H.eigenvects()"
   ]
  },
  {
   "cell_type": "markdown",
   "metadata": {},
   "source": [
    "It's manually seen that $\\langle H \\rangle = 0$ and $\\langle H^2 \\rangle = 1$, therefore $\\sigma_{H} = 1$."
   ]
  },
  {
   "cell_type": "code",
   "execution_count": 78,
   "metadata": {},
   "outputs": [],
   "source": [
    "def K(_gamma):\n",
    "    return H - I*D(_gamma)"
   ]
  },
  {
   "cell_type": "code",
   "execution_count": 79,
   "metadata": {},
   "outputs": [
    {
     "data": {
      "text/latex": [
       "$$\\left[\\begin{matrix}0 & 1\\\\1 & - \\frac{i \\gamma}{2}\\end{matrix}\\right]$$"
      ],
      "text/plain": [
       "⎡0    1  ⎤\n",
       "⎢        ⎥\n",
       "⎢   -ⅈ⋅γ ⎥\n",
       "⎢1  ─────⎥\n",
       "⎣     2  ⎦"
      ]
     },
     "execution_count": 79,
     "metadata": {},
     "output_type": "execute_result"
    }
   ],
   "source": [
    "K(gamma)"
   ]
  },
  {
   "cell_type": "code",
   "execution_count": 84,
   "metadata": {},
   "outputs": [],
   "source": [
    "def U(_gamma):\n",
    "    return lambda t: exp(-I*K(_gamma)*t)"
   ]
  },
  {
   "cell_type": "code",
   "execution_count": 99,
   "metadata": {},
   "outputs": [],
   "source": [
    "def lossy_norm(_t):\n",
    "    psi = U(2*sqrt(2))(_t) * Matrix([1,0])\n",
    "    return abs(psi[0])**2 + abs(psi[1])**2"
   ]
  },
  {
   "cell_type": "code",
   "execution_count": 104,
   "metadata": {},
   "outputs": [
    {
     "data": {
      "image/png": "[encoded data removed]",
      "text/latex": [
       "$$\\left|{\\frac{\\sqrt{2}}{2} e^{- \\frac{\\sqrt{2} t}{2} - \\frac{i t}{2} \\sqrt{2}} - \\frac{\\sqrt{2}}{2} e^{- \\frac{\\sqrt{2} t}{2} + \\frac{i t}{2} \\sqrt{2}}}\\right|^{2} + \\left|{\\frac{\\sqrt{2} i t e^{- \\frac{\\sqrt{2} t}{2} - \\frac{i t}{2} \\sqrt{2}}}{2 \\left(\\frac{\\sqrt{2} t}{2} + \\frac{i t}{2} \\sqrt{2}\\right)} - \\frac{\\sqrt{2} i t e^{- \\frac{\\sqrt{2} t}{2} + \\frac{i t}{2} \\sqrt{2}}}{2 \\left(\\frac{\\sqrt{2} t}{2} - \\frac{i t}{2} \\sqrt{2}\\right)}}\\right|^{2}$$"
      ],
      "text/plain": [
       "                                           2                                  \n",
       "│      √2⋅t   √2⋅ⅈ⋅t         √2⋅t   √2⋅ⅈ⋅t│    │          √2⋅t   √2⋅ⅈ⋅t       \n",
       "│    - ──── - ──────       - ──── + ──────│    │        - ──── - ──────       \n",
       "│       2       2             2       2   │    │           2       2          \n",
       "│√2⋅ℯ                  √2⋅ℯ               │    │√2⋅ⅈ⋅t⋅ℯ                  √2⋅ⅈ\n",
       "│─────────────────── - ───────────────────│  + │─────────────────────── - ────\n",
       "│         2                     2         │    │     ⎛√2⋅t   √2⋅ⅈ⋅t⎞          \n",
       "                                               │   2⋅⎜──── + ──────⎟         2\n",
       "                                               │     ⎝ 2       2   ⎠          \n",
       "\n",
       "                    2\n",
       "      √2⋅t   √2⋅ⅈ⋅t│ \n",
       "    - ──── + ──────│ \n",
       "       2       2   │ \n",
       "⋅t⋅ℯ               │ \n",
       "───────────────────│ \n",
       " ⎛√2⋅t   √2⋅ⅈ⋅t⎞   │ \n",
       "⋅⎜──── - ──────⎟   │ \n",
       " ⎝ 2       2   ⎠   │ "
      ]
     },
     "execution_count": 104,
     "metadata": {},
     "output_type": "execute_result"
    }
   ],
   "source": [
    "lossy_norm(t)"
   ]
  },
  {
   "cell_type": "code",
   "execution_count": null,
   "metadata": {},
   "outputs": [],
   "source": []
  }
 ],
 "metadata": {
  "kernelspec": {
   "display_name": "Python 3",
   "language": "python",
   "name": "python3"
  },
  "language_info": {
   "codemirror_mode": {
    "name": "ipython",
    "version": 3
   },
   "file_extension": ".py",
   "mimetype": "text/x-python",
   "name": "python",
   "nbconvert_exporter": "python",
   "pygments_lexer": "ipython3",
   "version": "3.6.5"
  }
 },
 "nbformat": 4,
 "nbformat_minor": 2
}
