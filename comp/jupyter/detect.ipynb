{
 "cells": [
  {
   "cell_type": "markdown",
   "metadata": {},
   "source": [
    "## Detector model: Kiukas et al. vs PW"
   ]
  },
  {
   "cell_type": "code",
   "execution_count": 33,
   "metadata": {},
   "outputs": [],
   "source": [
    "from sympy import *\n",
    "# from sympy.physics.matrices import mdft\n",
    "# from sympy.physics.quantum import TensorProduct\n",
    "from sympy.physics.quantum.dagger import Dagger\n",
    "from sympy.plotting import plot\n",
    "import numpy as np\n",
    "import matplotlib.pyplot as plt"
   ]
  },
  {
   "cell_type": "code",
   "execution_count": 34,
   "metadata": {},
   "outputs": [],
   "source": [
    "gamma = Symbol('gamma', real=True)\n",
    "t = Symbol('t', real=True)\n",
    "tprime = Symbol('t\\'', real=True)"
   ]
  },
  {
   "cell_type": "code",
   "execution_count": 35,
   "metadata": {},
   "outputs": [],
   "source": [
    "def D(_gamma):\n",
    "    return Rational(1, 2) * Matrix([\n",
    "        [0, 0],\n",
    "        [0, _gamma]\n",
    "    ])"
   ]
  },
  {
   "cell_type": "code",
   "execution_count": 36,
   "metadata": {},
   "outputs": [],
   "source": [
    "H = Matrix ([\n",
    "[0, 1] ,\n",
    "[1, 0]\n",
    "])"
   ]
  },
  {
   "cell_type": "code",
   "execution_count": 37,
   "metadata": {},
   "outputs": [],
   "source": [
    "init_printing ()\n"
   ]
  },
  {
   "cell_type": "code",
   "execution_count": 38,
   "metadata": {},
   "outputs": [
    {
     "data": {
      "image/png": "[encoded data removed]",
      "text/latex": [
       "$$\\left[\\begin{matrix}0 & 1\\\\1 & 0\\end{matrix}\\right]$$"
      ],
      "text/plain": [
       "⎡0  1⎤\n",
       "⎢    ⎥\n",
       "⎣1  0⎦"
      ]
     },
     "execution_count": 38,
     "metadata": {},
     "output_type": "execute_result"
    }
   ],
   "source": [
    "H"
   ]
  },
  {
   "cell_type": "code",
   "execution_count": 39,
   "metadata": {},
   "outputs": [
    {
     "data": {
      "image/png": "[encoded data removed]",
      "text/latex": [
       "$$\\left [ \\left ( -1, \\quad 1, \\quad \\left [ \\left[\\begin{matrix}-1\\\\1\\end{matrix}\\right]\\right ]\\right ), \\quad \\left ( 1, \\quad 1, \\quad \\left [ \\left[\\begin{matrix}1\\\\1\\end{matrix}\\right]\\right ]\\right )\\right ]$$"
      ],
      "text/plain": [
       "⎡⎛       ⎡⎡-1⎤⎤⎞  ⎛      ⎡⎡1⎤⎤⎞⎤\n",
       "⎢⎜-1, 1, ⎢⎢  ⎥⎥⎟, ⎜1, 1, ⎢⎢ ⎥⎥⎟⎥\n",
       "⎣⎝       ⎣⎣1 ⎦⎦⎠  ⎝      ⎣⎣1⎦⎦⎠⎦"
      ]
     },
     "execution_count": 39,
     "metadata": {},
     "output_type": "execute_result"
    }
   ],
   "source": [
    "H.eigenvects()"
   ]
  },
  {
   "cell_type": "markdown",
   "metadata": {},
   "source": [
    "It's manually seen that $\\langle H \\rangle = 0$ and $\\langle H^2 \\rangle = 1$, therefore $\\sigma_{H} = 1$."
   ]
  },
  {
   "cell_type": "code",
   "execution_count": 40,
   "metadata": {},
   "outputs": [],
   "source": [
    "def K(_gamma):\n",
    "    return H - I*D(_gamma)"
   ]
  },
  {
   "cell_type": "code",
   "execution_count": 41,
   "metadata": {},
   "outputs": [
    {
     "data": {
      "image/png": "[encoded data removed]",
      "text/latex": [
       "$$\\left[\\begin{matrix}0 & 1\\\\1 & - \\frac{i \\gamma}{2}\\end{matrix}\\right]$$"
      ],
      "text/plain": [
       "⎡0    1  ⎤\n",
       "⎢        ⎥\n",
       "⎢   -ⅈ⋅γ ⎥\n",
       "⎢1  ─────⎥\n",
       "⎣     2  ⎦"
      ]
     },
     "execution_count": 41,
     "metadata": {},
     "output_type": "execute_result"
    }
   ],
   "source": [
    "K(gamma)"
   ]
  },
  {
   "cell_type": "code",
   "execution_count": 42,
   "metadata": {},
   "outputs": [],
   "source": [
    "def B(_gamma):\n",
    "    return lambda t: exp(-I*K(_gamma)*t)"
   ]
  },
  {
   "cell_type": "code",
   "execution_count": 43,
   "metadata": {},
   "outputs": [],
   "source": [
    "def non_unitary_psi(_t):\n",
    "    return B(2*sqrt(2))(_t) * Matrix([1,0])"
   ]
  },
  {
   "cell_type": "code",
   "execution_count": 45,
   "metadata": {},
   "outputs": [
    {
     "data": {
      "image/png": "[encoded data removed]",
      "text/latex": [
       "$$\\left[\\begin{matrix}\\frac{\\sqrt{2} i t e^{- \\frac{\\sqrt{2} t}{2} - \\frac{\\sqrt{2} i t}{2}}}{2 \\left(\\frac{\\sqrt{2} t}{2} + \\frac{\\sqrt{2} i t}{2}\\right)} - \\frac{\\sqrt{2} i t e^{- \\frac{\\sqrt{2} t}{2} + \\frac{\\sqrt{2} i t}{2}}}{2 \\left(\\frac{\\sqrt{2} t}{2} - \\frac{\\sqrt{2} i t}{2}\\right)}\\\\\\frac{\\sqrt{2} e^{- \\frac{\\sqrt{2} t}{2} - \\frac{\\sqrt{2} i t}{2}}}{2} - \\frac{\\sqrt{2} e^{- \\frac{\\sqrt{2} t}{2} + \\frac{\\sqrt{2} i t}{2}}}{2}\\end{matrix}\\right]$$"
      ],
      "text/plain": [
       "⎡          √2⋅t   √2⋅ⅈ⋅t             √2⋅t   √2⋅ⅈ⋅t⎤\n",
       "⎢        - ──── - ──────           - ──── + ──────⎥\n",
       "⎢           2       2                 2       2   ⎥\n",
       "⎢√2⋅ⅈ⋅t⋅ℯ                  √2⋅ⅈ⋅t⋅ℯ               ⎥\n",
       "⎢─────────────────────── - ───────────────────────⎥\n",
       "⎢     ⎛√2⋅t   √2⋅ⅈ⋅t⎞           ⎛√2⋅t   √2⋅ⅈ⋅t⎞   ⎥\n",
       "⎢   2⋅⎜──── + ──────⎟         2⋅⎜──── - ──────⎟   ⎥\n",
       "⎢     ⎝ 2       2   ⎠           ⎝ 2       2   ⎠   ⎥\n",
       "⎢                                                 ⎥\n",
       "⎢          √2⋅t   √2⋅ⅈ⋅t         √2⋅t   √2⋅ⅈ⋅t    ⎥\n",
       "⎢        - ──── - ──────       - ──── + ──────    ⎥\n",
       "⎢           2       2             2       2       ⎥\n",
       "⎢    √2⋅ℯ                  √2⋅ℯ                   ⎥\n",
       "⎢    ─────────────────── - ───────────────────    ⎥\n",
       "⎣             2                     2             ⎦"
      ]
     },
     "execution_count": 45,
     "metadata": {},
     "output_type": "execute_result"
    }
   ],
   "source": [
    "non_unitary_psi(t)"
   ]
  },
  {
   "cell_type": "code",
   "execution_count": 60,
   "metadata": {},
   "outputs": [
    {
     "data": {
      "image/png": "[encoded data removed]",
      "text/plain": [
       "<Figure size 432x288 with 1 Axes>"
      ]
     },
     "metadata": {},
     "output_type": "display_data"
    },
    {
     "data": {
      "text/plain": [
       "<sympy.plotting.plot.Plot at 0x7fa94cd69be0>"
      ]
     },
     "execution_count": 60,
     "metadata": {},
     "output_type": "execute_result"
    }
   ],
   "source": [
    "plot(re(non_unitary_psi(t)[0]), (t, -0.25, 3*pi))"
   ]
  },
  {
   "cell_type": "code",
   "execution_count": 13,
   "metadata": {},
   "outputs": [],
   "source": [
    "def lossy_norm(_t):\n",
    "    psi = B(2*sqrt(2))(_t) * Matrix([1,0])\n",
    "    return re(abs(psi[0])**2 + abs(psi[1])**2)"
   ]
  },
  {
   "cell_type": "code",
   "execution_count": 14,
   "metadata": {},
   "outputs": [
    {
     "data": {
      "image/png": "[encoded data removed]",
      "text/plain": [
       "<Figure size 432x288 with 1 Axes>"
      ]
     },
     "metadata": {},
     "output_type": "display_data"
    },
    {
     "data": {
      "text/plain": [
       "<sympy.plotting.plot.Plot at 0x7fa94f7f5b00>"
      ]
     },
     "execution_count": 14,
     "metadata": {},
     "output_type": "execute_result"
    }
   ],
   "source": [
    "plot(lossy_norm(t),(t, -0.25, 4*pi))"
   ]
  },
  {
   "cell_type": "code",
   "execution_count": 15,
   "metadata": {},
   "outputs": [],
   "source": [
    "lossy_norm_n = lambdify(t, lossy_norm(t), \"numpy\")"
   ]
  },
  {
   "cell_type": "code",
   "execution_count": 16,
   "metadata": {},
   "outputs": [
    {
     "data": {
      "image/png": "[encoded data removed]",
      "text/latex": [
       "$$0.19265133139031912$$"
      ],
      "text/plain": [
       "0.19265133139031912"
      ]
     },
     "execution_count": 16,
     "metadata": {},
     "output_type": "execute_result"
    }
   ],
   "source": [
    "lossy_norm_n(2)"
   ]
  },
  {
   "cell_type": "code",
   "execution_count": 17,
   "metadata": {},
   "outputs": [],
   "source": [
    "X = np.linspace(1e-6, 4*np.pi, 500)  # avoid singularity in t=0"
   ]
  },
  {
   "cell_type": "code",
   "execution_count": 18,
   "metadata": {},
   "outputs": [],
   "source": [
    "Y = lossy_norm_n(X)"
   ]
  },
  {
   "cell_type": "code",
   "execution_count": 19,
   "metadata": {},
   "outputs": [
    {
     "data": {
      "text/plain": [
       "[<matplotlib.lines.Line2D at 0x7fa94d62ca20>]"
      ]
     },
     "execution_count": 19,
     "metadata": {},
     "output_type": "execute_result"
    },
    {
     "data": {
      "image/png": "[encoded data removed]",
      "text/plain": [
       "<Figure size 432x288 with 1 Axes>"
      ]
     },
     "metadata": {},
     "output_type": "display_data"
    }
   ],
   "source": [
    "plt.plot(X, -np.gradient(Y, X))"
   ]
  },
  {
   "cell_type": "markdown",
   "metadata": {},
   "source": [
    "### P-W \"expectation value\" technique"
   ]
  },
  {
   "cell_type": "code",
   "execution_count": 20,
   "metadata": {},
   "outputs": [],
   "source": [
    "def U(_t):\n",
    "    return exp(-I*H*_t)"
   ]
  },
  {
   "cell_type": "code",
   "execution_count": 21,
   "metadata": {},
   "outputs": [],
   "source": [
    "def psi_unitary(_t):\n",
    "    psi = U(_t) * Matrix([1,0])\n",
    "    return psi"
   ]
  },
  {
   "cell_type": "code",
   "execution_count": 22,
   "metadata": {},
   "outputs": [
    {
     "data": {
      "image/png": "[encoded data removed]",
      "text/latex": [
       "$$\\left[\\begin{matrix}\\frac{e^{i t}}{2} + \\frac{e^{- i t}}{2}\\\\- \\frac{e^{i t}}{2} + \\frac{e^{- i t}}{2}\\end{matrix}\\right]$$"
      ],
      "text/plain": [
       "⎡  ⅈ⋅t    -ⅈ⋅t ⎤\n",
       "⎢ ℯ      ℯ     ⎥\n",
       "⎢ ──── + ───── ⎥\n",
       "⎢  2       2   ⎥\n",
       "⎢              ⎥\n",
       "⎢   ⅈ⋅t    -ⅈ⋅t⎥\n",
       "⎢  ℯ      ℯ    ⎥\n",
       "⎢- ──── + ─────⎥\n",
       "⎣   2       2  ⎦"
      ]
     },
     "execution_count": 22,
     "metadata": {},
     "output_type": "execute_result"
    }
   ],
   "source": [
    "psi_unitary(t)"
   ]
  },
  {
   "cell_type": "code",
   "execution_count": 61,
   "metadata": {},
   "outputs": [
    {
     "data": {
      "image/png": "[encoded data removed]",
      "text/plain": [
       "<Figure size 432x288 with 1 Axes>"
      ]
     },
     "metadata": {},
     "output_type": "display_data"
    },
    {
     "data": {
      "text/plain": [
       "<sympy.plotting.plot.Plot at 0x7fa94cdf46d8>"
      ]
     },
     "execution_count": 61,
     "metadata": {},
     "output_type": "execute_result"
    }
   ],
   "source": [
    "plot(re(psi_unitary(t)[0]), (t, -0.25, 3*pi))"
   ]
  },
  {
   "cell_type": "code",
   "execution_count": 62,
   "metadata": {},
   "outputs": [
    {
     "data": {
      "image/png": "[encoded data removed]",
      "text/latex": [
       "$$\\frac{\\sqrt{2} \\left(\\frac{\\sqrt{2} e^{- \\frac{\\sqrt{2} t}{2} - \\frac{\\sqrt{2} i t}{2}}}{2} - \\frac{\\sqrt{2} e^{- \\frac{\\sqrt{2} t}{2} + \\frac{\\sqrt{2} i t}{2}}}{2}\\right)^{2}}{\\left(\\frac{\\sqrt{2} e^{- \\frac{\\sqrt{2} t}{2} - \\frac{\\sqrt{2} i t}{2}}}{2} - \\frac{\\sqrt{2} e^{- \\frac{\\sqrt{2} t}{2} + \\frac{\\sqrt{2} i t}{2}}}{2}\\right)^{2} + \\left(\\frac{\\sqrt{2} i t e^{- \\frac{\\sqrt{2} t}{2} - \\frac{\\sqrt{2} i t}{2}}}{2 \\left(\\frac{\\sqrt{2} t}{2} + \\frac{\\sqrt{2} i t}{2}\\right)} - \\frac{\\sqrt{2} i t e^{- \\frac{\\sqrt{2} t}{2} + \\frac{\\sqrt{2} i t}{2}}}{2 \\left(\\frac{\\sqrt{2} t}{2} - \\frac{\\sqrt{2} i t}{2}\\right)}\\right)^{2}}$$"
      ],
      "text/plain": [
       "                                                                        2     \n",
       "                             ⎛      √2⋅t   √2⋅ⅈ⋅t         √2⋅t   √2⋅ⅈ⋅t⎞      \n",
       "                             ⎜    - ──── - ──────       - ──── + ──────⎟      \n",
       "                             ⎜       2       2             2       2   ⎟      \n",
       "                             ⎜√2⋅ℯ                  √2⋅ℯ               ⎟      \n",
       "                          √2⋅⎜─────────────────── - ───────────────────⎟      \n",
       "                             ⎝         2                     2         ⎠      \n",
       "──────────────────────────────────────────────────────────────────────────────\n",
       "                                           2                                  \n",
       "⎛      √2⋅t   √2⋅ⅈ⋅t         √2⋅t   √2⋅ⅈ⋅t⎞    ⎛          √2⋅t   √2⋅ⅈ⋅t       \n",
       "⎜    - ──── - ──────       - ──── + ──────⎟    ⎜        - ──── - ──────       \n",
       "⎜       2       2             2       2   ⎟    ⎜           2       2          \n",
       "⎜√2⋅ℯ                  √2⋅ℯ               ⎟    ⎜√2⋅ⅈ⋅t⋅ℯ                  √2⋅ⅈ\n",
       "⎜─────────────────── - ───────────────────⎟  + ⎜─────────────────────── - ────\n",
       "⎝         2                     2         ⎠    ⎜     ⎛√2⋅t   √2⋅ⅈ⋅t⎞          \n",
       "                                               ⎜   2⋅⎜──── + ──────⎟         2\n",
       "                                               ⎝     ⎝ 2       2   ⎠          \n",
       "\n",
       "                     \n",
       "                     \n",
       "                     \n",
       "                     \n",
       "                     \n",
       "                     \n",
       "                     \n",
       "─────────────────────\n",
       "                    2\n",
       "      √2⋅t   √2⋅ⅈ⋅t⎞ \n",
       "    - ──── + ──────⎟ \n",
       "       2       2   ⎟ \n",
       "⋅t⋅ℯ               ⎟ \n",
       "───────────────────⎟ \n",
       " ⎛√2⋅t   √2⋅ⅈ⋅t⎞   ⎟ \n",
       "⋅⎜──── - ──────⎟   ⎟ \n",
       " ⎝ 2       2   ⎠   ⎠ "
      ]
     },
     "execution_count": 62,
     "metadata": {},
     "output_type": "execute_result"
    }
   ],
   "source": [
    "( non_unitary_psi(t).dot( D(2*sqrt(2)) * non_unitary_psi(t) ) ) / (non_unitary_psi(t).dot(non_unitary_psi(t)))"
   ]
  },
  {
   "cell_type": "code",
   "execution_count": 24,
   "metadata": {},
   "outputs": [
    {
     "data": {
      "image/png": "[encoded data removed]",
      "text/latex": [
       "$$\\left[\\begin{matrix}0 & 0\\\\0 & \\sqrt{2}\\end{matrix}\\right]$$"
      ],
      "text/plain": [
       "⎡0  0 ⎤\n",
       "⎢     ⎥\n",
       "⎣0  √2⎦"
      ]
     },
     "execution_count": 24,
     "metadata": {},
     "output_type": "execute_result"
    }
   ],
   "source": [
    "D(2*sqrt(2))"
   ]
  },
  {
   "cell_type": "code",
   "execution_count": 25,
   "metadata": {},
   "outputs": [
    {
     "data": {
      "image/png": "[encoded data removed]",
      "text/latex": [
       "$$\\frac{t}{2} - \\frac{\\sin{\\left (t \\right )} \\cos{\\left (t \\right )}}{2}$$"
      ],
      "text/plain": [
       "t   sin(t)⋅cos(t)\n",
       "─ - ─────────────\n",
       "2         2      "
      ]
     },
     "execution_count": 25,
     "metadata": {},
     "output_type": "execute_result"
    }
   ],
   "source": [
    "integrate(sin(t)**2, t)\n"
   ]
  },
  {
   "cell_type": "code",
   "execution_count": 26,
   "metadata": {},
   "outputs": [
    {
     "data": {
      "image/png": "[encoded data removed]",
      "text/plain": [
       "<Figure size 432x288 with 1 Axes>"
      ]
     },
     "metadata": {},
     "output_type": "display_data"
    },
    {
     "data": {
      "text/plain": [
       "<sympy.plotting.plot.Plot at 0x7fa94d6238d0>"
      ]
     },
     "execution_count": 26,
     "metadata": {},
     "output_type": "execute_result"
    }
   ],
   "source": [
    "plot(sqrt(2)* sin(t)**2 * exp(sin(t)*cos(t)/2) * exp(-t/2), (t, 0, 4*pi))"
   ]
  },
  {
   "cell_type": "code",
   "execution_count": null,
   "metadata": {},
   "outputs": [],
   "source": []
  }
 ],
 "metadata": {
  "kernelspec": {
   "display_name": "Python 3",
   "language": "python",
   "name": "python3"
  },
  "language_info": {
   "codemirror_mode": {
    "name": "ipython",
    "version": 3
   },
   "file_extension": ".py",
   "mimetype": "text/x-python",
   "name": "python",
   "nbconvert_exporter": "python",
   "pygments_lexer": "ipython3",
   "version": "3.6.5"
  }
 },
 "nbformat": 4,
 "nbformat_minor": 2
}
