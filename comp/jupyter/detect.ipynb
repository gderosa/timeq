{
 "cells": [
  {
   "cell_type": "markdown",
   "metadata": {},
   "source": [
    "## Detector model: Kiukas / Ruschhaupt / Schmidt / Werner"
   ]
  },
  {
   "cell_type": "code",
   "execution_count": 2,
   "metadata": {},
   "outputs": [],
   "source": [
    "from sympy import *\n",
    "#from sympy.physics.matrices import mdft\n",
    "from sympy.physics.quantum import TensorProduct\n",
    "from sympy.functions.special.delta_functions import Heaviside\n",
    "from sympy.physics.quantum.dagger import Dagger\n",
    "\n",
    "from sympy.stats import ContinuousRV, variance, std\n",
    "\n",
    "from sympy.plotting import plot, plot3d_parametric_line\n",
    "\n",
    "import numpy as np\n",
    "import matplotlib\n",
    "import matplotlib.pyplot as plt\n",
    "\n",
    "matplotlib.rcParams['text.usetex'] = True\n",
    "#matplotlib.rcParams['text.latex.preamble'] = r'''\n",
    "#    \\usepackage{DejaVuSans}\n",
    "#    \\usepackage{xparse}\n",
    "#    \\usepackage{amsmath}\n",
    "#    \\usepackage{physics}\n",
    "#'''\n",
    "#matplotlib.rcParams['mathtext.fontset'] = 'dejavusans' \n",
    "#matplotlib.rcParams['mathtext.default'] = 'sf'\n",
    "matplotlib.rcParams['figure.dpi'] = 140\n",
    "# matplotlib.rcParams['figure.figsize'] = (8,8/sqrt(2))\n",
    "matplotlib.rcParams['axes.labelsize'] = 16\n",
    "\n",
    "# https://matplotlib.org/gallery/mplot3d/lines3d.html?highlight=parametric\n",
    "# This import registers the 3D projection, but is otherwise unused.\n",
    "from mpl_toolkits.mplot3d import Axes3D  # noqa: F401 unused import\n"
   ]
  },
  {
   "cell_type": "code",
   "execution_count": 3,
   "metadata": {},
   "outputs": [],
   "source": [
    "gamma = Symbol('gamma', real=True)\n",
    "t = Symbol('t', real=True)\n",
    "tprime = Symbol('t\\'', real=True)\n",
    "omega = Symbol('omega', real=True)\n",
    "nu = Symbol('nu', real=True)"
   ]
  },
  {
   "cell_type": "code",
   "execution_count": 4,
   "metadata": {},
   "outputs": [],
   "source": [
    "def D(_gamma):\n",
    "    return Rational(1, 2) * Matrix([\n",
    "        [0, 0],\n",
    "        [0, _gamma]\n",
    "    ])"
   ]
  },
  {
   "cell_type": "code",
   "execution_count": 5,
   "metadata": {},
   "outputs": [],
   "source": [
    "H = Matrix ([\n",
    "[0, 1] ,\n",
    "[1, 0]\n",
    "])"
   ]
  },
  {
   "cell_type": "code",
   "execution_count": 6,
   "metadata": {},
   "outputs": [],
   "source": [
    "init_printing ()\n"
   ]
  },
  {
   "cell_type": "code",
   "execution_count": 7,
   "metadata": {},
   "outputs": [
    {
     "data": {
      "image/png": "[encoded data removed]",
      "text/latex": [
       "$\\displaystyle \\left[\\begin{matrix}0 & 1\\\\1 & 0\\end{matrix}\\right]$"
      ],
      "text/plain": [
       "⎡0  1⎤\n",
       "⎢    ⎥\n",
       "⎣1  0⎦"
      ]
     },
     "execution_count": 7,
     "metadata": {},
     "output_type": "execute_result"
    }
   ],
   "source": [
    "H"
   ]
  },
  {
   "cell_type": "code",
   "execution_count": 8,
   "metadata": {},
   "outputs": [
    {
     "data": {
      "image/png": "[encoded data removed]",
      "text/latex": [
       "$\\displaystyle \\left[ \\left( -1, \\  1, \\  \\left[ \\left[\\begin{matrix}-1\\\\1\\end{matrix}\\right]\\right]\\right), \\  \\left( 1, \\  1, \\  \\left[ \\left[\\begin{matrix}1\\\\1\\end{matrix}\\right]\\right]\\right)\\right]$"
      ],
      "text/plain": [
       "⎡⎛       ⎡⎡-1⎤⎤⎞  ⎛      ⎡⎡1⎤⎤⎞⎤\n",
       "⎢⎜-1, 1, ⎢⎢  ⎥⎥⎟, ⎜1, 1, ⎢⎢ ⎥⎥⎟⎥\n",
       "⎣⎝       ⎣⎣1 ⎦⎦⎠  ⎝      ⎣⎣1⎦⎦⎠⎦"
      ]
     },
     "execution_count": 8,
     "metadata": {},
     "output_type": "execute_result"
    }
   ],
   "source": [
    "H.eigenvects()"
   ]
  },
  {
   "cell_type": "markdown",
   "metadata": {},
   "source": [
    "It's manually seen that $\\langle H \\rangle = 0$ and $\\langle H^2 \\rangle = 1$, therefore $\\sigma_{H} = 1$."
   ]
  },
  {
   "cell_type": "code",
   "execution_count": 9,
   "metadata": {},
   "outputs": [],
   "source": [
    "def K(_gamma):\n",
    "    return H - I*D(_gamma)"
   ]
  },
  {
   "cell_type": "code",
   "execution_count": 10,
   "metadata": {},
   "outputs": [
    {
     "data": {
      "image/png": "[encoded data removed]",
      "text/latex": [
       "$\\displaystyle \\left[\\begin{matrix}0 & 1\\\\1 & - \\sqrt{2} i\\end{matrix}\\right]$"
      ],
      "text/plain": [
       "⎡0    1  ⎤\n",
       "⎢        ⎥\n",
       "⎣1  -√2⋅ⅈ⎦"
      ]
     },
     "execution_count": 10,
     "metadata": {},
     "output_type": "execute_result"
    }
   ],
   "source": [
    "K(2*sqrt(2))"
   ]
  },
  {
   "cell_type": "code",
   "execution_count": 11,
   "metadata": {},
   "outputs": [
    {
     "data": {
      "image/png": "[encoded data removed]",
      "text/latex": [
       "$\\displaystyle \\left[ \\left( - \\frac{\\sqrt{2}}{2} - \\frac{\\sqrt{2} i}{2}, \\  1, \\  \\left[ \\left[\\begin{matrix}- \\frac{1}{\\frac{\\sqrt{2}}{2} + \\frac{\\sqrt{2} i}{2}}\\\\1\\end{matrix}\\right]\\right]\\right), \\  \\left( \\frac{\\sqrt{2}}{2} - \\frac{\\sqrt{2} i}{2}, \\  1, \\  \\left[ \\left[\\begin{matrix}- \\frac{1}{- \\frac{\\sqrt{2}}{2} + \\frac{\\sqrt{2} i}{2}}\\\\1\\end{matrix}\\right]\\right]\\right)\\right]$"
      ],
      "text/plain": [
       "⎡⎛                ⎡⎡   -1    ⎤⎤⎞  ⎛              ⎡⎡    -1     ⎤⎤⎞⎤\n",
       "⎢⎜                ⎢⎢─────────⎥⎥⎟  ⎜              ⎢⎢───────────⎥⎥⎟⎥\n",
       "⎢⎜  √2   √2⋅ⅈ     ⎢⎢√2   √2⋅ⅈ⎥⎥⎟  ⎜√2   √2⋅ⅈ     ⎢⎢  √2   √2⋅ⅈ⎥⎥⎟⎥\n",
       "⎢⎜- ── - ────, 1, ⎢⎢── + ────⎥⎥⎟, ⎜── - ────, 1, ⎢⎢- ── + ────⎥⎥⎟⎥\n",
       "⎢⎜  2     2       ⎢⎢2     2  ⎥⎥⎟  ⎜2     2       ⎢⎢  2     2  ⎥⎥⎟⎥\n",
       "⎢⎜                ⎢⎢         ⎥⎥⎟  ⎜              ⎢⎢           ⎥⎥⎟⎥\n",
       "⎣⎝                ⎣⎣    1    ⎦⎦⎠  ⎝              ⎣⎣     1     ⎦⎦⎠⎦"
      ]
     },
     "execution_count": 11,
     "metadata": {},
     "output_type": "execute_result"
    }
   ],
   "source": [
    "K(2*sqrt(2)).eigenvects()"
   ]
  },
  {
   "cell_type": "code",
   "execution_count": 12,
   "metadata": {},
   "outputs": [],
   "source": [
    "def B(_gamma):\n",
    "    return lambda t: exp(-I*K(_gamma)*t)"
   ]
  },
  {
   "cell_type": "code",
   "execution_count": 13,
   "metadata": {},
   "outputs": [],
   "source": [
    "def U():\n",
    "    return lambda t: exp(-I*H*t)"
   ]
  },
  {
   "cell_type": "code",
   "execution_count": 14,
   "metadata": {},
   "outputs": [],
   "source": [
    "def non_unitary_psi(_t):\n",
    "    return B(2*sqrt(2))(_t) * Matrix([1,0])"
   ]
  },
  {
   "cell_type": "code",
   "execution_count": 15,
   "metadata": {},
   "outputs": [],
   "source": [
    "def unitary_psi(_t):\n",
    "    return U()(_t) * Matrix([1,0])"
   ]
  },
  {
   "cell_type": "code",
   "execution_count": 16,
   "metadata": {},
   "outputs": [
    {
     "data": {
      "image/png": "[encoded data removed]",
      "text/latex": [
       "$\\displaystyle \\left[\\begin{matrix}\\frac{\\sqrt{2} i t e^{- \\frac{\\sqrt{2} t}{2} - \\frac{\\sqrt{2} i t}{2}}}{2 \\left(\\frac{\\sqrt{2} t}{2} + \\frac{\\sqrt{2} i t}{2}\\right)} - \\frac{\\sqrt{2} i t e^{- \\frac{\\sqrt{2} t}{2} + \\frac{\\sqrt{2} i t}{2}}}{2 \\left(\\frac{\\sqrt{2} t}{2} - \\frac{\\sqrt{2} i t}{2}\\right)}\\\\\\frac{\\sqrt{2} e^{- \\frac{\\sqrt{2} t}{2} - \\frac{\\sqrt{2} i t}{2}}}{2} - \\frac{\\sqrt{2} e^{- \\frac{\\sqrt{2} t}{2} + \\frac{\\sqrt{2} i t}{2}}}{2}\\end{matrix}\\right]$"
      ],
      "text/plain": [
       "⎡          √2⋅t   √2⋅ⅈ⋅t             √2⋅t   √2⋅ⅈ⋅t⎤\n",
       "⎢        - ──── - ──────           - ──── + ──────⎥\n",
       "⎢           2       2                 2       2   ⎥\n",
       "⎢√2⋅ⅈ⋅t⋅ℯ                  √2⋅ⅈ⋅t⋅ℯ               ⎥\n",
       "⎢─────────────────────── - ───────────────────────⎥\n",
       "⎢     ⎛√2⋅t   √2⋅ⅈ⋅t⎞           ⎛√2⋅t   √2⋅ⅈ⋅t⎞   ⎥\n",
       "⎢   2⋅⎜──── + ──────⎟         2⋅⎜──── - ──────⎟   ⎥\n",
       "⎢     ⎝ 2       2   ⎠           ⎝ 2       2   ⎠   ⎥\n",
       "⎢                                                 ⎥\n",
       "⎢          √2⋅t   √2⋅ⅈ⋅t         √2⋅t   √2⋅ⅈ⋅t    ⎥\n",
       "⎢        - ──── - ──────       - ──── + ──────    ⎥\n",
       "⎢           2       2             2       2       ⎥\n",
       "⎢    √2⋅ℯ                  √2⋅ℯ                   ⎥\n",
       "⎢    ─────────────────── - ───────────────────    ⎥\n",
       "⎣             2                     2             ⎦"
      ]
     },
     "execution_count": 16,
     "metadata": {},
     "output_type": "execute_result"
    }
   ],
   "source": [
    "non_unitary_psi(t)"
   ]
  },
  {
   "cell_type": "markdown",
   "metadata": {},
   "source": [
    "New period"
   ]
  },
  {
   "cell_type": "code",
   "execution_count": 17,
   "metadata": {},
   "outputs": [
    {
     "data": {
      "image/png": "[encoded data removed]",
      "text/latex": [
       "$\\displaystyle 2 \\sqrt{2} \\pi$"
      ],
      "text/plain": [
       "2⋅√2⋅π"
      ]
     },
     "execution_count": 17,
     "metadata": {},
     "output_type": "execute_result"
    }
   ],
   "source": [
    "2*pi / (sqrt(2)/2)"
   ]
  },
  {
   "cell_type": "markdown",
   "metadata": {},
   "source": [
    "Components are either pure real or pure imaginary:"
   ]
  },
  {
   "cell_type": "code",
   "execution_count": 18,
   "metadata": {},
   "outputs": [
    {
     "data": {
      "image/png": "[encoded data removed]",
      "text/plain": [
       "<Figure size 432x288 with 1 Axes>"
      ]
     },
     "metadata": {
      "needs_background": "light"
     },
     "output_type": "display_data"
    },
    {
     "data": {
      "text/plain": [
       "<sympy.plotting.plot.Plot at 0x7fb592db01d0>"
      ]
     },
     "execution_count": 18,
     "metadata": {},
     "output_type": "execute_result"
    }
   ],
   "source": [
    "plot(re(non_unitary_psi(t)[0]), (t, 0, 10),\n",
    "     line_color='r', xlabel=r'$t$', ylabel=r'$\\mathrm{Re}\\left\\langle 0 | \\psi \\right\\rangle $')"
   ]
  },
  {
   "cell_type": "code",
   "execution_count": 19,
   "metadata": {},
   "outputs": [
    {
     "data": {
      "image/png": "[encoded data removed]",
      "text/plain": [
       "<Figure size 432x288 with 1 Axes>"
      ]
     },
     "metadata": {
      "needs_background": "light"
     },
     "output_type": "display_data"
    },
    {
     "data": {
      "text/plain": [
       "<sympy.plotting.plot.Plot at 0x7fb5929e6048>"
      ]
     },
     "execution_count": 19,
     "metadata": {},
     "output_type": "execute_result"
    }
   ],
   "source": [
    "plot(im(non_unitary_psi(t)[1]), (t, 0, 10),\n",
    "     line_color='b', xlabel=r'$t$', ylabel=r'$\\mathrm{Im}\\left\\langle 1 | \\psi \\right\\rangle $')"
   ]
  },
  {
   "cell_type": "code",
   "execution_count": 20,
   "metadata": {},
   "outputs": [],
   "source": [
    "# verify that our manual simplification is correct\n",
    "#plot(-sqrt(2)*exp(-t*sqrt(2)/2)*sin(t*sqrt(2)/2), (t, 0, 10) )"
   ]
  },
  {
   "cell_type": "code",
   "execution_count": 21,
   "metadata": {},
   "outputs": [],
   "source": [
    "def lossy_norm(_t):\n",
    "    psi = B(2*sqrt(2))(_t) * Matrix([1,0])\n",
    "    return (abs(psi[0]**2) + abs(psi[1]**2))"
   ]
  },
  {
   "cell_type": "code",
   "execution_count": 22,
   "metadata": {},
   "outputs": [
    {
     "data": {
      "image/png": "[encoded data removed]",
      "text/latex": [
       "$\\displaystyle \\left|{\\left(\\frac{\\sqrt{2} e^{- \\frac{\\sqrt{2} t}{2} - \\frac{\\sqrt{2} i t}{2}}}{2} - \\frac{\\sqrt{2} e^{- \\frac{\\sqrt{2} t}{2} + \\frac{\\sqrt{2} i t}{2}}}{2}\\right)^{2}}\\right| + \\left|{\\left(\\frac{\\sqrt{2} i t e^{- \\frac{\\sqrt{2} t}{2} - \\frac{\\sqrt{2} i t}{2}}}{2 \\left(\\frac{\\sqrt{2} t}{2} + \\frac{\\sqrt{2} i t}{2}\\right)} - \\frac{\\sqrt{2} i t e^{- \\frac{\\sqrt{2} t}{2} + \\frac{\\sqrt{2} i t}{2}}}{2 \\left(\\frac{\\sqrt{2} t}{2} - \\frac{\\sqrt{2} i t}{2}\\right)}\\right)^{2}}\\right|$"
      ],
      "text/plain": [
       "│                                           2│   │                            \n",
       "│⎛      √2⋅t   √2⋅ⅈ⋅t         √2⋅t   √2⋅ⅈ⋅t⎞ │   │⎛          √2⋅t   √2⋅ⅈ⋅t    \n",
       "│⎜    - ──── - ──────       - ──── + ──────⎟ │   │⎜        - ──── - ──────    \n",
       "│⎜       2       2             2       2   ⎟ │   │⎜           2       2       \n",
       "│⎜√2⋅ℯ                  √2⋅ℯ               ⎟ │   │⎜√2⋅ⅈ⋅t⋅ℯ                  √\n",
       "│⎜─────────────────── - ───────────────────⎟ │ + │⎜─────────────────────── - ─\n",
       "│⎝         2                     2         ⎠ │   │⎜     ⎛√2⋅t   √2⋅ⅈ⋅t⎞       \n",
       "                                                 │⎜   2⋅⎜──── + ──────⎟       \n",
       "                                                 │⎝     ⎝ 2       2   ⎠       \n",
       "\n",
       "                       2│\n",
       "         √2⋅t   √2⋅ⅈ⋅t⎞ │\n",
       "       - ──── + ──────⎟ │\n",
       "          2       2   ⎟ │\n",
       "2⋅ⅈ⋅t⋅ℯ               ⎟ │\n",
       "──────────────────────⎟ │\n",
       "    ⎛√2⋅t   √2⋅ⅈ⋅t⎞   ⎟ │\n",
       "  2⋅⎜──── - ──────⎟   ⎟ │\n",
       "    ⎝ 2       2   ⎠   ⎠ │"
      ]
     },
     "execution_count": 22,
     "metadata": {},
     "output_type": "execute_result"
    }
   ],
   "source": [
    "lossy_norm(t)"
   ]
  },
  {
   "cell_type": "code",
   "execution_count": 23,
   "metadata": {},
   "outputs": [],
   "source": [
    "non_unitary_psi_n = lambdify(t, non_unitary_psi(t), \"numpy\")"
   ]
  },
  {
   "cell_type": "code",
   "execution_count": 24,
   "metadata": {},
   "outputs": [],
   "source": [
    "_lossy_norm_n = lambdify(t, lossy_norm(t), \"numpy\")\n",
    "def lossy_norm_n(__t):\n",
    "    # prevent a warning, even if we know it's real\n",
    "    return np.real(_lossy_norm_n(__t))"
   ]
  },
  {
   "cell_type": "code",
   "execution_count": 25,
   "metadata": {},
   "outputs": [
    {
     "data": {
      "text/plain": [
       "<function __main__.lossy_norm_n(__t)>"
      ]
     },
     "execution_count": 25,
     "metadata": {},
     "output_type": "execute_result"
    }
   ],
   "source": [
    "lossy_norm_n"
   ]
  },
  {
   "cell_type": "code",
   "execution_count": 26,
   "metadata": {},
   "outputs": [],
   "source": [
    "def non_unitary_psi_renorm_n(_t):\n",
    "    return non_unitary_psi_n(_t) / np.sqrt(lossy_norm_n(_t))"
   ]
  },
  {
   "cell_type": "code",
   "execution_count": 27,
   "metadata": {},
   "outputs": [],
   "source": [
    "T = np.linspace(1e-16, 2*np.pi, 2000)"
   ]
  },
  {
   "cell_type": "code",
   "execution_count": 28,
   "metadata": {},
   "outputs": [
    {
     "data": {
      "text/plain": [
       "Text(0.5, 0, '$t$')"
      ]
     },
     "execution_count": 28,
     "metadata": {},
     "output_type": "execute_result"
    },
    {
     "data": {
      "image/png": "[encoded data removed]",
      "text/plain": [
       "<Figure size 576x576 with 1 Axes>"
      ]
     },
     "metadata": {
      "needs_background": "light"
     },
     "output_type": "display_data"
    }
   ],
   "source": [
    "fig = plt.figure(figsize=(8,8))\n",
    "#fig = plt.figure()\n",
    "\n",
    "\n",
    "ax = fig.gca(projection='3d')\n",
    "ax.view_init(10,-45) # rotate 3d point of view\n",
    "\n",
    "ax.plot(\n",
    "    np.real(non_unitary_psi_n(T)[0][0]), np.imag(non_unitary_psi_n(T)[1][0]), T,\n",
    "    linewidth=1.25\n",
    ")\n",
    "\n",
    "##ax.legend()\n",
    "\n",
    "plt.xlabel(r'$\\mathrm{Re}\\left\\langle 0 | \\psi \\right\\rangle$ (pure real)', labelpad=8)\n",
    "plt.ylabel(r'$\\mathrm{Im}\\left\\langle 1 | \\psi \\right\\rangle$ (pure imag)', labelpad=10)\n",
    "ax.set_zlabel(r'$t$')\n"
   ]
  },
  {
   "cell_type": "code",
   "execution_count": 29,
   "metadata": {},
   "outputs": [
    {
     "data": {
      "image/png": "[encoded data removed]",
      "text/plain": [
       "<Figure size 432x288 with 1 Axes>"
      ]
     },
     "metadata": {
      "needs_background": "light"
     },
     "output_type": "display_data"
    },
    {
     "data": {
      "text/plain": [
       "<sympy.plotting.plot.Plot at 0x7fb5929661d0>"
      ]
     },
     "execution_count": 29,
     "metadata": {},
     "output_type": "execute_result"
    }
   ],
   "source": [
    "plot(lossy_norm(t),(t, 0, 2*pi), line_color='g',\n",
    "     ylabel=r'$\\left|\\psi\\right|^2$', xlabel=r'$t$')"
   ]
  },
  {
   "cell_type": "code",
   "execution_count": 30,
   "metadata": {},
   "outputs": [],
   "source": [
    "def prob_0_detect(t):\n",
    "    return abs(non_unitary_psi(t)[0]**2) / lossy_norm(t)"
   ]
  },
  {
   "cell_type": "code",
   "execution_count": 31,
   "metadata": {},
   "outputs": [],
   "source": [
    "def prob_1_detect(t):\n",
    "    return abs(non_unitary_psi(t)[1]**2) / lossy_norm(t)"
   ]
  },
  {
   "cell_type": "code",
   "execution_count": 32,
   "metadata": {},
   "outputs": [],
   "source": [
    "#plot(prob_0_detect(t),(t, 0, 2*pi), line_color='r')"
   ]
  },
  {
   "cell_type": "code",
   "execution_count": 33,
   "metadata": {},
   "outputs": [],
   "source": [
    "#plot(prob_1_detect(t),(t, -0, 2*pi), line_color='b')"
   ]
  },
  {
   "cell_type": "code",
   "execution_count": 34,
   "metadata": {},
   "outputs": [],
   "source": [
    "#plot(re(non_unitary_psi(t)[0])/sqrt(lossy_norm(t)), (t, 0, 2 * 2*sqrt(2)*pi), line_color='r')"
   ]
  },
  {
   "cell_type": "code",
   "execution_count": 35,
   "metadata": {},
   "outputs": [],
   "source": [
    "#plot(im(non_unitary_psi(t)[1])/sqrt(lossy_norm(t)), (t, 0, 2 * 2*sqrt(2)*pi), line_color='b')"
   ]
  },
  {
   "cell_type": "code",
   "execution_count": 36,
   "metadata": {},
   "outputs": [],
   "source": [
    "def prob_0_unitary(t):\n",
    "    return abs(unitary_psi(t)[0]**2)"
   ]
  },
  {
   "cell_type": "code",
   "execution_count": 37,
   "metadata": {},
   "outputs": [],
   "source": [
    "def prob_1_unitary(t):\n",
    "    return abs(unitary_psi(t)[1]**2)"
   ]
  },
  {
   "cell_type": "code",
   "execution_count": 38,
   "metadata": {},
   "outputs": [],
   "source": [
    "#plot(prob_0_unitary(t),(t, -0.25, 8*pi), line_color='r')"
   ]
  },
  {
   "cell_type": "code",
   "execution_count": 39,
   "metadata": {},
   "outputs": [],
   "source": [
    "#plot(prob_1_unitary(t),(t, -0.25, 8*pi), line_color='b')"
   ]
  },
  {
   "cell_type": "code",
   "execution_count": 40,
   "metadata": {},
   "outputs": [
    {
     "data": {
      "image/png": "[encoded data removed]",
      "text/latex": [
       "$\\displaystyle 0.19265133139031912$"
      ],
      "text/plain": [
       "0.19265133139031912"
      ]
     },
     "execution_count": 40,
     "metadata": {},
     "output_type": "execute_result"
    }
   ],
   "source": [
    "lossy_norm_n(2)"
   ]
  },
  {
   "cell_type": "code",
   "execution_count": 41,
   "metadata": {},
   "outputs": [],
   "source": [
    "X = np.linspace(1e-6, 2*np.pi, 1000)  # avoid singularity in t=0"
   ]
  },
  {
   "cell_type": "code",
   "execution_count": 42,
   "metadata": {},
   "outputs": [],
   "source": [
    "Y = lossy_norm_n(X)"
   ]
  },
  {
   "cell_type": "code",
   "execution_count": 43,
   "metadata": {},
   "outputs": [
    {
     "data": {
      "text/plain": [
       "[<matplotlib.lines.Line2D at 0x7fb592846ac8>]"
      ]
     },
     "execution_count": 43,
     "metadata": {},
     "output_type": "execute_result"
    },
    {
     "data": {
      "image/png": "[encoded data removed]",
      "text/plain": [
       "<Figure size 432x288 with 1 Axes>"
      ]
     },
     "metadata": {
      "needs_background": "light"
     },
     "output_type": "display_data"
    }
   ],
   "source": [
    "plt.xlabel('$t$')\n",
    "plt.ylabel(r'$ - \\mathrm{d}|\\psi|^2 / \\mathrm{d}t $')\n",
    "plt.plot(X, -np.gradient(Y, X), 'g')\n"
   ]
  },
  {
   "cell_type": "code",
   "execution_count": 44,
   "metadata": {},
   "outputs": [],
   "source": [
    "# we have set gamma = 2*sqrt(2)\n",
    "def hatpsi(_t):\n",
    "    return \\\n",
    "        Heaviside(_t) * \\\n",
    "        2**(Rational(3,4)) * \\\n",
    "        Matrix([\n",
    "            [0, 0],\n",
    "            [0, 1]\n",
    "        ]) * \\\n",
    "        non_unitary_psi(_t)\n",
    "        \n",
    "def hatpsi_n(_t):\n",
    "    return \\\n",
    "        np.heaviside(_t, 0) * \\\n",
    "        2**(3/4) * \\\n",
    "        np.array([\n",
    "            [0, 0],\n",
    "            [0, 1]\n",
    "        ]) * \\\n",
    "        non_unitary_psi_n(_t)\n",
    "        \n",
    "        \n",
    "    "
   ]
  },
  {
   "cell_type": "code",
   "execution_count": 45,
   "metadata": {},
   "outputs": [
    {
     "data": {
      "image/png": "[encoded data removed]",
      "text/latex": [
       "$\\displaystyle \\left[\\begin{matrix}0\\\\2^{\\frac{3}{4}} \\left(\\frac{\\sqrt{2} e^{- \\frac{\\sqrt{2} t}{2} - \\frac{\\sqrt{2} i t}{2}}}{2} - \\frac{\\sqrt{2} e^{- \\frac{\\sqrt{2} t}{2} + \\frac{\\sqrt{2} i t}{2}}}{2}\\right) \\theta\\left(t\\right)\\end{matrix}\\right]$"
      ],
      "text/plain": [
       "⎡                              0                              ⎤\n",
       "⎢                                                             ⎥\n",
       "⎢     ⎛      √2⋅t   √2⋅ⅈ⋅t         √2⋅t   √2⋅ⅈ⋅t⎞             ⎥\n",
       "⎢     ⎜    - ──── - ──────       - ──── + ──────⎟             ⎥\n",
       "⎢     ⎜       2       2             2       2   ⎟             ⎥\n",
       "⎢ 3/4 ⎜√2⋅ℯ                  √2⋅ℯ               ⎟             ⎥\n",
       "⎢2   ⋅⎜─────────────────── - ───────────────────⎟⋅Heaviside(t)⎥\n",
       "⎣     ⎝         2                     2         ⎠             ⎦"
      ]
     },
     "execution_count": 45,
     "metadata": {},
     "output_type": "execute_result"
    }
   ],
   "source": [
    "hatpsi(t)"
   ]
  },
  {
   "cell_type": "code",
   "execution_count": 46,
   "metadata": {},
   "outputs": [],
   "source": [
    "def hatpsisquarednorm(_t):\n",
    "    return abs(hatpsi(_t)[0]**2) + abs(hatpsi(_t)[1]**2)\n",
    "\n",
    "def hatpsisquarednorm_n(_t):\n",
    "    return abs(hatpsi_n(_t)[0]**2) + abs(hatpsi_n(_t)[1]**2)"
   ]
  },
  {
   "cell_type": "code",
   "execution_count": 47,
   "metadata": {},
   "outputs": [
    {
     "data": {
      "image/png": "[encoded data removed]",
      "text/latex": [
       "$\\displaystyle 0$"
      ],
      "text/plain": [
       "0"
      ]
     },
     "execution_count": 47,
     "metadata": {},
     "output_type": "execute_result"
    }
   ],
   "source": [
    "hatpsisquarednorm(-1)"
   ]
  },
  {
   "cell_type": "code",
   "execution_count": 48,
   "metadata": {},
   "outputs": [
    {
     "data": {
      "image/png": "[encoded data removed]",
      "text/plain": [
       "<Figure size 432x288 with 1 Axes>"
      ]
     },
     "metadata": {
      "needs_background": "light"
     },
     "output_type": "display_data"
    },
    {
     "data": {
      "text/plain": [
       "<sympy.plotting.plot.Plot at 0x7fb592843da0>"
      ]
     },
     "execution_count": 48,
     "metadata": {},
     "output_type": "execute_result"
    }
   ],
   "source": [
    "plot(hatpsisquarednorm(t), (t, -1, 2*pi), line_color='g',\n",
    "     ylabel=r'$ \\left|\\hspace{-.15em}\\left|\\hat{\\psi}\\right|\\hspace{-.15em}\\right|^2 $ =  $ - \\mathrm{d}\\left|\\hspace{-0.15em}\\left|\\psi\\right|\\hspace{-0.15em}\\right|^2 / \\mathrm{d}t $',\n",
    "     xlabel=r'$t$'\n",
    "    )"
   ]
  },
  {
   "cell_type": "code",
   "execution_count": 49,
   "metadata": {},
   "outputs": [],
   "source": [
    "#plot(prob_1_detect(t), hatpsisquarednorm(t), (t, -0.25, 8*pi))"
   ]
  },
  {
   "cell_type": "code",
   "execution_count": 50,
   "metadata": {},
   "outputs": [],
   "source": [
    "def prob_0_hatpsi(_t):\n",
    "    return abs(hatpsi(_t)[0]**2) / (abs(hatpsi(_t)[0]**2) + abs(hatpsi(_t)[1]**2))"
   ]
  },
  {
   "cell_type": "code",
   "execution_count": 51,
   "metadata": {},
   "outputs": [],
   "source": [
    "def prob_1_hatpsi(_t):\n",
    "    return abs(hatpsi(_t)[1]**2) / (abs(hatpsi(_t)[0]**2) + abs(hatpsi(_t)[1]**2))"
   ]
  },
  {
   "cell_type": "code",
   "execution_count": 52,
   "metadata": {},
   "outputs": [
    {
     "data": {
      "image/png": "[encoded data removed]",
      "text/plain": [
       "<Figure size 432x288 with 1 Axes>"
      ]
     },
     "metadata": {
      "needs_background": "light"
     },
     "output_type": "display_data"
    },
    {
     "data": {
      "text/plain": [
       "<sympy.plotting.plot.Plot at 0x7fb5920dd518>"
      ]
     },
     "execution_count": 52,
     "metadata": {},
     "output_type": "execute_result"
    }
   ],
   "source": [
    "plot( abs(hatpsi(t)[1]**2), (t, -2, 2*pi), line_color='b')"
   ]
  },
  {
   "cell_type": "code",
   "execution_count": 53,
   "metadata": {},
   "outputs": [],
   "source": [
    "def fhatpsi1(_nu):\n",
    "    return fourier_transform(hatpsi(t)[1], t, _nu)"
   ]
  },
  {
   "cell_type": "code",
   "execution_count": 54,
   "metadata": {},
   "outputs": [
    {
     "data": {
      "image/png": "[encoded data removed]",
      "text/latex": [
       "$\\displaystyle - \\frac{2^{\\frac{3}{4}} i}{- 4 \\pi^{2} \\nu^{2} + 2 \\sqrt{2} i \\pi \\nu + 1}$"
      ],
      "text/plain": [
       "           3/4            \n",
       "         -2   ⋅ⅈ          \n",
       "──────────────────────────\n",
       "     2  2                 \n",
       "- 4⋅π ⋅ν  + 2⋅√2⋅ⅈ⋅π⋅ν + 1"
      ]
     },
     "execution_count": 54,
     "metadata": {},
     "output_type": "execute_result"
    }
   ],
   "source": [
    "simplify(fhatpsi1(nu))"
   ]
  },
  {
   "cell_type": "code",
   "execution_count": 55,
   "metadata": {},
   "outputs": [
    {
     "data": {
      "image/png": "[encoded data removed]",
      "text/plain": [
       "<Figure size 432x288 with 1 Axes>"
      ]
     },
     "metadata": {
      "needs_background": "light"
     },
     "output_type": "display_data"
    },
    {
     "data": {
      "text/plain": [
       "<sympy.plotting.plot.Plot at 0x7fb591e62518>"
      ]
     },
     "execution_count": 55,
     "metadata": {},
     "output_type": "execute_result"
    }
   ],
   "source": [
    "plot(abs(fhatpsi1(nu))**2, (nu, -1, 1), line_color='#bbbbbb')"
   ]
  },
  {
   "cell_type": "markdown",
   "metadata": {},
   "source": [
    "The above Fourier transform is defined in frequency (\\nu) not angular frequency (\\omega),\n",
    "therefore needs rescaling."
   ]
  },
  {
   "cell_type": "code",
   "execution_count": 56,
   "metadata": {},
   "outputs": [],
   "source": [
    "def fhatpsiomega(_omega):\n",
    "    return fhatpsi1(_omega/(2*pi)) / sqrt((2*pi))"
   ]
  },
  {
   "cell_type": "code",
   "execution_count": 57,
   "metadata": {},
   "outputs": [
    {
     "data": {
      "image/png": "[encoded data removed]",
      "text/latex": [
       "$\\displaystyle - \\frac{\\sqrt[4]{2} i}{\\sqrt{\\pi} \\left(- \\omega^{2} + \\sqrt{2} i \\omega + 1\\right)}$"
      ],
      "text/plain": [
       "       4 ___          \n",
       "      -╲╱ 2 ⋅ⅈ        \n",
       "──────────────────────\n",
       "   ⎛   2             ⎞\n",
       "√π⋅⎝- ω  + √2⋅ⅈ⋅ω + 1⎠"
      ]
     },
     "execution_count": 57,
     "metadata": {},
     "output_type": "execute_result"
    }
   ],
   "source": [
    "fhatpsiomega(omega)"
   ]
  },
  {
   "cell_type": "code",
   "execution_count": 58,
   "metadata": {},
   "outputs": [
    {
     "data": {
      "image/png": "[encoded data removed]",
      "text/latex": [
       "$\\displaystyle - \\frac{\\sqrt{2}}{\\pi \\left(- \\omega^{4} - 1\\right)}$"
      ],
      "text/plain": [
       "    -√2     \n",
       "────────────\n",
       "  ⎛   4    ⎞\n",
       "π⋅⎝- ω  - 1⎠"
      ]
     },
     "execution_count": 58,
     "metadata": {},
     "output_type": "execute_result"
    }
   ],
   "source": [
    "abs(fhatpsiomega(omega))**2"
   ]
  },
  {
   "cell_type": "code",
   "execution_count": 59,
   "metadata": {},
   "outputs": [
    {
     "data": {
      "image/png": "[encoded data removed]",
      "text/latex": [
       "$\\displaystyle 1$"
      ],
      "text/plain": [
       "1"
      ]
     },
     "execution_count": 59,
     "metadata": {},
     "output_type": "execute_result"
    }
   ],
   "source": [
    "integrate(abs(fhatpsiomega(omega))**2, (omega, -oo, +oo))"
   ]
  },
  {
   "cell_type": "code",
   "execution_count": 60,
   "metadata": {},
   "outputs": [
    {
     "data": {
      "image/png": "[encoded data removed]",
      "text/plain": [
       "<Figure size 432x288 with 1 Axes>"
      ]
     },
     "metadata": {
      "needs_background": "light"
     },
     "output_type": "display_data"
    },
    {
     "data": {
      "text/plain": [
       "<sympy.plotting.plot.Plot at 0x7fb591d6e668>"
      ]
     },
     "execution_count": 60,
     "metadata": {},
     "output_type": "execute_result"
    }
   ],
   "source": [
    "plot(abs(fhatpsiomega(omega))**2, (omega, -2*pi, 2*pi), line_color='magenta', \n",
    "     xlabel=r'$\\omega$', ylabel=r'$P(\\omega)$')"
   ]
  },
  {
   "cell_type": "code",
   "execution_count": 61,
   "metadata": {},
   "outputs": [
    {
     "data": {
      "image/png": "[encoded data removed]",
      "text/plain": [
       "<Figure size 432x288 with 1 Axes>"
      ]
     },
     "metadata": {
      "needs_background": "light"
     },
     "output_type": "display_data"
    },
    {
     "data": {
      "text/plain": [
       "<sympy.plotting.plot.Plot at 0x7fb591df8940>"
      ]
     },
     "execution_count": 61,
     "metadata": {},
     "output_type": "execute_result"
    }
   ],
   "source": [
    "# graphical comparison with a normalized gaussian\n",
    "sigma = 1.0\n",
    "plot((1/(sqrt(2*pi)*sigma)) * exp(-omega**2/(2*(sigma)**2)), (omega, -2*pi, 2*pi), line_color='magenta')"
   ]
  },
  {
   "cell_type": "markdown",
   "metadata": {},
   "source": [
    "## (Discrete) Page-Wootters model"
   ]
  },
  {
   "cell_type": "code",
   "execution_count": 62,
   "metadata": {},
   "outputs": [],
   "source": [
    "from scipy.linalg import dft, norm, expm\n",
    "from scipy import stats"
   ]
  },
  {
   "cell_type": "code",
   "execution_count": 63,
   "metadata": {},
   "outputs": [],
   "source": [
    "T = np.diag(np.arange(0,32)) * np.pi / 16"
   ]
  },
  {
   "cell_type": "code",
   "execution_count": 64,
   "metadata": {},
   "outputs": [],
   "source": [
    "# The NumPy Fourier matrix is the conjugate of Mathematica's one,\n",
    "# hence the trailing .conj() \n",
    "F = dft(32, scale='sqrtn').conj()"
   ]
  },
  {
   "cell_type": "code",
   "execution_count": 65,
   "metadata": {},
   "outputs": [],
   "source": [
    "F_dagger = F.conj().T"
   ]
  },
  {
   "cell_type": "code",
   "execution_count": 66,
   "metadata": {},
   "outputs": [],
   "source": [
    "Omega = F @ T @ F_dagger * 16 / np.pi"
   ]
  },
  {
   "cell_type": "code",
   "execution_count": 67,
   "metadata": {},
   "outputs": [],
   "source": [
    "oeigenvalues, oeigenvectors = np.linalg.eig(Omega)"
   ]
  },
  {
   "cell_type": "code",
   "execution_count": 68,
   "metadata": {},
   "outputs": [
    {
     "data": {
      "text/plain": [
       "array([31.-0.j, -0.-0.j, 30.-0.j,  1.-0.j, 29.-0.j,  2.-0.j, 28.+0.j,\n",
       "        3.+0.j, 27.+0.j,  4.+0.j, 26.+0.j,  5.+0.j, 25.-0.j,  6.-0.j,\n",
       "       24.-0.j, 23.+0.j,  7.-0.j, 22.+0.j,  8.+0.j, 21.-0.j,  9.+0.j,\n",
       "       20.-0.j, 10.+0.j, 19.+0.j, 18.-0.j, 11.+0.j, 17.+0.j, 16.+0.j,\n",
       "       12.+0.j, 15.-0.j, 14.+0.j, 13.-0.j])"
      ]
     },
     "execution_count": 68,
     "metadata": {},
     "output_type": "execute_result"
    }
   ],
   "source": [
    "np.round(oeigenvalues)"
   ]
  },
  {
   "cell_type": "code",
   "execution_count": 69,
   "metadata": {},
   "outputs": [],
   "source": [
    "H = np.array([\n",
    "    [0, 1],\n",
    "    [1, 0]\n",
    "])"
   ]
  },
  {
   "cell_type": "code",
   "execution_count": 70,
   "metadata": {},
   "outputs": [],
   "source": [
    "D = np.array([\n",
    "    [0, 0],\n",
    "    [0, np.sqrt(2)]\n",
    "])"
   ]
  },
  {
   "cell_type": "code",
   "execution_count": 71,
   "metadata": {},
   "outputs": [],
   "source": [
    "K = H - 1j*D"
   ]
  },
  {
   "cell_type": "code",
   "execution_count": 72,
   "metadata": {},
   "outputs": [
    {
     "data": {
      "text/plain": [
       "array([[0.+0.j        , 1.+0.j        ],\n",
       "       [1.+0.j        , 0.-1.41421356j]])"
      ]
     },
     "execution_count": 72,
     "metadata": {},
     "output_type": "execute_result"
    }
   ],
   "source": [
    "K"
   ]
  },
  {
   "cell_type": "code",
   "execution_count": 73,
   "metadata": {},
   "outputs": [],
   "source": [
    "J = np.kron(Omega, np.eye(2)) + np.kron(np.eye(32), K)"
   ]
  },
  {
   "cell_type": "code",
   "execution_count": 74,
   "metadata": {},
   "outputs": [],
   "source": [
    "eigenvalues, eigenvectors = np.linalg.eig(J)"
   ]
  },
  {
   "cell_type": "code",
   "execution_count": 75,
   "metadata": {},
   "outputs": [],
   "source": [
    "EnergyCorrectionMatrices = np.zeros((64, 64, 64), np.complex)\n",
    "for n in range(64):\n",
    "    #EnergyCorrectionMatrices[n] = np.kron(\n",
    "    #    expm(-1j*eigenvalues[n]*T),\n",
    "    #    np.eye(2)\n",
    "    #)\n",
    "    EnergyCorrectionMatrices[n] = expm(-1j*eigenvalues[n]*np.kron(T, np.eye(2)))\n",
    "# TODO: DRY\n",
    "EnergyCorrectionMatricesT = np.zeros((64, 32, 32), np.complex)\n",
    "for n in range(64):\n",
    "    EnergyCorrectionMatricesT[n] = expm(-1j*eigenvalues[n]*T)\n"
   ]
  },
  {
   "cell_type": "code",
   "execution_count": 76,
   "metadata": {},
   "outputs": [],
   "source": [
    "def history_vector(eigenindex):\n",
    "    # Needs matrix transposition \".T\" (different convention as opposed to Mathematica)\n",
    "    eigenvector = eigenvectors.T[eigenindex]\n",
    "    return EnergyCorrectionMatrices[eigenindex] @ eigenvector\n",
    "\n",
    "# \"unflatten\" the history_vector v into a a sequence of qubit component pairs\n",
    "def reshape(v):\n",
    "    return np.reshape(v, (-1,2))\n",
    "\n",
    "# also make the first component real\n",
    "def normalize_initial(v):\n",
    "    vout = np.zeros(64, np.complex)\n",
    "    # A phase factor to make it real\n",
    "    vout = v * np.exp(-1j * np.angle(v[0]))\n",
    "    # And a factor to normalize the initial state\n",
    "    vout = vout / sqrt(\n",
    "        np.abs(vout[0]**2) + np.abs(vout[1]**2)\n",
    "    )\n",
    "    return vout"
   ]
  },
  {
   "cell_type": "code",
   "execution_count": 77,
   "metadata": {},
   "outputs": [],
   "source": [
    "# Find the best linear combination to obtain |0> as initial state\n",
    "def find_best():\n",
    "    max_prob0 = 0\n",
    "    max_prob0_i = 0\n",
    "    max_prob0_j = 0\n",
    "    for i in range(32):\n",
    "        for j in range(32):\n",
    "            qbi = reshape(history_vector(i))\n",
    "            qbj = reshape(history_vector(j))\n",
    "            qbit_hist = qbi + qbj\n",
    "            prob0 = np.abs(qbit_hist[0][0]**2) / (\n",
    "                np.abs(qbit_hist[0][0]**2) + np.abs(qbit_hist[0][1]**2)\n",
    "            )\n",
    "            if prob0 > max_prob0:\n",
    "                max_prob0 = prob0\n",
    "                max_prob0_i = i\n",
    "                max_prob0_j = j\n",
    "    print (max_prob0_i, max_prob0_j, max_prob0)\n",
    "    return (max_prob0_i, max_prob0_j)\n",
    "    "
   ]
  },
  {
   "cell_type": "code",
   "execution_count": 78,
   "metadata": {},
   "outputs": [
    {
     "name": "stdout",
     "output_type": "stream",
     "text": [
      "1 10 1.0\n"
     ]
    }
   ],
   "source": [
    "# start with |0> as close as possible\n",
    "i, j = find_best()\n",
    "qbhistvec = normalize_initial(history_vector(i) + history_vector(j))\n",
    "qbhist = reshape(qbhistvec) "
   ]
  },
  {
   "cell_type": "code",
   "execution_count": 79,
   "metadata": {},
   "outputs": [],
   "source": [
    "qbhist = qbhist.astype(complex)"
   ]
  },
  {
   "cell_type": "markdown",
   "metadata": {},
   "source": [
    "Consitently with \"odinary QM\" findings, the component along |0> stays purely real, and the component along |1> stays purely imaginary."
   ]
  },
  {
   "cell_type": "code",
   "execution_count": 80,
   "metadata": {},
   "outputs": [],
   "source": [
    "# Fill data for plotting\n",
    "times = np.arange(0, 2*np.pi, np.pi/16)\n",
    "norms = np.zeros(32)\n",
    "probs0 = np.zeros(32)\n",
    "probs1 = np.zeros(32)\n",
    "# Components 0 are pure real, componets 1 are pure imag\n",
    "real_parts0 = np.real(qbhist.T[0])\n",
    "imag_parts1 = np.imag(qbhist.T[1])\n",
    "\n",
    "for i in range(0, 32):\n",
    "    norms[i] = (np.abs(qbhist[i][0]**2) + np.abs(qbhist[i][1]**2))\n",
    "    probs0[i] = np.abs(qbhist[i][0]**2) / (\n",
    "        np.abs(qbhist[i][0]**2) + np.abs(qbhist[i][1]**2) )\n",
    "    probs1[i] = np.abs(qbhist[i][1]**2) / (\n",
    "        np.abs(qbhist[i][0]**2) + np.abs(qbhist[i][1]**2) )"
   ]
  },
  {
   "cell_type": "code",
   "execution_count": 81,
   "metadata": {},
   "outputs": [
    {
     "data": {
      "text/plain": [
       "[<matplotlib.lines.Line2D at 0x7fb58e3a3ef0>]"
      ]
     },
     "execution_count": 81,
     "metadata": {},
     "output_type": "execute_result"
    },
    {
     "data": {
      "image/png": "[encoded data removed]",
      "text/plain": [
       "<Figure size 432x288 with 1 Axes>"
      ]
     },
     "metadata": {
      "needs_background": "light"
     },
     "output_type": "display_data"
    }
   ],
   "source": [
    "plt.ylabel(r'$\\mathrm{Re}{\\;}_{T}\\hspace{-.2em}\\left\\langle t | {}_{S}\\hspace{-.2em}\\left\\langle 0 | \\Psi \\right\\rangle\\hspace{-.17em}\\right\\rangle $')\n",
    "plt.xlabel(r'$t$')\n",
    "plt.plot(times, real_parts0/norms[0], 'rs')"
   ]
  },
  {
   "cell_type": "code",
   "execution_count": 82,
   "metadata": {},
   "outputs": [
    {
     "data": {
      "text/plain": [
       "[<matplotlib.lines.Line2D at 0x7fb58e37dd30>]"
      ]
     },
     "execution_count": 82,
     "metadata": {},
     "output_type": "execute_result"
    },
    {
     "data": {
      "image/png": "[encoded data removed]",
      "text/plain": [
       "<Figure size 432x288 with 1 Axes>"
      ]
     },
     "metadata": {
      "needs_background": "light"
     },
     "output_type": "display_data"
    }
   ],
   "source": [
    "plt.ylabel(r'$\\mathrm{Im}{\\;}_{T}\\hspace{-.2em}\\left\\langle t | {}_{S}\\hspace{-.2em}\\left\\langle 1 | \\Psi \\right\\rangle\\hspace{-.17em}\\right\\rangle $')\n",
    "plt.xlabel(r'$t$')\n",
    "plt.plot(times, imag_parts1/norms[0], 'bs')"
   ]
  },
  {
   "cell_type": "code",
   "execution_count": 83,
   "metadata": {},
   "outputs": [
    {
     "data": {
      "text/plain": [
       "[<matplotlib.lines.Line2D at 0x7fb58e358470>]"
      ]
     },
     "execution_count": 83,
     "metadata": {},
     "output_type": "execute_result"
    },
    {
     "data": {
      "image/png": "[encoded data removed]",
      "text/plain": [
       "<Figure size 432x288 with 1 Axes>"
      ]
     },
     "metadata": {
      "needs_background": "light"
     },
     "output_type": "display_data"
    }
   ],
   "source": [
    "plt.plot(times, norms/norms[0], 'g^')"
   ]
  },
  {
   "cell_type": "code",
   "execution_count": 84,
   "metadata": {},
   "outputs": [
    {
     "data": {
      "text/plain": [
       "[<matplotlib.lines.Line2D at 0x7fb58e2b1198>]"
      ]
     },
     "execution_count": 84,
     "metadata": {},
     "output_type": "execute_result"
    },
    {
     "data": {
      "image/png": "[encoded data removed]",
      "text/plain": [
       "<Figure size 432x288 with 1 Axes>"
      ]
     },
     "metadata": {
      "needs_background": "light"
     },
     "output_type": "display_data"
    }
   ],
   "source": [
    "plt.plot(times, probs0, 'rs')"
   ]
  },
  {
   "cell_type": "code",
   "execution_count": 85,
   "metadata": {},
   "outputs": [
    {
     "data": {
      "text/plain": [
       "[<matplotlib.lines.Line2D at 0x7fb58e287f60>]"
      ]
     },
     "execution_count": 85,
     "metadata": {},
     "output_type": "execute_result"
    },
    {
     "data": {
      "image/png": "[encoded data removed]",
      "text/plain": [
       "<Figure size 432x288 with 1 Axes>"
      ]
     },
     "metadata": {
      "needs_background": "light"
     },
     "output_type": "display_data"
    }
   ],
   "source": [
    "plt.plot(times, probs1, 'bs')"
   ]
  },
  {
   "cell_type": "code",
   "execution_count": 86,
   "metadata": {},
   "outputs": [
    {
     "data": {
      "text/plain": [
       "Text(0.5, 0, 't')"
      ]
     },
     "execution_count": 86,
     "metadata": {},
     "output_type": "execute_result"
    },
    {
     "data": {
      "image/png": "[encoded data removed]",
      "text/plain": [
       "<Figure size 504x504 with 1 Axes>"
      ]
     },
     "metadata": {
      "needs_background": "light"
     },
     "output_type": "display_data"
    }
   ],
   "source": [
    "fig = plt.figure(figsize=(7,7))\n",
    "\n",
    "#ax = fig.gca(projection='3d')\n",
    "ax = fig.add_subplot(111, projection='3d')\n",
    "ax.view_init(10,-45) # rotate 3d point of view\n",
    "\n",
    "ax.scatter(\n",
    "    real_parts0, imag_parts1, times\n",
    ")\n",
    "\n",
    "##ax.legend()\n",
    "\n",
    "plt.xlabel(r'$\\mathrm{Re}\\left\\langle 0 | \\psi \\right\\rangle$ (pure real)')\n",
    "plt.ylabel(r'$\\mathrm{Im}\\left\\langle 1 | \\psi \\right\\rangle$ (pure imag)')\n",
    "ax.set_zlabel('t')\n"
   ]
  },
  {
   "cell_type": "markdown",
   "metadata": {},
   "source": [
    "## Detection event"
   ]
  },
  {
   "cell_type": "code",
   "execution_count": 87,
   "metadata": {},
   "outputs": [],
   "source": [
    "sqr2D = np.array([\n",
    "    [0, 0],\n",
    "    [0, 2**(3/4)]\n",
    "])"
   ]
  },
  {
   "cell_type": "code",
   "execution_count": 88,
   "metadata": {},
   "outputs": [],
   "source": [
    "qbhistvec = qbhistvec.astype(np.complex)"
   ]
  },
  {
   "cell_type": "code",
   "execution_count": 89,
   "metadata": {},
   "outputs": [],
   "source": [
    "sqr2D = sqr2D.astype(np.complex)"
   ]
  },
  {
   "cell_type": "code",
   "execution_count": 90,
   "metadata": {},
   "outputs": [
    {
     "name": "stdout",
     "output_type": "stream",
     "text": [
      "1 10 1.0\n"
     ]
    }
   ],
   "source": [
    "#prob_detect_v = np.kron(np.eye(32), sqr2D) @ qbhistvec\n",
    "#\n",
    "# More direct route, without going through histories\n",
    "i, j = find_best()\n",
    "prob_detect_v = \\\n",
    "    (np.kron(EnergyCorrectionMatricesT[i], sqr2D) @ eigenvectors.T[i]) + \\\n",
    "    (np.kron(EnergyCorrectionMatricesT[j], sqr2D) @ eigenvectors.T[j])\n",
    "\n",
    "# normalize\n",
    "prob_detect_v = prob_detect_v / norm(prob_detect_v)\n",
    "\n"
   ]
  },
  {
   "cell_type": "code",
   "execution_count": 93,
   "metadata": {},
   "outputs": [
    {
     "data": {
      "text/plain": [
       "array([ 0.00000000e+00+0.00000000e+00j,  4.05729696e-14-3.29580328e-14j,\n",
       "        0.00000000e+00+0.00000000e+00j,  3.36832200e-14+1.26984798e-01j,\n",
       "        0.00000000e+00+0.00000000e+00j,  3.06907025e-14+2.18919713e-01j,\n",
       "        0.00000000e+00+0.00000000e+00j,  2.41489201e-14+2.81218057e-01j,\n",
       "        0.00000000e+00+0.00000000e+00j,  1.80594950e-14+3.18975095e-01j,\n",
       "        0.00000000e+00+0.00000000e+00j,  1.20048666e-14+3.36874181e-01j,\n",
       "        0.00000000e+00+0.00000000e+00j,  9.72568181e-15+3.39129482e-01j,\n",
       "        0.00000000e+00+0.00000000e+00j,  4.71495487e-15+3.29458326e-01j,\n",
       "        0.00000000e+00+0.00000000e+00j,  7.30731013e-16+3.11076934e-01j,\n",
       "        0.00000000e+00+0.00000000e+00j, -2.33137990e-15+2.86713992e-01j,\n",
       "        0.00000000e+00+0.00000000e+00j, -5.20645847e-15+2.58637303e-01j,\n",
       "        0.00000000e+00+0.00000000e+00j, -4.44962992e-15+2.28689430e-01j,\n",
       "        0.00000000e+00+0.00000000e+00j, -6.18946566e-15+1.98328975e-01j,\n",
       "        0.00000000e+00+0.00000000e+00j, -6.10682346e-15+1.68674732e-01j,\n",
       "        0.00000000e+00+0.00000000e+00j, -4.03206934e-15+1.40550532e-01j,\n",
       "        0.00000000e+00+0.00000000e+00j, -2.53146101e-15+1.14529119e-01j,\n",
       "        0.00000000e+00+0.00000000e+00j, -2.58800567e-15+9.09738099e-02j,\n",
       "        0.00000000e+00+0.00000000e+00j, -1.97906316e-15+7.00770781e-02j,\n",
       "        0.00000000e+00+0.00000000e+00j, -1.23528338e-15+5.18955215e-02j,\n",
       "        0.00000000e+00+0.00000000e+00j, -6.26340868e-16+3.63809059e-02j,\n",
       "        0.00000000e+00+0.00000000e+00j,  2.17479468e-17+2.34072020e-02j,\n",
       "        0.00000000e+00+0.00000000e+00j, -1.78333164e-16+1.27936759e-02j,\n",
       "        0.00000000e+00+0.00000000e+00j,  6.08942511e-17+4.32421818e-03j,\n",
       "        0.00000000e+00+0.00000000e+00j,  2.30528236e-16-2.23682783e-03j,\n",
       "        0.00000000e+00+0.00000000e+00j,  6.95934298e-16-7.13201872e-03j,\n",
       "        0.00000000e+00+0.00000000e+00j,  1.04607624e-15-1.06009991e-02j,\n",
       "        0.00000000e+00+0.00000000e+00j,  1.52453107e-15-1.28731662e-02j,\n",
       "        0.00000000e+00+0.00000000e+00j,  1.32662476e-15-1.41624569e-02j,\n",
       "        0.00000000e+00+0.00000000e+00j,  1.11675707e-15-1.46639178e-02j,\n",
       "        0.00000000e+00+0.00000000e+00j,  1.08196035e-15-1.45517399e-02j,\n",
       "        0.00000000e+00+0.00000000e+00j,  7.51391562e-16-1.39784710e-02j,\n",
       "        0.00000000e+00+0.00000000e+00j,  5.59465932e-16-1.30751439e-02j])"
      ]
     },
     "execution_count": 93,
     "metadata": {},
     "output_type": "execute_result"
    }
   ],
   "source": [
    "prob_detect_v"
   ]
  },
  {
   "cell_type": "code",
   "execution_count": 101,
   "metadata": {},
   "outputs": [],
   "source": [
    "imag_prob_ampl_detect = np.imag( prob_detect_v.reshape(-1, 2).transpose()[1] )"
   ]
  },
  {
   "cell_type": "code",
   "execution_count": 103,
   "metadata": {},
   "outputs": [
    {
     "data": {
      "text/plain": [
       "[<matplotlib.lines.Line2D at 0x7fb58dbbd550>]"
      ]
     },
     "execution_count": 103,
     "metadata": {},
     "output_type": "execute_result"
    },
    {
     "data": {
      "image/png": "[encoded data removed]",
      "text/plain": [
       "<Figure size 432x288 with 1 Axes>"
      ]
     },
     "metadata": {
      "needs_background": "light"
     },
     "output_type": "display_data"
    }
   ],
   "source": [
    "plt.plot(times, imag_prob_ampl_detect, 's')"
   ]
  },
  {
   "cell_type": "code",
   "execution_count": 104,
   "metadata": {},
   "outputs": [
    {
     "data": {
      "text/plain": [
       "array([-1.34148089, -1.34148089, -1.34148089, -1.34148089, -1.34148089,\n",
       "       -1.34148089, -1.34148089, -1.34148089, -1.34148089, -1.34148089,\n",
       "       -1.34148089, -1.34148089, -1.34148089, -1.34148089, -1.34148089,\n",
       "       -1.34148089, -1.34148089, -1.34148089, -1.34148089, -1.34148089,\n",
       "       -1.34148089, -1.34148089, -1.34148089, -1.34148089, -1.34148089,\n",
       "       -1.34148089, -1.34148089, -1.34148089, -1.34148089, -1.34148089,\n",
       "       -1.34148089, -1.34148089])"
      ]
     },
     "execution_count": 104,
     "metadata": {},
     "output_type": "execute_result"
    }
   ],
   "source": [
    "imag_parts1 / imag_prob_ampl_detect"
   ]
  },
  {
   "cell_type": "code",
   "execution_count": 198,
   "metadata": {},
   "outputs": [],
   "source": [
    "prob_detect = np.zeros(32)\n",
    "for t_idx in range(32):\n",
    "    prob_detect[t_idx] = \\\n",
    "        np.abs(prob_detect_v[2*t_idx])**2 + np.abs(prob_detect_v[2*t_idx+1])**2"
   ]
  },
  {
   "cell_type": "code",
   "execution_count": 199,
   "metadata": {},
   "outputs": [
    {
     "data": {
      "text/plain": [
       "[<matplotlib.lines.Line2D at 0x7f26cd7949e8>]"
      ]
     },
     "execution_count": 199,
     "metadata": {},
     "output_type": "execute_result"
    },
    {
     "data": {
      "image/png": "[encoded data removed]",
      "text/plain": [
       "<Figure size 840x560 with 1 Axes>"
      ]
     },
     "metadata": {
      "needs_background": "light"
     },
     "output_type": "display_data"
    }
   ],
   "source": [
    "plt.plot(times, prob_detect * 16 / np.pi, 'bs')"
   ]
  },
  {
   "cell_type": "code",
   "execution_count": 200,
   "metadata": {},
   "outputs": [],
   "source": [
    "detect_fft = \\\n",
    "    np.kron(F, np.eye(2)) @ prob_detect_v\n",
    "detect_fft = detect_fft / norm(detect_fft)"
   ]
  },
  {
   "cell_type": "code",
   "execution_count": 201,
   "metadata": {},
   "outputs": [],
   "source": [
    "prob_detect_fft = np.zeros(32)\n",
    "for o in range(32):\n",
    "    prob_detect_fft[o] = \\\n",
    "        np.abs(detect_fft[2*o]**2) + \\\n",
    "        np.abs(detect_fft[2*o + 1]**2) "
   ]
  },
  {
   "cell_type": "code",
   "execution_count": 202,
   "metadata": {},
   "outputs": [
    {
     "data": {
      "text/plain": [
       "[<matplotlib.lines.Line2D at 0x7f26cd6f0a90>]"
      ]
     },
     "execution_count": 202,
     "metadata": {},
     "output_type": "execute_result"
    },
    {
     "data": {
      "image/png": "[encoded data removed]",
      "text/plain": [
       "<Figure size 840x560 with 1 Axes>"
      ]
     },
     "metadata": {
      "needs_background": "light"
     },
     "output_type": "display_data"
    }
   ],
   "source": [
    "# Arrays are \"rolled\" because the second half \n",
    "# of the spectrum is identified with\n",
    "# negative frequencies.\n",
    "plt.plot(range(-16, 16), np.roll(prob_detect_fft, -16), 'y^')"
   ]
  },
  {
   "cell_type": "code",
   "execution_count": 203,
   "metadata": {},
   "outputs": [],
   "source": [
    "S_t = stats.entropy(prob_detect)"
   ]
  },
  {
   "cell_type": "code",
   "execution_count": 204,
   "metadata": {},
   "outputs": [],
   "source": [
    "S_omega = stats.entropy(prob_detect_fft)"
   ]
  },
  {
   "cell_type": "code",
   "execution_count": 205,
   "metadata": {},
   "outputs": [
    {
     "data": {
      "image/png": "[encoded data removed]",
      "text/latex": [
       "$$2.6193337590390438$$"
      ],
      "text/plain": [
       "2.6193337590390438"
      ]
     },
     "execution_count": 205,
     "metadata": {},
     "output_type": "execute_result"
    }
   ],
   "source": [
    "S_t"
   ]
  },
  {
   "cell_type": "code",
   "execution_count": 206,
   "metadata": {},
   "outputs": [
    {
     "data": {
      "image/png": "[encoded data removed]",
      "text/latex": [
       "$$1.3471684169765332$$"
      ],
      "text/plain": [
       "1.3471684169765332"
      ]
     },
     "execution_count": 206,
     "metadata": {},
     "output_type": "execute_result"
    }
   ],
   "source": [
    "S_omega"
   ]
  },
  {
   "cell_type": "code",
   "execution_count": 207,
   "metadata": {},
   "outputs": [
    {
     "data": {
      "image/png": "[encoded data removed]",
      "text/latex": [
       "$$3.528683713697821$$"
      ],
      "text/plain": [
       "3.528683713697821"
      ]
     },
     "execution_count": 207,
     "metadata": {},
     "output_type": "execute_result"
    }
   ],
   "source": [
    "S_t * S_omega"
   ]
  },
  {
   "cell_type": "code",
   "execution_count": 208,
   "metadata": {},
   "outputs": [
    {
     "data": {
      "image/png": "[encoded data removed]",
      "text/latex": [
       "$$3.4657359027997265$$"
      ],
      "text/plain": [
       "3.4657359027997265"
      ]
     },
     "execution_count": 208,
     "metadata": {},
     "output_type": "execute_result"
    }
   ],
   "source": [
    "np.log(32)"
   ]
  },
  {
   "cell_type": "code",
   "execution_count": 209,
   "metadata": {},
   "outputs": [
    {
     "data": {
      "image/png": "[encoded data removed]",
      "text/latex": [
       "$$0.01816289892349938$$"
      ],
      "text/plain": [
       "0.01816289892349938"
      ]
     },
     "execution_count": 209,
     "metadata": {},
     "output_type": "execute_result"
    }
   ],
   "source": [
    "(S_t * S_omega - np.log(32)) / np.log(32)"
   ]
  },
  {
   "cell_type": "markdown",
   "metadata": {},
   "source": [
    "Only 1.8% more than the minumum per entropic uncertainty relation."
   ]
  },
  {
   "cell_type": "markdown",
   "metadata": {},
   "source": [
    "### Use Scipy routines to compute sigmas"
   ]
  },
  {
   "cell_type": "code",
   "execution_count": 210,
   "metadata": {},
   "outputs": [],
   "source": [
    "\n",
    "xk = range(-16,16)\n",
    "pk = np.roll(prob_detect_fft, -16)\n",
    "detect_fft_pdist = stats.rv_discrete(name='prob_detect_fft_minus16', values=(xk, pk))"
   ]
  },
  {
   "cell_type": "code",
   "execution_count": 211,
   "metadata": {},
   "outputs": [],
   "source": [
    "sigma_omega = detect_fft_pdist.std()"
   ]
  },
  {
   "cell_type": "code",
   "execution_count": 212,
   "metadata": {},
   "outputs": [],
   "source": [
    "xk = times\n",
    "pk = prob_detect\n",
    "detect_pdist = stats.rv_discrete(name='prob_detect', values=(xk, pk))"
   ]
  },
  {
   "cell_type": "code",
   "execution_count": 213,
   "metadata": {},
   "outputs": [],
   "source": [
    "sigma_t = detect_pdist.std()"
   ]
  },
  {
   "cell_type": "code",
   "execution_count": 214,
   "metadata": {},
   "outputs": [
    {
     "data": {
      "image/png": "[encoded data removed]",
      "text/latex": [
       "$$0.7159703170687718$$"
      ],
      "text/plain": [
       "0.7159703170687718"
      ]
     },
     "execution_count": 214,
     "metadata": {},
     "output_type": "execute_result"
    }
   ],
   "source": [
    "sigma_t * sigma_omega"
   ]
  },
  {
   "cell_type": "markdown",
   "metadata": {},
   "source": [
    "It's still quite a bit more than 0.5, i.e. the minimum uncertainty..."
   ]
  },
  {
   "cell_type": "markdown",
   "metadata": {},
   "source": [
    "But this is in fact consistent with the paper."
   ]
  }
 ],
 "metadata": {
  "kernelspec": {
   "display_name": "Python 3",
   "language": "python",
   "name": "python3"
  },
  "language_info": {
   "codemirror_mode": {
    "name": "ipython",
    "version": 3
   },
   "file_extension": ".py",
   "mimetype": "text/x-python",
   "name": "python",
   "nbconvert_exporter": "python",
   "pygments_lexer": "ipython3",
   "version": "3.7.3"
  }
 },
 "nbformat": 4,
 "nbformat_minor": 2
}
