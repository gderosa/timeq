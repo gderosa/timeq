{
 "cells": [
  {
   "cell_type": "markdown",
   "metadata": {},
   "source": [
    "## Detector model: Kiukas et al."
   ]
  },
  {
   "cell_type": "code",
   "execution_count": 108,
   "metadata": {},
   "outputs": [],
   "source": [
    "from sympy import *\n",
    "# from sympy.physics.matrices import mdft\n",
    "# from sympy.physics.quantum import TensorProduct\n",
    "from sympy.physics.quantum.dagger import Dagger\n",
    "from sympy.plotting import plot\n",
    "import numpy as np\n",
    "import matplotlib.pyplot as plt"
   ]
  },
  {
   "cell_type": "code",
   "execution_count": 73,
   "metadata": {},
   "outputs": [],
   "source": [
    "gamma = Symbol('gamma')\n",
    "t = Symbol('t')"
   ]
  },
  {
   "cell_type": "code",
   "execution_count": 74,
   "metadata": {},
   "outputs": [],
   "source": [
    "def D(_gamma):\n",
    "    return Rational(1, 2) * Matrix([\n",
    "        [0, 0],\n",
    "        [0, _gamma]\n",
    "    ])"
   ]
  },
  {
   "cell_type": "code",
   "execution_count": 75,
   "metadata": {},
   "outputs": [],
   "source": [
    "H = Matrix ([\n",
    "[0, 1] ,\n",
    "[1, 0]\n",
    "])"
   ]
  },
  {
   "cell_type": "code",
   "execution_count": 76,
   "metadata": {},
   "outputs": [],
   "source": [
    "init_printing ()\n"
   ]
  },
  {
   "cell_type": "code",
   "execution_count": 77,
   "metadata": {},
   "outputs": [
    {
     "data": {
      "text/latex": [
       "$$\\left[\\begin{matrix}0 & 1\\\\1 & 0\\end{matrix}\\right]$$"
      ],
      "text/plain": [
       "⎡0  1⎤\n",
       "⎢    ⎥\n",
       "⎣1  0⎦"
      ]
     },
     "execution_count": 77,
     "metadata": {},
     "output_type": "execute_result"
    }
   ],
   "source": [
    "H"
   ]
  },
  {
   "cell_type": "code",
   "execution_count": 78,
   "metadata": {},
   "outputs": [
    {
     "data": {
      "text/latex": [
       "$$\\left [ \\left ( -1, \\quad 1, \\quad \\left [ \\left[\\begin{matrix}-1\\\\1\\end{matrix}\\right]\\right ]\\right ), \\quad \\left ( 1, \\quad 1, \\quad \\left [ \\left[\\begin{matrix}1\\\\1\\end{matrix}\\right]\\right ]\\right )\\right ]$$"
      ],
      "text/plain": [
       "⎡⎛       ⎡⎡-1⎤⎤⎞  ⎛      ⎡⎡1⎤⎤⎞⎤\n",
       "⎢⎜-1, 1, ⎢⎢  ⎥⎥⎟, ⎜1, 1, ⎢⎢ ⎥⎥⎟⎥\n",
       "⎣⎝       ⎣⎣1 ⎦⎦⎠  ⎝      ⎣⎣1⎦⎦⎠⎦"
      ]
     },
     "execution_count": 78,
     "metadata": {},
     "output_type": "execute_result"
    }
   ],
   "source": [
    "H.eigenvects()"
   ]
  },
  {
   "cell_type": "markdown",
   "metadata": {},
   "source": [
    "It's manually seen that $\\langle H \\rangle = 0$ and $\\langle H^2 \\rangle = 1$, therefore $\\sigma_{H} = 1$."
   ]
  },
  {
   "cell_type": "code",
   "execution_count": 79,
   "metadata": {},
   "outputs": [],
   "source": [
    "def K(_gamma):\n",
    "    return H - I*D(_gamma)"
   ]
  },
  {
   "cell_type": "code",
   "execution_count": 80,
   "metadata": {},
   "outputs": [
    {
     "data": {
      "text/latex": [
       "$$\\left[\\begin{matrix}0 & 1\\\\1 & - \\frac{i \\gamma}{2}\\end{matrix}\\right]$$"
      ],
      "text/plain": [
       "⎡0    1  ⎤\n",
       "⎢        ⎥\n",
       "⎢   -ⅈ⋅γ ⎥\n",
       "⎢1  ─────⎥\n",
       "⎣     2  ⎦"
      ]
     },
     "execution_count": 80,
     "metadata": {},
     "output_type": "execute_result"
    }
   ],
   "source": [
    "K(gamma)"
   ]
  },
  {
   "cell_type": "code",
   "execution_count": 81,
   "metadata": {},
   "outputs": [],
   "source": [
    "def U(_gamma):\n",
    "    return lambda t: exp(-I*K(_gamma)*t)"
   ]
  },
  {
   "cell_type": "code",
   "execution_count": 82,
   "metadata": {},
   "outputs": [],
   "source": [
    "def lossy_norm(_t):\n",
    "    psi = U(2*sqrt(2))(_t) * Matrix([1,0])\n",
    "    return re(abs(psi[0])**2 + abs(psi[1])**2)"
   ]
  },
  {
   "cell_type": "code",
   "execution_count": 83,
   "metadata": {},
   "outputs": [
    {
     "data": {
      "image/png": "[encoded data removed]",
      "text/plain": [
       "<Figure size 432x288 with 1 Axes>"
      ]
     },
     "metadata": {},
     "output_type": "display_data"
    },
    {
     "data": {
      "text/plain": [
       "<sympy.plotting.plot.Plot at 0x7f5ecb2af2b0>"
      ]
     },
     "execution_count": 83,
     "metadata": {},
     "output_type": "execute_result"
    }
   ],
   "source": [
    "plot(lossy_norm(t),(t, -0.25, 5))"
   ]
  },
  {
   "cell_type": "code",
   "execution_count": 84,
   "metadata": {},
   "outputs": [],
   "source": [
    "lossy_norm_n = lambdify(t, lossy_norm(t), \"numpy\")"
   ]
  },
  {
   "cell_type": "code",
   "execution_count": 85,
   "metadata": {},
   "outputs": [
    {
     "data": {
      "image/png": "[encoded data removed]",
      "text/latex": [
       "$$0.19265133139031912$$"
      ],
      "text/plain": [
       "0.19265133139031912"
      ]
     },
     "execution_count": 85,
     "metadata": {},
     "output_type": "execute_result"
    }
   ],
   "source": [
    "lossy_norm_n(2)"
   ]
  },
  {
   "cell_type": "code",
   "execution_count": 96,
   "metadata": {},
   "outputs": [],
   "source": [
    "plt_x = np.linspace(0.01, 5.01, 500)"
   ]
  },
  {
   "cell_type": "code",
   "execution_count": 97,
   "metadata": {},
   "outputs": [
    {
     "data": {
      "text/plain": [
       "array([0.01      , 0.02002004, 0.03004008, 0.04006012, 0.05008016,\n",
       "       0.0601002 , 0.07012024, 0.08014028, 0.09016032, 0.10018036,\n",
       "       0.1102004 , 0.12022044, 0.13024048, 0.14026052, 0.15028056,\n",
       "       0.1603006 , 0.17032064, 0.18034068, 0.19036072, 0.20038076,\n",
       "       0.2104008 , 0.22042084, 0.23044088, 0.24046092, 0.25048096,\n",
       "       0.260501  , 0.27052104, 0.28054108, 0.29056112, 0.30058116,\n",
       "       0.3106012 , 0.32062124, 0.33064128, 0.34066132, 0.35068136,\n",
       "       0.3607014 , 0.37072144, 0.38074148, 0.39076152, 0.40078156,\n",
       "       0.4108016 , 0.42082164, 0.43084168, 0.44086172, 0.45088176,\n",
       "       0.4609018 , 0.47092184, 0.48094188, 0.49096192, 0.50098196,\n",
       "       0.511002  , 0.52102204, 0.53104208, 0.54106212, 0.55108216,\n",
       "       0.5611022 , 0.57112224, 0.58114228, 0.59116232, 0.60118236,\n",
       "       0.6112024 , 0.62122244, 0.63124248, 0.64126253, 0.65128257,\n",
       "       0.66130261, 0.67132265, 0.68134269, 0.69136273, 0.70138277,\n",
       "       0.71140281, 0.72142285, 0.73144289, 0.74146293, 0.75148297,\n",
       "       0.76150301, 0.77152305, 0.78154309, 0.79156313, 0.80158317,\n",
       "       0.81160321, 0.82162325, 0.83164329, 0.84166333, 0.85168337,\n",
       "       0.86170341, 0.87172345, 0.88174349, 0.89176353, 0.90178357,\n",
       "       0.91180361, 0.92182365, 0.93184369, 0.94186373, 0.95188377,\n",
       "       0.96190381, 0.97192385, 0.98194389, 0.99196393, 1.00198397,\n",
       "       1.01200401, 1.02202405, 1.03204409, 1.04206413, 1.05208417,\n",
       "       1.06210421, 1.07212425, 1.08214429, 1.09216433, 1.10218437,\n",
       "       1.11220441, 1.12222445, 1.13224449, 1.14226453, 1.15228457,\n",
       "       1.16230461, 1.17232465, 1.18234469, 1.19236473, 1.20238477,\n",
       "       1.21240481, 1.22242485, 1.23244489, 1.24246493, 1.25248497,\n",
       "       1.26250501, 1.27252505, 1.28254509, 1.29256513, 1.30258517,\n",
       "       1.31260521, 1.32262525, 1.33264529, 1.34266533, 1.35268537,\n",
       "       1.36270541, 1.37272545, 1.38274549, 1.39276553, 1.40278557,\n",
       "       1.41280561, 1.42282565, 1.43284569, 1.44286573, 1.45288577,\n",
       "       1.46290581, 1.47292585, 1.48294589, 1.49296593, 1.50298597,\n",
       "       1.51300601, 1.52302605, 1.53304609, 1.54306613, 1.55308617,\n",
       "       1.56310621, 1.57312625, 1.58314629, 1.59316633, 1.60318637,\n",
       "       1.61320641, 1.62322645, 1.63324649, 1.64326653, 1.65328657,\n",
       "       1.66330661, 1.67332665, 1.68334669, 1.69336673, 1.70338677,\n",
       "       1.71340681, 1.72342685, 1.73344689, 1.74346693, 1.75348697,\n",
       "       1.76350701, 1.77352705, 1.78354709, 1.79356713, 1.80358717,\n",
       "       1.81360721, 1.82362725, 1.83364729, 1.84366733, 1.85368737,\n",
       "       1.86370741, 1.87372745, 1.88374749, 1.89376754, 1.90378758,\n",
       "       1.91380762, 1.92382766, 1.9338477 , 1.94386774, 1.95388778,\n",
       "       1.96390782, 1.97392786, 1.9839479 , 1.99396794, 2.00398798,\n",
       "       2.01400802, 2.02402806, 2.0340481 , 2.04406814, 2.05408818,\n",
       "       2.06410822, 2.07412826, 2.0841483 , 2.09416834, 2.10418838,\n",
       "       2.11420842, 2.12422846, 2.1342485 , 2.14426854, 2.15428858,\n",
       "       2.16430862, 2.17432866, 2.1843487 , 2.19436874, 2.20438878,\n",
       "       2.21440882, 2.22442886, 2.2344489 , 2.24446894, 2.25448898,\n",
       "       2.26450902, 2.27452906, 2.2845491 , 2.29456914, 2.30458918,\n",
       "       2.31460922, 2.32462926, 2.3346493 , 2.34466934, 2.35468938,\n",
       "       2.36470942, 2.37472946, 2.3847495 , 2.39476954, 2.40478958,\n",
       "       2.41480962, 2.42482966, 2.4348497 , 2.44486974, 2.45488978,\n",
       "       2.46490982, 2.47492986, 2.4849499 , 2.49496994, 2.50498998,\n",
       "       2.51501002, 2.52503006, 2.5350501 , 2.54507014, 2.55509018,\n",
       "       2.56511022, 2.57513026, 2.5851503 , 2.59517034, 2.60519038,\n",
       "       2.61521042, 2.62523046, 2.6352505 , 2.64527054, 2.65529058,\n",
       "       2.66531062, 2.67533066, 2.6853507 , 2.69537074, 2.70539078,\n",
       "       2.71541082, 2.72543086, 2.7354509 , 2.74547094, 2.75549098,\n",
       "       2.76551102, 2.77553106, 2.7855511 , 2.79557114, 2.80559118,\n",
       "       2.81561122, 2.82563126, 2.8356513 , 2.84567134, 2.85569138,\n",
       "       2.86571142, 2.87573146, 2.8857515 , 2.89577154, 2.90579158,\n",
       "       2.91581162, 2.92583166, 2.9358517 , 2.94587174, 2.95589178,\n",
       "       2.96591182, 2.97593186, 2.9859519 , 2.99597194, 3.00599198,\n",
       "       3.01601202, 3.02603206, 3.0360521 , 3.04607214, 3.05609218,\n",
       "       3.06611222, 3.07613226, 3.0861523 , 3.09617234, 3.10619238,\n",
       "       3.11621242, 3.12623246, 3.13625251, 3.14627255, 3.15629259,\n",
       "       3.16631263, 3.17633267, 3.18635271, 3.19637275, 3.20639279,\n",
       "       3.21641283, 3.22643287, 3.23645291, 3.24647295, 3.25649299,\n",
       "       3.26651303, 3.27653307, 3.28655311, 3.29657315, 3.30659319,\n",
       "       3.31661323, 3.32663327, 3.33665331, 3.34667335, 3.35669339,\n",
       "       3.36671343, 3.37673347, 3.38675351, 3.39677355, 3.40679359,\n",
       "       3.41681363, 3.42683367, 3.43685371, 3.44687375, 3.45689379,\n",
       "       3.46691383, 3.47693387, 3.48695391, 3.49697395, 3.50699399,\n",
       "       3.51701403, 3.52703407, 3.53705411, 3.54707415, 3.55709419,\n",
       "       3.56711423, 3.57713427, 3.58715431, 3.59717435, 3.60719439,\n",
       "       3.61721443, 3.62723447, 3.63725451, 3.64727455, 3.65729459,\n",
       "       3.66731463, 3.67733467, 3.68735471, 3.69737475, 3.70739479,\n",
       "       3.71741483, 3.72743487, 3.73745491, 3.74747495, 3.75749499,\n",
       "       3.76751503, 3.77753507, 3.78755511, 3.79757515, 3.80759519,\n",
       "       3.81761523, 3.82763527, 3.83765531, 3.84767535, 3.85769539,\n",
       "       3.86771543, 3.87773547, 3.88775551, 3.89777555, 3.90779559,\n",
       "       3.91781563, 3.92783567, 3.93785571, 3.94787575, 3.95789579,\n",
       "       3.96791583, 3.97793587, 3.98795591, 3.99797595, 4.00799599,\n",
       "       4.01801603, 4.02803607, 4.03805611, 4.04807615, 4.05809619,\n",
       "       4.06811623, 4.07813627, 4.08815631, 4.09817635, 4.10819639,\n",
       "       4.11821643, 4.12823647, 4.13825651, 4.14827655, 4.15829659,\n",
       "       4.16831663, 4.17833667, 4.18835671, 4.19837675, 4.20839679,\n",
       "       4.21841683, 4.22843687, 4.23845691, 4.24847695, 4.25849699,\n",
       "       4.26851703, 4.27853707, 4.28855711, 4.29857715, 4.30859719,\n",
       "       4.31861723, 4.32863727, 4.33865731, 4.34867735, 4.35869739,\n",
       "       4.36871743, 4.37873747, 4.38875752, 4.39877756, 4.4087976 ,\n",
       "       4.41881764, 4.42883768, 4.43885772, 4.44887776, 4.4588978 ,\n",
       "       4.46891784, 4.47893788, 4.48895792, 4.49897796, 4.508998  ,\n",
       "       4.51901804, 4.52903808, 4.53905812, 4.54907816, 4.5590982 ,\n",
       "       4.56911824, 4.57913828, 4.58915832, 4.59917836, 4.6091984 ,\n",
       "       4.61921844, 4.62923848, 4.63925852, 4.64927856, 4.6592986 ,\n",
       "       4.66931864, 4.67933868, 4.68935872, 4.69937876, 4.7093988 ,\n",
       "       4.71941884, 4.72943888, 4.73945892, 4.74947896, 4.759499  ,\n",
       "       4.76951904, 4.77953908, 4.78955912, 4.79957916, 4.8095992 ,\n",
       "       4.81961924, 4.82963928, 4.83965932, 4.84967936, 4.8596994 ,\n",
       "       4.86971944, 4.87973948, 4.88975952, 4.89977956, 4.9097996 ,\n",
       "       4.91981964, 4.92983968, 4.93985972, 4.94987976, 4.9598998 ,\n",
       "       4.96991984, 4.97993988, 4.98995992, 4.99997996, 5.01      ])"
      ]
     },
     "execution_count": 97,
     "metadata": {},
     "output_type": "execute_result"
    }
   ],
   "source": [
    "plt_x"
   ]
  },
  {
   "cell_type": "code",
   "execution_count": 101,
   "metadata": {},
   "outputs": [],
   "source": [
    "plt_y = lossy_norm_n(plt_x)"
   ]
  },
  {
   "cell_type": "code",
   "execution_count": 103,
   "metadata": {},
   "outputs": [
    {
     "data": {
      "text/plain": [
       "array([0.99999907, 0.99999259, 0.99997524, 0.99994191, 0.99988772,\n",
       "       0.99980801, 0.99969834, 0.99955446, 0.99937234, 0.99914816,\n",
       "       0.99887827, 0.99855921, 0.99818773, 0.99776074, 0.99727532,\n",
       "       0.99672872, 0.99611837, 0.99544186, 0.99469691, 0.99388142,\n",
       "       0.99299342, 0.99203111, 0.99099279, 0.98987693, 0.9886821 ,\n",
       "       0.98740703, 0.98605056, 0.98461163, 0.98308933, 0.98148284,\n",
       "       0.97979146, 0.97801457, 0.9761517 , 0.97420243, 0.97216646,\n",
       "       0.97004358, 0.96783367, 0.96553669, 0.96315268, 0.96068176,\n",
       "       0.95812415, 0.9554801 , 0.95274997, 0.94993418, 0.94703319,\n",
       "       0.94404756, 0.94097789, 0.93782483, 0.93458911, 0.93127149,\n",
       "       0.92787279, 0.92439388, 0.92083567, 0.91719913, 0.91348525,\n",
       "       0.90969508, 0.90582968, 0.90189018, 0.89787771, 0.89379346,\n",
       "       0.88963864, 0.88541448, 0.88112224, 0.87676322, 0.87233872,\n",
       "       0.86785007, 0.86329863, 0.85868577, 0.85401287, 0.84928134,\n",
       "       0.84449259, 0.83964805, 0.83474916, 0.82979737, 0.82479414,\n",
       "       0.81974094, 0.81463924, 0.80949051, 0.80429624, 0.79905791,\n",
       "       0.79377701, 0.78845502, 0.78309344, 0.77769375, 0.77225743,\n",
       "       0.76678597, 0.76128084, 0.75574351, 0.75017546, 0.74457815,\n",
       "       0.73895304, 0.73330156, 0.72762516, 0.72192528, 0.71620332,\n",
       "       0.71046072, 0.70469886, 0.69891914, 0.69312293, 0.6873116 ,\n",
       "       0.68148651, 0.67564899, 0.66980037, 0.66394197, 0.65807508,\n",
       "       0.65220099, 0.64632097, 0.64043627, 0.63454812, 0.62865775,\n",
       "       0.62276637, 0.61687516, 0.6109853 , 0.60509794, 0.59921421,\n",
       "       0.59333525, 0.58746214, 0.58159599, 0.57573785, 0.56988877,\n",
       "       0.56404978, 0.5582219 , 0.55240612, 0.54660342, 0.54081475,\n",
       "       0.53504105, 0.52928325, 0.52354224, 0.51781891, 0.51211411,\n",
       "       0.5064287 , 0.5007635 , 0.49511933, 0.48949696, 0.48389717,\n",
       "       0.47832071, 0.47276832, 0.46724071, 0.46173858, 0.4562626 ,\n",
       "       0.45081344, 0.44539173, 0.43999811, 0.43463317, 0.42929751,\n",
       "       0.4239917 , 0.41871629, 0.41347181, 0.40825878, 0.40307771,\n",
       "       0.39792908, 0.39281335, 0.38773098, 0.3826824 , 0.37766803,\n",
       "       0.37268826, 0.36774349, 0.36283409, 0.3579604 , 0.35312276,\n",
       "       0.3483215 , 0.34355693, 0.33882933, 0.33413899, 0.32948616,\n",
       "       0.3248711 , 0.32029404, 0.31575521, 0.3112548 , 0.30679301,\n",
       "       0.30237002, 0.297986  , 0.29364109, 0.28933545, 0.28506919,\n",
       "       0.28084243, 0.27665528, 0.27250783, 0.26840015, 0.26433232,\n",
       "       0.26030439, 0.2563164 , 0.2523684 , 0.2484604 , 0.24459241,\n",
       "       0.24076444, 0.23697648, 0.23322852, 0.22952053, 0.22585246,\n",
       "       0.22222428, 0.21863592, 0.21508733, 0.21157844, 0.20810915,\n",
       "       0.20467938, 0.20128904, 0.19793802, 0.19462619, 0.19135346,\n",
       "       0.18811967, 0.18492471, 0.18176842, 0.17865066, 0.17557126,\n",
       "       0.17253008, 0.16952694, 0.16656167, 0.16363408, 0.16074399,\n",
       "       0.1578912 , 0.15507553, 0.15229677, 0.1495547 , 0.14684913,\n",
       "       0.14417982, 0.14154657, 0.13894914, 0.13638731, 0.13386083,\n",
       "       0.13136948, 0.12891301, 0.12649118, 0.12410374, 0.12175043,\n",
       "       0.119431  , 0.11714519, 0.11489274, 0.1126734 , 0.11048688,\n",
       "       0.10833292, 0.10621126, 0.10412162, 0.10206372, 0.10003728,\n",
       "       0.09804203, 0.09607769, 0.09414397, 0.09224058, 0.09036726,\n",
       "       0.0885237 , 0.08670962, 0.08492473, 0.08316874, 0.08144137,\n",
       "       0.07974232, 0.07807129, 0.076428  , 0.07481216, 0.07322346,\n",
       "       0.07166163, 0.07012636, 0.06861736, 0.06713434, 0.065677  ,\n",
       "       0.06424506, 0.06283821, 0.06145617, 0.06009865, 0.05876534,\n",
       "       0.05745597, 0.05617025, 0.05490787, 0.05366856, 0.05245203,\n",
       "       0.05125798, 0.05008614, 0.04893622, 0.04780793, 0.04670099,\n",
       "       0.04561512, 0.04455005, 0.04350548, 0.04248115, 0.04147677,\n",
       "       0.04049208, 0.03952679, 0.03858065, 0.03765337, 0.03674469,\n",
       "       0.03585434, 0.03498206, 0.03412758, 0.03329065, 0.03247099,\n",
       "       0.03166837, 0.03088251, 0.03011316, 0.02936008, 0.028623  ,\n",
       "       0.02790169, 0.0271959 , 0.02650538, 0.02582989, 0.02516919,\n",
       "       0.02452304, 0.02389121, 0.02327346, 0.02266956, 0.02207928,\n",
       "       0.0215024 , 0.02093868, 0.02038791, 0.01984986, 0.01932432,\n",
       "       0.01881107, 0.01830989, 0.01782058, 0.01734292, 0.01687671,\n",
       "       0.01642174, 0.0159778 , 0.01554471, 0.01512225, 0.01471024,\n",
       "       0.01430847, 0.01391677, 0.01353493, 0.01316278, 0.01280012,\n",
       "       0.01244678, 0.01210257, 0.01176732, 0.01144085, 0.01112299,\n",
       "       0.01081357, 0.01051241, 0.01021935, 0.00993423, 0.00965688,\n",
       "       0.00938715, 0.00912488, 0.0088699 , 0.00862207, 0.00838124,\n",
       "       0.00814725, 0.00791997, 0.00769924, 0.00748492, 0.00727687,\n",
       "       0.00707495, 0.00687904, 0.00668898, 0.00650465, 0.00632592,\n",
       "       0.00615267, 0.00598476, 0.00582207, 0.00566447, 0.00551186,\n",
       "       0.0053641 , 0.00522109, 0.00508271, 0.00494885, 0.00481939,\n",
       "       0.00469422, 0.00457325, 0.00445636, 0.00434346, 0.00423443,\n",
       "       0.00412919, 0.00402762, 0.00392965, 0.00383516, 0.00374408,\n",
       "       0.0036563 , 0.00357175, 0.00349032, 0.00341194, 0.00333653,\n",
       "       0.00326399, 0.00319425, 0.00312722, 0.00306284, 0.00300102,\n",
       "       0.00294168, 0.00288477, 0.00283019, 0.00277789, 0.00272779,\n",
       "       0.00267983, 0.00263393, 0.00259004, 0.00254809, 0.00250802,\n",
       "       0.00246977, 0.00243328, 0.00239849, 0.00236534, 0.00233378,\n",
       "       0.00230375, 0.00227521, 0.00224809, 0.00222235, 0.00219794,\n",
       "       0.00217481, 0.00215291, 0.0021322 , 0.00211263, 0.00209416,\n",
       "       0.00207674, 0.00206033, 0.0020449 , 0.0020304 , 0.00201679,\n",
       "       0.00200404, 0.00199211, 0.00198096, 0.00197056, 0.00196087,\n",
       "       0.00195187, 0.00194351, 0.00193577, 0.00192862, 0.00192203,\n",
       "       0.00191596, 0.0019104 , 0.00190531, 0.00190067, 0.00189645,\n",
       "       0.00189262, 0.00188917, 0.00188607, 0.0018833 , 0.00188083,\n",
       "       0.00187865, 0.00187673, 0.00187505, 0.0018736 , 0.00187235,\n",
       "       0.00187129, 0.0018704 , 0.00186967, 0.00186907, 0.00186859,\n",
       "       0.00186822, 0.00186794, 0.00186774, 0.0018676 , 0.00186752,\n",
       "       0.00186747, 0.00186745, 0.00186744, 0.00186744, 0.00186744,\n",
       "       0.00186741, 0.00186736, 0.00186728, 0.00186715, 0.00186697,\n",
       "       0.00186673, 0.00186642, 0.00186603, 0.00186556, 0.001865  ,\n",
       "       0.00186435, 0.00186359, 0.00186273, 0.00186176, 0.00186066,\n",
       "       0.00185945, 0.00185811, 0.00185664, 0.00185504, 0.0018533 ,\n",
       "       0.00185141, 0.00184939, 0.00184722, 0.0018449 , 0.00184242,\n",
       "       0.0018398 , 0.00183702, 0.00183408, 0.00183099, 0.00182773,\n",
       "       0.00182432, 0.00182074, 0.001817  , 0.0018131 , 0.00180904,\n",
       "       0.00180482, 0.00180043, 0.00179588, 0.00179117, 0.0017863 ,\n",
       "       0.00178126, 0.00177607, 0.00177071, 0.0017652 , 0.00175953,\n",
       "       0.00175371, 0.00174773, 0.00174159, 0.0017353 , 0.00172887,\n",
       "       0.00172228, 0.00171555, 0.00170867, 0.00170165, 0.00169449])"
      ]
     },
     "execution_count": 103,
     "metadata": {},
     "output_type": "execute_result"
    }
   ],
   "source": [
    "plt_y"
   ]
  },
  {
   "cell_type": "code",
   "execution_count": 92,
   "metadata": {},
   "outputs": [],
   "source": [
    "X = plt_x\n"
   ]
  },
  {
   "cell_type": "code",
   "execution_count": 104,
   "metadata": {},
   "outputs": [],
   "source": [
    "Y = plt_y"
   ]
  },
  {
   "cell_type": "code",
   "execution_count": 107,
   "metadata": {},
   "outputs": [
    {
     "data": {
      "text/plain": [
       "array([6.46023207e-04, 1.18873101e-03, 2.52888101e-03, 4.36726349e-03,\n",
       "       6.68167696e-03, 9.45045808e-03, 1.26524737e-02, 1.62671129e-02,\n",
       "       2.02742792e-02, 2.46543827e-02, 2.93883321e-02, 3.44575270e-02,\n",
       "       3.98438505e-02, 4.55296610e-02, 5.14977849e-02, 5.77315089e-02,\n",
       "       6.42145724e-02, 7.09311603e-02, 7.78658951e-02, 8.50038298e-02,\n",
       "       9.23304407e-02, 9.98316197e-02, 1.07493667e-01, 1.15303286e-01,\n",
       "       1.23247571e-01, 1.31314007e-01, 1.39490458e-01, 1.47765161e-01,\n",
       "       1.56126719e-01, 1.64564097e-01, 1.73066610e-01, 1.81623921e-01,\n",
       "       1.90226032e-01, 1.98863279e-01, 2.07526324e-01, 2.16206148e-01,\n",
       "       2.24894048e-01, 2.33581627e-01, 2.42260790e-01, 2.50923737e-01,\n",
       "       2.59562957e-01, 2.68171221e-01, 2.76741580e-01, 2.85267354e-01,\n",
       "       2.93742128e-01, 3.02159749e-01, 3.10514315e-01, 3.18800175e-01,\n",
       "       3.27011921e-01, 3.35144380e-01, 3.43192612e-01, 3.51151906e-01,\n",
       "       3.59017770e-01, 3.66785929e-01, 3.74452319e-01, 3.82013083e-01,\n",
       "       3.89464564e-01, 3.96803302e-01, 4.04026029e-01, 4.11129663e-01,\n",
       "       4.18111303e-01, 4.24968228e-01, 4.31697887e-01, 4.38297899e-01,\n",
       "       4.44766047e-01, 4.51100273e-01, 4.57298675e-01, 4.63359501e-01,\n",
       "       4.69281145e-01, 4.75062148e-01, 4.80701186e-01, 4.86197070e-01,\n",
       "       4.91548745e-01, 4.96755279e-01, 5.01815867e-01, 5.06729823e-01,\n",
       "       5.11496574e-01, 5.16115664e-01, 5.20586744e-01, 5.24909570e-01,\n",
       "       5.29084000e-01, 5.33109993e-01, 5.36987602e-01, 5.40716972e-01,\n",
       "       5.44298339e-01, 5.47732024e-01, 5.51018432e-01, 5.54158047e-01,\n",
       "       5.57151431e-01, 5.59999222e-01, 5.62702127e-01, 5.65260924e-01,\n",
       "       5.67676456e-01, 5.69949631e-01, 5.72081418e-01, 5.74072842e-01,\n",
       "       5.75924989e-01, 5.77638994e-01, 5.79216045e-01, 5.80657381e-01,\n",
       "       5.81964285e-01, 5.83138086e-01, 5.84180155e-01, 5.85091905e-01,\n",
       "       5.85874784e-01, 5.86530279e-01, 5.87059910e-01, 5.87465231e-01,\n",
       "       5.87747824e-01, 5.87909302e-01, 5.87951303e-01, 5.87875492e-01,\n",
       "       5.87683556e-01, 5.87377204e-01, 5.86958167e-01, 5.86428192e-01,\n",
       "       5.85789046e-01, 5.85042508e-01, 5.84190374e-01, 5.83234452e-01,\n",
       "       5.82176561e-01, 5.81018532e-01, 5.79762201e-01, 5.78409415e-01,\n",
       "       5.76962026e-01, 5.75421891e-01, 5.73790870e-01, 5.72070829e-01,\n",
       "       5.70263632e-01, 5.68371146e-01, 5.66395237e-01, 5.64337770e-01,\n",
       "       5.62200607e-01, 5.59985608e-01, 5.57694628e-01, 5.55329517e-01,\n",
       "       5.52892121e-01, 5.50384277e-01, 5.47807815e-01, 5.45164560e-01,\n",
       "       5.42456324e-01, 5.39684912e-01, 5.36852118e-01, 5.33959725e-01,\n",
       "       5.31009507e-01, 5.28003221e-01, 5.24942618e-01, 5.21829429e-01,\n",
       "       5.18665377e-01, 5.15452167e-01, 5.12191492e-01, 5.08885028e-01,\n",
       "       5.05534438e-01, 5.02141366e-01, 4.98707441e-01, 4.95234277e-01,\n",
       "       4.91723468e-01, 4.88176593e-01, 4.84595213e-01, 4.80980869e-01,\n",
       "       4.77335087e-01, 4.73659371e-01, 4.69955210e-01, 4.66224070e-01,\n",
       "       4.62467402e-01, 4.58686635e-01, 4.54883178e-01, 4.51058421e-01,\n",
       "       4.47213737e-01, 4.43350474e-01, 4.39469963e-01, 4.35573514e-01,\n",
       "       4.31662417e-01, 4.27737941e-01, 4.23801335e-01, 4.19853827e-01,\n",
       "       4.15896626e-01, 4.11930917e-01, 4.07957868e-01, 4.03978624e-01,\n",
       "       3.99994311e-01, 3.96006032e-01, 3.92014872e-01, 3.88021894e-01,\n",
       "       3.84028141e-01, 3.80034634e-01, 3.76042375e-01, 3.72052345e-01,\n",
       "       3.68065506e-01, 3.64082797e-01, 3.60105140e-01, 3.56133433e-01,\n",
       "       3.52168559e-01, 3.48211376e-01, 3.44262725e-01, 3.40323428e-01,\n",
       "       3.36394286e-01, 3.32476080e-01, 3.28569573e-01, 3.24675509e-01,\n",
       "       3.20794612e-01, 3.16927588e-01, 3.13075124e-01, 3.09237888e-01,\n",
       "       3.05416530e-01, 3.01611682e-01, 2.97823958e-01, 2.94053954e-01,\n",
       "       2.90302248e-01, 2.86569401e-01, 2.82855955e-01, 2.79162439e-01,\n",
       "       2.75489360e-01, 2.71837212e-01, 2.68206470e-01, 2.64597594e-01,\n",
       "       2.61011028e-01, 2.57447200e-01, 2.53906521e-01, 2.50389386e-01,\n",
       "       2.46896179e-01, 2.43427263e-01, 2.39982990e-01, 2.36563697e-01,\n",
       "       2.33169703e-01, 2.29801318e-01, 2.26458834e-01, 2.23142531e-01,\n",
       "       2.19852674e-01, 2.16589515e-01, 2.13353293e-01, 2.10144235e-01,\n",
       "       2.06962554e-01, 2.03808449e-01, 2.00682110e-01, 1.97583712e-01,\n",
       "       1.94513420e-01, 1.91471385e-01, 1.88457748e-01, 1.85472639e-01,\n",
       "       1.82516177e-01, 1.79588468e-01, 1.76689609e-01, 1.73819687e-01,\n",
       "       1.70978778e-01, 1.68166947e-01, 1.65384251e-01, 1.62630736e-01,\n",
       "       1.59906438e-01, 1.57211387e-01, 1.54545600e-01, 1.51909087e-01,\n",
       "       1.49301849e-01, 1.46723879e-01, 1.44175161e-01, 1.41655672e-01,\n",
       "       1.39165380e-01, 1.36704245e-01, 1.34272222e-01, 1.31869256e-01,\n",
       "       1.29495286e-01, 1.27150243e-01, 1.24834053e-01, 1.22546635e-01,\n",
       "       1.20287900e-01, 1.18057754e-01, 1.15856097e-01, 1.13682824e-01,\n",
       "       1.11537821e-01, 1.09420973e-01, 1.07332156e-01, 1.05271242e-01,\n",
       "       1.03238098e-01, 1.01232586e-01, 9.92545646e-02, 9.73038854e-02,\n",
       "       9.53803970e-02, 9.34839436e-02, 9.16143650e-02, 8.97714973e-02,\n",
       "       8.79551726e-02, 8.61652192e-02, 8.44014622e-02, 8.26637229e-02,\n",
       "       8.09518197e-02, 7.92655675e-02, 7.76047783e-02, 7.59692615e-02,\n",
       "       7.43588234e-02, 7.27732678e-02, 7.12123960e-02, 6.96760070e-02,\n",
       "       6.81638974e-02, 6.66758618e-02, 6.52116927e-02, 6.37711807e-02,\n",
       "       6.23541147e-02, 6.09602817e-02, 5.95894674e-02, 5.82414557e-02,\n",
       "       5.69160294e-02, 5.56129700e-02, 5.43320577e-02, 5.30730716e-02,\n",
       "       5.18357901e-02, 5.06199904e-02, 4.94254491e-02, 4.82519421e-02,\n",
       "       4.70992445e-02, 4.59671311e-02, 4.48553761e-02, 4.37637534e-02,\n",
       "       4.26920367e-02, 4.16399993e-02, 4.06074146e-02, 3.95940556e-02,\n",
       "       3.85996958e-02, 3.76241084e-02, 3.66670670e-02, 3.57283451e-02,\n",
       "       3.48077170e-02, 3.39049569e-02, 3.30198396e-02, 3.21521404e-02,\n",
       "       3.13016352e-02, 3.04681003e-02, 2.96513128e-02, 2.88510504e-02,\n",
       "       2.80670918e-02, 2.72992161e-02, 2.65472037e-02, 2.58108357e-02,\n",
       "       2.50898940e-02, 2.43841618e-02, 2.36934232e-02, 2.30174633e-02,\n",
       "       2.23560685e-02, 2.17090263e-02, 2.10761253e-02, 2.04571555e-02,\n",
       "       1.98519081e-02, 1.92601755e-02, 1.86817517e-02, 1.81164319e-02,\n",
       "       1.75640127e-02, 1.70242922e-02, 1.64970699e-02, 1.59821468e-02,\n",
       "       1.54793255e-02, 1.49884100e-02, 1.45092059e-02, 1.40415205e-02,\n",
       "       1.35851627e-02, 1.31399427e-02, 1.27056727e-02, 1.22821666e-02,\n",
       "       1.18692395e-02, 1.14667088e-02, 1.10743932e-02, 1.06921132e-02,\n",
       "       1.03196912e-02, 9.95695113e-03, 9.60371882e-03, 9.25982183e-03,\n",
       "       8.92508947e-03, 8.59935288e-03, 8.28244497e-03, 7.97420045e-03,\n",
       "       7.67445585e-03, 7.38304952e-03, 7.09982161e-03, 6.82461410e-03,\n",
       "       6.55727079e-03, 6.29763733e-03, 6.04556117e-03, 5.80089162e-03,\n",
       "       5.56347979e-03, 5.33317865e-03, 5.10984299e-03, 4.89332944e-03,\n",
       "       4.68349643e-03, 4.48020426e-03, 4.28331500e-03, 4.09269259e-03,\n",
       "       3.90820275e-03, 3.72971304e-03, 3.55709279e-03, 3.39021316e-03,\n",
       "       3.22894710e-03, 3.07316933e-03, 2.92275637e-03, 2.77758651e-03,\n",
       "       2.63753980e-03, 2.50249805e-03, 2.37234483e-03, 2.24696544e-03,\n",
       "       2.12624692e-03, 2.01007801e-03, 1.89834919e-03, 1.79095263e-03,\n",
       "       1.68778219e-03, 1.58873341e-03, 1.49370352e-03, 1.40259138e-03,\n",
       "       1.31529750e-03, 1.23172405e-03, 1.15177480e-03, 1.07535514e-03,\n",
       "       1.00237205e-03, 9.32734095e-04, 8.66351430e-04, 8.03135749e-04,\n",
       "       7.43000302e-04, 6.85859867e-04, 6.31630742e-04, 5.80230729e-04,\n",
       "       5.31579122e-04, 4.85596690e-04, 4.42205666e-04, 4.01329730e-04,\n",
       "       3.62893995e-04, 3.26824993e-04, 2.93050662e-04, 2.61500327e-04,\n",
       "       2.32104690e-04, 2.04795810e-04, 1.79507093e-04, 1.56173275e-04,\n",
       "       1.34730404e-04, 1.15115829e-04, 9.72681835e-05, 8.11273702e-05,\n",
       "       6.66345448e-05, 5.37321020e-05, 4.23636599e-05, 3.24740442e-05,\n",
       "       2.40092738e-05, 1.69165447e-05, 1.11442152e-05, 6.64179059e-06,\n",
       "       3.35990759e-06, 1.25031953e-06, 2.65880940e-07, 3.60532436e-07,\n",
       "       1.48928559e-06, 3.60820783e-06, 6.67440746e-06, 1.06460186e-05,\n",
       "       1.54821862e-05, 2.11430515e-05, 2.75897366e-05, 3.47843303e-05,\n",
       "       4.26898731e-05, 5.12703427e-05, 6.04906394e-05, 7.03165716e-05,\n",
       "       8.07148414e-05, 9.16530307e-05, 1.03099586e-04, 1.15023806e-04,\n",
       "       1.27395826e-04, 1.40186604e-04, 1.53367908e-04, 1.66912301e-04,\n",
       "       1.80793129e-04, 1.94984504e-04, 2.09461297e-04, 2.24199118e-04,\n",
       "       2.39174304e-04, 2.54363912e-04, 2.69745696e-04, 2.85298104e-04,\n",
       "       3.01000259e-04, 3.16831946e-04, 3.32773606e-04, 3.48806315e-04,\n",
       "       3.64911778e-04, 3.81072315e-04, 3.97270847e-04, 4.13490888e-04,\n",
       "       4.29716529e-04, 4.45932429e-04, 4.62123803e-04, 4.78276411e-04,\n",
       "       4.94376545e-04, 5.10411019e-04, 5.26367158e-04, 5.42232788e-04,\n",
       "       5.57996222e-04, 5.73646255e-04, 5.89172147e-04, 6.04563618e-04,\n",
       "       6.19810833e-04, 6.34904397e-04, 6.49835340e-04, 6.64595111e-04,\n",
       "       6.79175567e-04, 6.93568962e-04, 7.07767940e-04, 7.14817929e-04])"
      ]
     },
     "execution_count": 107,
     "metadata": {},
     "output_type": "execute_result"
    }
   ],
   "source": [
    "-np.gradient(Y, X)"
   ]
  },
  {
   "cell_type": "code",
   "execution_count": 110,
   "metadata": {},
   "outputs": [
    {
     "data": {
      "text/plain": [
       "[<matplotlib.lines.Line2D at 0x7f5ecb96cd68>]"
      ]
     },
     "execution_count": 110,
     "metadata": {},
     "output_type": "execute_result"
    },
    {
     "data": {
      "image/png": "[encoded data removed]",
      "text/plain": [
       "<Figure size 432x288 with 1 Axes>"
      ]
     },
     "metadata": {},
     "output_type": "display_data"
    }
   ],
   "source": [
    "plt.plot(-np.gradient(Y, X))"
   ]
  },
  {
   "cell_type": "code",
   "execution_count": null,
   "metadata": {},
   "outputs": [],
   "source": []
  }
 ],
 "metadata": {
  "kernelspec": {
   "display_name": "Python 3",
   "language": "python",
   "name": "python3"
  },
  "language_info": {
   "codemirror_mode": {
    "name": "ipython",
    "version": 3
   },
   "file_extension": ".py",
   "mimetype": "text/x-python",
   "name": "python",
   "nbconvert_exporter": "python",
   "pygments_lexer": "ipython3",
   "version": "3.6.5"
  }
 },
 "nbformat": 4,
 "nbformat_minor": 2
}
