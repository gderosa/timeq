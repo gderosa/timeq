{
 "cells": [
  {
   "cell_type": "code",
   "execution_count": 34,
   "metadata": {},
   "outputs": [],
   "source": [
    "from sympy import *\n",
    "from sympy . physics . matrices import mdft\n",
    "from sympy . physics . quantum import TensorProduct\n"
   ]
  },
  {
   "cell_type": "code",
   "execution_count": 35,
   "metadata": {},
   "outputs": [],
   "source": [
    "omega = Symbol('omega')\n",
    "gamma = Symbol('gamma')"
   ]
  },
  {
   "cell_type": "code",
   "execution_count": 36,
   "metadata": {},
   "outputs": [],
   "source": [
    "omega = 1"
   ]
  },
  {
   "cell_type": "code",
   "execution_count": 37,
   "metadata": {},
   "outputs": [],
   "source": [
    "gamma = Rational(1, 2)"
   ]
  },
  {
   "cell_type": "code",
   "execution_count": 38,
   "metadata": {},
   "outputs": [
    {
     "data": {
      "image/png": "[encoded data removed]",
      "text/latex": [
       "$$\\frac{1}{2}$$"
      ],
      "text/plain": [
       "1/2"
      ]
     },
     "execution_count": 38,
     "metadata": {},
     "output_type": "execute_result"
    }
   ],
   "source": [
    "gamma"
   ]
  },
  {
   "cell_type": "code",
   "execution_count": 39,
   "metadata": {},
   "outputs": [],
   "source": [
    "Hs = Matrix ([\n",
    "[0, omega] ,\n",
    "[omega, -I*gamma]\n",
    "])"
   ]
  },
  {
   "cell_type": "code",
   "execution_count": 40,
   "metadata": {},
   "outputs": [],
   "source": [
    "init_printing ()\n"
   ]
  },
  {
   "cell_type": "code",
   "execution_count": 41,
   "metadata": {},
   "outputs": [
    {
     "data": {
      "text/latex": [
       "$$\\left[\\begin{matrix}0 & 1\\\\1 & - \\frac{i}{2}\\end{matrix}\\right]$$"
      ],
      "text/plain": [
       "⎡0   1 ⎤\n",
       "⎢      ⎥\n",
       "⎢   -ⅈ ⎥\n",
       "⎢1  ───⎥\n",
       "⎣    2 ⎦"
      ]
     },
     "execution_count": 41,
     "metadata": {},
     "output_type": "execute_result"
    }
   ],
   "source": [
    "Hs"
   ]
  },
  {
   "cell_type": "code",
   "execution_count": 42,
   "metadata": {},
   "outputs": [
    {
     "data": {
      "text/latex": [
       "$$\\left [ \\left ( - \\frac{\\sqrt{15}}{4} - \\frac{i}{4}, \\quad 1, \\quad \\left [ \\left[\\begin{matrix}- \\frac{1}{\\frac{\\sqrt{15}}{4} + \\frac{i}{4}}\\\\1\\end{matrix}\\right]\\right ]\\right ), \\quad \\left ( \\frac{\\sqrt{15}}{4} - \\frac{i}{4}, \\quad 1, \\quad \\left [ \\left[\\begin{matrix}- \\frac{1}{- \\frac{\\sqrt{15}}{4} + \\frac{i}{4}}\\\\1\\end{matrix}\\right]\\right ]\\right )\\right ]$$"
      ],
      "text/plain": [
       "⎡⎛              ⎡⎡  -1   ⎤⎤⎞  ⎛            ⎡⎡   -1    ⎤⎤⎞⎤\n",
       "⎢⎜              ⎢⎢───────⎥⎥⎟  ⎜            ⎢⎢─────────⎥⎥⎟⎥\n",
       "⎢⎜  √15   ⅈ     ⎢⎢√15   ⅈ⎥⎥⎟  ⎜√15   ⅈ     ⎢⎢  √15   ⅈ⎥⎥⎟⎥\n",
       "⎢⎜- ─── - ─, 1, ⎢⎢─── + ─⎥⎥⎟, ⎜─── - ─, 1, ⎢⎢- ─── + ─⎥⎥⎟⎥\n",
       "⎢⎜   4    4     ⎢⎢ 4    4⎥⎥⎟  ⎜ 4    4     ⎢⎢   4    4⎥⎥⎟⎥\n",
       "⎢⎜              ⎢⎢       ⎥⎥⎟  ⎜            ⎢⎢         ⎥⎥⎟⎥\n",
       "⎣⎝              ⎣⎣   1   ⎦⎦⎠  ⎝            ⎣⎣    1    ⎦⎦⎠⎦"
      ]
     },
     "execution_count": 42,
     "metadata": {},
     "output_type": "execute_result"
    }
   ],
   "source": [
    "Hs.eigenvects()"
   ]
  },
  {
   "cell_type": "code",
   "execution_count": 43,
   "metadata": {},
   "outputs": [],
   "source": [
    "Hd = Matrix ([\n",
    "    [0, omega] ,\n",
    "    [omega, I*gamma]\n",
    "])"
   ]
  },
  {
   "cell_type": "code",
   "execution_count": 44,
   "metadata": {},
   "outputs": [
    {
     "data": {
      "text/latex": [
       "$$\\left[\\begin{matrix}0 & 1\\\\1 & \\frac{i}{2}\\end{matrix}\\right]$$"
      ],
      "text/plain": [
       "⎡0  1⎤\n",
       "⎢    ⎥\n",
       "⎢   ⅈ⎥\n",
       "⎢1  ─⎥\n",
       "⎣   2⎦"
      ]
     },
     "execution_count": 44,
     "metadata": {},
     "output_type": "execute_result"
    }
   ],
   "source": [
    "Hd"
   ]
  },
  {
   "cell_type": "code",
   "execution_count": 45,
   "metadata": {},
   "outputs": [],
   "source": [
    "H = TensorProduct(Hs, eye(2)) + TensorProduct(eye(2), Hd)"
   ]
  },
  {
   "cell_type": "code",
   "execution_count": 46,
   "metadata": {},
   "outputs": [
    {
     "data": {
      "text/latex": [
       "$$\\left[\\begin{matrix}0 & 1 & 1 & 0\\\\1 & \\frac{i}{2} & 0 & 1\\\\1 & 0 & - \\frac{i}{2} & 1\\\\0 & 1 & 1 & 0\\end{matrix}\\right]$$"
      ],
      "text/plain": [
       "⎡0  1   1   0⎤\n",
       "⎢            ⎥\n",
       "⎢   ⅈ        ⎥\n",
       "⎢1  ─   0   1⎥\n",
       "⎢   2        ⎥\n",
       "⎢            ⎥\n",
       "⎢      -ⅈ    ⎥\n",
       "⎢1  0  ───  1⎥\n",
       "⎢       2    ⎥\n",
       "⎢            ⎥\n",
       "⎣0  1   1   0⎦"
      ]
     },
     "execution_count": 46,
     "metadata": {},
     "output_type": "execute_result"
    }
   ],
   "source": [
    "H"
   ]
  },
  {
   "cell_type": "code",
   "execution_count": 47,
   "metadata": {},
   "outputs": [
    {
     "data": {
      "image/png": "[encoded data removed]",
      "text/latex": [
       "$$\\left \\{ 0 : 2, \\quad - \\frac{\\sqrt{15}}{2} : 1, \\quad \\frac{\\sqrt{15}}{2} : 1\\right \\}$$"
      ],
      "text/plain": [
       "⎧      -√15      √15   ⎫\n",
       "⎨0: 2, ─────: 1, ───: 1⎬\n",
       "⎩        2        2    ⎭"
      ]
     },
     "execution_count": 47,
     "metadata": {},
     "output_type": "execute_result"
    }
   ],
   "source": [
    "H.eigenvals()"
   ]
  },
  {
   "cell_type": "code",
   "execution_count": 48,
   "metadata": {},
   "outputs": [
    {
     "data": {
      "text/latex": [
       "$$\\left [ \\left ( 0, \\quad 2, \\quad \\left [ \\left[\\begin{matrix}\\frac{i}{2}\\\\-1\\\\1\\\\0\\end{matrix}\\right], \\quad \\left[\\begin{matrix}-1\\\\0\\\\0\\\\1\\end{matrix}\\right]\\right ]\\right ), \\quad \\left ( - \\frac{\\sqrt{15}}{2}, \\quad 1, \\quad \\left [ \\left[\\begin{matrix}- \\frac{2 \\sqrt{15} \\left(- \\frac{\\sqrt{15}}{2} \\left(-1 + \\left(-1 + \\frac{\\sqrt{15}}{2} \\left(\\frac{\\sqrt{15}}{2} - \\frac{i}{2}\\right)\\right) \\left(-1 + \\frac{\\sqrt{15}}{2} \\left(\\frac{\\sqrt{15}}{2} + \\frac{i}{2}\\right)\\right)\\right) - \\frac{\\sqrt{15}}{2} \\left(\\frac{\\sqrt{15}}{2} + \\frac{i}{2}\\right) \\left(\\frac{\\sqrt{15}}{2} + \\frac{\\sqrt{15}}{2} \\left(-1 + \\frac{\\sqrt{15}}{2} \\left(\\frac{\\sqrt{15}}{2} + \\frac{i}{2}\\right)\\right)\\right)\\right)}{15 \\left(-1 + \\frac{\\sqrt{15}}{2} \\left(\\frac{\\sqrt{15}}{2} + \\frac{i}{2}\\right)\\right) \\left(-1 + \\left(-1 + \\frac{\\sqrt{15}}{2} \\left(\\frac{\\sqrt{15}}{2} - \\frac{i}{2}\\right)\\right) \\left(-1 + \\frac{\\sqrt{15}}{2} \\left(\\frac{\\sqrt{15}}{2} + \\frac{i}{2}\\right)\\right)\\right)}\\\\- \\frac{\\frac{\\sqrt{15}}{2} + \\frac{\\sqrt{15}}{2} \\left(-1 + \\left(-1 + \\frac{\\sqrt{15}}{2} \\left(\\frac{\\sqrt{15}}{2} - \\frac{i}{2}\\right)\\right) \\left(-1 + \\frac{\\sqrt{15}}{2} \\left(\\frac{\\sqrt{15}}{2} + \\frac{i}{2}\\right)\\right)\\right) + \\frac{\\sqrt{15}}{2} \\left(-1 + \\frac{\\sqrt{15}}{2} \\left(\\frac{\\sqrt{15}}{2} + \\frac{i}{2}\\right)\\right)}{\\left(-1 + \\frac{\\sqrt{15}}{2} \\left(\\frac{\\sqrt{15}}{2} + \\frac{i}{2}\\right)\\right) \\left(-1 + \\left(-1 + \\frac{\\sqrt{15}}{2} \\left(\\frac{\\sqrt{15}}{2} - \\frac{i}{2}\\right)\\right) \\left(-1 + \\frac{\\sqrt{15}}{2} \\left(\\frac{\\sqrt{15}}{2} + \\frac{i}{2}\\right)\\right)\\right)}\\\\- \\frac{\\frac{\\sqrt{15}}{2} + \\frac{\\sqrt{15}}{2} \\left(-1 + \\frac{\\sqrt{15}}{2} \\left(\\frac{\\sqrt{15}}{2} + \\frac{i}{2}\\right)\\right)}{-1 + \\left(-1 + \\frac{\\sqrt{15}}{2} \\left(\\frac{\\sqrt{15}}{2} - \\frac{i}{2}\\right)\\right) \\left(-1 + \\frac{\\sqrt{15}}{2} \\left(\\frac{\\sqrt{15}}{2} + \\frac{i}{2}\\right)\\right)}\\\\1\\end{matrix}\\right]\\right ]\\right ), \\quad \\left ( \\frac{\\sqrt{15}}{2}, \\quad 1, \\quad \\left [ \\left[\\begin{matrix}\\frac{2 \\sqrt{15} \\left(\\frac{\\sqrt{15}}{2} \\left(-1 + \\left(-1 - \\frac{\\sqrt{15}}{2} \\left(- \\frac{\\sqrt{15}}{2} - \\frac{i}{2}\\right)\\right) \\left(-1 - \\frac{\\sqrt{15}}{2} \\left(- \\frac{\\sqrt{15}}{2} + \\frac{i}{2}\\right)\\right)\\right) + \\frac{\\sqrt{15}}{2} \\left(- \\frac{\\sqrt{15}}{2} + \\frac{i}{2}\\right) \\left(- \\frac{\\sqrt{15}}{2} - \\frac{\\sqrt{15}}{2} \\left(-1 - \\frac{\\sqrt{15}}{2} \\left(- \\frac{\\sqrt{15}}{2} + \\frac{i}{2}\\right)\\right)\\right)\\right)}{15 \\left(-1 - \\frac{\\sqrt{15}}{2} \\left(- \\frac{\\sqrt{15}}{2} + \\frac{i}{2}\\right)\\right) \\left(-1 + \\left(-1 - \\frac{\\sqrt{15}}{2} \\left(- \\frac{\\sqrt{15}}{2} - \\frac{i}{2}\\right)\\right) \\left(-1 - \\frac{\\sqrt{15}}{2} \\left(- \\frac{\\sqrt{15}}{2} + \\frac{i}{2}\\right)\\right)\\right)}\\\\- \\frac{- \\frac{\\sqrt{15}}{2} \\left(-1 + \\left(-1 - \\frac{\\sqrt{15}}{2} \\left(- \\frac{\\sqrt{15}}{2} - \\frac{i}{2}\\right)\\right) \\left(-1 - \\frac{\\sqrt{15}}{2} \\left(- \\frac{\\sqrt{15}}{2} + \\frac{i}{2}\\right)\\right)\\right) - \\frac{\\sqrt{15}}{2} - \\frac{\\sqrt{15}}{2} \\left(-1 - \\frac{\\sqrt{15}}{2} \\left(- \\frac{\\sqrt{15}}{2} + \\frac{i}{2}\\right)\\right)}{\\left(-1 - \\frac{\\sqrt{15}}{2} \\left(- \\frac{\\sqrt{15}}{2} + \\frac{i}{2}\\right)\\right) \\left(-1 + \\left(-1 - \\frac{\\sqrt{15}}{2} \\left(- \\frac{\\sqrt{15}}{2} - \\frac{i}{2}\\right)\\right) \\left(-1 - \\frac{\\sqrt{15}}{2} \\left(- \\frac{\\sqrt{15}}{2} + \\frac{i}{2}\\right)\\right)\\right)}\\\\- \\frac{- \\frac{\\sqrt{15}}{2} - \\frac{\\sqrt{15}}{2} \\left(-1 - \\frac{\\sqrt{15}}{2} \\left(- \\frac{\\sqrt{15}}{2} + \\frac{i}{2}\\right)\\right)}{-1 + \\left(-1 - \\frac{\\sqrt{15}}{2} \\left(- \\frac{\\sqrt{15}}{2} - \\frac{i}{2}\\right)\\right) \\left(-1 - \\frac{\\sqrt{15}}{2} \\left(- \\frac{\\sqrt{15}}{2} + \\frac{i}{2}\\right)\\right)}\\\\1\\end{matrix}\\right]\\right ]\\right )\\right ]$$"
      ],
      "text/plain": [
       "⎡                      ⎛          ⎡⎡       ⎛                                  \n",
       "⎢                      ⎜          ⎢⎢       ⎜                                  \n",
       "⎢                      ⎜          ⎢⎢       ⎜      ⎛     ⎛         ⎛√15   ⅈ⎞⎞ ⎛\n",
       "⎢                      ⎜          ⎢⎢       ⎜      ⎜     ⎜     √15⋅⎜─── - ─⎟⎟ ⎜\n",
       "⎢                      ⎜          ⎢⎢       ⎜      ⎜     ⎜         ⎝ 2    2⎠⎟ ⎜\n",
       "⎢                      ⎜          ⎢⎢       ⎜  √15⋅⎜-1 + ⎜-1 + ─────────────⎟⋅⎜\n",
       "⎢                      ⎜          ⎢⎢       ⎜      ⎝     ⎝           2      ⎠ ⎝\n",
       "⎢                      ⎜          ⎢⎢-2⋅√15⋅⎜- ────────────────────────────────\n",
       "⎢                      ⎜          ⎢⎢       ⎝                           2      \n",
       "⎢                      ⎜          ⎢⎢──────────────────────────────────────────\n",
       "⎢                      ⎜          ⎢⎢                        ⎛         ⎛√15   ⅈ\n",
       "⎢                      ⎜          ⎢⎢                        ⎜     √15⋅⎜─── + ─\n",
       "⎢                      ⎜          ⎢⎢                        ⎜         ⎝ 2    2\n",
       "⎢                      ⎜          ⎢⎢                     15⋅⎜-1 + ────────────\n",
       "⎢                      ⎜          ⎢⎢                        ⎝           2     \n",
       "⎢                      ⎜          ⎢⎢                                          \n",
       "⎢                      ⎜          ⎢⎢             ⎛          ⎛     ⎛         ⎛√\n",
       "⎢                      ⎜          ⎢⎢             ⎜          ⎜     ⎜     √15⋅⎜─\n",
       "⎢⎛      ⎡⎡ⅈ ⎤      ⎤⎞  ⎜          ⎢⎢             ⎜          ⎜     ⎜         ⎝ \n",
       "⎢⎜      ⎢⎢─ ⎥  ⎡-1⎤⎥⎟  ⎜          ⎢⎢             ⎜      √15⋅⎜-1 + ⎜-1 + ──────\n",
       "⎢⎜      ⎢⎢2 ⎥  ⎢  ⎥⎥⎟  ⎜          ⎢⎢             ⎜√15       ⎝     ⎝           \n",
       "⎢⎜      ⎢⎢  ⎥  ⎢0 ⎥⎥⎟  ⎜-√15      ⎢⎢            -⎜─── + ──────────────────────\n",
       "⎢⎜0, 2, ⎢⎢-1⎥, ⎢  ⎥⎥⎟, ⎜─────, 1, ⎢⎢             ⎝ 2                          \n",
       "⎢⎜      ⎢⎢  ⎥  ⎢0 ⎥⎥⎟  ⎜  2       ⎢⎢            ──────────────────────────────\n",
       "⎢⎜      ⎢⎢1 ⎥  ⎢  ⎥⎥⎟  ⎜          ⎢⎢                      ⎛         ⎛√15   ⅈ⎞⎞\n",
       "⎢⎜      ⎢⎢  ⎥  ⎣1 ⎦⎥⎟  ⎜          ⎢⎢                      ⎜     √15⋅⎜─── + ─⎟⎟\n",
       "⎢⎝      ⎣⎣0 ⎦      ⎦⎠  ⎜          ⎢⎢                      ⎜         ⎝ 2    2⎠⎟\n",
       "⎢                      ⎜          ⎢⎢                      ⎜-1 + ─────────────⎟\n",
       "⎢                      ⎜          ⎢⎢                      ⎝           2      ⎠\n",
       "⎢                      ⎜          ⎢⎢                                          \n",
       "⎢                      ⎜          ⎢⎢                                        ⎛ \n",
       "⎢                      ⎜          ⎢⎢                                        ⎜ \n",
       "⎢                      ⎜          ⎢⎢                                        ⎜ \n",
       "⎢                      ⎜          ⎢⎢                                        ⎜ \n",
       "⎢                      ⎜          ⎢⎢                                        ⎜√\n",
       "⎢                      ⎜          ⎢⎢                                       -⎜─\n",
       "⎢                      ⎜          ⎢⎢                                        ⎝ \n",
       "⎢                      ⎜          ⎢⎢                                 ─────────\n",
       "⎢                      ⎜          ⎢⎢                                      ⎛   \n",
       "⎢                      ⎜          ⎢⎢                                      ⎜   \n",
       "⎢                      ⎜          ⎢⎢                                      ⎜   \n",
       "⎢                      ⎜          ⎢⎢                                 -1 + ⎜-1 \n",
       "⎢                      ⎜          ⎢⎢                                      ⎝   \n",
       "⎢                      ⎜          ⎢⎢                                          \n",
       "⎣                      ⎝          ⎣⎣                                          \n",
       "\n",
       "                                     ⎛          ⎛         ⎛√15   ⅈ⎞⎞⎞⎞ ⎤⎤⎞  ⎛ \n",
       "                                     ⎜          ⎜     √15⋅⎜─── + ─⎟⎟⎟⎟ ⎥⎥⎟  ⎜ \n",
       "         ⎛√15   ⅈ⎞⎞⎞                 ⎜          ⎜         ⎝ 2    2⎠⎟⎟⎟ ⎥⎥⎟  ⎜ \n",
       "     √15⋅⎜─── + ─⎟⎟⎟                 ⎜      √15⋅⎜-1 + ─────────────⎟⎟⎟ ⎥⎥⎟  ⎜ \n",
       "         ⎝ 2    2⎠⎟⎟       ⎛√15   ⅈ⎞ ⎜√15       ⎝           2      ⎠⎟⎟ ⎥⎥⎟  ⎜ \n",
       "-1 + ─────────────⎟⎟   √15⋅⎜─── + ─⎟⋅⎜─── + ────────────────────────⎟⎟ ⎥⎥⎟  ⎜ \n",
       "           2      ⎠⎠       ⎝ 2    2⎠ ⎝ 2               2            ⎠⎟ ⎥⎥⎟  ⎜ \n",
       "──────────────────── - ──────────────────────────────────────────────⎟ ⎥⎥⎟  ⎜ \n",
       "                                             2                       ⎠ ⎥⎥⎟  ⎜ \n",
       "───────────────────────────────────────────────────────────────────────⎥⎥⎟  ⎜ \n",
       "⎞⎞ ⎛     ⎛         ⎛√15   ⅈ⎞⎞ ⎛         ⎛√15   ⅈ⎞⎞⎞                    ⎥⎥⎟  ⎜ \n",
       "⎟⎟ ⎜     ⎜     √15⋅⎜─── - ─⎟⎟ ⎜     √15⋅⎜─── + ─⎟⎟⎟                    ⎥⎥⎟  ⎜ \n",
       "⎠⎟ ⎜     ⎜         ⎝ 2    2⎠⎟ ⎜         ⎝ 2    2⎠⎟⎟                    ⎥⎥⎟  ⎜ \n",
       "─⎟⋅⎜-1 + ⎜-1 + ─────────────⎟⋅⎜-1 + ─────────────⎟⎟                    ⎥⎥⎟  ⎜ \n",
       " ⎠ ⎝     ⎝           2      ⎠ ⎝           2      ⎠⎠                    ⎥⎥⎟  ⎜ \n",
       "                                                                       ⎥⎥⎟  ⎜ \n",
       "15   ⅈ⎞⎞ ⎛         ⎛√15   ⅈ⎞⎞⎞       ⎛         ⎛√15   ⅈ⎞⎞⎞             ⎥⎥⎟  ⎜ \n",
       "── - ─⎟⎟ ⎜     √15⋅⎜─── + ─⎟⎟⎟       ⎜     √15⋅⎜─── + ─⎟⎟⎟             ⎥⎥⎟  ⎜ \n",
       "2    2⎠⎟ ⎜         ⎝ 2    2⎠⎟⎟       ⎜         ⎝ 2    2⎠⎟⎟             ⎥⎥⎟  ⎜ \n",
       "───────⎟⋅⎜-1 + ─────────────⎟⎟   √15⋅⎜-1 + ─────────────⎟⎟             ⎥⎥⎟  ⎜ \n",
       "2      ⎠ ⎝           2      ⎠⎠       ⎝           2      ⎠⎟             ⎥⎥⎟  ⎜ \n",
       "────────────────────────────── + ────────────────────────⎟             ⎥⎥⎟  ⎜√\n",
       "   2                                        2            ⎠             ⎥⎥⎟, ⎜─\n",
       "───────────────────────────────────────────────────────────            ⎥⎥⎟  ⎜ \n",
       " ⎛     ⎛         ⎛√15   ⅈ⎞⎞ ⎛         ⎛√15   ⅈ⎞⎞⎞                      ⎥⎥⎟  ⎜ \n",
       " ⎜     ⎜     √15⋅⎜─── - ─⎟⎟ ⎜     √15⋅⎜─── + ─⎟⎟⎟                      ⎥⎥⎟  ⎜ \n",
       " ⎜     ⎜         ⎝ 2    2⎠⎟ ⎜         ⎝ 2    2⎠⎟⎟                      ⎥⎥⎟  ⎜ \n",
       "⋅⎜-1 + ⎜-1 + ─────────────⎟⋅⎜-1 + ─────────────⎟⎟                      ⎥⎥⎟  ⎜ \n",
       " ⎝     ⎝           2      ⎠ ⎝           2      ⎠⎠                      ⎥⎥⎟  ⎜ \n",
       "                                                                       ⎥⎥⎟  ⎜ \n",
       "         ⎛         ⎛√15   ⅈ⎞⎞⎞                                         ⎥⎥⎟  ⎜ \n",
       "         ⎜     √15⋅⎜─── + ─⎟⎟⎟                                         ⎥⎥⎟  ⎜ \n",
       "         ⎜         ⎝ 2    2⎠⎟⎟                                         ⎥⎥⎟  ⎜ \n",
       "     √15⋅⎜-1 + ─────────────⎟⎟                                         ⎥⎥⎟  ⎜ \n",
       "15       ⎝           2      ⎠⎟                                         ⎥⎥⎟  ⎜ \n",
       "── + ────────────────────────⎟                                         ⎥⎥⎟  ⎜ \n",
       "2               2            ⎠                                         ⎥⎥⎟  ⎜ \n",
       "─────────────────────────────────────                                  ⎥⎥⎟  ⎜ \n",
       "      ⎛√15   ⅈ⎞⎞ ⎛         ⎛√15   ⅈ⎞⎞                                  ⎥⎥⎟  ⎜ \n",
       "  √15⋅⎜─── - ─⎟⎟ ⎜     √15⋅⎜─── + ─⎟⎟                                  ⎥⎥⎟  ⎜ \n",
       "      ⎝ 2    2⎠⎟ ⎜         ⎝ 2    2⎠⎟                                  ⎥⎥⎟  ⎜ \n",
       "+ ─────────────⎟⋅⎜-1 + ─────────────⎟                                  ⎥⎥⎟  ⎜ \n",
       "        2      ⎠ ⎝           2      ⎠                                  ⎥⎥⎟  ⎜ \n",
       "                                                                       ⎥⎥⎟  ⎜ \n",
       "              1                                                        ⎦⎦⎠  ⎝ \n",
       "\n",
       "       ⎡⎡      ⎛                                                              \n",
       "       ⎢⎢      ⎜                                                              \n",
       "       ⎢⎢      ⎜    ⎛     ⎛         ⎛  √15   ⅈ⎞⎞ ⎛         ⎛  √15   ⅈ⎞⎞⎞      \n",
       "       ⎢⎢      ⎜    ⎜     ⎜     √15⋅⎜- ─── - ─⎟⎟ ⎜     √15⋅⎜- ─── + ─⎟⎟⎟      \n",
       "       ⎢⎢      ⎜    ⎜     ⎜         ⎝   2    2⎠⎟ ⎜         ⎝   2    2⎠⎟⎟      \n",
       "       ⎢⎢      ⎜√15⋅⎜-1 + ⎜-1 - ───────────────⎟⋅⎜-1 - ───────────────⎟⎟   √15\n",
       "       ⎢⎢      ⎜    ⎝     ⎝            2       ⎠ ⎝            2       ⎠⎠      \n",
       "       ⎢⎢2⋅√15⋅⎜──────────────────────────────────────────────────────── + ───\n",
       "       ⎢⎢      ⎝                           2                                  \n",
       "       ⎢⎢─────────────────────────────────────────────────────────────────────\n",
       "       ⎢⎢                        ⎛         ⎛  √15   ⅈ⎞⎞ ⎛     ⎛         ⎛  √15\n",
       "       ⎢⎢                        ⎜     √15⋅⎜- ─── + ─⎟⎟ ⎜     ⎜     √15⋅⎜- ───\n",
       "       ⎢⎢                        ⎜         ⎝   2    2⎠⎟ ⎜     ⎜         ⎝   2 \n",
       "       ⎢⎢                     15⋅⎜-1 - ───────────────⎟⋅⎜-1 + ⎜-1 - ──────────\n",
       "       ⎢⎢                        ⎝            2       ⎠ ⎝     ⎝            2  \n",
       "       ⎢⎢                                                                     \n",
       "       ⎢⎢            ⎛      ⎛     ⎛         ⎛  √15   ⅈ⎞⎞ ⎛         ⎛  √15   ⅈ⎞\n",
       "       ⎢⎢            ⎜      ⎜     ⎜     √15⋅⎜- ─── - ─⎟⎟ ⎜     √15⋅⎜- ─── + ─⎟\n",
       "       ⎢⎢            ⎜      ⎜     ⎜         ⎝   2    2⎠⎟ ⎜         ⎝   2    2⎠\n",
       "       ⎢⎢            ⎜  √15⋅⎜-1 + ⎜-1 - ───────────────⎟⋅⎜-1 - ───────────────\n",
       "       ⎢⎢            ⎜      ⎝     ⎝            2       ⎠ ⎝            2       \n",
       "15     ⎢⎢           -⎜- ──────────────────────────────────────────────────────\n",
       "──, 1, ⎢⎢            ⎝                             2                          \n",
       "2      ⎢⎢           ──────────────────────────────────────────────────────────\n",
       "       ⎢⎢                      ⎛         ⎛  √15   ⅈ⎞⎞ ⎛     ⎛         ⎛  √15  \n",
       "       ⎢⎢                      ⎜     √15⋅⎜- ─── + ─⎟⎟ ⎜     ⎜     √15⋅⎜- ─── -\n",
       "       ⎢⎢                      ⎜         ⎝   2    2⎠⎟ ⎜     ⎜         ⎝   2   \n",
       "       ⎢⎢                      ⎜-1 - ───────────────⎟⋅⎜-1 + ⎜-1 - ────────────\n",
       "       ⎢⎢                      ⎝            2       ⎠ ⎝     ⎝            2    \n",
       "       ⎢⎢                                                                     \n",
       "       ⎢⎢                                         ⎛            ⎛         ⎛  √1\n",
       "       ⎢⎢                                         ⎜            ⎜     √15⋅⎜- ──\n",
       "       ⎢⎢                                         ⎜            ⎜         ⎝   2\n",
       "       ⎢⎢                                         ⎜        √15⋅⎜-1 - ─────────\n",
       "       ⎢⎢                                         ⎜  √15       ⎝            2 \n",
       "       ⎢⎢                                        -⎜- ─── - ───────────────────\n",
       "       ⎢⎢                                         ⎝   2                2      \n",
       "       ⎢⎢                                  ───────────────────────────────────\n",
       "       ⎢⎢                                       ⎛         ⎛  √15   ⅈ⎞⎞ ⎛      \n",
       "       ⎢⎢                                       ⎜     √15⋅⎜- ─── - ─⎟⎟ ⎜     √\n",
       "       ⎢⎢                                       ⎜         ⎝   2    2⎠⎟ ⎜      \n",
       "       ⎢⎢                                  -1 + ⎜-1 - ───────────────⎟⋅⎜-1 - ─\n",
       "       ⎢⎢                                       ⎝            2       ⎠ ⎝      \n",
       "       ⎢⎢                                                                     \n",
       "       ⎣⎣                                                           1         \n",
       "\n",
       "             ⎛            ⎛         ⎛  √15   ⅈ⎞⎞⎞⎞⎤⎤⎞⎤\n",
       "             ⎜            ⎜     √15⋅⎜- ─── + ─⎟⎟⎟⎟⎥⎥⎟⎥\n",
       "             ⎜            ⎜         ⎝   2    2⎠⎟⎟⎟⎥⎥⎟⎥\n",
       "             ⎜        √15⋅⎜-1 - ───────────────⎟⎟⎟⎥⎥⎟⎥\n",
       " ⎛  √15   ⅈ⎞ ⎜  √15       ⎝            2       ⎠⎟⎟⎥⎥⎟⎥\n",
       "⋅⎜- ─── + ─⎟⋅⎜- ─── - ──────────────────────────⎟⎟⎥⎥⎟⎥\n",
       " ⎝   2    2⎠ ⎝   2                2             ⎠⎟⎥⎥⎟⎥\n",
       "─────────────────────────────────────────────────⎟⎥⎥⎟⎥\n",
       "                      2                          ⎠⎥⎥⎟⎥\n",
       "──────────────────────────────────────────────────⎥⎥⎟⎥\n",
       "   ⅈ⎞⎞ ⎛         ⎛  √15   ⅈ⎞⎞⎞                    ⎥⎥⎟⎥\n",
       " - ─⎟⎟ ⎜     √15⋅⎜- ─── + ─⎟⎟⎟                    ⎥⎥⎟⎥\n",
       "   2⎠⎟ ⎜         ⎝   2    2⎠⎟⎟                    ⎥⎥⎟⎥\n",
       "─────⎟⋅⎜-1 - ───────────────⎟⎟                    ⎥⎥⎟⎥\n",
       "     ⎠ ⎝            2       ⎠⎠                    ⎥⎥⎟⎥\n",
       "                                                  ⎥⎥⎟⎥\n",
       "⎞⎞             ⎛         ⎛  √15   ⅈ⎞⎞⎞            ⎥⎥⎟⎥\n",
       "⎟⎟             ⎜     √15⋅⎜- ─── + ─⎟⎟⎟            ⎥⎥⎟⎥\n",
       "⎟⎟             ⎜         ⎝   2    2⎠⎟⎟            ⎥⎥⎟⎥\n",
       "⎟⎟         √15⋅⎜-1 - ───────────────⎟⎟            ⎥⎥⎟⎥\n",
       "⎠⎠   √15       ⎝            2       ⎠⎟            ⎥⎥⎟⎥\n",
       "── - ─── - ──────────────────────────⎟            ⎥⎥⎟⎥\n",
       "      2                2             ⎠            ⎥⎥⎟⎥\n",
       "───────────────────────────────────────           ⎥⎥⎟⎥\n",
       " ⅈ⎞⎞ ⎛         ⎛  √15   ⅈ⎞⎞⎞                      ⎥⎥⎟⎥\n",
       " ─⎟⎟ ⎜     √15⋅⎜- ─── + ─⎟⎟⎟                      ⎥⎥⎟⎥\n",
       " 2⎠⎟ ⎜         ⎝   2    2⎠⎟⎟                      ⎥⎥⎟⎥\n",
       "───⎟⋅⎜-1 - ───────────────⎟⎟                      ⎥⎥⎟⎥\n",
       "   ⎠ ⎝            2       ⎠⎠                      ⎥⎥⎟⎥\n",
       "                                                  ⎥⎥⎟⎥\n",
       "5   ⅈ⎞⎞⎞                                          ⎥⎥⎟⎥\n",
       "─ + ─⎟⎟⎟                                          ⎥⎥⎟⎥\n",
       "    2⎠⎟⎟                                          ⎥⎥⎟⎥\n",
       "──────⎟⎟                                          ⎥⎥⎟⎥\n",
       "      ⎠⎟                                          ⎥⎥⎟⎥\n",
       "───────⎟                                          ⎥⎥⎟⎥\n",
       "       ⎠                                          ⎥⎥⎟⎥\n",
       "───────────────                                   ⎥⎥⎟⎥\n",
       "   ⎛  √15   ⅈ⎞⎞                                   ⎥⎥⎟⎥\n",
       "15⋅⎜- ─── + ─⎟⎟                                   ⎥⎥⎟⎥\n",
       "   ⎝   2    2⎠⎟                                   ⎥⎥⎟⎥\n",
       "──────────────⎟                                   ⎥⎥⎟⎥\n",
       "      2       ⎠                                   ⎥⎥⎟⎥\n",
       "                                                  ⎥⎥⎟⎥\n",
       "                                                  ⎦⎦⎠⎦"
      ]
     },
     "execution_count": 48,
     "metadata": {},
     "output_type": "execute_result"
    }
   ],
   "source": [
    "H.eigenvects()"
   ]
  },
  {
   "cell_type": "code",
   "execution_count": null,
   "metadata": {},
   "outputs": [],
   "source": []
  }
 ],
 "metadata": {
  "kernelspec": {
   "display_name": "Python 3",
   "language": "python",
   "name": "python3"
  },
  "language_info": {
   "codemirror_mode": {
    "name": "ipython",
    "version": 3
   },
   "file_extension": ".py",
   "mimetype": "text/x-python",
   "name": "python",
   "nbconvert_exporter": "python",
   "pygments_lexer": "ipython3",
   "version": "3.6.5"
  }
 },
 "nbformat": 4,
 "nbformat_minor": 2
}
