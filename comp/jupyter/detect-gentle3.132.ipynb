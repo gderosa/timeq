{
 "cells": [
  {
   "cell_type": "markdown",
   "metadata": {},
   "source": [
    "## Detector model: 3-level system"
   ]
  },
  {
   "cell_type": "code",
   "execution_count": null,
   "metadata": {},
   "outputs": [],
   "source": [
    "from sympy import *\n",
    "#from sympy.physics.matrices import mdft\n",
    "from sympy.physics.quantum import TensorProduct\n",
    "from sympy.functions.special.delta_functions import Heaviside\n",
    "from sympy.physics.quantum.dagger import Dagger\n",
    "\n",
    "from sympy.stats import ContinuousRV, variance, std\n",
    "\n",
    "from sympy.plotting import plot, plot3d_parametric_line\n",
    "\n",
    "import numpy as np\n",
    "\n",
    "import scipy.integrate\n",
    "\n",
    "import matplotlib\n",
    "import matplotlib.pyplot as plt\n",
    "\n",
    "# matplotlib.rcParams['text.usetex'] = False\n",
    "\n",
    "# https://matplotlib.org/gallery/mplot3d/lines3d.html?highlight=parametric\n",
    "# This import registers the 3D projection, but is otherwise unused.\n",
    "from mpl_toolkits.mplot3d import Axes3D  # noqa: F401 unused import"
   ]
  },
  {
   "cell_type": "code",
   "execution_count": null,
   "metadata": {},
   "outputs": [],
   "source": [
    "from IPython.display import display, Latex #, Math"
   ]
  },
  {
   "cell_type": "code",
   "execution_count": null,
   "metadata": {},
   "outputs": [],
   "source": [
    "init_printing ()"
   ]
  },
  {
   "cell_type": "code",
   "execution_count": null,
   "metadata": {},
   "outputs": [],
   "source": [
    "gamma = Symbol('gamma', real=True, positive=True)\n",
    "t = Symbol('t', real=True)\n",
    "tprime = Symbol('t\\'', real=True)\n",
    "omega = Symbol('omega', real=True)\n",
    "nu = Symbol('nu', real=True)"
   ]
  },
  {
   "cell_type": "code",
   "execution_count": null,
   "metadata": {},
   "outputs": [],
   "source": [
    "H = Rational(1, 2) * Matrix([\n",
    "    [0,     0,    1-1*I],\n",
    "    [0,     0,     -1*I],\n",
    "    [1+1*I, 1*I,      0]\n",
    "])"
   ]
  },
  {
   "cell_type": "code",
   "execution_count": null,
   "metadata": {},
   "outputs": [],
   "source": [
    "H.eigenvects()"
   ]
  },
  {
   "cell_type": "code",
   "execution_count": null,
   "metadata": {},
   "outputs": [],
   "source": [
    "U_t = exp(-I*H*t)"
   ]
  },
  {
   "cell_type": "code",
   "execution_count": null,
   "metadata": {},
   "outputs": [],
   "source": [
    "psi_0 = Matrix([2, 1+I, 0])/sqrt(6)\n",
    "psi_0 = Matrix([1, 1, 0])/sqrt(2)\n",
    "psi_0"
   ]
  },
  {
   "cell_type": "code",
   "execution_count": null,
   "metadata": {},
   "outputs": [],
   "source": [
    "unitary_psi_t = U_t @ psi_0"
   ]
  },
  {
   "cell_type": "code",
   "execution_count": null,
   "metadata": {},
   "outputs": [],
   "source": [
    "unitary_psi_t"
   ]
  },
  {
   "cell_type": "code",
   "execution_count": null,
   "metadata": {},
   "outputs": [],
   "source": [
    "prob_t = Matrix([0, 0, 0])\n",
    "for i in 0, 1, 2:\n",
    "    prob_t[i] = abs(unitary_psi_t[i])**2"
   ]
  },
  {
   "cell_type": "code",
   "execution_count": null,
   "metadata": {},
   "outputs": [],
   "source": [
    "prob_t"
   ]
  },
  {
   "cell_type": "code",
   "execution_count": null,
   "metadata": {},
   "outputs": [],
   "source": [
    "simplify(\n",
    "    prob_t[0] + prob_t[1] + prob_t[2]\n",
    ")"
   ]
  },
  {
   "cell_type": "code",
   "execution_count": null,
   "metadata": {},
   "outputs": [],
   "source": [
    "unitary_psi_n = lambdify(t, unitary_psi_t, 'numpy')\n",
    "_prob_n = lambdify(t, prob_t, 'numpy')\n",
    "def prob_n(_t):\n",
    "    return np.real(_prob_n(_t))"
   ]
  },
  {
   "cell_type": "code",
   "execution_count": null,
   "metadata": {},
   "outputs": [],
   "source": [
    "def phase_color(_z):\n",
    "    return np.imag(_z)"
   ]
  },
  {
   "cell_type": "markdown",
   "metadata": {},
   "source": [
    "<!--\n",
    "#### Complex argument color code\n",
    "* <span style=\"color: #fe0\">__Yellow__</span> (or generally the \"highest\"): imaginary, positive\n",
    "* <span style=\"color: #086\">__Green__ </span> (or generally the \"midrange\"): real\n",
    "* <span style=\"color: #408\">__Purple__</span> (or generally the \"lowest\"): imaginary, negative\n",
    "-->"
   ]
  },
  {
   "cell_type": "code",
   "execution_count": null,
   "metadata": {},
   "outputs": [],
   "source": [
    "TMIN, TMAX = 0, 3*pi/sqrt(2)\n",
    "TMIN_N, TMAX_N = float(TMIN), float(TMAX)"
   ]
  },
  {
   "cell_type": "code",
   "execution_count": null,
   "metadata": {},
   "outputs": [],
   "source": [
    "for i in 0, 1, 2:\n",
    "    pl = plot(\n",
    "        prob_t[i],\n",
    "        (t, TMIN, TMAX),\n",
    "        adaptive=False, nb_of_points=1000, show=False)\n",
    "    # Need the numeric version to customize color function\n",
    "    pl[0].line_color = lambda _t: phase_color( unitary_psi_n(_t)[i] )\n",
    "    pl.axis_center = (0, 0)\n",
    "    pl.show()"
   ]
  },
  {
   "cell_type": "code",
   "execution_count": null,
   "metadata": {},
   "outputs": [],
   "source": [
    "NPLOTPOINTS = 1000"
   ]
  },
  {
   "cell_type": "code",
   "execution_count": null,
   "metadata": {},
   "outputs": [],
   "source": [
    "times = np.linspace(TMIN_N, TMAX_N, num=NPLOTPOINTS)\n",
    "times_more = np.linspace(TMIN_N, 12*TMAX_N, num=NPLOTPOINTS)\n",
    "times_extended = np.linspace(TMIN_N, 40*TMAX_N, num=NPLOTPOINTS)"
   ]
  },
  {
   "cell_type": "code",
   "execution_count": null,
   "metadata": {},
   "outputs": [],
   "source": [
    "probs = np.zeros((3, NPLOTPOINTS))"
   ]
  },
  {
   "cell_type": "code",
   "execution_count": null,
   "metadata": {},
   "outputs": [],
   "source": [
    "probs"
   ]
  },
  {
   "cell_type": "code",
   "execution_count": null,
   "metadata": {},
   "outputs": [],
   "source": [
    "for i in 0, 1, 2:\n",
    "    probs[i] = prob_n(times)[i]"
   ]
  },
  {
   "cell_type": "code",
   "execution_count": null,
   "metadata": {},
   "outputs": [],
   "source": []
  },
  {
   "cell_type": "code",
   "execution_count": null,
   "metadata": {},
   "outputs": [],
   "source": [
    "UNISYM = {\n",
    "    'psi': u'\\u03C8',\n",
    "    '^2' : u'\\u00B2'\n",
    "}\n",
    "PROB_LABELS     = ['', '', '']\n",
    "PROB_AMP_LABELS = ['', '', '']\n",
    "                \n",
    "for i in 0, 1, 2:\n",
    "    PROB_AMP_LABELS[i] = '<' + str(i) + '|' + UNISYM['psi'] + '>'\n",
    "    PROB_LABELS[i]     = '|' + PROB_AMP_LABELS[i] + '|' + UNISYM['^2']"
   ]
  },
  {
   "cell_type": "markdown",
   "metadata": {},
   "source": [
    "https://matplotlib.org/gallery/lines_bars_and_markers/stackplot_demo.html#sphx-glr-gallery-lines-bars-and-markers-stackplot-demo-py"
   ]
  },
  {
   "cell_type": "code",
   "execution_count": null,
   "metadata": {},
   "outputs": [],
   "source": [
    "prob_stack = np.vstack(probs)"
   ]
  },
  {
   "cell_type": "code",
   "execution_count": null,
   "metadata": {},
   "outputs": [],
   "source": [
    "labels = PROB_LABELS\n",
    "colors = [\"#cc1111\", \"#33aa33\", \"#1111cc\"]\n",
    "\n",
    "fig, ax = plt.subplots(figsize=(12, 6))\n",
    "ax.stackplot(times, probs[0], probs[1], probs[2], labels=labels, colors=colors)\n",
    "ax.legend(loc='lower center')\n",
    "plt.show()"
   ]
  },
  {
   "cell_type": "code",
   "execution_count": null,
   "metadata": {},
   "outputs": [],
   "source": [
    "rgbs = []\n",
    "for i in range(NPLOTPOINTS):\n",
    "    rgbs.append(\n",
    "        (\n",
    "            probs[0][i],\n",
    "            probs[1][i],\n",
    "            probs[2][i]\n",
    "        )\n",
    "    )"
   ]
  },
  {
   "cell_type": "code",
   "execution_count": null,
   "metadata": {},
   "outputs": [],
   "source": [
    "fig, ax = plt.subplots(figsize=(12,6))\n",
    "ax.set_xlabel('t')\n",
    "ax.scatter(times, np.zeros(NPLOTPOINTS),\n",
    "            c=rgbs, marker='|', s=12000)\n",
    "\n",
    "# \"virtual\", don't really want to show, only for legend\n",
    "_c = ['r', 'g', 'b']\n",
    "for i in 0, 1, 2:\n",
    "    ax.plot(\n",
    "        times, probs[i],\n",
    "        c=_c[i],\n",
    "        #linewidth=1,\n",
    "    )\n",
    "    \n",
    "ax.legend(\n",
    "    PROB_LABELS,\n",
    "    loc='upper right'\n",
    ")"
   ]
  },
  {
   "cell_type": "code",
   "execution_count": null,
   "metadata": {},
   "outputs": [],
   "source": []
  },
  {
   "cell_type": "code",
   "execution_count": null,
   "metadata": {},
   "outputs": [],
   "source": [
    "# 3D parametric plot\n",
    "for (vertical_angle, horizontal_angle, height, width) in (10, -60, 15, 13), (80, -45, 13, 13):\n",
    "    fig = plt.figure(figsize=(width, height))\n",
    "\n",
    "\n",
    "    ax = fig.gca(projection='3d')\n",
    "\n",
    "    ax.view_init(vertical_angle, horizontal_angle) # rotate 3d point of view\n",
    "\n",
    "    ax.set_xlabel('Re <0,1,2|\\u03C8>')\n",
    "    ax.set_ylabel('Im <0,1,2|\\u03C8>')\n",
    "    ax.set_zlabel('t')\n",
    "\n",
    "    ax.scatter(\n",
    "        np.zeros(NPLOTPOINTS, dtype=np.float),\n",
    "        np.zeros(NPLOTPOINTS, dtype=np.float),\n",
    "        times,\n",
    "\n",
    "        c = rgbs,\n",
    "        s = 100\n",
    "    )\n",
    "    for i in 0, 1, 2:\n",
    "        ax.scatter(\n",
    "            np.real(unitary_psi_n(times)[i][0]),\n",
    "            np.imag(unitary_psi_n(times)[i][0]),\n",
    "            times,\n",
    "\n",
    "            marker = '.',\n",
    "            #depthshade=False,\n",
    "            s = (probs[i]**2)*40,\n",
    "            c = _c[i]\n",
    "        )"
   ]
  },
  {
   "cell_type": "markdown",
   "metadata": {},
   "source": [
    "## Complex potential (detection by absorption)"
   ]
  },
  {
   "cell_type": "markdown",
   "metadata": {},
   "source": [
    "Need to switch everything to numeric."
   ]
  },
  {
   "cell_type": "code",
   "execution_count": null,
   "metadata": {},
   "outputs": [],
   "source": [
    "from scipy.linalg import expm, norm"
   ]
  },
  {
   "cell_type": "code",
   "execution_count": null,
   "metadata": {},
   "outputs": [],
   "source": [
    "H_n = np.array(H).astype(np.complex)"
   ]
  },
  {
   "cell_type": "code",
   "execution_count": null,
   "metadata": {},
   "outputs": [],
   "source": [
    "H_n"
   ]
  },
  {
   "cell_type": "code",
   "execution_count": null,
   "metadata": {},
   "outputs": [],
   "source": [
    "GAMMA = 0.02\n",
    "psi_0_n = np.array(psi_0.T).astype(np.complex)[0]"
   ]
  },
  {
   "cell_type": "code",
   "execution_count": null,
   "metadata": {},
   "outputs": [],
   "source": [
    "psi_0_n"
   ]
  },
  {
   "cell_type": "code",
   "execution_count": null,
   "metadata": {},
   "outputs": [],
   "source": [
    "def D(_gamma=GAMMA):\n",
    "    # no 1/2 factor, absorbed in the _gamma in the matrix here\n",
    "    return np.array([\n",
    "        [0, 0, 0],\n",
    "        [0, 0, 0],\n",
    "        [0, 0, _gamma]\n",
    "    ], dtype=np.complex)"
   ]
  },
  {
   "cell_type": "code",
   "execution_count": null,
   "metadata": {},
   "outputs": [],
   "source": [
    "D()"
   ]
  },
  {
   "cell_type": "code",
   "execution_count": null,
   "metadata": {},
   "outputs": [],
   "source": [
    "def K(_gamma=GAMMA):\n",
    "    return H_n - 1j*D(_gamma)"
   ]
  },
  {
   "cell_type": "code",
   "execution_count": null,
   "metadata": {},
   "outputs": [],
   "source": [
    "K()"
   ]
  },
  {
   "cell_type": "code",
   "execution_count": null,
   "metadata": {},
   "outputs": [],
   "source": [
    "def B(_t, _gamma=GAMMA):\n",
    "    return expm(-1j*K(_gamma)*_t)"
   ]
  },
  {
   "cell_type": "code",
   "execution_count": null,
   "metadata": {},
   "outputs": [],
   "source": [
    "B(0)"
   ]
  },
  {
   "cell_type": "code",
   "execution_count": null,
   "metadata": {},
   "outputs": [],
   "source": [
    "def non_unitary_psi(_t, _gamma=GAMMA):\n",
    "    return B(_t, _gamma) @ psi_0_n"
   ]
  },
  {
   "cell_type": "code",
   "execution_count": null,
   "metadata": {},
   "outputs": [],
   "source": [
    "evolution = np.zeros((3, NPLOTPOINTS), dtype=np.complex)\n",
    "evolution_more = np.zeros((3, NPLOTPOINTS), dtype=np.complex)\n",
    "evolution_extended = np.zeros((3, NPLOTPOINTS), dtype=np.complex)\n",
    "\n",
    "for i in 0, 1, 2:\n",
    "    _iter = (non_unitary_psi(_t)[i] for _t in times)\n",
    "    _iter_more     = (non_unitary_psi(_t)[i] for _t in times_more)\n",
    "    _iter_extended = (non_unitary_psi(_t)[i] for _t in times_extended)\n",
    "\n",
    "    evolution[i] = np.fromiter(_iter, np.complex)\n",
    "    evolution_more[i]     = np.fromiter(_iter_more,     np.complex)\n",
    "    evolution_extended[i] = np.fromiter(_iter_extended, np.complex)\n",
    "\n",
    "_iter_norm = (norm(non_unitary_psi(_t)) for _t in times)\n",
    "norms = np.fromiter(_iter_norm, np.float)\n",
    "\n",
    "_iter_norm_more = (norm(non_unitary_psi(_t)) for _t in times_more)\n",
    "norms_more = np.fromiter(_iter_norm_more, np.float)\n",
    "\n",
    "_iter_norm_extended = (norm(non_unitary_psi(_t)) for _t in times_extended)\n",
    "norms_extended = np.fromiter(_iter_norm_extended, np.float)"
   ]
  },
  {
   "cell_type": "code",
   "execution_count": null,
   "metadata": {},
   "outputs": [],
   "source": [
    "fig, ax = plt.subplots(figsize=(12, 8))\n",
    "\n",
    "ax.plot(times, np.ones(NPLOTPOINTS), c='grey', linestyle='dashed')\n",
    "\n",
    "ax.plot(times, norms**2, c='#cccc00', linewidth=2)\n",
    "\n",
    "ax.stackplot(\n",
    "    times,\n",
    "    np.abs(evolution[0])**2,\n",
    "    np.abs(evolution[1])**2,\n",
    "    np.abs(evolution[2])**2,\n",
    "    \n",
    "    labels=labels, colors=colors\n",
    ")\n",
    "\n",
    "ax.legend(loc='lower center')\n",
    "\n",
    "plt.show()"
   ]
  },
  {
   "cell_type": "code",
   "execution_count": null,
   "metadata": {},
   "outputs": [],
   "source": [
    "fig, ax = plt.subplots(figsize=(12, 8))\n",
    "ax.set_xlabel('t')\n",
    "ax.set_ylabel('Detection probability density')\n",
    "ax.plot(times, -np.gradient(norms**2, times), c='b', linewidth=2)"
   ]
  },
  {
   "cell_type": "code",
   "execution_count": null,
   "metadata": {},
   "outputs": [],
   "source": [
    "labels = PROB_LABELS\n",
    "colors = [\"#cc1111\", \"#33aa33\", \"#1111cc\"]\n",
    "\n",
    "fig, ax = plt.subplots(figsize=(22, 3))\n",
    "\n",
    "ax.stackplot(\n",
    "    times_extended,\n",
    "    np.abs(evolution_extended[0])**2,\n",
    "    np.abs(evolution_extended[1])**2,\n",
    "    np.abs(evolution_extended[2])**2,\n",
    "    \n",
    "    labels=labels, colors=colors\n",
    ")\n",
    "\n",
    "ax.legend(loc='upper right')\n",
    "\n",
    "plt.show()"
   ]
  },
  {
   "cell_type": "code",
   "execution_count": null,
   "metadata": {},
   "outputs": [],
   "source": [
    "fig, ax = plt.subplots(figsize=(22, 3))\n",
    "ax.set_xlabel('t')\n",
    "ax.set_ylabel('Detection probability density')\n",
    "ax.plot(times_extended, -np.gradient(norms_extended**2, times), c='b', linewidth=1)"
   ]
  },
  {
   "cell_type": "code",
   "execution_count": null,
   "metadata": {},
   "outputs": [],
   "source": [
    "# W/ complex potential AND extended time\n",
    "\n",
    "# 3D parametric plot\n",
    "for (vertical_angle, horizontal_angle, height, width) in (30, -20, 16, 16), (70, -30, 13, 13):\n",
    "    fig = plt.figure(figsize=(width, height))\n",
    "\n",
    "\n",
    "    ax = fig.gca(projection='3d')\n",
    "\n",
    "    ax.view_init(vertical_angle, horizontal_angle) # rotate 3d point of view\n",
    "\n",
    "    ax.set_xlabel('Re <0,1,2|\\u03C8>')\n",
    "    ax.set_ylabel('Im <0,1,2|\\u03C8>')\n",
    "    ax.set_zlabel('t')\n",
    "\n",
    "    ax.scatter(\n",
    "        np.zeros(NPLOTPOINTS, dtype=np.float),\n",
    "        np.zeros(NPLOTPOINTS, dtype=np.float),\n",
    "        times_more,\n",
    "\n",
    "        #c = rgbs_extended, # todo?\n",
    "        c= 'k',\n",
    "        s = 4\n",
    "    )\n",
    "    for i in 0, 1, 2:\n",
    "        ax.plot(\n",
    "            np.real(evolution_more[i]),\n",
    "            np.imag(evolution_more[i]),\n",
    "            times_more,\n",
    "\n",
    "            #marker = '.',\n",
    "            #depthshade=False,\n",
    "            #s = (probs[i]**2)*40,\n",
    "            c = _c[i],\n",
    "            linewidth=0.5\n",
    "        )"
   ]
  },
  {
   "cell_type": "code",
   "execution_count": null,
   "metadata": {},
   "outputs": [],
   "source": [
    "# W/ complex potential AND extended time\n",
    "\n",
    "# 3D parametric plot\n",
    "for (vertical_angle, horizontal_angle, height, width) in (30, -90, 16, 16), (70, -30, 13, 13):\n",
    "    fig = plt.figure(figsize=(width, height))\n",
    "\n",
    "\n",
    "    ax = fig.gca(projection='3d')\n",
    "\n",
    "    ax.view_init(vertical_angle, horizontal_angle) # rotate 3d point of view\n",
    "\n",
    "    ax.set_xlabel('Re <0,1,2|\\u03C8>')\n",
    "    ax.set_ylabel('Im <0,1,2|\\u03C8>')\n",
    "    ax.set_zlabel('t')\n",
    "\n",
    "    ax.scatter(\n",
    "        np.zeros(NPLOTPOINTS, dtype=np.float),\n",
    "        np.zeros(NPLOTPOINTS, dtype=np.float),\n",
    "        times_extended,\n",
    "\n",
    "        #c = rgbs_extended, # todo?\n",
    "        c= 'k',\n",
    "        s = 4\n",
    "    )\n",
    "    for i in 0, 1, 2:\n",
    "        ax.plot(\n",
    "            np.real(evolution_extended[i]),\n",
    "            np.imag(evolution_extended[i]),\n",
    "            times_extended,\n",
    "\n",
    "            #marker = '.',\n",
    "            #depthshade=False,\n",
    "            #s = (probs[i]**2)*40,\n",
    "            c = _c[i],\n",
    "            linewidth=0.5\n",
    "        )"
   ]
  },
  {
   "cell_type": "code",
   "execution_count": null,
   "metadata": {},
   "outputs": [],
   "source": []
  }
 ],
 "metadata": {
  "kernelspec": {
   "display_name": "Python 3",
   "language": "python",
   "name": "python3"
  },
  "language_info": {
   "codemirror_mode": {
    "name": "ipython",
    "version": 3
   },
   "file_extension": ".py",
   "mimetype": "text/x-python",
   "name": "python",
   "nbconvert_exporter": "python",
   "pygments_lexer": "ipython3",
   "version": "3.6.7"
  }
 },
 "nbformat": 4,
 "nbformat_minor": 2
}
